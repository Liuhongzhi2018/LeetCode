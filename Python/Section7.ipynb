{
 "cells": [
  {
   "cell_type": "markdown",
   "metadata": {},
   "source": [
    "# 模块"
   ]
  },
  {
   "cell_type": "markdown",
   "metadata": {},
   "source": [
    "## 编写模块\n",
    "\n",
    "在本章之前，Python还没有显示出太突出的优势。本章开始，读者就会越来越感觉到Python的强大了。这种强大体现在“模块自信”上，因为Python不仅有很强大的自有模块（或者包、库，比如为标准库），还有海量的第三方模块（或者包、库），任何人还都能自己开发模块（或者包、库），正是有了这么强大的“模块自信”，才体现了Python的优势所在。并且这种方式也正在不断被更多其它语言所借鉴。\n",
    "\n",
    "“模块自信”的本质是：开放。\n",
    "\n",
    "Python不是一个封闭的体系，是一个开放系统。开放系统的最大好处就是避免了“熵增”。\n",
    "\n",
    "熵的概念是由德国物理学家克劳修斯于1865年（这一年李鸿章建立了江南机械制造总局，美国废除奴隶制，林肯总统遇刺身亡，美国南北战争结束。）所提出，是一种测量在动力学方面不能做功的能量总数，也就是当总体的熵增加，其做功能力也下降，熵的量度正是能量退化的指标。\n",
    "\n",
    "熵亦被用于计算一个系统中的失序现象，也就是计算该系统混乱的程度。\n",
    "\n",
    "根据熵的统计学定义， 热力学第二定律说明一个孤立系统的倾向于增加混乱程度。换句话说就是对于封闭系统而言，会越来越趋向于无序化。反过来，开放系统则能避免无序化。\n"
   ]
  },
  {
   "cell_type": "code",
   "execution_count": 2,
   "metadata": {},
   "outputs": [
    {
     "data": {
      "text/plain": [
       "9.0"
      ]
     },
     "execution_count": 2,
     "metadata": {},
     "output_type": "execute_result"
    }
   ],
   "source": [
    "import math\n",
    "math.pow(3,2)"
   ]
  },
  {
   "cell_type": "markdown",
   "metadata": {},
   "source": [
    "这里的math就是一个库，用import引入这个库，然后可以使用库里面的函数，比如这个pow()函数。显然，这里我们是不需要自己动手写具体函数的，我们的任务就是拿过来使用。这就是库的好处：拿过来就用，不用自己重写。\n",
    "\n",
    "请读者注意，到现在为止，我们看到了模块、库、包这些名词，并且在开发实践中，也会常常遇到。它们有区别吗？有！只不过，现在我们暂时不区分，就笼统地说，阅读下面的内容，就理解它们之间的区分了。"
   ]
  },
  {
   "cell_type": "code",
   "execution_count": null,
   "metadata": {},
   "outputs": [],
   "source": []
  }
 ],
 "metadata": {
  "kernelspec": {
   "display_name": "Python code",
   "language": "python",
   "name": "py36pt04"
  },
  "language_info": {
   "codemirror_mode": {
    "name": "ipython",
    "version": 3
   },
   "file_extension": ".py",
   "mimetype": "text/x-python",
   "name": "python",
   "nbconvert_exporter": "python",
   "pygments_lexer": "ipython3",
   "version": "3.6.9"
  }
 },
 "nbformat": 4,
 "nbformat_minor": 2
}
