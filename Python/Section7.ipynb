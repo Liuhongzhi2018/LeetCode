{
 "cells": [
  {
   "cell_type": "markdown",
   "metadata": {},
   "source": [
    "# 模块"
   ]
  },
  {
   "cell_type": "markdown",
   "metadata": {},
   "source": [
    "## 编写模块\n",
    "\n",
    "在本章之前，Python还没有显示出太突出的优势。本章开始，读者就会越来越感觉到Python的强大了。这种强大体现在“模块自信”上，因为Python不仅有很强大的自有模块（或者包、库，比如为标准库），还有海量的第三方模块（或者包、库），任何人还都能自己开发模块（或者包、库），正是有了这么强大的“模块自信”，才体现了Python的优势所在。并且这种方式也正在不断被更多其它语言所借鉴。\n",
    "\n",
    "“模块自信”的本质是：开放。\n",
    "\n",
    "Python不是一个封闭的体系，是一个开放系统。开放系统的最大好处就是避免了“熵增”。\n",
    "\n",
    "熵的概念是由德国物理学家克劳修斯于1865年（这一年李鸿章建立了江南机械制造总局，美国废除奴隶制，林肯总统遇刺身亡，美国南北战争结束。）所提出，是一种测量在动力学方面不能做功的能量总数，也就是当总体的熵增加，其做功能力也下降，熵的量度正是能量退化的指标。\n",
    "\n",
    "熵亦被用于计算一个系统中的失序现象，也就是计算该系统混乱的程度。\n",
    "\n",
    "根据熵的统计学定义， 热力学第二定律说明一个孤立系统的倾向于增加混乱程度。换句话说就是对于封闭系统而言，会越来越趋向于无序化。反过来，开放系统则能避免无序化。\n"
   ]
  },
  {
   "cell_type": "code",
   "execution_count": 2,
   "metadata": {},
   "outputs": [
    {
     "data": {
      "text/plain": [
       "9.0"
      ]
     },
     "execution_count": 2,
     "metadata": {},
     "output_type": "execute_result"
    }
   ],
   "source": [
    "import math\n",
    "math.pow(3,2)"
   ]
  },
  {
   "cell_type": "markdown",
   "metadata": {},
   "source": [
    "这里的math就是一个库，用import引入这个库，然后可以使用库里面的函数，比如这个pow()函数。显然，这里我们是不需要自己动手写具体函数的，我们的任务就是拿过来使用。这就是库的好处：拿过来就用，不用自己重写。\n",
    "\n",
    "请读者注意，到现在为止，我们看到了模块、库、包这些名词，并且在开发实践中，也会常常遇到。它们有区别吗？有！只不过，现在我们暂时不区分，就笼统地说，阅读下面的内容，就理解它们之间的区分了。"
   ]
  },
  {
   "cell_type": "markdown",
   "metadata": {},
   "source": [
    "## 模块是程序\n",
    "\n",
    "模块的本质，它就是一个扩展名为.py的Python程序。我们能够在应该使用它的时候将它引用过来，节省精力，不需要重写雷同的代码。"
   ]
  },
  {
   "cell_type": "code",
   "execution_count": 2,
   "metadata": {},
   "outputs": [],
   "source": [
    "import sys\n",
    "\n",
    "sys.path.append(\"./pm.py\")"
   ]
  },
  {
   "cell_type": "code",
   "execution_count": 3,
   "metadata": {},
   "outputs": [
    {
     "data": {
      "text/plain": [
       "'python'"
      ]
     },
     "execution_count": 3,
     "metadata": {},
     "output_type": "execute_result"
    }
   ],
   "source": [
    "import pm\n",
    "pm.lang"
   ]
  },
  {
   "cell_type": "markdown",
   "metadata": {},
   "source": [
    "在pm.py文件中，有一个变量lang = \"python\"，这次它作为模块引入（注意作为模块引入的时候，不带扩展名），就可以通过模块名字来访问变量pm.py，当然，如果不存在的属性这么去访问，肯定是要报错的。"
   ]
  },
  {
   "cell_type": "markdown",
   "metadata": {},
   "source": [
    "解释器，英文是：interpreter，港台翻译为：直译器。在Python中，它的作用就是将.py的文件转化为.pyc文件，而.pyc文件是由字节码(bytecode)构成的，然后计算机执行.pyc文件。\n",
    "\n",
    "有了.pyc文件后，每次运行，就不需要从新让解释器来编译.py文件了，除非.py文件修改了。这样，Python运行的就是那个编译好了的.pyc文件。\n",
    "\n",
    "同样是.py文件，它是怎么知道是被当做程序执行还是被当做模块引入？"
   ]
  },
  {
   "cell_type": "code",
   "execution_count": 14,
   "metadata": {},
   "outputs": [],
   "source": [
    "import sys\n",
    "sys.path.append(\"./pm2.py\")"
   ]
  },
  {
   "cell_type": "code",
   "execution_count": 15,
   "metadata": {},
   "outputs": [
    {
     "data": {
      "text/plain": [
       "'module'"
      ]
     },
     "execution_count": 15,
     "metadata": {},
     "output_type": "execute_result"
    }
   ],
   "source": [
    "import pm2\n",
    "pm2.part()"
   ]
  },
  {
   "cell_type": "code",
   "execution_count": 16,
   "metadata": {},
   "outputs": [
    {
     "data": {
      "text/plain": [
       "['__builtins__',\n",
       " '__cached__',\n",
       " '__doc__',\n",
       " '__file__',\n",
       " '__loader__',\n",
       " '__name__',\n",
       " '__package__',\n",
       " '__spec__',\n",
       " 'lang',\n",
       " 'part']"
      ]
     },
     "execution_count": 16,
     "metadata": {},
     "output_type": "execute_result"
    }
   ],
   "source": [
    "dir(pm2)\n",
    "\n",
    "# pm.py中的函数lang()和part是两个属性"
   ]
  },
  {
   "cell_type": "code",
   "execution_count": 17,
   "metadata": {},
   "outputs": [
    {
     "data": {
      "text/plain": [
       "'python'"
      ]
     },
     "execution_count": 17,
     "metadata": {},
     "output_type": "execute_result"
    }
   ],
   "source": [
    "pm2.lang()"
   ]
  },
  {
   "cell_type": "code",
   "execution_count": 18,
   "metadata": {},
   "outputs": [
    {
     "data": {
      "text/plain": [
       "'__main__'"
      ]
     },
     "execution_count": 18,
     "metadata": {},
     "output_type": "execute_result"
    }
   ],
   "source": [
    "__name__"
   ]
  },
  {
   "cell_type": "code",
   "execution_count": 19,
   "metadata": {},
   "outputs": [
    {
     "data": {
      "text/plain": [
       "'pm'"
      ]
     },
     "execution_count": 19,
     "metadata": {},
     "output_type": "execute_result"
    }
   ],
   "source": [
    "pm.__name__"
   ]
  },
  {
   "cell_type": "markdown",
   "metadata": {},
   "source": [
    "如果要作为程序执行，则\\__name__ == \"\\__main__\"；如果作为模块引入，则pm.\\__name__ == \"pm\"，即变量\\__name__的值是模块名称。\n",
    "\n",
    "用这种方式就可以区分是执行程序还是作为模块引入了。\n",
    "\n",
    "在一般情况下，如果仅仅是用作模块引入，可以不写if \\__name__ == \"\\__main__\"。"
   ]
  },
  {
   "cell_type": "markdown",
   "metadata": {},
   "source": [
    "## 模块的位置\n",
    "\n",
    "为了让我们自己写的模块能够被Python解释器知道，需要用sys.path.append(\"~/Documents/VBS/StarterLearningPython/2code/pm.py\")。其实，在Python中，所有模块都被加入到了sys.path里面了。用下面的方法可以看到模块所在位置："
   ]
  },
  {
   "cell_type": "code",
   "execution_count": 20,
   "metadata": {},
   "outputs": [],
   "source": [
    "import sys\n",
    "import pprint"
   ]
  },
  {
   "cell_type": "code",
   "execution_count": 21,
   "metadata": {},
   "outputs": [
    {
     "name": "stdout",
     "output_type": "stream",
     "text": [
      "['/home/henry/anaconda3/envs/py36pt04/lib/python36.zip',\n",
      " '/home/henry/anaconda3/envs/py36pt04/lib/python3.6',\n",
      " '/home/henry/anaconda3/envs/py36pt04/lib/python3.6/lib-dynload',\n",
      " '',\n",
      " '/home/henry/anaconda3/envs/py36pt04/lib/python3.6/site-packages',\n",
      " '/home/henry/anaconda3/envs/py36pt04/lib/python3.6/site-packages/IPython/extensions',\n",
      " '/home/henry/.ipython',\n",
      " './pm.py',\n",
      " './pm1.py',\n",
      " './pm1.py',\n",
      " './pm1.py',\n",
      " './pm2.py']\n"
     ]
    }
   ],
   "source": [
    "pprint.pprint(sys.path)"
   ]
  },
  {
   "cell_type": "markdown",
   "metadata": {},
   "source": [
    "要将模块文件放到合适的位置\n",
    "\n",
    "——就是sys.path包括位置\n",
    "\n",
    "——就能够直接用import引入了"
   ]
  },
  {
   "cell_type": "markdown",
   "metadata": {},
   "source": [
    "## PYTHONPATH环境变量\n",
    "\n",
    "用sys.path.append()就是不管把文件放哪里，都可以把其位置告诉Python解释器。但是，这种方法不是很常用。因为它也有麻烦的地方，比如在交互模式下，如果关闭了，然后再开启，还得从新告知。\n",
    "\n",
    "比较常用的告知方法是设置PYTHONPATH环境变量。\n",
    "\n",
    "    环境变量，不同操作系统的设置方法略有差异。读者可以根据自己的操作系统，到网上搜索设置方法。\n",
    "\n",
    "要用root权限设置环境变量\n",
    "\n",
    "vim /etc/profile\n",
    "\n",
    "在打开的文件最后增加export PYTHONPATH = “$PYTHONPATH：/home/qw/python”，然后保存退出即可。\n",
    "\n",
    "环境变量更改之后，用户下次登录时生效，如果想立刻生效，则要执行下面的语句：\n",
    "\n",
    "$ source /etc/profile\n"
   ]
  },
  {
   "cell_type": "markdown",
   "metadata": {},
   "source": [
    "## 'all'在模块中的作用"
   ]
  },
  {
   "cell_type": "code",
   "execution_count": 24,
   "metadata": {},
   "outputs": [
    {
     "data": {
      "text/plain": [
       "'Hello, I am a public variable.'"
      ]
     },
     "execution_count": 24,
     "metadata": {},
     "output_type": "execute_result"
    }
   ],
   "source": [
    "import sys\n",
    "sys.path.append(\"./pp.py\")\n",
    "import pp\n",
    "from pp import *\n",
    "\n",
    "public_variable"
   ]
  },
  {
   "cell_type": "code",
   "execution_count": 25,
   "metadata": {},
   "outputs": [
    {
     "ename": "NameError",
     "evalue": "name '_private_variable' is not defined",
     "output_type": "error",
     "traceback": [
      "\u001b[0;31m---------------------------------------------------------------------------\u001b[0m",
      "\u001b[0;31mNameError\u001b[0m                                 Traceback (most recent call last)",
      "\u001b[0;32m<ipython-input-25-28da499e5a9b>\u001b[0m in \u001b[0;36m<module>\u001b[0;34m\u001b[0m\n\u001b[0;32m----> 1\u001b[0;31m \u001b[0m_private_variable\u001b[0m\u001b[0;34m\u001b[0m\u001b[0;34m\u001b[0m\u001b[0m\n\u001b[0m",
      "\u001b[0;31mNameError\u001b[0m: name '_private_variable' is not defined"
     ]
    }
   ],
   "source": [
    "_private_variable"
   ]
  },
  {
   "cell_type": "markdown",
   "metadata": {},
   "source": [
    "变量public_variable能够被使用，但是另外一个变量_private_variable不能被调用，先观察一下两者的区别，后者是以单下划线开头的，这样的是私有变量。而from pp import *的含义是“希望能访问模块（pp）中有权限访问的全部名称”，那些被视为私有的变量或者函数或者类，没有权限被访问了。"
   ]
  },
  {
   "cell_type": "markdown",
   "metadata": {},
   "source": [
    "访问具有私有性质的东西"
   ]
  },
  {
   "cell_type": "markdown",
   "metadata": {},
   "source": [
    "import pp\n",
    "pp._private_teacher()"
   ]
  },
  {
   "cell_type": "code",
   "execution_count": 27,
   "metadata": {},
   "outputs": [
    {
     "data": {
      "text/plain": [
       "'Hi, I am a private variable.'"
      ]
     },
     "execution_count": 27,
     "metadata": {},
     "output_type": "execute_result"
    }
   ],
   "source": [
    "pp._private_variable"
   ]
  },
  {
   "cell_type": "markdown",
   "metadata": {},
   "source": [
    "在修改之后的pp1.py中，增加了\\__all__以它的值，在列表中包含了一个私有变量的名字和一个函数的名字。这是在告诉引用本模块的解释器，这两个东西是有权限被访问的，而且只有这两个东西。"
   ]
  },
  {
   "cell_type": "code",
   "execution_count": 32,
   "metadata": {},
   "outputs": [
    {
     "data": {
      "text/plain": [
       "'Hi, I am a private variable.'"
      ]
     },
     "execution_count": 32,
     "metadata": {},
     "output_type": "execute_result"
    }
   ],
   "source": [
    "import sys\n",
    "sys.path.append(\"./pp1.py\")\n",
    "from pp1 import *\n",
    "_private_variable\n",
    "\n",
    "# 果然，曾经不能被访问的私有变量，现在能够访问了。"
   ]
  },
  {
   "cell_type": "code",
   "execution_count": 34,
   "metadata": {},
   "outputs": [
    {
     "ename": "NameError",
     "evalue": "name 'public_variable1' is not defined",
     "output_type": "error",
     "traceback": [
      "\u001b[0;31m---------------------------------------------------------------------------\u001b[0m",
      "\u001b[0;31mNameError\u001b[0m                                 Traceback (most recent call last)",
      "\u001b[0;32m<ipython-input-34-c64a9892c0ca>\u001b[0m in \u001b[0;36m<module>\u001b[0;34m\u001b[0m\n\u001b[0;32m----> 1\u001b[0;31m \u001b[0mpublic_variable1\u001b[0m\u001b[0;34m\u001b[0m\u001b[0;34m\u001b[0m\u001b[0m\n\u001b[0m",
      "\u001b[0;31mNameError\u001b[0m: name 'public_variable1' is not defined"
     ]
    }
   ],
   "source": [
    "public_variable1"
   ]
  },
  {
   "cell_type": "markdown",
   "metadata": {},
   "source": [
    "如果以import pp引入模块，再用pp._private_teacher的方式是一样有效的。"
   ]
  },
  {
   "cell_type": "markdown",
   "metadata": {},
   "source": [
    "## 包或者库\n",
    "\n",
    "包或者库，应该是比“模块”大的。也的确如此，一般来讲，一个“包”里面会有多个模块，当然，“库”是一个更大的概念了，比如Python标准库中的每个库，都可以看成有好多个包，每个包，都有若干个模块。或许这个概念不是很明确，这么理解不会耽误你使用。\n",
    "\n",
    "对于一个包，因为它是由多个模块组成，也就是说是多个.py的文件，那么这个所谓“包”也就是我们熟悉的一个目录罢了。现在就需要解决如何引用某个目录中的模块问题了。解决方法就是在该目录中放一个\\__init__.py文件。\\__init__.py是一个空文件，将它放在某个目录中，就可以将该目录中的其它.py文件作为模块被引用。"
   ]
  },
  {
   "cell_type": "markdown",
   "metadata": {},
   "source": [
    "## 标准库\n",
    "\n",
    "“python自带‘电池’”，听说过这种说法吗？\n",
    "\n",
    "在python被安装的时候，就有不少模块也随着安装到本地的计算机上了。这些东西就如同“能源”、“电力”一样，让python拥有了无限生机，能够非常轻而易举地免费使用很多模块。所以，称之为“自带电池”。\n",
    "\n",
    "它们被称为“标准库”。\n",
    "\n",
    "熟悉标准库，是进行编程的必须。"
   ]
  },
  {
   "cell_type": "markdown",
   "metadata": {},
   "source": [
    "### 引用方式"
   ]
  },
  {
   "cell_type": "code",
   "execution_count": 35,
   "metadata": {},
   "outputs": [
    {
     "name": "stdout",
     "output_type": "stream",
     "text": [
      "{'book': 'www.itdiffer.com',\n",
      " 'goal': 'from beginner to master',\n",
      " 'lang': 'python',\n",
      " 'teacher': 'qiwsir'}\n"
     ]
    }
   ],
   "source": [
    "import pprint\n",
    "a = {\"lang\":\"python\", \"book\":\"www.itdiffer.com\", \"teacher\":\"qiwsir\", \"goal\":\"from beginner to master\"}\n",
    "pprint.pprint(a)  \n",
    "\n",
    "# 这种方法能够让dict格式化输出\n",
    "# 用import pprint样式引入模块，并以.点号的形式引用其方法。"
   ]
  },
  {
   "cell_type": "code",
   "execution_count": 37,
   "metadata": {},
   "outputs": [
    {
     "name": "stdout",
     "output_type": "stream",
     "text": [
      "{'book': 'www.itdiffer.com',\n",
      " 'goal': 'from beginner to master',\n",
      " 'lang': 'python',\n",
      " 'teacher': 'qiwsir'}\n"
     ]
    }
   ],
   "source": [
    "from pprint import pprint\n",
    "pprint(a)\n",
    "\n",
    "# 从pprint模块中之将pprint()引入"
   ]
  },
  {
   "cell_type": "code",
   "execution_count": 39,
   "metadata": {},
   "outputs": [
    {
     "name": "stdout",
     "output_type": "stream",
     "text": [
      "{'book': 'www.itdiffer.com',\n",
      " 'goal': 'from beginner to master',\n",
      " 'lang': 'python',\n",
      " 'teacher': 'qiwsir'}\n"
     ]
    }
   ],
   "source": [
    "# 有时候引入的模块或者方法名称有点长，可以给它重命名\n",
    "import pprint as pr\n",
    "pr.pprint(a)"
   ]
  },
  {
   "cell_type": "code",
   "execution_count": 40,
   "metadata": {},
   "outputs": [
    {
     "name": "stdout",
     "output_type": "stream",
     "text": [
      "{'book': 'www.itdiffer.com',\n",
      " 'goal': 'from beginner to master',\n",
      " 'lang': 'python',\n",
      " 'teacher': 'qiwsir'}\n"
     ]
    }
   ],
   "source": [
    "from pprint import pprint as pt\n",
    "pt(a)"
   ]
  },
  {
   "cell_type": "markdown",
   "metadata": {},
   "source": [
    "## 深入研究"
   ]
  },
  {
   "cell_type": "code",
   "execution_count": 41,
   "metadata": {},
   "outputs": [
    {
     "data": {
      "text/plain": [
       "['PrettyPrinter',\n",
       " '_StringIO',\n",
       " '__all__',\n",
       " '__builtins__',\n",
       " '__cached__',\n",
       " '__doc__',\n",
       " '__file__',\n",
       " '__loader__',\n",
       " '__name__',\n",
       " '__package__',\n",
       " '__spec__',\n",
       " '_builtin_scalars',\n",
       " '_collections',\n",
       " '_perfcheck',\n",
       " '_recursion',\n",
       " '_safe_key',\n",
       " '_safe_repr',\n",
       " '_safe_tuple',\n",
       " '_sys',\n",
       " '_types',\n",
       " '_wrap_bytes_repr',\n",
       " 'isreadable',\n",
       " 'isrecursive',\n",
       " 'pformat',\n",
       " 'pprint',\n",
       " 're',\n",
       " 'saferepr']"
      ]
     },
     "execution_count": 41,
     "metadata": {},
     "output_type": "execute_result"
    }
   ],
   "source": [
    "import pprint\n",
    "dir(pprint)"
   ]
  },
  {
   "cell_type": "code",
   "execution_count": 42,
   "metadata": {},
   "outputs": [
    {
     "data": {
      "text/plain": [
       "['PrettyPrinter',\n",
       " 'isreadable',\n",
       " 'isrecursive',\n",
       " 'pformat',\n",
       " 'pprint',\n",
       " 're',\n",
       " 'saferepr']"
      ]
     },
     "execution_count": 42,
     "metadata": {},
     "output_type": "execute_result"
    }
   ],
   "source": [
    "[ m for m in dir(pprint) if not m.startswith('_') ]"
   ]
  },
  {
   "cell_type": "code",
   "execution_count": 44,
   "metadata": {},
   "outputs": [
    {
     "ename": "NameError",
     "evalue": "name 'isreadable' is not defined",
     "output_type": "error",
     "traceback": [
      "\u001b[0;31m---------------------------------------------------------------------------\u001b[0m",
      "\u001b[0;31mNameError\u001b[0m                                 Traceback (most recent call last)",
      "\u001b[0;32m<ipython-input-44-6112977da05f>\u001b[0m in \u001b[0;36m<module>\u001b[0;34m\u001b[0m\n\u001b[0;32m----> 1\u001b[0;31m \u001b[0mhelp\u001b[0m\u001b[0;34m(\u001b[0m\u001b[0misreadable\u001b[0m\u001b[0;34m)\u001b[0m\u001b[0;34m\u001b[0m\u001b[0;34m\u001b[0m\u001b[0m\n\u001b[0m",
      "\u001b[0;31mNameError\u001b[0m: name 'isreadable' is not defined"
     ]
    }
   ],
   "source": [
    "help(isreadable)"
   ]
  },
  {
   "cell_type": "code",
   "execution_count": 45,
   "metadata": {},
   "outputs": [
    {
     "name": "stdout",
     "output_type": "stream",
     "text": [
      "Help on function isreadable in module pprint:\n",
      "\n",
      "isreadable(object)\n",
      "    Determine if saferepr(object) is readable by eval().\n",
      "\n"
     ]
    }
   ],
   "source": [
    "help(pprint.isreadable)"
   ]
  },
  {
   "cell_type": "code",
   "execution_count": 46,
   "metadata": {},
   "outputs": [
    {
     "name": "stdout",
     "output_type": "stream",
     "text": [
      "Help on class PrettyPrinter in module pprint:\n",
      "\n",
      "class PrettyPrinter(builtins.object)\n",
      " |  Methods defined here:\n",
      " |  \n",
      " |  __init__(self, indent=1, width=80, depth=None, stream=None, *, compact=False)\n",
      " |      Handle pretty printing operations onto a stream using a set of\n",
      " |      configured parameters.\n",
      " |      \n",
      " |      indent\n",
      " |          Number of spaces to indent for each level of nesting.\n",
      " |      \n",
      " |      width\n",
      " |          Attempted maximum number of columns in the output.\n",
      " |      \n",
      " |      depth\n",
      " |          The maximum depth to print out nested structures.\n",
      " |      \n",
      " |      stream\n",
      " |          The desired output stream.  If omitted (or false), the standard\n",
      " |          output stream available at construction will be used.\n",
      " |      \n",
      " |      compact\n",
      " |          If true, several items will be combined in one line.\n",
      " |  \n",
      " |  format(self, object, context, maxlevels, level)\n",
      " |      Format object for a specific context, returning a string\n",
      " |      and flags indicating whether the representation is 'readable'\n",
      " |      and whether the object represents a recursive construct.\n",
      " |  \n",
      " |  isreadable(self, object)\n",
      " |  \n",
      " |  isrecursive(self, object)\n",
      " |  \n",
      " |  pformat(self, object)\n",
      " |  \n",
      " |  pprint(self, object)\n",
      " |  \n",
      " |  ----------------------------------------------------------------------\n",
      " |  Data descriptors defined here:\n",
      " |  \n",
      " |  __dict__\n",
      " |      dictionary for instance variables (if defined)\n",
      " |  \n",
      " |  __weakref__\n",
      " |      list of weak references to the object (if defined)\n",
      "\n"
     ]
    }
   ],
   "source": [
    "help(pprint.PrettyPrinter)"
   ]
  },
  {
   "cell_type": "code",
   "execution_count": 47,
   "metadata": {},
   "outputs": [
    {
     "data": {
      "text/plain": [
       "['PrettyPrinter',\n",
       " '_StringIO',\n",
       " '__all__',\n",
       " '__builtins__',\n",
       " '__cached__',\n",
       " '__doc__',\n",
       " '__file__',\n",
       " '__loader__',\n",
       " '__name__',\n",
       " '__package__',\n",
       " '__spec__',\n",
       " '_builtin_scalars',\n",
       " '_collections',\n",
       " '_perfcheck',\n",
       " '_recursion',\n",
       " '_safe_key',\n",
       " '_safe_repr',\n",
       " '_safe_tuple',\n",
       " '_sys',\n",
       " '_types',\n",
       " '_wrap_bytes_repr',\n",
       " 'isreadable',\n",
       " 'isrecursive',\n",
       " 'pformat',\n",
       " 'pprint',\n",
       " 're',\n",
       " 'saferepr']"
      ]
     },
     "execution_count": 47,
     "metadata": {},
     "output_type": "execute_result"
    }
   ],
   "source": [
    "dir(pprint)"
   ]
  },
  {
   "cell_type": "code",
   "execution_count": 49,
   "metadata": {},
   "outputs": [
    {
     "data": {
      "text/plain": [
       "['pprint', 'pformat', 'isreadable', 'isrecursive', 'saferepr', 'PrettyPrinter']"
      ]
     },
     "execution_count": 49,
     "metadata": {},
     "output_type": "execute_result"
    }
   ],
   "source": [
    "pprint.__all__\n",
    "\n",
    "# 其实，当我们使用from pprint import *的时候，就是将__all__里面的方法引入，\n",
    "# 如果没有这个，就会将其它所有属性、方法等引入，包括那些以双划线或者单划线开头的变量、函数，\n",
    "# 这些东西事实上很少被在引入模块时使用。"
   ]
  },
  {
   "cell_type": "markdown",
   "metadata": {},
   "source": [
    "## 帮助、文档和源码\n",
    "\n"
   ]
  },
  {
   "cell_type": "code",
   "execution_count": 51,
   "metadata": {},
   "outputs": [
    {
     "name": "stdout",
     "output_type": "stream",
     "text": [
      "Support to pretty-print lists, tuples, & dictionaries recursively.\n",
      "\n",
      "Very simple, but useful, especially in debugging data structures.\n",
      "\n",
      "Classes\n",
      "-------\n",
      "\n",
      "PrettyPrinter()\n",
      "    Handle pretty-printing operations onto a stream using a configured\n",
      "    set of formatting parameters.\n",
      "\n",
      "Functions\n",
      "---------\n",
      "\n",
      "pformat()\n",
      "    Format a Python object into a pretty-printed representation.\n",
      "\n",
      "pprint()\n",
      "    Pretty-print a Python object to a stream [default is sys.stdout].\n",
      "\n",
      "saferepr()\n",
      "    Generate a 'standard' repr()-like value, but protect against recursive\n",
      "    data structures.\n",
      "\n",
      "\n"
     ]
    }
   ],
   "source": [
    "print(pprint.__doc__)\n",
    "\n",
    "# 查看整个类的文档"
   ]
  },
  {
   "cell_type": "markdown",
   "metadata": {},
   "source": [
    "\"\"\"                                          #增加的\n",
    "\n",
    "This is a document of the python module.     #增加的\n",
    "\n",
    "\"\"\"                                          #增加的"
   ]
  },
  {
   "cell_type": "code",
   "execution_count": 62,
   "metadata": {},
   "outputs": [
    {
     "name": "stdout",
     "output_type": "stream",
     "text": [
      "                                          #增加的\n",
      "This is a document of the python module.     #增加的\n",
      "\n"
     ]
    }
   ],
   "source": [
    "import sys\n",
    "sys.path.append(\".\")\n",
    "import pm3\n",
    "print(pm3.__doc__)"
   ]
  },
  {
   "cell_type": "code",
   "execution_count": 63,
   "metadata": {},
   "outputs": [
    {
     "name": "stdout",
     "output_type": "stream",
     "text": [
      "/home/henry/anaconda3/envs/py36pt04/lib/python3.6/pprint.py\n"
     ]
    }
   ],
   "source": [
    "print(pprint.__file__)\n",
    "\n",
    "# 模块的位置"
   ]
  },
  {
   "cell_type": "code",
   "execution_count": 64,
   "metadata": {},
   "outputs": [
    {
     "name": "stdout",
     "output_type": "stream",
     "text": [
      "#  Author:      Fred L. Drake, Jr.\r\n",
      "#               fdrake@acm.org\r\n",
      "#\r\n",
      "#  This is a simple little module I wrote to make life easier.  I didn't\r\n",
      "#  see anything quite like it in the library, though I may have overlooked\r\n",
      "#  something.  I wrote this when I was trying to read some heavily nested\r\n",
      "#  tuples with fairly non-descriptive content.  This is modeled very much\r\n",
      "#  after Lisp/Scheme - style pretty-printing of lists.  If you find it\r\n",
      "#  useful, thank small children who sleep at night.\r\n",
      "\r\n",
      "\"\"\"Support to pretty-print lists, tuples, & dictionaries recursively.\r\n",
      "\r\n",
      "Very simple, but useful, especially in debugging data structures.\r\n",
      "\r\n",
      "Classes\r\n",
      "-------\r\n",
      "\r\n",
      "PrettyPrinter()\r\n",
      "    Handle pretty-printing operations onto a stream using a configured\r\n",
      "    set of formatting parameters.\r\n",
      "\r\n",
      "Functions\r\n",
      "---------\r\n",
      "\r\n",
      "pformat()\r\n",
      "    Format a Python object into a pretty-printed representation.\r\n",
      "\r\n",
      "pprint()\r\n",
      "    Pretty-print a Python object to a stream [default is sys.stdout].\r\n",
      "\r\n",
      "saferepr()\r\n",
      "    Generate a 'standard' repr()-like value, but protect against recursive\r\n",
      "    data structures.\r\n",
      "\r\n",
      "\"\"\"\r\n",
      "\r\n",
      "import collections as _collections\r\n",
      "import re\r\n",
      "import sys as _sys\r\n",
      "import types as _types\r\n",
      "from io import StringIO as _StringIO\r\n",
      "\r\n",
      "__all__ = [\"pprint\",\"pformat\",\"isreadable\",\"isrecursive\",\"saferepr\",\r\n",
      "           \"PrettyPrinter\"]\r\n",
      "\r\n",
      "\r\n",
      "def pprint(object, stream=None, indent=1, width=80, depth=None, *,\r\n",
      "           compact=False):\r\n",
      "    \"\"\"Pretty-print a Python object to a stream [default is sys.stdout].\"\"\"\r\n",
      "    printer = PrettyPrinter(\r\n",
      "        stream=stream, indent=indent, width=width, depth=depth,\r\n",
      "        compact=compact)\r\n",
      "    printer.pprint(object)\r\n",
      "\r\n",
      "def pformat(object, indent=1, width=80, depth=None, *, compact=False):\r\n",
      "    \"\"\"Format a Python object into a pretty-printed representation.\"\"\"\r\n",
      "    return PrettyPrinter(indent=indent, width=width, depth=depth,\r\n",
      "                         compact=compact).pformat(object)\r\n",
      "\r\n",
      "def saferepr(object):\r\n",
      "    \"\"\"Version of repr() which can handle recursive data structures.\"\"\"\r\n",
      "    return _safe_repr(object, {}, None, 0)[0]\r\n",
      "\r\n",
      "def isreadable(object):\r\n",
      "    \"\"\"Determine if saferepr(object) is readable by eval().\"\"\"\r\n",
      "    return _safe_repr(object, {}, None, 0)[1]\r\n",
      "\r\n",
      "def isrecursive(object):\r\n",
      "    \"\"\"Determine if object requires a recursive representation.\"\"\"\r\n",
      "    return _safe_repr(object, {}, None, 0)[2]\r\n",
      "\r\n",
      "class _safe_key:\r\n",
      "    \"\"\"Helper function for key functions when sorting unorderable objects.\r\n",
      "\r\n",
      "    The wrapped-object will fallback to a Py2.x style comparison for\r\n",
      "    unorderable types (sorting first comparing the type name and then by\r\n",
      "    the obj ids).  Does not work recursively, so dict.items() must have\r\n",
      "    _safe_key applied to both the key and the value.\r\n",
      "\r\n",
      "    \"\"\"\r\n",
      "\r\n",
      "    __slots__ = ['obj']\r\n",
      "\r\n",
      "    def __init__(self, obj):\r\n",
      "        self.obj = obj\r\n",
      "\r\n",
      "    def __lt__(self, other):\r\n",
      "        try:\r\n",
      "            return self.obj < other.obj\r\n",
      "        except TypeError:\r\n",
      "            return ((str(type(self.obj)), id(self.obj)) < \\\r\n",
      "                    (str(type(other.obj)), id(other.obj)))\r\n",
      "\r\n",
      "def _safe_tuple(t):\r\n",
      "    \"Helper function for comparing 2-tuples\"\r\n",
      "    return _safe_key(t[0]), _safe_key(t[1])\r\n",
      "\r\n",
      "class PrettyPrinter:\r\n",
      "    def __init__(self, indent=1, width=80, depth=None, stream=None, *,\r\n",
      "                 compact=False):\r\n",
      "        \"\"\"Handle pretty printing operations onto a stream using a set of\r\n",
      "        configured parameters.\r\n",
      "\r\n",
      "        indent\r\n",
      "            Number of spaces to indent for each level of nesting.\r\n",
      "\r\n",
      "        width\r\n",
      "            Attempted maximum number of columns in the output.\r\n",
      "\r\n",
      "        depth\r\n",
      "            The maximum depth to print out nested structures.\r\n",
      "\r\n",
      "        stream\r\n",
      "            The desired output stream.  If omitted (or false), the standard\r\n",
      "            output stream available at construction will be used.\r\n",
      "\r\n",
      "        compact\r\n",
      "            If true, several items will be combined in one line.\r\n",
      "\r\n",
      "        \"\"\"\r\n",
      "        indent = int(indent)\r\n",
      "        width = int(width)\r\n",
      "        if indent < 0:\r\n",
      "            raise ValueError('indent must be >= 0')\r\n",
      "        if depth is not None and depth <= 0:\r\n",
      "            raise ValueError('depth must be > 0')\r\n",
      "        if not width:\r\n",
      "            raise ValueError('width must be != 0')\r\n",
      "        self._depth = depth\r\n",
      "        self._indent_per_level = indent\r\n",
      "        self._width = width\r\n",
      "        if stream is not None:\r\n",
      "            self._stream = stream\r\n",
      "        else:\r\n",
      "            self._stream = _sys.stdout\r\n",
      "        self._compact = bool(compact)\r\n",
      "\r\n",
      "    def pprint(self, object):\r\n",
      "        self._format(object, self._stream, 0, 0, {}, 0)\r\n",
      "        self._stream.write(\"\\n\")\r\n",
      "\r\n",
      "    def pformat(self, object):\r\n",
      "        sio = _StringIO()\r\n",
      "        self._format(object, sio, 0, 0, {}, 0)\r\n",
      "        return sio.getvalue()\r\n",
      "\r\n",
      "    def isrecursive(self, object):\r\n",
      "        return self.format(object, {}, 0, 0)[2]\r\n",
      "\r\n",
      "    def isreadable(self, object):\r\n",
      "        s, readable, recursive = self.format(object, {}, 0, 0)\r\n",
      "        return readable and not recursive\r\n",
      "\r\n",
      "    def _format(self, object, stream, indent, allowance, context, level):\r\n",
      "        objid = id(object)\r\n",
      "        if objid in context:\r\n",
      "            stream.write(_recursion(object))\r\n",
      "            self._recursive = True\r\n",
      "            self._readable = False\r\n",
      "            return\r\n",
      "        rep = self._repr(object, context, level)\r\n",
      "        max_width = self._width - indent - allowance\r\n",
      "        if len(rep) > max_width:\r\n",
      "            p = self._dispatch.get(type(object).__repr__, None)\r\n",
      "            if p is not None:\r\n",
      "                context[objid] = 1\r\n",
      "                p(self, object, stream, indent, allowance, context, level + 1)\r\n",
      "                del context[objid]\r\n",
      "                return\r\n",
      "            elif isinstance(object, dict):\r\n",
      "                context[objid] = 1\r\n",
      "                self._pprint_dict(object, stream, indent, allowance,\r\n",
      "                                  context, level + 1)\r\n",
      "                del context[objid]\r\n",
      "                return\r\n",
      "        stream.write(rep)\r\n",
      "\r\n",
      "    _dispatch = {}\r\n",
      "\r\n",
      "    def _pprint_dict(self, object, stream, indent, allowance, context, level):\r\n",
      "        write = stream.write\r\n",
      "        write('{')\r\n",
      "        if self._indent_per_level > 1:\r\n",
      "            write((self._indent_per_level - 1) * ' ')\r\n",
      "        length = len(object)\r\n",
      "        if length:\r\n",
      "            items = sorted(object.items(), key=_safe_tuple)\r\n",
      "            self._format_dict_items(items, stream, indent, allowance + 1,\r\n",
      "                                    context, level)\r\n",
      "        write('}')\r\n",
      "\r\n",
      "    _dispatch[dict.__repr__] = _pprint_dict\r\n",
      "\r\n",
      "    def _pprint_ordered_dict(self, object, stream, indent, allowance, context, level):\r\n",
      "        if not len(object):\r\n",
      "            stream.write(repr(object))\r\n",
      "            return\r\n",
      "        cls = object.__class__\r\n",
      "        stream.write(cls.__name__ + '(')\r\n",
      "        self._format(list(object.items()), stream,\r\n",
      "                     indent + len(cls.__name__) + 1, allowance + 1,\r\n",
      "                     context, level)\r\n",
      "        stream.write(')')\r\n",
      "\r\n",
      "    _dispatch[_collections.OrderedDict.__repr__] = _pprint_ordered_dict\r\n",
      "\r\n",
      "    def _pprint_list(self, object, stream, indent, allowance, context, level):\r\n",
      "        stream.write('[')\r\n",
      "        self._format_items(object, stream, indent, allowance + 1,\r\n",
      "                           context, level)\r\n",
      "        stream.write(']')\r\n",
      "\r\n",
      "    _dispatch[list.__repr__] = _pprint_list\r\n",
      "\r\n",
      "    def _pprint_tuple(self, object, stream, indent, allowance, context, level):\r\n",
      "        stream.write('(')\r\n",
      "        endchar = ',)' if len(object) == 1 else ')'\r\n",
      "        self._format_items(object, stream, indent, allowance + len(endchar),\r\n",
      "                           context, level)\r\n",
      "        stream.write(endchar)\r\n",
      "\r\n",
      "    _dispatch[tuple.__repr__] = _pprint_tuple\r\n",
      "\r\n",
      "    def _pprint_set(self, object, stream, indent, allowance, context, level):\r\n",
      "        if not len(object):\r\n",
      "            stream.write(repr(object))\r\n",
      "            return\r\n",
      "        typ = object.__class__\r\n",
      "        if typ is set:\r\n",
      "            stream.write('{')\r\n",
      "            endchar = '}'\r\n",
      "        else:\r\n",
      "            stream.write(typ.__name__ + '({')\r\n",
      "            endchar = '})'\r\n",
      "            indent += len(typ.__name__) + 1\r\n",
      "        object = sorted(object, key=_safe_key)\r\n",
      "        self._format_items(object, stream, indent, allowance + len(endchar),\r\n",
      "                           context, level)\r\n",
      "        stream.write(endchar)\r\n",
      "\r\n",
      "    _dispatch[set.__repr__] = _pprint_set\r\n",
      "    _dispatch[frozenset.__repr__] = _pprint_set\r\n",
      "\r\n",
      "    def _pprint_str(self, object, stream, indent, allowance, context, level):\r\n",
      "        write = stream.write\r\n",
      "        if not len(object):\r\n",
      "            write(repr(object))\r\n",
      "            return\r\n",
      "        chunks = []\r\n",
      "        lines = object.splitlines(True)\r\n",
      "        if level == 1:\r\n",
      "            indent += 1\r\n",
      "            allowance += 1\r\n",
      "        max_width1 = max_width = self._width - indent\r\n",
      "        for i, line in enumerate(lines):\r\n",
      "            rep = repr(line)\r\n",
      "            if i == len(lines) - 1:\r\n",
      "                max_width1 -= allowance\r\n",
      "            if len(rep) <= max_width1:\r\n",
      "                chunks.append(rep)\r\n",
      "            else:\r\n",
      "                # A list of alternating (non-space, space) strings\r\n",
      "                parts = re.findall(r'\\S*\\s*', line)\r\n",
      "                assert parts\r\n",
      "                assert not parts[-1]\r\n",
      "                parts.pop()  # drop empty last part\r\n",
      "                max_width2 = max_width\r\n",
      "                current = ''\r\n",
      "                for j, part in enumerate(parts):\r\n",
      "                    candidate = current + part\r\n",
      "                    if j == len(parts) - 1 and i == len(lines) - 1:\r\n",
      "                        max_width2 -= allowance\r\n",
      "                    if len(repr(candidate)) > max_width2:\r\n",
      "                        if current:\r\n",
      "                            chunks.append(repr(current))\r\n",
      "                        current = part\r\n",
      "                    else:\r\n",
      "                        current = candidate\r\n",
      "                if current:\r\n",
      "                    chunks.append(repr(current))\r\n",
      "        if len(chunks) == 1:\r\n",
      "            write(rep)\r\n",
      "            return\r\n",
      "        if level == 1:\r\n",
      "            write('(')\r\n",
      "        for i, rep in enumerate(chunks):\r\n",
      "            if i > 0:\r\n",
      "                write('\\n' + ' '*indent)\r\n",
      "            write(rep)\r\n",
      "        if level == 1:\r\n",
      "            write(')')\r\n",
      "\r\n",
      "    _dispatch[str.__repr__] = _pprint_str\r\n",
      "\r\n",
      "    def _pprint_bytes(self, object, stream, indent, allowance, context, level):\r\n",
      "        write = stream.write\r\n",
      "        if len(object) <= 4:\r\n",
      "            write(repr(object))\r\n",
      "            return\r\n",
      "        parens = level == 1\r\n",
      "        if parens:\r\n",
      "            indent += 1\r\n",
      "            allowance += 1\r\n",
      "            write('(')\r\n",
      "        delim = ''\r\n",
      "        for rep in _wrap_bytes_repr(object, self._width - indent, allowance):\r\n",
      "            write(delim)\r\n",
      "            write(rep)\r\n",
      "            if not delim:\r\n",
      "                delim = '\\n' + ' '*indent\r\n",
      "        if parens:\r\n",
      "            write(')')\r\n",
      "\r\n",
      "    _dispatch[bytes.__repr__] = _pprint_bytes\r\n",
      "\r\n",
      "    def _pprint_bytearray(self, object, stream, indent, allowance, context, level):\r\n",
      "        write = stream.write\r\n",
      "        write('bytearray(')\r\n",
      "        self._pprint_bytes(bytes(object), stream, indent + 10,\r\n",
      "                           allowance + 1, context, level + 1)\r\n",
      "        write(')')\r\n",
      "\r\n",
      "    _dispatch[bytearray.__repr__] = _pprint_bytearray\r\n",
      "\r\n",
      "    def _pprint_mappingproxy(self, object, stream, indent, allowance, context, level):\r\n",
      "        stream.write('mappingproxy(')\r\n",
      "        self._format(object.copy(), stream, indent + 13, allowance + 1,\r\n",
      "                     context, level)\r\n",
      "        stream.write(')')\r\n",
      "\r\n",
      "    _dispatch[_types.MappingProxyType.__repr__] = _pprint_mappingproxy\r\n",
      "\r\n",
      "    def _format_dict_items(self, items, stream, indent, allowance, context,\r\n",
      "                           level):\r\n",
      "        write = stream.write\r\n",
      "        indent += self._indent_per_level\r\n",
      "        delimnl = ',\\n' + ' ' * indent\r\n",
      "        last_index = len(items) - 1\r\n",
      "        for i, (key, ent) in enumerate(items):\r\n",
      "            last = i == last_index\r\n",
      "            rep = self._repr(key, context, level)\r\n",
      "            write(rep)\r\n",
      "            write(': ')\r\n",
      "            self._format(ent, stream, indent + len(rep) + 2,\r\n",
      "                         allowance if last else 1,\r\n",
      "                         context, level)\r\n",
      "            if not last:\r\n",
      "                write(delimnl)\r\n",
      "\r\n",
      "    def _format_items(self, items, stream, indent, allowance, context, level):\r\n",
      "        write = stream.write\r\n",
      "        indent += self._indent_per_level\r\n",
      "        if self._indent_per_level > 1:\r\n",
      "            write((self._indent_per_level - 1) * ' ')\r\n",
      "        delimnl = ',\\n' + ' ' * indent\r\n",
      "        delim = ''\r\n",
      "        width = max_width = self._width - indent + 1\r\n",
      "        it = iter(items)\r\n",
      "        try:\r\n",
      "            next_ent = next(it)\r\n",
      "        except StopIteration:\r\n",
      "            return\r\n",
      "        last = False\r\n",
      "        while not last:\r\n",
      "            ent = next_ent\r\n",
      "            try:\r\n",
      "                next_ent = next(it)\r\n",
      "            except StopIteration:\r\n",
      "                last = True\r\n",
      "                max_width -= allowance\r\n",
      "                width -= allowance\r\n",
      "            if self._compact:\r\n",
      "                rep = self._repr(ent, context, level)\r\n",
      "                w = len(rep) + 2\r\n",
      "                if width < w:\r\n",
      "                    width = max_width\r\n",
      "                    if delim:\r\n",
      "                        delim = delimnl\r\n",
      "                if width >= w:\r\n",
      "                    width -= w\r\n",
      "                    write(delim)\r\n",
      "                    delim = ', '\r\n",
      "                    write(rep)\r\n",
      "                    continue\r\n",
      "            write(delim)\r\n",
      "            delim = delimnl\r\n",
      "            self._format(ent, stream, indent,\r\n",
      "                         allowance if last else 1,\r\n",
      "                         context, level)\r\n",
      "\r\n",
      "    def _repr(self, object, context, level):\r\n",
      "        repr, readable, recursive = self.format(object, context.copy(),\r\n",
      "                                                self._depth, level)\r\n",
      "        if not readable:\r\n",
      "            self._readable = False\r\n",
      "        if recursive:\r\n",
      "            self._recursive = True\r\n",
      "        return repr\r\n",
      "\r\n",
      "    def format(self, object, context, maxlevels, level):\r\n",
      "        \"\"\"Format object for a specific context, returning a string\r\n",
      "        and flags indicating whether the representation is 'readable'\r\n",
      "        and whether the object represents a recursive construct.\r\n",
      "        \"\"\"\r\n",
      "        return _safe_repr(object, context, maxlevels, level)\r\n",
      "\r\n",
      "    def _pprint_default_dict(self, object, stream, indent, allowance, context, level):\r\n",
      "        if not len(object):\r\n",
      "            stream.write(repr(object))\r\n",
      "            return\r\n",
      "        rdf = self._repr(object.default_factory, context, level)\r\n",
      "        cls = object.__class__\r\n",
      "        indent += len(cls.__name__) + 1\r\n",
      "        stream.write('%s(%s,\\n%s' % (cls.__name__, rdf, ' ' * indent))\r\n",
      "        self._pprint_dict(object, stream, indent, allowance + 1, context, level)\r\n",
      "        stream.write(')')\r\n",
      "\r\n",
      "    _dispatch[_collections.defaultdict.__repr__] = _pprint_default_dict\r\n",
      "\r\n",
      "    def _pprint_counter(self, object, stream, indent, allowance, context, level):\r\n",
      "        if not len(object):\r\n",
      "            stream.write(repr(object))\r\n",
      "            return\r\n",
      "        cls = object.__class__\r\n",
      "        stream.write(cls.__name__ + '({')\r\n",
      "        if self._indent_per_level > 1:\r\n",
      "            stream.write((self._indent_per_level - 1) * ' ')\r\n",
      "        items = object.most_common()\r\n",
      "        self._format_dict_items(items, stream,\r\n",
      "                                indent + len(cls.__name__) + 1, allowance + 2,\r\n",
      "                                context, level)\r\n",
      "        stream.write('})')\r\n",
      "\r\n",
      "    _dispatch[_collections.Counter.__repr__] = _pprint_counter\r\n",
      "\r\n",
      "    def _pprint_chain_map(self, object, stream, indent, allowance, context, level):\r\n",
      "        if not len(object.maps):\r\n",
      "            stream.write(repr(object))\r\n",
      "            return\r\n",
      "        cls = object.__class__\r\n",
      "        stream.write(cls.__name__ + '(')\r\n",
      "        indent += len(cls.__name__) + 1\r\n",
      "        for i, m in enumerate(object.maps):\r\n",
      "            if i == len(object.maps) - 1:\r\n",
      "                self._format(m, stream, indent, allowance + 1, context, level)\r\n",
      "                stream.write(')')\r\n",
      "            else:\r\n",
      "                self._format(m, stream, indent, 1, context, level)\r\n",
      "                stream.write(',\\n' + ' ' * indent)\r\n",
      "\r\n",
      "    _dispatch[_collections.ChainMap.__repr__] = _pprint_chain_map\r\n",
      "\r\n",
      "    def _pprint_deque(self, object, stream, indent, allowance, context, level):\r\n",
      "        if not len(object):\r\n",
      "            stream.write(repr(object))\r\n",
      "            return\r\n",
      "        cls = object.__class__\r\n",
      "        stream.write(cls.__name__ + '(')\r\n",
      "        indent += len(cls.__name__) + 1\r\n",
      "        stream.write('[')\r\n",
      "        if object.maxlen is None:\r\n",
      "            self._format_items(object, stream, indent, allowance + 2,\r\n",
      "                               context, level)\r\n",
      "            stream.write('])')\r\n",
      "        else:\r\n",
      "            self._format_items(object, stream, indent, 2,\r\n",
      "                               context, level)\r\n",
      "            rml = self._repr(object.maxlen, context, level)\r\n",
      "            stream.write('],\\n%smaxlen=%s)' % (' ' * indent, rml))\r\n",
      "\r\n",
      "    _dispatch[_collections.deque.__repr__] = _pprint_deque\r\n",
      "\r\n",
      "    def _pprint_user_dict(self, object, stream, indent, allowance, context, level):\r\n",
      "        self._format(object.data, stream, indent, allowance, context, level - 1)\r\n",
      "\r\n",
      "    _dispatch[_collections.UserDict.__repr__] = _pprint_user_dict\r\n",
      "\r\n",
      "    def _pprint_user_list(self, object, stream, indent, allowance, context, level):\r\n",
      "        self._format(object.data, stream, indent, allowance, context, level - 1)\r\n",
      "\r\n",
      "    _dispatch[_collections.UserList.__repr__] = _pprint_user_list\r\n",
      "\r\n",
      "    def _pprint_user_string(self, object, stream, indent, allowance, context, level):\r\n",
      "        self._format(object.data, stream, indent, allowance, context, level - 1)\r\n",
      "\r\n",
      "    _dispatch[_collections.UserString.__repr__] = _pprint_user_string\r\n",
      "\r\n",
      "# Return triple (repr_string, isreadable, isrecursive).\r\n",
      "\r\n",
      "def _safe_repr(object, context, maxlevels, level):\r\n",
      "    typ = type(object)\r\n",
      "    if typ in _builtin_scalars:\r\n",
      "        return repr(object), True, False\r\n",
      "\r\n",
      "    r = getattr(typ, \"__repr__\", None)\r\n",
      "    if issubclass(typ, dict) and r is dict.__repr__:\r\n",
      "        if not object:\r\n",
      "            return \"{}\", True, False\r\n",
      "        objid = id(object)\r\n",
      "        if maxlevels and level >= maxlevels:\r\n",
      "            return \"{...}\", False, objid in context\r\n",
      "        if objid in context:\r\n",
      "            return _recursion(object), False, True\r\n",
      "        context[objid] = 1\r\n",
      "        readable = True\r\n",
      "        recursive = False\r\n",
      "        components = []\r\n",
      "        append = components.append\r\n",
      "        level += 1\r\n",
      "        saferepr = _safe_repr\r\n",
      "        items = sorted(object.items(), key=_safe_tuple)\r\n",
      "        for k, v in items:\r\n",
      "            krepr, kreadable, krecur = saferepr(k, context, maxlevels, level)\r\n",
      "            vrepr, vreadable, vrecur = saferepr(v, context, maxlevels, level)\r\n",
      "            append(\"%s: %s\" % (krepr, vrepr))\r\n",
      "            readable = readable and kreadable and vreadable\r\n",
      "            if krecur or vrecur:\r\n",
      "                recursive = True\r\n",
      "        del context[objid]\r\n",
      "        return \"{%s}\" % \", \".join(components), readable, recursive\r\n",
      "\r\n",
      "    if (issubclass(typ, list) and r is list.__repr__) or \\\r\n",
      "       (issubclass(typ, tuple) and r is tuple.__repr__):\r\n",
      "        if issubclass(typ, list):\r\n",
      "            if not object:\r\n",
      "                return \"[]\", True, False\r\n",
      "            format = \"[%s]\"\r\n",
      "        elif len(object) == 1:\r\n",
      "            format = \"(%s,)\"\r\n",
      "        else:\r\n",
      "            if not object:\r\n",
      "                return \"()\", True, False\r\n",
      "            format = \"(%s)\"\r\n",
      "        objid = id(object)\r\n",
      "        if maxlevels and level >= maxlevels:\r\n",
      "            return format % \"...\", False, objid in context\r\n",
      "        if objid in context:\r\n",
      "            return _recursion(object), False, True\r\n",
      "        context[objid] = 1\r\n",
      "        readable = True\r\n",
      "        recursive = False\r\n",
      "        components = []\r\n",
      "        append = components.append\r\n",
      "        level += 1\r\n",
      "        for o in object:\r\n",
      "            orepr, oreadable, orecur = _safe_repr(o, context, maxlevels, level)\r\n",
      "            append(orepr)\r\n",
      "            if not oreadable:\r\n",
      "                readable = False\r\n",
      "            if orecur:\r\n",
      "                recursive = True\r\n",
      "        del context[objid]\r\n",
      "        return format % \", \".join(components), readable, recursive\r\n",
      "\r\n",
      "    rep = repr(object)\r\n",
      "    return rep, (rep and not rep.startswith('<')), False\r\n",
      "\r\n",
      "_builtin_scalars = frozenset({str, bytes, bytearray, int, float, complex,\r\n",
      "                              bool, type(None)})\r\n",
      "\r\n",
      "def _recursion(object):\r\n",
      "    return (\"<Recursion on %s with id=%s>\"\r\n",
      "            % (type(object).__name__, id(object)))\r\n",
      "\r\n",
      "\r\n",
      "def _perfcheck(object=None):\r\n",
      "    import time\r\n",
      "    if object is None:\r\n",
      "        object = [(\"string\", (1, 2), [3, 4], {5: 6, 7: 8})] * 100000\r\n",
      "    p = PrettyPrinter()\r\n",
      "    t1 = time.time()\r\n",
      "    _safe_repr(object, {}, None, 0)\r\n",
      "    t2 = time.time()\r\n",
      "    p.pformat(object)\r\n",
      "    t3 = time.time()\r\n",
      "    print(\"_safe_repr:\", t2 - t1)\r\n",
      "    print(\"pformat:\", t3 - t2)\r\n",
      "\r\n",
      "def _wrap_bytes_repr(object, width, allowance):\r\n",
      "    current = b''\r\n",
      "    last = len(object) // 4 * 4\r\n",
      "    for i in range(0, len(object), 4):\r\n",
      "        part = object[i: i+4]\r\n",
      "        candidate = current + part\r\n",
      "        if i == last:\r\n",
      "            width -= allowance\r\n",
      "        if len(repr(candidate)) > width:\r\n",
      "            if current:\r\n",
      "                yield repr(current)\r\n",
      "            current = part\r\n",
      "        else:\r\n",
      "            current = candidate\r\n",
      "    if current:\r\n",
      "        yield repr(current)\r\n",
      "\r\n",
      "if __name__ == \"__main__\":\r\n",
      "    _perfcheck()\r\n"
     ]
    }
   ],
   "source": [
    "# 查看源码\n",
    "\n",
    "cat /home/henry/anaconda3/envs/py36pt04/lib/python3.6/pprint.py"
   ]
  },
  {
   "cell_type": "markdown",
   "metadata": {},
   "source": [
    "## sys\n",
    "\n",
    "一个跟python解释器关系密切的标准库"
   ]
  },
  {
   "cell_type": "code",
   "execution_count": 65,
   "metadata": {},
   "outputs": [
    {
     "name": "stdout",
     "output_type": "stream",
     "text": [
      "This module provides access to some objects used or maintained by the\n",
      "interpreter and to functions that interact strongly with the interpreter.\n",
      "\n",
      "Dynamic objects:\n",
      "\n",
      "argv -- command line arguments; argv[0] is the script pathname if known\n",
      "path -- module search path; path[0] is the script directory, else ''\n",
      "modules -- dictionary of loaded modules\n",
      "\n",
      "displayhook -- called to show results in an interactive session\n",
      "excepthook -- called to handle any uncaught exception other than SystemExit\n",
      "  To customize printing in an interactive session or to install a custom\n",
      "  top-level exception handler, assign other functions to replace these.\n",
      "\n",
      "stdin -- standard input file object; used by input()\n",
      "stdout -- standard output file object; used by print()\n",
      "stderr -- standard error object; used for error messages\n",
      "  By assigning other file objects (or objects that behave like files)\n",
      "  to these, it is possible to redirect all of the interpreter's I/O.\n",
      "\n",
      "last_type -- type of last uncaught exception\n",
      "last_value -- value of last uncaught exception\n",
      "last_traceback -- traceback of last uncaught exception\n",
      "  These three are only available in an interactive session after a\n",
      "  traceback has been printed.\n",
      "\n",
      "Static objects:\n",
      "\n",
      "builtin_module_names -- tuple of module names built into this interpreter\n",
      "copyright -- copyright notice pertaining to this interpreter\n",
      "exec_prefix -- prefix used to find the machine-specific Python library\n",
      "executable -- absolute path of the executable binary of the Python interpreter\n",
      "float_info -- a struct sequence with information about the float implementation.\n",
      "float_repr_style -- string indicating the style of repr() output for floats\n",
      "hash_info -- a struct sequence with information about the hash algorithm.\n",
      "hexversion -- version information encoded as a single integer\n",
      "implementation -- Python implementation information.\n",
      "int_info -- a struct sequence with information about the int implementation.\n",
      "maxsize -- the largest supported length of containers.\n",
      "maxunicode -- the value of the largest Unicode code point\n",
      "platform -- platform identifier\n",
      "prefix -- prefix used to find the Python library\n",
      "thread_info -- a struct sequence with information about the thread implementation.\n",
      "version -- the version of this interpreter as a string\n",
      "version_info -- version information as a named tuple\n",
      "__stdin__ -- the original stdin; don't touch!\n",
      "__stdout__ -- the original stdout; don't touch!\n",
      "__stderr__ -- the original stderr; don't touch!\n",
      "__displayhook__ -- the original displayhook; don't touch!\n",
      "__excepthook__ -- the original excepthook; don't touch!\n",
      "\n",
      "Functions:\n",
      "\n",
      "displayhook() -- print an object to the screen, and save it in builtins._\n",
      "excepthook() -- print an exception and its traceback to sys.stderr\n",
      "exc_info() -- return thread-safe information about the current exception\n",
      "exit() -- exit the interpreter by raising SystemExit\n",
      "getdlopenflags() -- returns flags to be used for dlopen() calls\n",
      "getprofile() -- get the global profiling function\n",
      "getrefcount() -- return the reference count for an object (plus one :-)\n",
      "getrecursionlimit() -- return the max recursion depth for the interpreter\n",
      "getsizeof() -- return the size of an object in bytes\n",
      "gettrace() -- get the global debug tracing function\n",
      "setcheckinterval() -- control how often the interpreter checks for events\n",
      "setdlopenflags() -- set the flags to be used for dlopen() calls\n",
      "setprofile() -- set the global profiling function\n",
      "setrecursionlimit() -- set the max recursion depth for the interpreter\n",
      "settrace() -- set the global debug tracing function\n",
      "\n"
     ]
    }
   ],
   "source": [
    "import sys\n",
    "print(sys.__doc__)"
   ]
  },
  {
   "cell_type": "code",
   "execution_count": 1,
   "metadata": {},
   "outputs": [
    {
     "name": "stdout",
     "output_type": "stream",
     "text": [
      "The file name:  /home/henry/anaconda3/envs/py36pt04/lib/python3.6/site-packages/ipykernel_launcher.py\n",
      "The number of argument 3\n",
      "The argument is:  ['/home/henry/anaconda3/envs/py36pt04/lib/python3.6/site-packages/ipykernel_launcher.py', '-f', '/home/henry/.local/share/jupyter/runtime/kernel-0c3d340d-43ee-4bb1-b77d-c173fcc3b90a.json']\n"
     ]
    }
   ],
   "source": [
    "# sys.argv是变量，专门用来向python解释器传递参数，所以名曰“命令行参数”。\n",
    "\n",
    "#!/usr/bin/env python\n",
    "# coding=utf-8\n",
    "\n",
    "import sys\n",
    "\n",
    "print(\"The file name: \", sys.argv[0])\n",
    "print(\"The number of argument\", len(sys.argv))\n",
    "print(\"The argument is: \", str(sys.argv))\n"
   ]
  },
  {
   "cell_type": "code",
   "execution_count": 2,
   "metadata": {},
   "outputs": [
    {
     "name": "stdout",
     "output_type": "stream",
     "text": [
      "0\n",
      "1\n",
      "2\n",
      "3\n",
      "4\n"
     ]
    },
    {
     "ename": "SystemExit",
     "evalue": "",
     "output_type": "error",
     "traceback": [
      "An exception has occurred, use %tb to see the full traceback.\n",
      "\u001b[0;31mSystemExit\u001b[0m\n"
     ]
    },
    {
     "name": "stderr",
     "output_type": "stream",
     "text": [
      "/home/henry/anaconda3/envs/py36pt04/lib/python3.6/site-packages/IPython/core/interactiveshell.py:3334: UserWarning: To exit: use 'exit', 'quit', or Ctrl-D.\n",
      "  warn(\"To exit: use 'exit', 'quit', or Ctrl-D.\", stacklevel=1)\n"
     ]
    }
   ],
   "source": [
    "#!/usr/bin/env python\n",
    "# coding=utf-8\n",
    "\n",
    "import sys\n",
    "\n",
    "for i in range(10):\n",
    "    if i == 5:\n",
    "        sys.exit()\n",
    "    else:\n",
    "        print(i)"
   ]
  },
  {
   "cell_type": "code",
   "execution_count": 69,
   "metadata": {},
   "outputs": [
    {
     "name": "stdout",
     "output_type": "stream",
     "text": [
      "0\n",
      "1\n",
      "2\n",
      "3\n",
      "4\n"
     ]
    },
    {
     "ename": "SystemExit",
     "evalue": "I wet out at here.",
     "output_type": "error",
     "traceback": [
      "An exception has occurred, use %tb to see the full traceback.\n",
      "\u001b[0;31mSystemExit\u001b[0m\u001b[0;31m:\u001b[0m I wet out at here.\n"
     ]
    }
   ],
   "source": [
    "#!/usr/bin/env python\n",
    "# coding=utf-8\n",
    "\n",
    "import sys\n",
    "\n",
    "for i in range(10):\n",
    "    if i == 5:\n",
    "        sys.exit(\"I wet out at here.\")\n",
    "    else:\n",
    "        print(i)"
   ]
  },
  {
   "cell_type": "code",
   "execution_count": 70,
   "metadata": {},
   "outputs": [
    {
     "name": "stdout",
     "output_type": "stream",
     "text": [
      "0\n",
      "1\n",
      "2\n"
     ]
    }
   ],
   "source": [
    "# sys.stdin, sys.stdout, sys.stderr  \n",
    "# 类文件流对象，分别表示标准UNIX概念中的标准输入、标准输出和标准错误\n",
    "\n",
    "for i in range(3):\n",
    "    print(i)\n",
    "    \n",
    "# print本质就是sys.stdout.write(object + '\\n')"
   ]
  },
  {
   "cell_type": "code",
   "execution_count": 71,
   "metadata": {},
   "outputs": [
    {
     "name": "stdout",
     "output_type": "stream",
     "text": [
      "012"
     ]
    }
   ],
   "source": [
    "for i in range(3):\n",
    "     sys.stdout.write(str(i))"
   ]
  },
  {
   "cell_type": "markdown",
   "metadata": {},
   "source": [
    "关键是通过sys.stdout能够做到将输出内容从“控制台”转到“文件”，称之为重定向。这样也许控制台看不到（很多时候这个不重要），但是文件中已经有了输出内容。"
   ]
  },
  {
   "cell_type": "code",
   "execution_count": null,
   "metadata": {},
   "outputs": [],
   "source": [
    "f = open(\"stdout.md\",\"w\")\n",
    "sys.stdout = f\n",
    "print(\"Learn python: From Beginner to Master\")\n",
    "f.close()"
   ]
  },
  {
   "cell_type": "code",
   "execution_count": null,
   "metadata": {},
   "outputs": [],
   "source": [
    "cat stdout.md"
   ]
  },
  {
   "cell_type": "markdown",
   "metadata": {},
   "source": [
    "## copy\n",
    "\n",
    "块中常用的就是copy和deepcopy"
   ]
  },
  {
   "cell_type": "code",
   "execution_count": 1,
   "metadata": {},
   "outputs": [
    {
     "data": {
      "text/plain": [
       "['Error', 'copy', 'deepcopy']"
      ]
     },
     "execution_count": 1,
     "metadata": {},
     "output_type": "execute_result"
    }
   ],
   "source": [
    "import copy\n",
    "copy.__all__"
   ]
  },
  {
   "cell_type": "code",
   "execution_count": 2,
   "metadata": {},
   "outputs": [
    {
     "name": "stdout",
     "output_type": "stream",
     "text": [
      "original: ['foo', 17, 'abc']\n",
      " slice: ['foo', 17]\n",
      " list(): ['foo', 17]\n",
      " copy(): ['foo', 17]\n",
      " deepcopy(): ['foo', 7]\n",
      "\n"
     ]
    }
   ],
   "source": [
    "#!/usr/bin/env python\n",
    "# coding=utf-8\n",
    "\n",
    "import copy\n",
    "\n",
    "class MyCopy(object):\n",
    "    def __init__(self, value):\n",
    "        self.value = value\n",
    "\n",
    "    def __repr__(self):\n",
    "        return str(self.value)\n",
    "\n",
    "foo = MyCopy(7)\n",
    "\n",
    "a = [\"foo\", foo]\n",
    "b = a[:]\n",
    "c = list(a)\n",
    "d = copy.copy(a)\n",
    "e = copy.deepcopy(a)\n",
    "\n",
    "a.append(\"abc\")\n",
    "foo.value = 17\n",
    "\n",
    "print(\"original: %r\\n slice: %r\\n list(): %r\\n copy(): %r\\n deepcopy(): %r\\n\" % (a,b,c,d,e))\n"
   ]
  },
  {
   "cell_type": "markdown",
   "metadata": {},
   "source": [
    "## OS\n",
    "os模块提供了访问操作系统服务的功能，它所包含的内容比较多。"
   ]
  },
  {
   "cell_type": "code",
   "execution_count": 4,
   "metadata": {},
   "outputs": [
    {
     "ename": "FileNotFoundError",
     "evalue": "[Errno 2] No such file or directory: '22201.py' -> 'newtemp.py'",
     "output_type": "error",
     "traceback": [
      "\u001b[0;31m---------------------------------------------------------------------------\u001b[0m",
      "\u001b[0;31mFileNotFoundError\u001b[0m                         Traceback (most recent call last)",
      "\u001b[0;32m<ipython-input-4-99751fa27fa6>\u001b[0m in \u001b[0;36m<module>\u001b[0;34m\u001b[0m\n\u001b[1;32m      1\u001b[0m \u001b[0;32mimport\u001b[0m \u001b[0mos\u001b[0m\u001b[0;34m\u001b[0m\u001b[0;34m\u001b[0m\u001b[0m\n\u001b[0;32m----> 2\u001b[0;31m \u001b[0mos\u001b[0m\u001b[0;34m.\u001b[0m\u001b[0mrename\u001b[0m\u001b[0;34m(\u001b[0m\u001b[0;34m\"22201.py\"\u001b[0m\u001b[0;34m,\u001b[0m \u001b[0;34m\"newtemp.py\"\u001b[0m\u001b[0;34m)\u001b[0m\u001b[0;34m\u001b[0m\u001b[0;34m\u001b[0m\u001b[0m\n\u001b[0m",
      "\u001b[0;31mFileNotFoundError\u001b[0m: [Errno 2] No such file or directory: '22201.py' -> 'newtemp.py'"
     ]
    }
   ],
   "source": [
    "import os\n",
    "os.rename(\"22201.py\", \"newtemp.py\")"
   ]
  },
  {
   "cell_type": "code",
   "execution_count": 4,
   "metadata": {},
   "outputs": [
    {
     "name": "stdout",
     "output_type": "stream",
     "text": [
      "\u001b[0m\u001b[01;32m130.txt\u001b[0m*    \u001b[01;32m23503.txt\u001b[0m*         \u001b[01;32mpm3.py\u001b[0m*       \u001b[01;32ms3_2.py\u001b[0m*         \u001b[01;32mSection4.ipynb\u001b[0m*\r\n",
      "\u001b[01;32m131.txt\u001b[0m*    \u001b[01;32ma.txt\u001b[0m*             \u001b[01;32mpm.py\u001b[0m*        \u001b[01;32mSection1.ipynb\u001b[0m*  \u001b[01;32mSection5.ipynb\u001b[0m*\r\n",
      "\u001b[01;32m208.txt\u001b[0m*    \u001b[01;32menvironment.yaml\u001b[0m*  \u001b[01;32mpp1.py\u001b[0m*       \u001b[01;32mSection2.ipynb\u001b[0m*  \u001b[01;32mSection6.ipynb\u001b[0m*\r\n",
      "\u001b[01;32m23501.txt\u001b[0m*  \u001b[01;32mnewtemp.py\u001b[0m*        \u001b[01;32mpp.py\u001b[0m*        \u001b[01;32msection2.md\u001b[0m*     \u001b[01;32mSection7.ipynb\u001b[0m*\r\n",
      "\u001b[01;32m23502.txt\u001b[0m*  \u001b[01;32mpm2.py\u001b[0m*            \u001b[34;42m__pycache__\u001b[0m/  \u001b[01;32mSection3.ipynb\u001b[0m*  \u001b[01;32mstdout.md\u001b[0m*\r\n"
     ]
    }
   ],
   "source": [
    "ls"
   ]
  },
  {
   "cell_type": "code",
   "execution_count": 5,
   "metadata": {},
   "outputs": [
    {
     "name": "stdout",
     "output_type": "stream",
     "text": [
      "\u001b[0m\u001b[01;32mnewtemp.py\u001b[0m*\r\n"
     ]
    }
   ],
   "source": [
    "ls new*"
   ]
  },
  {
   "cell_type": "code",
   "execution_count": 6,
   "metadata": {},
   "outputs": [
    {
     "name": "stdout",
     "output_type": "stream",
     "text": [
      "#!/usr/bin/env python\r\n",
      "# coding=utf-8\r\n",
      "\r\n",
      "print(\"This is a tmp file.\")\r\n"
     ]
    }
   ],
   "source": [
    "cat newtemp.py"
   ]
  },
  {
   "cell_type": "code",
   "execution_count": 8,
   "metadata": {},
   "outputs": [],
   "source": [
    "os.remove(\"./tmp/a.py\")"
   ]
  },
  {
   "cell_type": "code",
   "execution_count": 9,
   "metadata": {},
   "outputs": [
    {
     "name": "stdout",
     "output_type": "stream",
     "text": [
      ".ipynb_checkpoints\n",
      "b.py\n",
      "c.py\n"
     ]
    }
   ],
   "source": [
    "files = os.listdir(\"./tmp\")\n",
    "for f in files:\n",
    "    print(f)"
   ]
  },
  {
   "cell_type": "code",
   "execution_count": 10,
   "metadata": {},
   "outputs": [
    {
     "name": "stdout",
     "output_type": "stream",
     "text": [
      "/media/henry/000471D8000C54DE/Files/Github/LeetCode/Python\n"
     ]
    }
   ],
   "source": [
    "cwd = os.getcwd()\n",
    "print(cwd)"
   ]
  },
  {
   "cell_type": "code",
   "execution_count": 11,
   "metadata": {},
   "outputs": [
    {
     "name": "stdout",
     "output_type": "stream",
     "text": [
      "/media/henry/000471D8000C54DE/Files/Github/LeetCode\n"
     ]
    }
   ],
   "source": [
    "os.chdir(os.pardir)\n",
    "cwd = os.getcwd()\n",
    "print(cwd)"
   ]
  },
  {
   "cell_type": "code",
   "execution_count": 12,
   "metadata": {},
   "outputs": [
    {
     "name": "stdout",
     "output_type": "stream",
     "text": [
      "/media/henry/000471D8000C54DE/Files/Github/LeetCode/Python\n"
     ]
    }
   ],
   "source": [
    "os.chdir(\"Python\")\n",
    "cwd = os.getcwd()\n",
    "print(cwd)"
   ]
  },
  {
   "cell_type": "code",
   "execution_count": 13,
   "metadata": {},
   "outputs": [
    {
     "data": {
      "text/plain": [
       "'..'"
      ]
     },
     "execution_count": 13,
     "metadata": {},
     "output_type": "execute_result"
    }
   ],
   "source": [
    "os.pardir"
   ]
  },
  {
   "cell_type": "code",
   "execution_count": 14,
   "metadata": {},
   "outputs": [
    {
     "ename": "OSError",
     "evalue": "[Errno 39] Directory not empty: '/media/henry/000471D8000C54DE/Files/Github/LeetCode/Python/tmp'",
     "output_type": "error",
     "traceback": [
      "\u001b[0;31m---------------------------------------------------------------------------\u001b[0m",
      "\u001b[0;31mOSError\u001b[0m                                   Traceback (most recent call last)",
      "\u001b[0;32m<ipython-input-14-3a963c07a949>\u001b[0m in \u001b[0;36m<module>\u001b[0;34m\u001b[0m\n\u001b[0;32m----> 1\u001b[0;31m \u001b[0mos\u001b[0m\u001b[0;34m.\u001b[0m\u001b[0mremovedirs\u001b[0m\u001b[0;34m(\u001b[0m\u001b[0mcwd\u001b[0m \u001b[0;34m+\u001b[0m \u001b[0;34m'/tmp'\u001b[0m\u001b[0;34m)\u001b[0m\u001b[0;34m\u001b[0m\u001b[0;34m\u001b[0m\u001b[0m\n\u001b[0m",
      "\u001b[0;32m~/anaconda3/envs/py36pt04/lib/python3.6/os.py\u001b[0m in \u001b[0;36mremovedirs\u001b[0;34m(name)\u001b[0m\n\u001b[1;32m    236\u001b[0m \u001b[0;34m\u001b[0m\u001b[0m\n\u001b[1;32m    237\u001b[0m     \"\"\"\n\u001b[0;32m--> 238\u001b[0;31m     \u001b[0mrmdir\u001b[0m\u001b[0;34m(\u001b[0m\u001b[0mname\u001b[0m\u001b[0;34m)\u001b[0m\u001b[0;34m\u001b[0m\u001b[0;34m\u001b[0m\u001b[0m\n\u001b[0m\u001b[1;32m    239\u001b[0m     \u001b[0mhead\u001b[0m\u001b[0;34m,\u001b[0m \u001b[0mtail\u001b[0m \u001b[0;34m=\u001b[0m \u001b[0mpath\u001b[0m\u001b[0;34m.\u001b[0m\u001b[0msplit\u001b[0m\u001b[0;34m(\u001b[0m\u001b[0mname\u001b[0m\u001b[0;34m)\u001b[0m\u001b[0;34m\u001b[0m\u001b[0;34m\u001b[0m\u001b[0m\n\u001b[1;32m    240\u001b[0m     \u001b[0;32mif\u001b[0m \u001b[0;32mnot\u001b[0m \u001b[0mtail\u001b[0m\u001b[0;34m:\u001b[0m\u001b[0;34m\u001b[0m\u001b[0;34m\u001b[0m\u001b[0m\n",
      "\u001b[0;31mOSError\u001b[0m: [Errno 39] Directory not empty: '/media/henry/000471D8000C54DE/Files/Github/LeetCode/Python/tmp'"
     ]
    }
   ],
   "source": [
    "os.removedirs(cwd + '/tmp')\n",
    "\n",
    "# 要删除某个目录，那个目录必须是空的。"
   ]
  },
  {
   "cell_type": "code",
   "execution_count": 16,
   "metadata": {},
   "outputs": [],
   "source": [
    "os.makedirs(\"newrd\")"
   ]
  },
  {
   "cell_type": "code",
   "execution_count": 17,
   "metadata": {},
   "outputs": [],
   "source": [
    "os.removedirs(cwd + '/newrd')"
   ]
  },
  {
   "cell_type": "code",
   "execution_count": 18,
   "metadata": {},
   "outputs": [
    {
     "data": {
      "text/plain": [
       "['.ipynb_checkpoints',\n",
       " '130.txt',\n",
       " '131.txt',\n",
       " '208.txt',\n",
       " '23501.txt',\n",
       " '23502.txt',\n",
       " '23503.txt',\n",
       " 'a.txt',\n",
       " 'environment.yaml',\n",
       " 'newtemp.py',\n",
       " 'pm.py',\n",
       " 'pm2.py',\n",
       " 'pm3.py',\n",
       " 'pp.py',\n",
       " 'pp1.py',\n",
       " 's3_2.py',\n",
       " 'Section1.ipynb',\n",
       " 'Section2.ipynb',\n",
       " 'section2.md',\n",
       " 'Section3.ipynb',\n",
       " 'Section4.ipynb',\n",
       " 'Section5.ipynb',\n",
       " 'Section6.ipynb',\n",
       " 'Section7.ipynb',\n",
       " 'stdout.md',\n",
       " 'tmp',\n",
       " '__pycache__']"
      ]
     },
     "execution_count": 18,
     "metadata": {},
     "output_type": "execute_result"
    }
   ],
   "source": [
    "os.listdir(os.getcwd())"
   ]
  },
  {
   "cell_type": "code",
   "execution_count": 19,
   "metadata": {},
   "outputs": [],
   "source": [
    "os.chdir(\"tmp\")"
   ]
  },
  {
   "cell_type": "code",
   "execution_count": 21,
   "metadata": {},
   "outputs": [
    {
     "ename": "OSError",
     "evalue": "[Errno 39] Directory not empty: '/media/henry/000471D8000C54DE/Files/Github/LeetCode/Python/tmp'",
     "output_type": "error",
     "traceback": [
      "\u001b[0;31m---------------------------------------------------------------------------\u001b[0m",
      "\u001b[0;31mOSError\u001b[0m                                   Traceback (most recent call last)",
      "\u001b[0;32m<ipython-input-21-683a3262ac96>\u001b[0m in \u001b[0;36m<module>\u001b[0;34m\u001b[0m\n\u001b[1;32m      1\u001b[0m \u001b[0mos\u001b[0m\u001b[0;34m.\u001b[0m\u001b[0mlistdir\u001b[0m\u001b[0;34m(\u001b[0m\u001b[0mos\u001b[0m\u001b[0;34m.\u001b[0m\u001b[0mgetcwd\u001b[0m\u001b[0;34m(\u001b[0m\u001b[0;34m)\u001b[0m\u001b[0;34m)\u001b[0m\u001b[0;34m\u001b[0m\u001b[0;34m\u001b[0m\u001b[0m\n\u001b[1;32m      2\u001b[0m \u001b[0mnewdir\u001b[0m \u001b[0;34m=\u001b[0m \u001b[0mos\u001b[0m\u001b[0;34m.\u001b[0m\u001b[0mgetcwd\u001b[0m\u001b[0;34m(\u001b[0m\u001b[0;34m)\u001b[0m\u001b[0;34m\u001b[0m\u001b[0;34m\u001b[0m\u001b[0m\n\u001b[0;32m----> 3\u001b[0;31m \u001b[0mos\u001b[0m\u001b[0;34m.\u001b[0m\u001b[0mremovedirs\u001b[0m\u001b[0;34m(\u001b[0m\u001b[0mnewdir\u001b[0m\u001b[0;34m)\u001b[0m\u001b[0;34m\u001b[0m\u001b[0;34m\u001b[0m\u001b[0m\n\u001b[0m",
      "\u001b[0;32m~/anaconda3/envs/py36pt04/lib/python3.6/os.py\u001b[0m in \u001b[0;36mremovedirs\u001b[0;34m(name)\u001b[0m\n\u001b[1;32m    236\u001b[0m \u001b[0;34m\u001b[0m\u001b[0m\n\u001b[1;32m    237\u001b[0m     \"\"\"\n\u001b[0;32m--> 238\u001b[0;31m     \u001b[0mrmdir\u001b[0m\u001b[0;34m(\u001b[0m\u001b[0mname\u001b[0m\u001b[0;34m)\u001b[0m\u001b[0;34m\u001b[0m\u001b[0;34m\u001b[0m\u001b[0m\n\u001b[0m\u001b[1;32m    239\u001b[0m     \u001b[0mhead\u001b[0m\u001b[0;34m,\u001b[0m \u001b[0mtail\u001b[0m \u001b[0;34m=\u001b[0m \u001b[0mpath\u001b[0m\u001b[0;34m.\u001b[0m\u001b[0msplit\u001b[0m\u001b[0;34m(\u001b[0m\u001b[0mname\u001b[0m\u001b[0;34m)\u001b[0m\u001b[0;34m\u001b[0m\u001b[0;34m\u001b[0m\u001b[0m\n\u001b[1;32m    240\u001b[0m     \u001b[0;32mif\u001b[0m \u001b[0;32mnot\u001b[0m \u001b[0mtail\u001b[0m\u001b[0;34m:\u001b[0m\u001b[0;34m\u001b[0m\u001b[0;34m\u001b[0m\u001b[0m\n",
      "\u001b[0;31mOSError\u001b[0m: [Errno 39] Directory not empty: '/media/henry/000471D8000C54DE/Files/Github/LeetCode/Python/tmp'"
     ]
    }
   ],
   "source": [
    "os.listdir(os.getcwd())\n",
    "newdir = os.getcwd()\n",
    "os.removedirs(newdir)"
   ]
  },
  {
   "cell_type": "code",
   "execution_count": 23,
   "metadata": {},
   "outputs": [
    {
     "name": "stdout",
     "output_type": "stream",
     "text": [
      "/media/henry/000471D8000C54DE/Files/Github/LeetCode\n"
     ]
    }
   ],
   "source": [
    "os.chdir(os.pardir)\n",
    "cwd = os.getcwd()\n",
    "print(cwd)"
   ]
  },
  {
   "cell_type": "code",
   "execution_count": 24,
   "metadata": {},
   "outputs": [
    {
     "name": "stdout",
     "output_type": "stream",
     "text": [
      "/media/henry/000471D8000C54DE/Files/Github/LeetCode/Python\n"
     ]
    }
   ],
   "source": [
    "os.chdir(\"Python\")\n",
    "cwd = os.getcwd()\n",
    "print(cwd)"
   ]
  },
  {
   "cell_type": "code",
   "execution_count": 6,
   "metadata": {},
   "outputs": [
    {
     "data": {
      "text/plain": [
       "os.stat_result(st_mode=16895, st_ino=771095, st_dev=2067, st_nlink=1, st_uid=1000, st_gid=1000, st_size=4096, st_atime=1581418045, st_mtime=1581418170, st_ctime=1581418170)"
      ]
     },
     "execution_count": 6,
     "metadata": {},
     "output_type": "execute_result"
    }
   ],
   "source": [
    "p = os.getcwd()    #当前目录\n",
    "os.stat(p)"
   ]
  },
  {
   "cell_type": "code",
   "execution_count": 8,
   "metadata": {},
   "outputs": [
    {
     "data": {
      "text/plain": [
       "os.stat_result(st_mode=33279, st_ino=728320, st_dev=2067, st_nlink=1, st_uid=1000, st_gid=1000, st_size=11, st_atime=1581134373, st_mtime=1581134344, st_ctime=1581134344)"
      ]
     },
     "execution_count": 8,
     "metadata": {},
     "output_type": "execute_result"
    }
   ],
   "source": [
    "pf = p + \"/a.txt\"\n",
    "os.stat(pf)"
   ]
  },
  {
   "cell_type": "code",
   "execution_count": 9,
   "metadata": {},
   "outputs": [
    {
     "name": "stdout",
     "output_type": "stream",
     "text": [
      "1581134344\n"
     ]
    },
    {
     "data": {
      "text/plain": [
       "'Sat Feb  8 11:59:04 2020'"
      ]
     },
     "execution_count": 9,
     "metadata": {},
     "output_type": "execute_result"
    }
   ],
   "source": [
    "import time\n",
    "\n",
    "fi = os.stat(pf)  # 用os.stat()能够查看文件或者目录的属性。\n",
    "mt = fi[8]   # fi[8]就是st_mtime的值，它代表最后modified（修改）文件的时间\n",
    "print(mt)\n",
    "time.ctime(mt)"
   ]
  },
  {
   "cell_type": "markdown",
   "metadata": {},
   "source": [
    "## 操作命令\n",
    "\n",
    "os模块中提供了这样的方法，许可程序员在python程序中使用操作系统的命令。"
   ]
  },
  {
   "cell_type": "code",
   "execution_count": 15,
   "metadata": {},
   "outputs": [
    {
     "data": {
      "text/plain": [
       "'ls /media/henry/000471D8000C54DE/Files/Github/LeetCode/Python'"
      ]
     },
     "execution_count": 15,
     "metadata": {},
     "output_type": "execute_result"
    }
   ],
   "source": [
    "path = '/media/henry/000471D8000C54DE/Files/Github/LeetCode/Python'\n",
    "\n",
    "command = \"ls \" + p\n",
    "command"
   ]
  },
  {
   "cell_type": "code",
   "execution_count": 22,
   "metadata": {},
   "outputs": [
    {
     "data": {
      "text/plain": [
       "0"
      ]
     },
     "execution_count": 22,
     "metadata": {},
     "output_type": "execute_result"
    }
   ],
   "source": [
    "os.system(command)"
   ]
  },
  {
   "cell_type": "code",
   "execution_count": 21,
   "metadata": {},
   "outputs": [
    {
     "data": {
      "text/plain": [
       "0"
      ]
     },
     "execution_count": 21,
     "metadata": {},
     "output_type": "execute_result"
    }
   ],
   "source": [
    "os.system('ls')"
   ]
  },
  {
   "cell_type": "markdown",
   "metadata": {},
   "source": [
    "os.system()是在当前进程中执行命令，直到它执行结束。如果需要一个新的进程，可以使用os.exec或者os.execvp。对此有兴趣详细了解的读者，可以查看帮助文档了解。另外，os.system()是通过shell执行命令，执行结束后将控制权返回到原来的进程，但是os.exec()及相关的函数，则在执行后不将控制权返回到原继承，从而使python失去控制。"
   ]
  },
  {
   "cell_type": "code",
   "execution_count": 23,
   "metadata": {},
   "outputs": [
    {
     "data": {
      "text/plain": [
       "0"
      ]
     },
     "execution_count": 23,
     "metadata": {},
     "output_type": "execute_result"
    }
   ],
   "source": [
    "os.system(\"/usr/bin/firefox\")  # 启动浏览器"
   ]
  },
  {
   "cell_type": "code",
   "execution_count": 24,
   "metadata": {},
   "outputs": [
    {
     "data": {
      "text/plain": [
       "True"
      ]
     },
     "execution_count": 24,
     "metadata": {},
     "output_type": "execute_result"
    }
   ],
   "source": [
    "import webbrowser\n",
    "webbrowser.open(\"http://www.itdiffer.com\")\n",
    "\n",
    "# 可以专门用来打开指定网页"
   ]
  },
  {
   "cell_type": "markdown",
   "metadata": {},
   "source": [
    "## heapq\n",
    "\n",
    "堆（heap），是一种数据结构。用维基百科中的说明：\n",
    "\n",
    "堆（英语：heap)，是计算机科学中一类特殊的数据结构的统称。堆通常是一个可以被看做一棵树的数组对象。\n",
    "\n",
    "对于这个新的概念，读者不要感觉心慌意乱或者恐惧，因为它本质上不是新东西，而是在我们已经熟知的知识基础上的扩展。\n",
    "\n",
    "堆的实现是通过构造二叉堆，也就是一种二叉树。"
   ]
  },
  {
   "cell_type": "markdown",
   "metadata": {},
   "source": [
    "在计算机科学中，二叉樹（英语：Binary tree）是每個節點最多有兩個子樹的樹結構。通常子樹被稱作「左子樹」（left subtree）和「右子樹」（right subtree）。二叉樹常被用於實現二叉查找樹和二叉堆。\n",
    "\n",
    "在上图的二叉树中，最顶端的那个数字就相当于树根，也就称作“根”。每个数字所在位置成为一个节点，每个节点向下分散出两个“子节点”。就上图的二叉树，在最后一层，并不是所有节点都有两个子节点，这类二叉树又称为完全二叉树（Complete Binary Tree），也有的二叉树，所有的节点都有两个子节点，这类二叉树称作满二叉树（Full Binarry Tree)"
   ]
  },
  {
   "cell_type": "markdown",
   "metadata": {},
   "source": [
    "实现二叉堆就是通过二叉树实现的。其应该具有如下特点：\n",
    "\n",
    "节点的值大于等于（或者小于等于）任何子节点的值。\n",
    "\n",
    "节点左子树和右子树是一个二叉堆。如果父节点的值总大于等于任何一个子节点的值，其为最大堆；若父节点值总小于等于子节点值，为最小堆。上面图示中的完全二叉树，就表示一个最小堆。\n",
    "\n",
    "堆的类型还有别的，如斐波那契堆等，但很少用。所以，通常就将二叉堆也说成堆。下面所说的堆，就是二叉堆。而二叉堆又是用二叉树实现的。\n",
    "\n",
    "从图示中可以看出，将逻辑结构中的树的节点数字依次填入到存储结构中。看这个图，似乎是列表中按照顺序进行排列似的。"
   ]
  },
  {
   "cell_type": "code",
   "execution_count": 20,
   "metadata": {},
   "outputs": [
    {
     "data": {
      "text/plain": [
       "['heappush',\n",
       " 'heappop',\n",
       " 'heapify',\n",
       " 'heapreplace',\n",
       " 'merge',\n",
       " 'nlargest',\n",
       " 'nsmallest',\n",
       " 'heappushpop']"
      ]
     },
     "execution_count": 20,
     "metadata": {},
     "output_type": "execute_result"
    }
   ],
   "source": [
    "import heapq\n",
    "heapq.__all__"
   ]
  },
  {
   "cell_type": "code",
   "execution_count": 21,
   "metadata": {},
   "outputs": [
    {
     "data": {
      "text/plain": [
       "[0, 2, 3, 9, 4, 8]"
      ]
     },
     "execution_count": 21,
     "metadata": {},
     "output_type": "execute_result"
    }
   ],
   "source": [
    "heap = []\n",
    "heapq.heappush(heap, 3)  # 自动按照二叉树的结构进行存储\n",
    "heapq.heappush(heap, 9)\n",
    "heapq.heappush(heap, 2)\n",
    "heapq.heappush(heap, 4)\n",
    "heapq.heappush(heap, 0)\n",
    "heapq.heappush(heap, 8)\n",
    "\n",
    "heap"
   ]
  },
  {
   "cell_type": "markdown",
   "metadata": {},
   "source": [
    "但是，当我查看堆的数据时，显示给我的是一个有一定顺序的数据结构。这种顺序不是按照从小到大，而是按照前面所说的完全二叉树的方式排列。显示的是存储结构，可以把它还原为逻辑结构，看看是不是一颗二叉树。\n",
    "\n",
    "heappush 顺序\n",
    "https://www.jb51.net/article/87552.htm"
   ]
  },
  {
   "cell_type": "code",
   "execution_count": 22,
   "metadata": {},
   "outputs": [
    {
     "data": {
      "text/plain": [
       "[2, 4, 3, 9, 8]"
      ]
     },
     "execution_count": 22,
     "metadata": {},
     "output_type": "execute_result"
    }
   ],
   "source": [
    "heapq.heappop(heap)  # 删除最小元素\n",
    "heap"
   ]
  },
  {
   "cell_type": "markdown",
   "metadata": {},
   "source": [
    "从heap堆中删除了一个最小元素，并且返回该值。但是，这时候的heap显示顺序，并非简单地将0去除，而是按照完全二叉树的规范重新进行排列。"
   ]
  },
  {
   "cell_type": "code",
   "execution_count": 23,
   "metadata": {},
   "outputs": [
    {
     "data": {
      "text/plain": [
       "[0, 3, 1, 4, 9, 6, 2, 5, 8]"
      ]
     },
     "execution_count": 23,
     "metadata": {},
     "output_type": "execute_result"
    }
   ],
   "source": [
    "hl = [2, 4, 6, 8, 9, 0, 1, 5, 3]  \n",
    "heapq.heapify(hl)  # 将列表转换为堆\n",
    "hl"
   ]
  },
  {
   "cell_type": "markdown",
   "metadata": {},
   "source": [
    "要将树转换为堆，我们将从树的底部向上工作。我们将每个节点与其子节点进行比较并移动节点，以使父节点始终小于其子节点。\n",
    "\n",
    "https://blog.csdn.net/alzzw/article/details/98087519"
   ]
  },
  {
   "cell_type": "code",
   "execution_count": 24,
   "metadata": {},
   "outputs": [
    {
     "data": {
      "text/plain": [
       "0"
      ]
     },
     "execution_count": 24,
     "metadata": {},
     "output_type": "execute_result"
    }
   ],
   "source": [
    "heapq.heappop(hl)"
   ]
  },
  {
   "cell_type": "code",
   "execution_count": 25,
   "metadata": {},
   "outputs": [
    {
     "data": {
      "text/plain": [
       "[2, 3, 5, 4, 9, 6, 8]"
      ]
     },
     "execution_count": 25,
     "metadata": {},
     "output_type": "execute_result"
    }
   ],
   "source": [
    "heapq.heappop(hl)\n",
    "\n",
    "hl"
   ]
  },
  {
   "cell_type": "code",
   "execution_count": 26,
   "metadata": {},
   "outputs": [
    {
     "data": {
      "text/plain": [
       "[3, 3.14, 5, 4, 9, 6, 8]"
      ]
     },
     "execution_count": 26,
     "metadata": {},
     "output_type": "execute_result"
    }
   ],
   "source": [
    "heapq.heapreplace(hl, 3.14)\n",
    "hl"
   ]
  },
  {
   "cell_type": "markdown",
   "metadata": {},
   "source": [
    "各种算法的Python实现方案（Python and Algorithm）\n",
    "https://www.bookstack.cn/read/Python-and-Algorithm/README.md"
   ]
  },
  {
   "cell_type": "markdown",
   "metadata": {},
   "source": [
    "## deque模块"
   ]
  },
  {
   "cell_type": "code",
   "execution_count": 32,
   "metadata": {},
   "outputs": [
    {
     "data": {
      "text/plain": [
       "[1, 2, 3, 4]"
      ]
     },
     "execution_count": 32,
     "metadata": {},
     "output_type": "execute_result"
    }
   ],
   "source": [
    "lst = [1, 2, 3]\n",
    "lst.append(4)\n",
    "lst"
   ]
  },
  {
   "cell_type": "code",
   "execution_count": 33,
   "metadata": {},
   "outputs": [
    {
     "data": {
      "text/plain": [
       "[7, 1, 2, 3, 4]"
      ]
     },
     "execution_count": 33,
     "metadata": {},
     "output_type": "execute_result"
    }
   ],
   "source": [
    "nl = [7]\n",
    "nl.extend(lst)\n",
    "nl"
   ]
  },
  {
   "cell_type": "code",
   "execution_count": 34,
   "metadata": {},
   "outputs": [
    {
     "data": {
      "text/plain": [
       "deque([1, 2, 3, 4, 5])"
      ]
     },
     "execution_count": 34,
     "metadata": {},
     "output_type": "execute_result"
    }
   ],
   "source": [
    "from collections import deque\n",
    "\n",
    "qlst = deque(lst)\n",
    "\n",
    "qlst.append(5)  #从右边增加\n",
    "qlst"
   ]
  },
  {
   "cell_type": "code",
   "execution_count": 35,
   "metadata": {},
   "outputs": [
    {
     "data": {
      "text/plain": [
       "deque([7, 1, 2, 3, 4, 5])"
      ]
     },
     "execution_count": 35,
     "metadata": {},
     "output_type": "execute_result"
    }
   ],
   "source": [
    "qlst.appendleft(7)  #从左边增加\n",
    "qlst"
   ]
  },
  {
   "cell_type": "code",
   "execution_count": 36,
   "metadata": {},
   "outputs": [
    {
     "data": {
      "text/plain": [
       "deque([7, 1, 2, 3, 4])"
      ]
     },
     "execution_count": 36,
     "metadata": {},
     "output_type": "execute_result"
    }
   ],
   "source": [
    "qlst.pop()   # 删除右边\n",
    "qlst"
   ]
  },
  {
   "cell_type": "code",
   "execution_count": 37,
   "metadata": {},
   "outputs": [
    {
     "data": {
      "text/plain": [
       "deque([1, 2, 3, 4])"
      ]
     },
     "execution_count": 37,
     "metadata": {},
     "output_type": "execute_result"
    }
   ],
   "source": [
    "qlst.popleft()  # 删除左边\n",
    "qlst"
   ]
  },
  {
   "cell_type": "code",
   "execution_count": 38,
   "metadata": {},
   "outputs": [
    {
     "data": {
      "text/plain": [
       "deque([2, 3, 4, 1])"
      ]
     },
     "execution_count": 38,
     "metadata": {},
     "output_type": "execute_result"
    }
   ],
   "source": [
    "qlst.rotate(3)\n",
    "qlst\n",
    "\n",
    "# 如果是rotate(3)，表示每个数字按照顺时针方向前进三个位置\n",
    "# 元素向右前进再返回第一个开始"
   ]
  },
  {
   "cell_type": "code",
   "execution_count": 39,
   "metadata": {},
   "outputs": [
    {
     "data": {
      "text/plain": [
       "deque([3, 4, 1, 2])"
      ]
     },
     "execution_count": 39,
     "metadata": {},
     "output_type": "execute_result"
    }
   ],
   "source": [
    "qlst.rotate(-1)\n",
    "qlst\n",
    "\n",
    "# 如果是rotate(-1)，表示每个数字按照逆时针方向前进一个位置\n",
    "# 元素向左前进再返回第一个开始"
   ]
  },
  {
   "cell_type": "markdown",
   "metadata": {},
   "source": [
    "## calendar"
   ]
  },
  {
   "cell_type": "code",
   "execution_count": 43,
   "metadata": {},
   "outputs": [
    {
     "name": "stdout",
     "output_type": "stream",
     "text": [
      "   February 2020\n",
      "Mo Tu We Th Fr Sa Su\n",
      "                1  2\n",
      " 3  4  5  6  7  8  9\n",
      "10 11 12 13 14 15 16\n",
      "17 18 19 20 21 22 23\n",
      "24 25 26 27 28 29\n",
      "\n"
     ]
    }
   ],
   "source": [
    "import calendar\n",
    "cal = calendar.month(2020,2)\n",
    "print(cal)"
   ]
  },
  {
   "cell_type": "code",
   "execution_count": 44,
   "metadata": {},
   "outputs": [
    {
     "name": "stdout",
     "output_type": "stream",
     "text": [
      "                                  2020\n",
      "\n",
      "      January                   February                   March\n",
      "Mo Tu We Th Fr Sa Su      Mo Tu We Th Fr Sa Su      Mo Tu We Th Fr Sa Su\n",
      "       1  2  3  4  5                      1  2                         1\n",
      " 6  7  8  9 10 11 12       3  4  5  6  7  8  9       2  3  4  5  6  7  8\n",
      "13 14 15 16 17 18 19      10 11 12 13 14 15 16       9 10 11 12 13 14 15\n",
      "20 21 22 23 24 25 26      17 18 19 20 21 22 23      16 17 18 19 20 21 22\n",
      "27 28 29 30 31            24 25 26 27 28 29         23 24 25 26 27 28 29\n",
      "                                                    30 31\n",
      "\n",
      "       April                      May                       June\n",
      "Mo Tu We Th Fr Sa Su      Mo Tu We Th Fr Sa Su      Mo Tu We Th Fr Sa Su\n",
      "       1  2  3  4  5                   1  2  3       1  2  3  4  5  6  7\n",
      " 6  7  8  9 10 11 12       4  5  6  7  8  9 10       8  9 10 11 12 13 14\n",
      "13 14 15 16 17 18 19      11 12 13 14 15 16 17      15 16 17 18 19 20 21\n",
      "20 21 22 23 24 25 26      18 19 20 21 22 23 24      22 23 24 25 26 27 28\n",
      "27 28 29 30               25 26 27 28 29 30 31      29 30\n",
      "\n",
      "        July                     August                  September\n",
      "Mo Tu We Th Fr Sa Su      Mo Tu We Th Fr Sa Su      Mo Tu We Th Fr Sa Su\n",
      "       1  2  3  4  5                      1  2          1  2  3  4  5  6\n",
      " 6  7  8  9 10 11 12       3  4  5  6  7  8  9       7  8  9 10 11 12 13\n",
      "13 14 15 16 17 18 19      10 11 12 13 14 15 16      14 15 16 17 18 19 20\n",
      "20 21 22 23 24 25 26      17 18 19 20 21 22 23      21 22 23 24 25 26 27\n",
      "27 28 29 30 31            24 25 26 27 28 29 30      28 29 30\n",
      "                          31\n",
      "\n",
      "      October                   November                  December\n",
      "Mo Tu We Th Fr Sa Su      Mo Tu We Th Fr Sa Su      Mo Tu We Th Fr Sa Su\n",
      "          1  2  3  4                         1          1  2  3  4  5  6\n",
      " 5  6  7  8  9 10 11       2  3  4  5  6  7  8       7  8  9 10 11 12 13\n",
      "12 13 14 15 16 17 18       9 10 11 12 13 14 15      14 15 16 17 18 19 20\n",
      "19 20 21 22 23 24 25      16 17 18 19 20 21 22      21 22 23 24 25 26 27\n",
      "26 27 28 29 30 31         23 24 25 26 27 28 29      28 29 30 31\n",
      "                          30\n",
      "\n"
     ]
    }
   ],
   "source": [
    "year = calendar.calendar(2020)\n",
    "print(year)"
   ]
  },
  {
   "cell_type": "code",
   "execution_count": 46,
   "metadata": {},
   "outputs": [
    {
     "data": {
      "text/plain": [
       "True"
      ]
     },
     "execution_count": 46,
     "metadata": {},
     "output_type": "execute_result"
    }
   ],
   "source": [
    "calendar.isleap(2020)  # 判断一年是闰年"
   ]
  },
  {
   "cell_type": "code",
   "execution_count": 47,
   "metadata": {},
   "outputs": [
    {
     "data": {
      "text/plain": [
       "2"
      ]
     },
     "execution_count": 47,
     "metadata": {},
     "output_type": "execute_result"
    }
   ],
   "source": [
    "calendar.leapdays(2000,2005)\n",
    "\n",
    "# 返回在Y1，Y2两年之间的闰年总数\n",
    "# 左开右闭"
   ]
  },
  {
   "cell_type": "code",
   "execution_count": 50,
   "metadata": {},
   "outputs": [
    {
     "name": "stdout",
     "output_type": "stream",
     "text": [
      "   February 2020\n",
      "Mo Tu We Th Fr Sa Su\n",
      "                1  2\n",
      " 3  4  5  6  7  8  9\n",
      "10 11 12 13 14 15 16\n",
      "17 18 19 20 21 22 23\n",
      "24 25 26 27 28 29\n",
      "\n"
     ]
    }
   ],
   "source": [
    "print(calendar.month(2020,2))"
   ]
  },
  {
   "cell_type": "code",
   "execution_count": 53,
   "metadata": {},
   "outputs": [
    {
     "name": "stdout",
     "output_type": "stream",
     "text": [
      "       February 2020\n",
      "\n",
      "Mon Tue Wed Thu Fri Sat Sun\n",
      "\n",
      "                      1   2\n",
      "\n",
      "  3   4   5   6   7   8   9\n",
      "\n",
      " 10  11  12  13  14  15  16\n",
      "\n",
      " 17  18  19  20  21  22  23\n",
      "\n",
      " 24  25  26  27  28  29\n",
      "\n",
      "\n"
     ]
    }
   ],
   "source": [
    "print(calendar.month(2020,2,w=3,l=2))"
   ]
  },
  {
   "cell_type": "code",
   "execution_count": 55,
   "metadata": {},
   "outputs": [
    {
     "data": {
      "text/plain": [
       "[[0, 0, 0, 0, 0, 1, 2],\n",
       " [3, 4, 5, 6, 7, 8, 9],\n",
       " [10, 11, 12, 13, 14, 15, 16],\n",
       " [17, 18, 19, 20, 21, 22, 23],\n",
       " [24, 25, 26, 27, 28, 29, 0]]"
      ]
     },
     "execution_count": 55,
     "metadata": {},
     "output_type": "execute_result"
    }
   ],
   "source": [
    "calendar.monthcalendar(2020, 2)\n",
    "\n",
    "# 返回一个列表，列表内的元素还是列表，这叫做嵌套列表。\n",
    "# 每个子列表代表一个星期，都是从星期一到星期日，如果没有本月的日期，则为0。"
   ]
  },
  {
   "cell_type": "code",
   "execution_count": 57,
   "metadata": {},
   "outputs": [
    {
     "data": {
      "text/plain": [
       "(2, 31)"
      ]
     },
     "execution_count": 57,
     "metadata": {},
     "output_type": "execute_result"
    }
   ],
   "source": [
    "calendar.monthrange(2020, 1)\n",
    "\n",
    "# 第一个整数代表着该月的第一天从星期几是（从0开始，依次为星期一、星期二，直到6代表星期日）。\n",
    "# 第二个整数是该月一共多少天。"
   ]
  },
  {
   "cell_type": "code",
   "execution_count": 59,
   "metadata": {},
   "outputs": [
    {
     "data": {
      "text/plain": [
       "1"
      ]
     },
     "execution_count": 59,
     "metadata": {},
     "output_type": "execute_result"
    }
   ],
   "source": [
    "calendar.weekday(2020, 2, 25)\n",
    "\n",
    "# 输入年月日，知道该日是星期几（注意，返回值依然按照从0到6依次对应星期一到星期日）"
   ]
  },
  {
   "cell_type": "markdown",
   "metadata": {},
   "source": [
    "## time"
   ]
  },
  {
   "cell_type": "code",
   "execution_count": 61,
   "metadata": {},
   "outputs": [
    {
     "data": {
      "text/plain": [
       "1582597606.009643"
      ]
     },
     "execution_count": 61,
     "metadata": {},
     "output_type": "execute_result"
    }
   ],
   "source": [
    "import time\n",
    "time.time()\n",
    "\n",
    "# time.time()获得的是当前时间（严格说是时间戳），只不过这个时间对人不友好，\n",
    "# 它是以1970年1月1日0时0分0秒为计时起点，到当前的时间长度（不考虑闰秒）"
   ]
  },
  {
   "cell_type": "code",
   "execution_count": 62,
   "metadata": {},
   "outputs": [
    {
     "data": {
      "text/plain": [
       "time.struct_time(tm_year=2020, tm_mon=2, tm_mday=25, tm_hour=10, tm_min=27, tm_sec=37, tm_wday=1, tm_yday=56, tm_isdst=0)"
      ]
     },
     "execution_count": 62,
     "metadata": {},
     "output_type": "execute_result"
    }
   ],
   "source": [
    "time.localtime()"
   ]
  },
  {
   "cell_type": "code",
   "execution_count": 67,
   "metadata": {},
   "outputs": [
    {
     "data": {
      "text/plain": [
       "time.struct_time(tm_year=2020, tm_mon=2, tm_mday=25, tm_hour=2, tm_min=29, tm_sec=27, tm_wday=1, tm_yday=56, tm_isdst=0)"
      ]
     },
     "execution_count": 67,
     "metadata": {},
     "output_type": "execute_result"
    }
   ],
   "source": [
    "time.gmtime()\n",
    "\n",
    "# localtime()得到的是本地时间，如果要国际化，就最好使用格林威治时间"
   ]
  },
  {
   "cell_type": "code",
   "execution_count": 68,
   "metadata": {},
   "outputs": [
    {
     "data": {
      "text/plain": [
       "'Tue Feb 25 10:29:33 2020'"
      ]
     },
     "execution_count": 68,
     "metadata": {},
     "output_type": "execute_result"
    }
   ],
   "source": [
    "time.asctime()"
   ]
  },
  {
   "cell_type": "code",
   "execution_count": 70,
   "metadata": {},
   "outputs": [
    {
     "data": {
      "text/plain": [
       "time.struct_time(tm_year=1970, tm_mon=1, tm_mday=12, tm_hour=21, tm_min=46, tm_sec=40, tm_wday=0, tm_yday=12, tm_isdst=0)"
      ]
     },
     "execution_count": 70,
     "metadata": {},
     "output_type": "execute_result"
    }
   ],
   "source": [
    "h = time.localtime(1000000)\n",
    "h"
   ]
  },
  {
   "cell_type": "code",
   "execution_count": 71,
   "metadata": {},
   "outputs": [
    {
     "data": {
      "text/plain": [
       "'Mon Jan 12 21:46:40 1970'"
      ]
     },
     "execution_count": 71,
     "metadata": {},
     "output_type": "execute_result"
    }
   ],
   "source": [
    "time.asctime(h)"
   ]
  },
  {
   "cell_type": "code",
   "execution_count": 69,
   "metadata": {},
   "outputs": [
    {
     "data": {
      "text/plain": [
       "'Tue Feb 25 10:29:48 2020'"
      ]
     },
     "execution_count": 69,
     "metadata": {},
     "output_type": "execute_result"
    }
   ],
   "source": [
    "time.ctime()"
   ]
  },
  {
   "cell_type": "code",
   "execution_count": 72,
   "metadata": {},
   "outputs": [
    {
     "data": {
      "text/plain": [
       "'Mon Jan 12 21:46:40 1970'"
      ]
     },
     "execution_count": 72,
     "metadata": {},
     "output_type": "execute_result"
    }
   ],
   "source": [
    "time.ctime(1000000)"
   ]
  },
  {
   "cell_type": "markdown",
   "metadata": {},
   "source": [
    "在前述函数中，通过localtime()、gmtime()得到的是时间元组，通过time()得到的是时间戳。有的函数如asctime()是以时间元组为参数，有的如ctime()是以时间戳为函数。这样做的目的是为了满足编程中多样化的需要。"
   ]
  },
  {
   "cell_type": "code",
   "execution_count": 73,
   "metadata": {},
   "outputs": [
    {
     "data": {
      "text/plain": [
       "time.struct_time(tm_year=2020, tm_mon=2, tm_mday=25, tm_hour=10, tm_min=31, tm_sec=21, tm_wday=1, tm_yday=56, tm_isdst=0)"
      ]
     },
     "execution_count": 73,
     "metadata": {},
     "output_type": "execute_result"
    }
   ],
   "source": [
    "lt = time.localtime()\n",
    "lt"
   ]
  },
  {
   "cell_type": "code",
   "execution_count": 74,
   "metadata": {},
   "outputs": [
    {
     "data": {
      "text/plain": [
       "'20,02,25'"
      ]
     },
     "execution_count": 74,
     "metadata": {},
     "output_type": "execute_result"
    }
   ],
   "source": [
    "time.strftime(\"%y,%m,%d\")"
   ]
  },
  {
   "cell_type": "code",
   "execution_count": 76,
   "metadata": {},
   "outputs": [
    {
     "data": {
      "text/plain": [
       "'20/02/25'"
      ]
     },
     "execution_count": 76,
     "metadata": {},
     "output_type": "execute_result"
    }
   ],
   "source": [
    "time.strftime(\"%y/%m/%d\")\n",
    "\n",
    "# 分隔符可以自由指定，已经变成字符串了"
   ]
  },
  {
   "cell_type": "code",
   "execution_count": 77,
   "metadata": {},
   "outputs": [
    {
     "data": {
      "text/plain": [
       "'20/02/25'"
      ]
     },
     "execution_count": 77,
     "metadata": {},
     "output_type": "execute_result"
    }
   ],
   "source": [
    "today = time.strftime(\"%y/%m/%d\")\n",
    "today"
   ]
  },
  {
   "cell_type": "code",
   "execution_count": 78,
   "metadata": {},
   "outputs": [
    {
     "data": {
      "text/plain": [
       "time.struct_time(tm_year=2020, tm_mon=2, tm_mday=25, tm_hour=0, tm_min=0, tm_sec=0, tm_wday=1, tm_yday=56, tm_isdst=-1)"
      ]
     },
     "execution_count": 78,
     "metadata": {},
     "output_type": "execute_result"
    }
   ],
   "source": [
    "time.strptime(today, \"%y/%m/%d\")"
   ]
  },
  {
   "cell_type": "markdown",
   "metadata": {},
   "source": [
    "## datetime\n",
    "\n",
    "datetime模块中有几个类：\n",
    "\n",
    "* datetime.date：日期类，常用的属性有year/month/day\n",
    "* datetime.time：时间类，常用的有hour/minute/second/microsecond\n",
    "* datetime.datetime：日期时间类\n",
    "* datetime.timedelta：时间间隔，即两个时间点之间的时间长度\n",
    "* datetime.tzinfo：时区类"
   ]
  },
  {
   "cell_type": "code",
   "execution_count": 79,
   "metadata": {},
   "outputs": [
    {
     "data": {
      "text/plain": [
       "datetime.date(2020, 2, 25)"
      ]
     },
     "execution_count": 79,
     "metadata": {},
     "output_type": "execute_result"
    }
   ],
   "source": [
    "import datetime\n",
    "today = datetime.date.today()\n",
    "today"
   ]
  },
  {
   "cell_type": "code",
   "execution_count": 80,
   "metadata": {},
   "outputs": [
    {
     "name": "stdout",
     "output_type": "stream",
     "text": [
      "2020-02-25\n"
     ]
    }
   ],
   "source": [
    "print(today)"
   ]
  },
  {
   "cell_type": "code",
   "execution_count": 81,
   "metadata": {},
   "outputs": [
    {
     "name": "stdout",
     "output_type": "stream",
     "text": [
      "Tue Feb 25 00:00:00 2020\n"
     ]
    }
   ],
   "source": [
    "print(today.ctime())"
   ]
  },
  {
   "cell_type": "code",
   "execution_count": 82,
   "metadata": {},
   "outputs": [
    {
     "name": "stdout",
     "output_type": "stream",
     "text": [
      "time.struct_time(tm_year=2020, tm_mon=2, tm_mday=25, tm_hour=0, tm_min=0, tm_sec=0, tm_wday=1, tm_yday=56, tm_isdst=-1)\n"
     ]
    }
   ],
   "source": [
    "print(today.timetuple())"
   ]
  },
  {
   "cell_type": "code",
   "execution_count": 83,
   "metadata": {},
   "outputs": [
    {
     "name": "stdout",
     "output_type": "stream",
     "text": [
      "737480\n"
     ]
    }
   ],
   "source": [
    "print(today.toordinal())"
   ]
  },
  {
   "cell_type": "code",
   "execution_count": 84,
   "metadata": {},
   "outputs": [
    {
     "name": "stdout",
     "output_type": "stream",
     "text": [
      "2020\n"
     ]
    }
   ],
   "source": [
    "print(today.year)"
   ]
  },
  {
   "cell_type": "code",
   "execution_count": 86,
   "metadata": {},
   "outputs": [
    {
     "name": "stdout",
     "output_type": "stream",
     "text": [
      "2020-02-25\n"
     ]
    }
   ],
   "source": [
    "to = today.toordinal()\n",
    "print(datetime.date.fromordinal(to))"
   ]
  },
  {
   "cell_type": "code",
   "execution_count": 87,
   "metadata": {},
   "outputs": [
    {
     "name": "stdout",
     "output_type": "stream",
     "text": [
      "2020-02-25\n"
     ]
    }
   ],
   "source": [
    "import time\n",
    "t = time.time()\n",
    "print(datetime.date.fromtimestamp(t))"
   ]
  },
  {
   "cell_type": "code",
   "execution_count": 88,
   "metadata": {},
   "outputs": [
    {
     "name": "stdout",
     "output_type": "stream",
     "text": [
      "2020-02-01\n",
      "2020-02-05\n"
     ]
    }
   ],
   "source": [
    "d1 = datetime.date(2020,2,1)\n",
    "print(d1)\n",
    "d2 = d1.replace(year=2020, day=5)\n",
    "print(d2)"
   ]
  },
  {
   "cell_type": "code",
   "execution_count": 89,
   "metadata": {},
   "outputs": [
    {
     "name": "stdout",
     "output_type": "stream",
     "text": [
      "01:02:03\n"
     ]
    }
   ],
   "source": [
    "t = datetime.time(1,2,3)\n",
    "print(t)"
   ]
  },
  {
   "cell_type": "code",
   "execution_count": 90,
   "metadata": {},
   "outputs": [
    {
     "name": "stdout",
     "output_type": "stream",
     "text": [
      "1\n"
     ]
    }
   ],
   "source": [
    "print(t.hour)"
   ]
  },
  {
   "cell_type": "code",
   "execution_count": 91,
   "metadata": {},
   "outputs": [
    {
     "name": "stdout",
     "output_type": "stream",
     "text": [
      "3\n"
     ]
    }
   ],
   "source": [
    "print(t.second)"
   ]
  },
  {
   "cell_type": "code",
   "execution_count": 92,
   "metadata": {},
   "outputs": [
    {
     "name": "stdout",
     "output_type": "stream",
     "text": [
      "2020-02-25 10:37:45.541450\n"
     ]
    }
   ],
   "source": [
    "now = datetime.datetime.now()\n",
    "print(now)"
   ]
  },
  {
   "cell_type": "code",
   "execution_count": 94,
   "metadata": {},
   "outputs": [
    {
     "name": "stdout",
     "output_type": "stream",
     "text": [
      "2020-02-25 15:37:45.541450\n"
     ]
    }
   ],
   "source": [
    "b = now + datetime.timedelta(hours=5)\n",
    "print(b)\n",
    "\n",
    "# 对now增加5个小时"
   ]
  },
  {
   "cell_type": "code",
   "execution_count": 95,
   "metadata": {},
   "outputs": [
    {
     "name": "stdout",
     "output_type": "stream",
     "text": [
      "2020-03-10 10:37:45.541450\n"
     ]
    }
   ],
   "source": [
    "c = now + datetime.timedelta(weeks=2)\n",
    "print(c)\n",
    "\n",
    "# 对week增加2周"
   ]
  },
  {
   "cell_type": "code",
   "execution_count": 96,
   "metadata": {},
   "outputs": [
    {
     "name": "stdout",
     "output_type": "stream",
     "text": [
      "13 days, 19:00:00\n"
     ]
    }
   ],
   "source": [
    "d = c -b\n",
    "print(d)\n",
    "\n",
    "# 计算时间差"
   ]
  },
  {
   "cell_type": "markdown",
   "metadata": {},
   "source": [
    "## urllib\n",
    "\n",
    "urllib模块用于读取来自网上（服务器上）的数据，比如不少人用python做爬虫程序，就可以使用这个模块。"
   ]
  },
  {
   "cell_type": "code",
   "execution_count": 100,
   "metadata": {},
   "outputs": [
    {
     "data": {
      "text/plain": [
       "['__builtins__',\n",
       " '__cached__',\n",
       " '__doc__',\n",
       " '__file__',\n",
       " '__loader__',\n",
       " '__name__',\n",
       " '__package__',\n",
       " '__path__',\n",
       " '__spec__',\n",
       " 'error',\n",
       " 'parse',\n",
       " 'request',\n",
       " 'response']"
      ]
     },
     "execution_count": 100,
     "metadata": {},
     "output_type": "execute_result"
    }
   ],
   "source": [
    "import urllib.request\n",
    "\n",
    "dir(urllib)"
   ]
  },
  {
   "cell_type": "code",
   "execution_count": 102,
   "metadata": {},
   "outputs": [],
   "source": [
    "def getHtml(url):\n",
    "    page = urllib.request.urlopen(url)\n",
    "    html = page.read()\n",
    "    return html"
   ]
  },
  {
   "cell_type": "code",
   "execution_count": 103,
   "metadata": {},
   "outputs": [
    {
     "name": "stdout",
     "output_type": "stream",
     "text": [
      "b'<!DOCTYPE html>\\n<!--STATUS OK-->\\n\\r\\n\\r\\n\\r\\n\\r\\n\\r\\n\\r\\n\\r\\n\\r\\n\\r\\n\\r\\n\\r\\n\\r\\n\\r\\n\\r\\n\\r\\n\\r\\n\\r\\n\\r\\n\\r\\n\\r\\n\\r\\n\\r\\n\\r\\n\\r\\n\\r\\n\\r\\n\\r\\n\\r\\n\\r\\n\\r\\n\\r\\n\\r\\n\\r\\n\\r\\n\\r\\n\\r\\n\\r\\n\\r\\n\\r\\n\\r\\n\\r\\n\\r\\n\\r\\n\\r\\n\\r\\n\\r\\n\\r\\n\\r\\n\\r\\n\\r\\n\\r\\n\\r\\n\\r\\n\\r\\n\\r\\n\\r\\n\\t\\r\\n\\r\\n\\r\\n\\r\\n\\r\\n\\r\\n\\r\\n\\r\\n\\r\\n\\r\\n\\r\\n\\r\\n\\r\\n\\n\\n\\n\\n\\n\\n\\n\\n\\n\\n\\n\\n\\n\\n\\n\\n\\n\\n\\n\\n\\t\\n        \\n\\t\\t\\t        \\n\\t\\n\\t\\t\\t        \\n\\t\\n\\t\\t\\t        \\n\\t\\n\\t\\t\\t        \\n\\t\\t\\t    \\n\\n\\t\\n        \\n\\t\\t\\t        \\n\\t\\n\\t\\t\\t        \\n\\t\\n\\t\\t\\t        \\n\\t\\n\\t\\t\\t        \\n\\t\\t\\t    \\n\\n\\t\\n        \\n\\t\\t\\t        \\n\\t\\n\\t\\t\\t        \\n\\t\\n\\t\\t\\t        \\n\\t\\n\\t\\t\\t        \\n\\t\\t\\t    \\n\\n\\n\\n\\n\\n\\n\\n\\n\\n\\n\\n\\n\\n\\n\\n\\n\\n\\n\\n\\n\\n\\n\\n\\n<html>\\n<head>\\n    \\n    <meta http-equiv=\"content-type\" content=\"text/html;charset=utf-8\">\\n    <meta http-equiv=\"X-UA-Compatible\" content=\"IE=Edge\">\\n\\t<meta content=\"always\" name=\"referrer\">\\n    <meta name=\"theme-color\" content=\"#2932e1\">\\n    <link rel=\"shortcut icon\" href=\"/favicon.ico\" type=\"image/x-icon\" />\\n    <link rel=\"search\" type=\"application/opensearchdescription+xml\" href=\"/content-search.xml\" title=\"\\xe7\\x99\\xbe\\xe5\\xba\\xa6\\xe6\\x90\\x9c\\xe7\\xb4\\xa2\" />\\n    <link rel=\"icon\" sizes=\"any\" mask href=\"//www.baidu.com/img/baidu_85beaf5496f291521eb75ba38eacbd87.svg\">\\n\\t\\n\\t\\n\\t<link rel=\"dns-prefetch\" href=\"//s1.bdstatic.com\"/>\\n\\t<link rel=\"dns-prefetch\" href=\"//t1.baidu.com\"/>\\n\\t<link rel=\"dns-prefetch\" href=\"//t2.baidu.com\"/>\\n\\t<link rel=\"dns-prefetch\" href=\"//t3.baidu.com\"/>\\n\\t<link rel=\"dns-prefetch\" href=\"//t10.baidu.com\"/>\\n\\t<link rel=\"dns-prefetch\" href=\"//t11.baidu.com\"/>\\n\\t<link rel=\"dns-prefetch\" href=\"//t12.baidu.com\"/>\\n\\t<link rel=\"dns-prefetch\" href=\"//b1.bdstatic.com\"/>\\n    \\n    <title>\\xe7\\x99\\xbe\\xe5\\xba\\xa6\\xe4\\xb8\\x80\\xe4\\xb8\\x8b\\xef\\xbc\\x8c\\xe4\\xbd\\xa0\\xe5\\xb0\\xb1\\xe7\\x9f\\xa5\\xe9\\x81\\x93</title>\\n    \\n\\n<style id=\"css_index\" index=\"index\" type=\"text/css\">html,body{height:100%}\\nhtml{overflow-y:auto}\\nbody{font:12px arial;text-align:;background:#fff}\\nbody,p,form,ul,li{margin:0;padding:0;list-style:none}\\nbody,form,#fm{position:relative}\\ntd{text-align:left}\\nimg{border:0}\\na{color:#00c}\\na:active{color:#f60}\\ninput{border:0;padding:0}\\n#wrapper{position:relative;_position:;min-height:100%}\\n#head{padding-bottom:100px;text-align:center;*z-index:1}\\n#ftCon{height:50px;position:absolute;bottom:47px;text-align:left;width:100%;margin:0 auto;z-index:0;overflow:hidden}\\n#ftCon.ftConHot{margin-bottom:33px;bottom:auto;overflow:visible\\\\9}\\n.ftCon-Wrapper{overflow:hidden;margin:0 auto;text-align:center;*width:640px}\\n.qrcodeCon{text-align:center;position:absolute;bottom:132px;width:100%}\\n.qrcodeConHot{text-align:center;width:100%;margin-top:-260px;margin-top:-160px\\\\9;padding-bottom:33px;position:relative;bottom:0}\\n@media only screen and (max-height:753px){.qrcodeConHot{margin-top:-258px}}\\n@media only screen and (max-height:720px){.qrcodeConHot{margin-top:-240px}}\\n@media only screen and (max-height:680px){.qrcodeConHot{margin-top:-220px}}\\n@media only screen and (max-height:620px){.qrcodeConHot{margin-top:-180px}}\\n#qrcode{display:inline-block;*float:left;*margin-top:4px}\\n#qrcode .qrcode-item{float:left}\\n#qrcode .qrcode-item-2{margin-left:33px}\\n#qrcode .qrcode-img{width:106px;height:106px;margin:0 auto;padding:5px;border:1px solid #f3f3f3}\\n#qrcode .qrcode-item-1 .qrcode-img{background:url(http://s1.bdstatic.com/r/www/cache/static/home/img/qrcode/zbios_09b6296.png) 0 0 no-repeat;background-position:5px 5px}\\n#qrcode .qrcode-item-2 .qrcode-img{background:url(http://s1.bdstatic.com/r/www/cache/static/home/img/qrcode/nuomi_365eabd.png) 0 0 no-repeat;background-position:5px 5px}\\n@media only screen and (-webkit-min-device-pixel-ratio:2){#qrcode .qrcode-item-1 .qrcode-img{background-image:url(http://s1.bdstatic.com/r/www/cache/static/home/img/qrcode/zbios_x2_5869f49.png);background-size:106px 106px}\\n#qrcode .qrcode-item-2 .qrcode-img{background-image:url(http://s1.bdstatic.com/r/www/cache/static/home/img/qrcode/nuomi_x2_55dc5b7.png);background-size:106px 106px}\\n#qrcode.qrcodeHot .qrcode-item-1 .qrcode-img,#qrcode.qrcodeHot .qrcode-item-2 .qrcode-img{background-size:70px 70px}}\\n#qrcode .qrcode-text{color:#999;line-height:23px}\\n#qrcode .qrcode-text a{color:#999;text-decoration:none}\\n#qrcode .qrcode-text p{text-align:center}\\n#qrcode .qrcode-text b{color:#666;font-weight:700}\\n#qrcode .qrcode-text span{letter-spacing:1px}\\n#qrcode .qrcode-text .title{color:#333;font-size:16px;line-height:32px;letter-spacing:3px}\\n#qrcode .qrcode-text .sub-title{color:#999;font-size:14px;line-height:14px;font-weight:300}\\n#qrcode.qrcodeHot .qrcode-img{width:70px;height:70px;border-radius:12px;padding:8px}\\n#qrcode.qrcodeHot .qrcode-item-1 .qrcode-img{background-image:url(http://s1.bdstatic.com/r/www/cache/static/home/img/qrcode/zbios_little_99d9e00.png)\\\\9}\\n#qrcode.qrcodeHot .qrcode-item-1 .qrcode-img,#qrcode.qrcodeHot .qrcode-item-2 .qrcode-img{background-position:8px 8px;background-size:70px}\\n#qrcode.qrcodeHot .qrcode-text .title{font-size:14px;letter-spacing:normal}\\n#qrcode.qrcodeHot .qrcode-text .sub-title{font-size:12px}\\n.hotword-wrapper{width:600px;background:#FFF;box-shadow:0 3px 8px 0 rgba(0,0,0,.05);-moz-box-shadow:0 3px 8px 0 rgba(0,0,0,.05);-webkit-box-shadow:0 3px 8px 0 rgba(0,0,0,.05);-ms-filter:\"progid:DXImageTransform.Microsoft.Shadow(Strength=4, Direction=135, Color=\\'#f9f9f9\\')\";filter:progid:DXImageTransform.Microsoft.Shadow(Strength=4, Direction=135, Color=\\'#f9f9f9\\');border-radius:20px;margin:40px auto;text-align:center;padding:12px 20px 8px;display:none}\\n.hotword-title{font-family:PingFangSC-Medium,\"Microsoft YaHei\";font-size:14px;color:#222;line-height:30px;display:inline-block;float:left;font-weight:700}\\n.hotword-change{display:block;float:right;font-family:PingFangSC-Regular,\"Microsoft YaHei\";font-size:14px;color:#999;cursor:pointer;line-height:30px;text-decoration:none}\\n.hotword-change:hover{color:#07f}\\n.hotword-item{display:inline-block;font-family:\"Microsoft YaHei\";font-size:14px;color:#333;line-height:33px;width:30%;width:28%\\\\9;text-decoration:none;overflow:hidden;text-overflow:ellipsis;white-space:nowrap;margin-right:30px}\\n.hotword-item:last-child{margin-right:0}\\n.hotword-item:hover{color:#07f}\\n.hotword-content-hide{display:none}\\n.hotword-head{overflow:hidden;margin-bottom:4px}\\n.hotword-row{text-align:left}\\n#ftConw{display:inline-block;text-align:left;margin-left:33px;line-height:22px;position:relative;top:-2px;*float:right;*margin-left:0;*position:static}\\n#ftConw,#ftConw a{color:#999}\\n#ftConw{text-align:center;margin-left:0}\\n.bg{background-image:url(http://s1.bdstatic.com/r/www/cache/static/global/img/icons_441e82f.png);background-repeat:no-repeat;_background-image:url(http://s1.bdstatic.com/r/www/cache/static/global/img/icons_d5b04cc.gif)}\\n.c-icon{display:inline-block;width:14px;height:14px;vertical-align:text-bottom;font-style:normal;overflow:hidden;background:url(http://s1.bdstatic.com/r/www/cache/static/global/img/icons_441e82f.png) no-repeat 0 0;_background-image:url(http://s1.bdstatic.com/r/www/cache/static/global/img/icons_d5b04cc.gif)}\\n.c-icon-triangle-down-blue{background-position:-480px -168px}\\n.c-icon-chevron-unfold2{background-position:-504px -168px}\\n#m{width:720px;margin:0 auto}\\n#nv a,#nv b,.btn,#lk{font-size:14px}\\n#nv{height:19px;font-size:16px;margin:0 0 4px;text-align:left;text-indent:137px}\\n.s_btn{width:95px;height:32px;padding-top:2px\\\\9;font-size:14px;background-color:#ddd;background-position:0 -48px;cursor:pointer}\\n.s_btn_h{background-position:-240px -48px}\\n.s_btn_wr{width:97px;height:34px;display:inline-block;background-position:-120px -48px;*position:relative;z-index:0;vertical-align:top}\\n#jgwab{margin-left:19px}\\n#cp .c-icon-icrlogo,.c-icon-jgwablogo{width:14px;height:17px;display:inline-block;overflow:hidden;background:url(http://s1.bdstatic.com/r/www/cache/static/global/img/icons_441e82f.png) no-repeat;_background-image:url(http://s1.bdstatic.com/r/www/cache/static/global/img/icons_d5b04cc.gif)}\\n#cp .c-icon-icrlogo{background-position:-600px -96px;position:relative;top:3px}\\n.c-icon-jgwablogo{background-position:-623px -96px;position:relative;top:3px}\\n#shouji{margin-right:14px}\\n#u{display:none}\\n#c-tips-container{display:none}\\n#wrapper{min-width:810px;height:100%;min-height:600px}\\n#head{position:relative;padding-bottom:0;height:100%;min-height:600px}\\n#head .head_wrapper{height:100%}\\n#m{position:relative}\\n#fm{padding-left:40px;top:-37px}\\n#lh a{margin-left:62px}\\n#lh .hotword-btn-open{color:#666;margin-right:25px;padding-left:15px;display:none;cursor:pointer}\\n#lh .hotword-btn-open .open-icon{background:url(http://s1.bdstatic.com/r/www/cache/static/home/img/hotword_btn_eeee3e9.png) no-repeat;background-size:60px;background-image:url(http://s1.bdstatic.com/r/www/cache/static/home/img/hotword_btn_low_039f033.png)\\\\9;background-position:-31px -1px;width:15px;height:15px;display:inline-block;vertical-align:middle}\\n#lh .hotword-btn-open:hover{color:#07f}\\n#lh .hotword-btn-open:hover .open-icon{background-position:-46px -1px}\\n#lh .hotword-btn-hide{color:#666;margin-right:25px;padding-left:15px;display:none;cursor:pointer}\\n#lh .hotword-btn-hide .hide-icon{background:url(http://s1.bdstatic.com/r/www/cache/static/home/img/hotword_btn_eeee3e9.png) no-repeat;background-size:60px;background-image:url(http://s1.bdstatic.com/r/www/cache/static/home/img/hotword_btn_low_039f033.png)\\\\9;background-position:-1px -1px;width:15px;height:15px;display:inline-block;vertical-align:middle}\\n#lh .hotword-btn-hide:hover{color:#07f;background-position:0 0}\\n#lh .hotword-btn-hide:hover .hide-icon{background-position:-16px -1px}\\n#lh #seth,#lh #setf{margin-left:0}\\n#lk{position:absolute;display:none;top:0;right:0;margin:33px 0}\\n#lk span{font:14px \"\\xe5\\xae\\x8b\\xe4\\xbd\\x93\"}\\n#nv{position:absolute;display:none;top:0;right:0}\\n#lm{color:#666;width:100%;height:60px;margin-top:60px;line-height:15px;font-size:13px;position:absolute;top:0;left:0}\\n#lm a{color:#666}\\n#pad-version{line-height:40px}\\n.s_ipt_wr.bg,.s_btn_wr.bg,#su.bg{background-image:none}\\n.s_btn_wr{width:auto;height:auto;border-bottom:1px solid transparent;*border-bottom:0}\\n.s_btn{width:100px;height:36px;color:#fff;font-size:15px;letter-spacing:1px;background:#3385ff;border-bottom:1px solid #2d78f4;outline:medium;*border-bottom:0;-webkit-appearance:none;-webkit-border-radius:0}\\n.s_btn.btnhover{background:#317ef3;border-bottom:1px solid #2868c8;*border-bottom:0;box-shadow:1px 1px 1px #ccc}\\n.s_btn_h{background:#3075dc;box-shadow:inset 1px 1px 5px #2964bb;-webkit-box-shadow:inset 1px 1px 5px #2964bb;-moz-box-shadow:inset 1px 1px 5px #2964bb;-o-box-shadow:inset 1px 1px 5px #2964bb}\\n#result_logo{display:none}\\n#index_logo img{display:inline-block;width:270px;height:129px}\\n#s_tab{display:none}\\n.s_form{position:relative;top:38.2%}\\n.s_form_wrapper{position:relative;top:-191px}\\n.s_ipt_wr{height:34px}\\n#head .c-icon-bear-round{display:none}\\n#form{margin:22px auto 0;width:641px;text-align:left;z-index:100}\\n#form .bdsug,#fm .bdsug{top:35px}\\n.bdsug{display:none;position:absolute;width:538px;background:#fff;border:1px solid #ccc;_overflow:hidden;box-shadow:1px 1px 3px #ededed;-webkit-box-shadow:1px 1px 3px #ededed;-moz-box-shadow:1px 1px 3px #ededed;-o-box-shadow:1px 1px 3px #ededed}\\n.bdsug.bdsugbg ul{background:url(http://s1.bdstatic.com/r/www/cache/static/home/img/sugbg_1762fe7.png) 100% 100% no-repeat;background-size:100px 110px;background-image:url(http://s1.bdstatic.com/r/www/cache/static/home/img/sugbg_90fc9cf.gif)\\\\9}\\n.bdsug li{width:522px;color:#000;font:14px arial;line-height:25px;padding:0 8px;position:relative;cursor:default}\\n.bdsug li.bdsug-s{background:#f0f0f0}\\n.bdsug-store span,.bdsug-store b{color:#7A77C8}\\n.bdsug-store-del{font-size:12px;color:#666;text-decoration:underline;position:absolute;right:8px;top:0;cursor:pointer;display:none}\\n.bdsug-s .bdsug-store-del{display:inline-block}\\n.bdsug-ala{display:inline-block;border-bottom:1px solid #e6e6e6}\\n.bdsug-ala h3{line-height:14px;background:url(//www.baidu.com/img/sug_bd.png) no-repeat left center;margin:8px 0 5px;font-size:12px;font-weight:400;color:#7B7B7B;padding-left:20px}\\n.bdsug-ala p{font-size:14px;font-weight:700;padding-left:20px}\\n.bdsug .bdsug-direct{width:auto;padding:0;border-bottom:1px solid #f1f1f1}\\n.bdsug .bdsug-direct p{color:#00c;font-weight:700;line-height:34px;padding:0 8px;cursor:pointer;white-space:nowrap;overflow:hidden}\\n.bdsug .bdsug-direct p img{width:16px;height:16px;margin:7px 6px 9px 0;vertical-align:middle}\\n.bdsug .bdsug-direct p span{margin-left:8px}\\n.bdsug .bdsug-direct p i{font-size:12px;line-height:100%;font-style:normal;font-weight:400;color:#fff;background-color:#2b99ff;display:inline;text-align:center;padding:1px 5px;*padding:2px 5px 0;margin-left:8px;overflow:hidden}\\n.bdsug .bdsug-pcDirect{color:#000;font-size:14px;line-height:30px;height:30px;background-color:#f8f8f8}\\n.bdsug .bdsug-pc-direct-tip{position:absolute;right:15px;top:8px;width:55px;height:15px;display:block;background:url(http://s1.bdstatic.com/r/www/cache/static/global/img/pc_direct_42d6311.png) no-repeat 0 0}\\n.bdsug li.bdsug-pcDirect-s{background-color:#f0f0f0}\\n.bdsug .bdsug-pcDirect-is{color:#000;font-size:14px;line-height:22px;background-color:#f8f8f8}\\n.bdsug .bdsug-pc-direct-tip-is{position:absolute;right:15px;top:3px;width:55px;height:15px;display:block;background:url(http://s1.bdstatic.com/r/www/cache/static/global/img/pc_direct_42d6311.png) no-repeat 0 0}\\n.bdsug li.bdsug-pcDirect-is-s{background-color:#f0f0f0}\\n.bdsug .bdsug-pcDirect-s .bdsug-pc-direct-tip,.bdsug .bdsug-pcDirect-is-s .bdsug-pc-direct-tip-is{background-position:0 -15px}\\n.bdsug .bdsug-newicon{color:#929292;opacity:.7;font-size:12px;display:inline-block;line-height:22px;letter-spacing:2px}\\n.bdsug .bdsug-s .bdsug-newicon{opacity:1}\\n.bdsug .bdsug-newicon i{letter-spacing:0;font-style:normal}\\n.bdsug .bdsug-feedback-wrap{text-align:right;background:#fafafa;color:#666;height:25px;line-height:25px;display:none}\\n.bdsug .bdsug-feedback{margin-right:10px;text-decoration:underline;color:#666}\\n.toggle-underline{text-decoration:none}\\n.toggle-underline:hover{text-decoration:underline}\\n.tools{position:absolute;right:-75px}\\n#mHolder{width:62px;position:relative;z-index:296;display:none}\\n#mCon{height:18px;line-height:18px;position:absolute;cursor:pointer}\\n#mCon span{color:#00c;display:block;width:24px}\\n#mCon .hw{text-decoration:underline;cursor:pointer;display:inline-block}\\n#mCon .pinyin{display:inline-block}\\n#mCon .c-icon-chevron-unfold2{margin-left:5px}\\n#mMenu a{width:100%;height:100%;display:block;line-height:22px;text-indent:6px;text-decoration:none;filter:none\\\\9}\\n#mMenu,#user ul{box-shadow:1px 1px 2px #ccc;-moz-box-shadow:1px 1px 2px #ccc;-webkit-box-shadow:1px 1px 2px #ccc;filter:progid:DXImageTransform.Microsoft.Shadow(Strength=2, Direction=135, Color=#cccccc)\\\\9}\\n#mMenu{width:56px;border:1px solid #9b9b9b;list-style:none;position:absolute;right:27px;top:28px;display:none;background:#fff}\\n#mMenu a:hover{background:#ebebeb}\\n#mMenu .ln{height:1px;background:#ebebeb;overflow:hidden;font-size:1px;line-height:1px;margin-top:-1px}\\n#u1 a:link,#u1 a:visited{color:#666;text-decoration:none}\\n#u1 a:hover,#u1 a:active{text-decoration:underline}\\n#u1 a:active{color:#00c}\\n#u1{z-index:2;color:#fff;position:absolute;right:0;top:0;margin:19px 0 5px;padding:0 96px 0 0}\\n#u1 .reg{display:none}\\n#u1 a.pf,#u1 a.pf:visited{display:inline-block;float:left;color:#333;line-height:24px;font-size:13px;margin-left:20px;overflow:hidden;text-decoration:underline}\\n#u1 a.lb,#u1 a.lb:visited,#u1 a.username{display:inline-block;float:left;color:#333;font-size:13px;line-height:24px;margin-left:20px;text-decoration:underline}\\n#u1 a.bri,#u1 a.bri:visited{display:inline-block;position:absolute;right:10px;width:60px;height:23px;float:left;color:#fff;background:#38f;line-height:24px;font-size:13px;text-align:center;overflow:hidden;border-bottom:1px solid #38f;margin-left:19px;margin-right:2px}\\n#u1 a.bri.brihover{display:none;text-decoration:none;color:#333;background:0 0;border-bottom:1px solid transparent;margin-left:19px}\\n#u1 #lm a{color:#00c;text-decoration:underline}\\n#u1 a.mnav,#u1 a.mnav:visited{float:left;color:#333;font-weight:700;line-height:24px;margin-left:20px;font-size:13px;text-decoration:underline}\\n#u1 a.mnav.sp,#u1 a.mnav.sp:visited{color:#F23F40;position:relative}\\n#u1 a.mnav.sp.dot::before{content:\\' \\';position:absolute;width:6px;height:6px;background-color:#F23F40;border-radius:50%;top:3px;right:-6px}\\n#u1 a.pf:hover,#u1 a.lb:hover,#u1 a.mnav:hover{color:#00c}\\n.briiconsbg{background-repeat:no-repeat;background-size:300px 18px;background-image:url(http://s1.bdstatic.com/r/www/cache/static/home/img/icons_0c37e9b.png);background-image:url(http://s1.bdstatic.com/r/www/cache/static/home/img/icons_809ae65.gif)\\\\9}\\n.bdpfmenu{background-color:#fff;border:1px solid #d1d1d1;position:absolute;right:160px;width:68px;top:36px;margin-top:-1px;_margin-top:-3px;z-index:2;box-shadow:1px 1px 5px #d1d1d1;-webkit-box-shadow:1px 1px 5px #d1d1d1;-moz-box-shadow:1px 1px 5px #d1d1d1;-o-box-shadow:1px 1px 5px #d1d1d1}\\n.bdpfmenu a{display:block;text-align:left;margin:0!important;padding:0 9px;line-height:26px;text-decoration:none}\\n#wrapper .bdpfmenu a:link,#wrapper .bdpfmenu a:visited{background:#fff;color:#333}\\n#wrapper .bdpfmenu a:hover,#wrapper .bdpfmenu a:active{background:#38f;text-decoration:none;color:#fff}\\n#wrapper .bdnuarrow{width:0;height:0;font-size:0;line-height:0;display:block;position:absolute;top:-10px;left:50%;margin-left:-5px}\\n#wrapper .bdnuarrow em,#wrapper .bdnuarrow i{width:0;height:0;font-size:0;line-height:0;display:block;position:absolute;border:5px solid transparent;border-style:dashed dashed solid}\\n#wrapper .bdnuarrow em{border-bottom-color:#d8d8d8;top:-1px}\\n#wrapper .bdnuarrow i{border-bottom-color:#fff;top:0}\\n.s-isindex-wrap #wrapper .bdnuarrow{height:13px;background:url(http://s1.bdstatic.com/r/www/cache/static/home/img/icons_0c37e9b.png) no-repeat -90px -1px}\\n#wrapper .bdnuarrow.bdbriarrow{right:104px;display:none!important}\\n#wrapper .bdbri{width:85px;min-height:100px;border-left:1px solid #e7e7e7;position:absolute;background-color:#f9f9f9;overflow:hidden;z-index:2;right:0;top:0}\\n#prefpanel{background:#fafafa;display:none;opacity:0;position:fixed;_position:absolute;top:-359px;z-index:1000;width:100%;min-width:960px;border-bottom:1px solid #ebebeb}\\n#prefpanel form{_width:850px}\\n#wrapper .bdbriimgtitle{color:#333;text-align:center;width:66px;height:43px;line-height:43px;padding-top:9px;margin:0 auto;border-bottom:#f0f0f0 1px solid;font-size:13px;cursor:default}\\n#wrapper .briscrollwrapper{overflow:hidden}\\n#wrapper .briscrollwrapperContainer{position:relative}\\n#wrapper .bdbri.bdbriimg .bdmainlink a,#wrapper .bdbri.bdbriimg .bdothlink a{display:block;text-align:center;width:66px;height:76px;margin:0 auto;border-bottom:#f0f0f0 1px solid;color:#666;text-decoration:none;overflow:hidden}\\n#wrapper .bdbri.bdbriimg .bdmainlink a:visited,#wrapper .bdbri.bdbriimg .bdothlink a:visited{color:#666}\\n#wrapper .bdbri.bdbriimg .bdmainlink a:hover,#wrapper .bdbri.bdbriimg .bdothlink a:hover{color:#666;text-decoration:underline}\\n#wrapper .bdbri.bdbriimg .bdmainlink a:active,#wrapper .bdbri.bdbriimg .bdothlink a:active{color:#00c;text-decoration:underline}\\n#wrapper .bdbri.bdbriimg span{width:36px;height:36px;display:block;margin:10px auto 5px;background:url(http://s1.bdstatic.com/r/www/cache/static/home/img/logos/bdbri_icons_194ae06.png) no-repeat;cursor:pointer}\\n#wrapper .bdbri.bdbriimg .bdbrimore,#wrapper .bdbri.bdbriimg .bdbrievenmore{clear:both;text-align:center}\\n#wrapper .bdbri.bdbriimg .bdbrievenmore{margin-top:15px;height:30px;width:85px;overflow:hidden}\\n#wrapper .bdbri.bdbriimg span.bdbriimgitem_1{background:url(http://s1.bdstatic.com/r/www/cache/static/home/img/logos/yingxiao_b585c1e.png) no-repeat;background-size:cover}\\n#wrapper .bdbri.bdbriimg span.bdbriimgitem_2{background:url(http://s1.bdstatic.com/r/www/cache/static/home/img/logos/zhidao_cbf2aff.png) no-repeat;background-size:cover}\\n#wrapper .bdbri.bdbriimg span.bdbriimgitem_3{width:36px;background:url(http://s1.bdstatic.com/r/www/cache/static/home/img/logos/qqjt_9809ca8.png) no-repeat;background-size:cover}\\n#wrapper .bdbri.bdbriimg span.bdbriimgitem_4{background:url(http://s1.bdstatic.com/r/www/cache/static/home/img/logos/image_55b5909.png) no-repeat;background-size:cover}\\n#wrapper .bdbri.bdbriimg span.bdbriimgitem_5{background:url(http://s1.bdstatic.com/r/www/cache/static/home/img/logos/wenku_aaf198d.png) no-repeat;background-size:cover}\\n#wrapper .bdbri.bdbriimg span.bdbriimgitem_6{background:url(http://s1.bdstatic.com/r/www/cache/static/home/img/logos/fengyunbang_1986a40.png) no-repeat;background-size:cover}\\n#wrapper .bdbri.bdbriimg span.bdbriimgitem_7{background-position:-220px 0}\\n#wrapper .bdbri.bdbriimg .bdbrievenmore a:link,#wrapper .bdbri.bdbriimg .bdbrievenmore a:visited{color:#666;text-decoration:underline}\\n#wrapper .bdbri.bdbriimg .bdbrievenmore a:hover{color:#666;text-decoration:underline}\\n#wrapper .bdbri.bdbriimg .bdbrievenmore a:active{color:#00c}\\n.bdbriscroll-ctrl-scroll{position:absolute;top:10px;right:1px;width:8px;border-top:1px solid #e4e4e4;border-left:1px solid #e4e4e4;cursor:default;-webkit-user-select:none;-moz-user-select:none}\\n.bdbriscroll-ctrl-scroll .bdbriscroll-axis{width:8px;left:0;z-index:0;position:absolute;background:#f2f2f2}\\n.bdbriscroll-ctrl-scroll-touch .bdbriscroll-axis{width:7px;background:#f2f2f2}\\n.bdbriscroll-ctrl-scroll-hover .bdbriscroll-axis{background:#f2f2f2}\\n.bdbriscroll-ctrl-scroll .bdbriscroll-slider{overflow:hidden;width:7px;height:14px;position:absolute;left:0;z-index:10;display:none;background:#d9d9d9;margin-top:-1px;margin-left:-1px;border-right:1px solid #cecece;border-bottom:1px solid #cecece;cursor:default}\\n.bdbriscroll-ctrl-scroll-touch .bdbriscroll-slider,.bdbriscroll-ctrl-scroll-hover .bdbriscroll-slider{background:#b8b8b8;border-right:1px solid #afafaf;border-bottom:1px solid #afafaf}\\n.s_ipt::-webkit-input-placeholder{padding-left:3px;color:#aaa;font-size:13px}\\n.s_ipt::-moz-placeholder{padding-left:3px;color:#aaa;font-size:13px}\\n.s_ipt:-ms-input-placeholder{padding-left:3px;color:#aaa;font-size:13px}\\n.s_ipt::placeholder{padding-left:3px;color:#aaa;font-size:13px}\\n.kw-placeholder{position:absolute;top:0;left:0;color:#aaa;font-size:13px;height:35px;line-height:35px;padding-left:10px;max-width:360px;z-index:99;pointer-events:none}\\n.kw-placeholder.placeholders-hidden{visibility:hidden}\\n.qrcode-chunwan{width:530px;height:90px;position:absolute;left:50%;margin-left:-265px;z-index:1;bottom:115px;background-size:100%;background-repeat:no-repeat;background-position:center}\\n.qrcode-chunwan .close-chunwan{width:23px;height:23px;position:absolute;top:0;right:0;display:none;_display:block;background-size:100%}\\n.qrcode-chunwan:hover .close-chunwan{display:block}</style>\\n\\n<!--[if lte IE 8]>\\n<style index=\"index\" data-compress=\"strip\">\\n.s_form{top:260px}\\n</style>\\n<![endif]-->\\n<!--[if IE 8]>\\n<style index=\"index\" data-compress=\"strip\">\\n#u1 a.mnav,#u1 a.mnav:visited,#u1 a.lb,#u1 a.lb:visited,#u1 a.pf,#u1 a.pf:visited,#u1 a.bri,#u1 a.bri:visited{font-family:simsun;}\\n</style>\\n<![endif]-->\\n<style data-for=\"debug\">\\n#debug{display:none!important;}\\n</style>\\n<style data-for=\"result\" id=\"css_index_result\" type=\"text/css\">#seth{display:inline;behavior:url(#default#homepage)}\\n#setf{display:inline}\\n#sekj{margin-left:14px}\\n#st,#sekj{display:none}\\n.s_ipt_wr{border:1px solid #b6b6b6;border-color:#7b7b7b #b6b6b6 #b6b6b6 #7b7b7b;background:#fff;display:inline-block;vertical-align:top;width:539px;margin-right:0;border-right-width:0;border-color:#b8b8b8 transparent #ccc #b8b8b8;overflow:hidden}\\n.wrapper_s .s_ipt_wr{width:439px}\\n.wrapper_s .s_ipt{width:434px}\\n.wrapper_s .s_ipt_tip{width:434px}\\n.s_ipt_wr:hover,.s_ipt_wr.ipthover{border-color:#999 transparent #b3b3b3 #999}\\n.s_ipt_wr.iptfocus{border-color:#4791ff transparent #4791ff #4791ff}\\n.s_ipt_tip{color:#aaa;position:absolute;z-index:-10;font:16px/22px arial;height:32px;line-height:32px;padding-left:7px;overflow:hidden;width:526px}\\n.s_ipt{width:526px;height:22px;font:16px/18px arial;line-height:22px;margin:6px 0 0 7px;padding:0;background:transparent;border:0;outline:0;-webkit-appearance:none}\\n#kw{position:relative}\\n#u .username i{background-position:-408px -144px}\\n.bdpfmenu,.usermenu{border:1px solid #d1d1d1;position:absolute;width:105px;top:36px;z-index:302;box-shadow:1px 1px 5px #d1d1d1;-webkit-box-shadow:1px 1px 5px #d1d1d1;-moz-box-shadow:1px 1px 5px #d1d1d1;-o-box-shadow:1px 1px 5px #d1d1d1}\\n.bdpfmenu{font-size:12px;background-color:#fff}\\n.bdpfmenu a,.usermenu a{display:block;text-align:left;margin:0!important;padding:0 9px;line-height:26px;text-decoration:none}\\n.briiconsbg{background-repeat:no-repeat;background-size:300px 18px;background-image:url(http://s1.bdstatic.com/r/www/cache/static/home/img/icons_0c37e9b.png);background-image:url(http://s1.bdstatic.com/r/www/cache/static/home/img/icons_809ae65.gif)\\\\9}\\n#u{z-index:301;position:absolute;right:0;top:0;margin:21px 9px 5px 0;padding:0}\\n.wrapper_s #u{margin-right:3px}\\n#u a{text-decoration:underline;color:#333;margin:0 7px}\\n.wrapper_s #u a{margin-right:0 6px}\\n#u div a{text-decoration:none}\\n#u a:hover{text-decoration:underline}\\n#u .back_org{color:#666;float:left;display:inline-block;height:24px;line-height:24px}\\n#u .bri{display:inline-block;width:24px;height:24px;float:left;line-height:24px;color:transparent;background:url(http://s1.bdstatic.com/r/www/cache/static/home/img/icons_0c37e9b.png) no-repeat 4px 3px;background-size:300px 18px;background-image:url(http://s1.bdstatic.com/r/www/cache/static/home/img/icons_809ae65.gif)\\\\9;overflow:hidden}\\n#u .bri:hover,#u .bri.brihover{background-position:-18px 3px}\\n#mCon #imeSIcon{background-position:-408px -144px;margin-left:0}\\n#mCon span{color:#333}\\n.bdpfmenu a:link,.bdpfmenu a:visited,#u .usermenu a:link,#u .usermenu a:visited{background:#fff;color:#333}\\n.bdpfmenu a:hover,.bdpfmenu a:active,#u .usermenu a:hover,#u .usermenu a:active{background:#38f;text-decoration:none;color:#fff}\\n.bdpfmenu{width:70px}\\n.usermenu{width:68px;right:8px}\\n#wrapper .bdnuarrow{width:0;height:0;font-size:0;line-height:0;display:block;position:absolute;top:-10px;left:50%;margin-left:-5px}\\n#wrapper .bdnuarrow em,#wrapper .bdnuarrow i{width:0;height:0;font-size:0;line-height:0;display:block;position:absolute;border:5px solid transparent;border-style:dashed dashed solid}\\n#wrapper .bdnuarrow em{border-bottom-color:#d8d8d8;top:-1px}\\n#wrapper .bdnuarrow i{border-bottom-color:#fff;top:0}\\n#prefpanel{background:#fafafa;display:none;opacity:0;position:fixed;_position:absolute;top:-359px;z-index:500;width:100%;min-width:960px;border-bottom:1px solid #ebebeb}\\n#prefpanel form{_width:850px}\\n#kw_tip{cursor:default;display:none;margin-top:1px}\\n#bds-message-wrapper{top:43px}\\n.quickdelete-wrap{position:relative}\\n.quickdelete-wrap input{width:500px}\\n.wrapper_l .quickdelete-wrap input{width:500px}\\n.wrapper_s .quickdelete-wrap input{width:402px}\\ninput::-ms-clear{display:none}\\n.quickdelete{width:32px;height:32px;background:url(http://s1.bdstatic.com/r/www/cache/static/global/img/quickdelete_33e3eb8.png) no-repeat;background-position:10px 10px;position:absolute;display:block}\\n.quickdelete:hover{background-position:10px -24px}\\n#lh a{margin-left:25px}\\n.bdbriwrapper-tuiguang{display:none!important}</style>\\n<!--[if IE 8]>\\n<style index=\"index\" data-compress=\"strip\">\\n.s_ipt{background-color:#FFF;}\\n</style>\\n<![endif]-->\\n\\n    \\n<script data-compress=\"strip\">\\r\\nfunction h(obj){\\r\\n    obj.style.behavior=\\'url(#default#homepage)\\';\\r\\n\\tvar a = obj.setHomePage(\\'//www.baidu.com/\\');\\r\\n}\\r\\n</script>\\n\\n<noscript>\\n    <meta http-equiv=\"refresh\" content=\"0; url=/baidu.html?from=noscript\"/>\\n</noscript>\\n\\n    <script>window._ASYNC_START=new Date().getTime();</script>\\n</head>\\n\\n<body link=\"#0000cc\">\\n\\t<script>\\n\\tif (/Chrome\\\\/37.0.2062.94/i.test(navigator.userAgent) && (/(windows 7)|(windows nt 6.1)/i.test(navigator.userAgent))) {\\n\\t\\tvar _chrome_37_fix = document.createElement(\"style\");\\n\\t\\t_chrome_37_fix.type=\"text/css\";\\n\\t\\t_chrome_37_fix.setAttribute(\"data-for\",\"result\");\\n\\t\\t_chrome_37_fix.innerHTML = \".t,.f16,#kw,.s_ipt,.c-title,.c-title-size,.to_zhidao,.to_tieba,.to_zhidao_bottom{font-size:15px;} .ec-hospital-info-main h2,.ad-widget-gx_sck-ylzx-doctor-info h2,.ec-card-main h2,.ad-widget-h1 h2,.ad-widget-title h2,.ad-widget-small-head h2,.ad-widget-small-head h2 a,.ad-widget-header .ec-figcaption h2{font-size: 15px !important;}\";\\n\\t\\tdocument.getElementsByTagName(\"head\")[0].appendChild(_chrome_37_fix);\\n\\t}\\n\\t</script>\\n    <div id=\"wrapper\" style=\"display:none;\">\\n        \\n\\n\\n        \\n\\n\\n<script>if(window.bds&&bds.util&&bds.util.setContainerWidth){bds.util.setContainerWidth();}</script><div id=\"head\"><div class=\"head_wrapper\"><div class=\"s_form\"><div class=\"s_form_wrapper\"><style>.index-logo-srcnew {display: none;}@media (-webkit-min-device-pixel-ratio: 2),(min--moz-device-pixel-ratio: 2),(-o-min-device-pixel-ratio: 2),(min-device-pixel-ratio: 2){.index-logo-src {display: none;}.index-logo-srcnew {display: inline;}}</style><div id=\"lg\"><img hidefocus=\"true\" class=\\'index-logo-src\\' src=\"//www.baidu.com/img/bd_logo1.png\" width=\"270\" height=\"129\" onerror=\"this.src=\\'//www.baidu.com/img/bd_logo1.png\\';this.onerror=null;\" usemap=\"#mp\"><img hidefocus=\"true\" class=\\'index-logo-srcnew\\' src=\"//www.baidu.com/img/bd_logo1.png?qua=high\" width=\"270\" height=\"129\" onerror=\"this.src=\\'//www.baidu.com/img/bd_logo1.png\\';this.onerror=null;\" usemap=\"#mp\"><map name=\"mp\"><area style=\"outline:none;\" hidefocus=\"true\" shape=\"rect\" coords=\"0,0,270,129\" href=\"//www.baidu.com/s?wd=%E4%BB%8A%E6%97%A5%E6%96%B0%E9%B2%9C%E4%BA%8B&tn=SE_PclogoS_8whnvm25&sa=ire_dl_gh_logo&rsv_dl=igh_logo_pcs\" onmousedown=\"return ns_c({fm: \\'tab\\', tab: \\'felogo\\', rsv_platform: \\'wwwhome\\' })\" target=\"_blank\" title=\"\\xe7\\x82\\xb9\\xe5\\x87\\xbb\\xe4\\xb8\\x80\\xe4\\xb8\\x8b\\xef\\xbc\\x8c\\xe4\\xba\\x86\\xe8\\xa7\\xa3\\xe6\\x9b\\xb4\\xe5\\xa4\\x9a\"onmousedown=\"return ns_c({\\'fm\\':\\'behs\\',\\'tab\\':\\'bdlogo\\'})\"></map></div><a href=\"/\" id=\"result_logo\" onmousedown=\"return c({\\'fm\\':\\'tab\\',\\'tab\\':\\'logo\\'})\"><img class=\\'index-logo-src\\' src=\"//www.baidu.com/img/baidu_jgylogo3.gif\" alt=\"\\xe5\\x88\\xb0\\xe7\\x99\\xbe\\xe5\\xba\\xa6\\xe9\\xa6\\x96\\xe9\\xa1\\xb5\" title=\"\\xe5\\x88\\xb0\\xe7\\x99\\xbe\\xe5\\xba\\xa6\\xe9\\xa6\\x96\\xe9\\xa1\\xb5\"><img class=\\'index-logo-srcnew\\' src=\"//www.baidu.com/img/baidu_resultlogo@2.png\" alt=\"\\xe5\\x88\\xb0\\xe7\\x99\\xbe\\xe5\\xba\\xa6\\xe9\\xa6\\x96\\xe9\\xa1\\xb5\" title=\"\\xe5\\x88\\xb0\\xe7\\x99\\xbe\\xe5\\xba\\xa6\\xe9\\xa6\\x96\\xe9\\xa1\\xb5\"></a><form id=\"form\" name=\"f\" action=\"/s\" class=\"fm\"><input type=\"hidden\" name=\"ie\" value=\"utf-8\"><input type=\"hidden\" name=\"f\" value=\"8\"><input type=\"hidden\" name=\"rsv_bp\" value=\"1\"><input type=\"hidden\" name=\"rsv_idx\" value=\"1\"><input type=hidden name=ch value=\"\"><input type=hidden name=tn value=\"baidu\"><input type=hidden name=bar value=\"\"><span class=\"bg s_ipt_wr\"><input id=\"kw\" name=\"wd\" class=\"s_ipt\" value=\"\" maxlength=\"255\" autocomplete=\"off\"></span><span class=\"bg s_btn_wr\"><input type=\"submit\" id=\"su\" value=\"\\xe7\\x99\\xbe\\xe5\\xba\\xa6\\xe4\\xb8\\x80\\xe4\\xb8\\x8b\" class=\"bg s_btn\"></span><span class=\"tools\"><span id=\"mHolder\"><div id=\"mCon\"><span>\\xe8\\xbe\\x93\\xe5\\x85\\xa5\\xe6\\xb3\\x95</span></div><ul id=\"mMenu\"><li><a href=\"javascript:;\" name=\"ime_hw\">\\xe6\\x89\\x8b\\xe5\\x86\\x99</a></li><li><a href=\"javascript:;\" name=\"ime_py\">\\xe6\\x8b\\xbc\\xe9\\x9f\\xb3</a></li><li class=\"ln\"></li><li><a href=\"javascript:;\" name=\"ime_cl\">\\xe5\\x85\\xb3\\xe9\\x97\\xad</a></li></ul></span></span><input type=\"hidden\" name=\"rn\" value=\"\"><input type=\"hidden\" name=\"oq\" value=\"\"><input type=\"hidden\" name=\"rsv_pq\" value=\"d2d572590002c6d4\"><input type=\"hidden\" name=\"rsv_t\" value=\"c91263B1BR0ICl60zgJ99X4FiF3YDOfO5NN+pg841cJJ1BW1OzsOTCg7eEI\"><input type=\"hidden\" name=\"rqlang\" value=\"cn\"></form><div id=\"m\"></div></div></div><div id=\"u\"><a class=\"toindex\" href=\"/\">\\xe7\\x99\\xbe\\xe5\\xba\\xa6\\xe9\\xa6\\x96\\xe9\\xa1\\xb5</a><a href=\"javascript:;\" name=\"tj_settingicon\" class=\"pf\">\\xe8\\xae\\xbe\\xe7\\xbd\\xae<i class=\"c-icon c-icon-triangle-down\"></i></a><a href=\"https://passport.baidu.com/v2/?login&tpl=mn&u=http%3A%2F%2Fwww.baidu.com%2F\" name=\"tj_login\" class=\"lb\" onclick=\"return false;\">\\xe7\\x99\\xbb\\xe5\\xbd\\x95</a></div><div id=\"u1\"><a href=\"https://voice.baidu.com/act/newpneumonia/newpneumonia/?from=osari_pc_1\" name=\"tj_trvirus\" id=\"virus-2020\" class=\"mnav sp\">\\xe6\\x8a\\x97\\xe5\\x87\\xbb\\xe8\\x82\\xba\\xe7\\x82\\x8e</a><a href=\"http://news.baidu.com\" name=\"tj_trnews\" class=\"mnav\">\\xe6\\x96\\xb0\\xe9\\x97\\xbb</a><a href=\"https://www.hao123.com\" name=\"tj_trhao123\" class=\"mnav\">hao123</a><a href=\"http://map.baidu.com\" name=\"tj_trmap\" class=\"mnav\">\\xe5\\x9c\\xb0\\xe5\\x9b\\xbe</a><a href=\"http://v.baidu.com\" name=\"tj_trvideo\" class=\"mnav\">\\xe8\\xa7\\x86\\xe9\\xa2\\x91</a><a href=\"http://tieba.baidu.com\" name=\"tj_trtieba\" class=\"mnav\">\\xe8\\xb4\\xb4\\xe5\\x90\\xa7</a><a href=\"http://xueshu.baidu.com\" name=\"tj_trxueshu\" class=\"mnav\">\\xe5\\xad\\xa6\\xe6\\x9c\\xaf</a><a href=\"https://passport.baidu.com/v2/?login&tpl=mn&u=http%3A%2F%2Fwww.baidu.com%2F\" name=\"tj_login\" class=\"lb\" onclick=\"return false;\">\\xe7\\x99\\xbb\\xe5\\xbd\\x95</a><a href=\"http://www.baidu.com/gaoji/preferences.html\" name=\"tj_settingicon\" class=\"pf\">\\xe8\\xae\\xbe\\xe7\\xbd\\xae</a><a href=\"http://www.baidu.com/more/\" name=\"tj_briicon\" class=\"bri\" style=\"display: block;\">\\xe6\\x9b\\xb4\\xe5\\xa4\\x9a\\xe4\\xba\\xa7\\xe5\\x93\\x81</a></div></div></div>\\n\\n\\n\\n<div class=\"s_tab\" id=\"s_tab\">\\n<div class=\"s_tab_inner\">\\n    <b>\\xe7\\xbd\\x91\\xe9\\xa1\\xb5</b>\\n    <a href=\"//www.baidu.com/s?rtt=1&bsst=1&cl=2&tn=news&word=\" wdfield=\"word\"  onmousedown=\"return c({\\'fm\\':\\'tab\\',\\'tab\\':\\'news\\'})\" sync=\"true\">\\xe8\\xb5\\x84\\xe8\\xae\\xaf</a>\\n    <a href=\"http://tieba.baidu.com/f?kw=&fr=wwwt\" wdfield=\"kw\"  onmousedown=\"return c({\\'fm\\':\\'tab\\',\\'tab\\':\\'tieba\\'})\">\\xe8\\xb4\\xb4\\xe5\\x90\\xa7</a>\\n    <a href=\"http://zhidao.baidu.com/q?ct=17&pn=0&tn=ikaslist&rn=10&word=&fr=wwwt\" wdfield=\"word\"  onmousedown=\"return c({\\'fm\\':\\'tab\\',\\'tab\\':\\'zhidao\\'})\">\\xe7\\x9f\\xa5\\xe9\\x81\\x93</a>\\n    <a href=\"http://music.taihe.com/search?fr=ps&ie=utf-8&key=\" wdfield=\"key\"  onmousedown=\"return c({\\'fm\\':\\'tab\\',\\'tab\\':\\'music\\'})\">\\xe9\\x9f\\xb3\\xe4\\xb9\\x90</a>\\n    <a href=\"http://image.baidu.com/search/index?tn=baiduimage&ps=1&ct=201326592&lm=-1&cl=2&nc=1&ie=utf-8&word=\" wdfield=\"word\"  onmousedown=\"return c({\\'fm\\':\\'tab\\',\\'tab\\':\\'pic\\'})\">\\xe5\\x9b\\xbe\\xe7\\x89\\x87</a>\\n    <a href=\"http://v.baidu.com/v?ct=301989888&rn=20&pn=0&db=0&s=25&ie=utf-8&word=\" wdfield=\"word\"   onmousedown=\"return c({\\'fm\\':\\'tab\\',\\'tab\\':\\'video\\'})\">\\xe8\\xa7\\x86\\xe9\\xa2\\x91</a>\\n    <a href=\"http://map.baidu.com/m?word=&fr=ps01000\" wdfield=\"word\"  onmousedown=\"return c({\\'fm\\':\\'tab\\',\\'tab\\':\\'map\\'})\">\\xe5\\x9c\\xb0\\xe5\\x9b\\xbe</a>\\n    <a href=\"http://wenku.baidu.com/search?word=&lm=0&od=0&ie=utf-8\" wdfield=\"word\"  onmousedown=\"return c({\\'fm\\':\\'tab\\',\\'tab\\':\\'wenku\\'})\">\\xe6\\x96\\x87\\xe5\\xba\\x93</a>\\n    <a href=\"//www.baidu.com/more/\"  onmousedown=\"return c({\\'fm\\':\\'tab\\',\\'tab\\':\\'more\\'})\">\\xe6\\x9b\\xb4\\xe5\\xa4\\x9a\\xc2\\xbb</a>\\n</div>\\n</div>\\n\\n        \\n\\r\\n<div class=\"qrcodeCon \">\\r\\n\\t<div id=\"qrcode\" >\\r\\n\\t\\t<div class=\"qrcode-item qrcode-item-1\">\\r\\n\\t\\t\\t<div class=\"qrcode-img\"></div>\\r\\n\\t\\t\\t<div class=\"qrcode-text\">\\r\\n\\t\\t\\t\\t<p class=\"title\">\\xe4\\xb8\\x8b\\xe8\\xbd\\xbd\\xe7\\x99\\xbe\\xe5\\xba\\xa6APP</p>\\r\\n\\t\\t\\t\\t<p class=\"sub-title\">\\xe6\\x9c\\x89\\xe4\\xba\\x8b\\xe6\\x90\\x9c\\xe4\\xb8\\x80\\xe6\\x90\\x9c&nbsp;&nbsp;\\xe6\\xb2\\xa1\\xe4\\xba\\x8b\\xe7\\x9c\\x8b\\xe4\\xb8\\x80\\xe7\\x9c\\x8b</p>\\r\\n\\t\\t\\t</div>\\r\\n\\t\\t</div>\\r\\n\\t</div>\\r\\n</div>\\n\\r\\n<div id=\"ftCon\" >\\r\\n\\r\\n<div class=\"ftCon-Wrapper\"><div id=\"ftConw\"><p id=\"lh\"><a id=\"setf\" href=\"//www.baidu.com/cache/sethelp/help.html\" onmousedown=\"return ns_c({\\'fm\\':\\'behs\\',\\'tab\\':\\'favorites\\',\\'pos\\':0})\" target=\"_blank\">\\xe6\\x8a\\x8a\\xe7\\x99\\xbe\\xe5\\xba\\xa6\\xe8\\xae\\xbe\\xe4\\xb8\\xba\\xe4\\xb8\\xbb\\xe9\\xa1\\xb5</a><a onmousedown=\"return ns_c({\\'fm\\':\\'behs\\',\\'tab\\':\\'tj_about\\'})\" href=\"http://home.baidu.com\">\\xe5\\x85\\xb3\\xe4\\xba\\x8e\\xe7\\x99\\xbe\\xe5\\xba\\xa6</a><a onmousedown=\"return ns_c({\\'fm\\':\\'behs\\',\\'tab\\':\\'tj_about_en\\'})\" href=\"http://ir.baidu.com\">About&nbsp;&nbsp;Baidu</a><a onmousedown=\"return ns_c({\\'fm\\':\\'behs\\',\\'tab\\':\\'tj_tuiguang\\'})\" href=\"http://e.baidu.com/?refer=888\">\\xe7\\x99\\xbe\\xe5\\xba\\xa6\\xe6\\x8e\\xa8\\xe5\\xb9\\xbf</a><span style=\"margin-left: 25px;\">(\\xe4\\xba\\xac)-\\xe7\\xbb\\x8f\\xe8\\x90\\xa5\\xe6\\x80\\xa7-2017-0020<span></p><p id=\"cp\">&copy;2020&nbsp;Baidu&nbsp;<a href=\"http://www.baidu.com/duty/\" onmousedown=\"return ns_c({\\'fm\\':\\'behs\\',\\'tab\\':\\'tj_duty\\'})\">\\xe4\\xbd\\xbf\\xe7\\x94\\xa8\\xe7\\x99\\xbe\\xe5\\xba\\xa6\\xe5\\x89\\x8d\\xe5\\xbf\\x85\\xe8\\xaf\\xbb</a>&nbsp;<a href=\"http://jianyi.baidu.com/\" class=\"cp-feedback\" onmousedown=\"return ns_c({\\'fm\\':\\'behs\\',\\'tab\\':\\'tj_homefb\\'})\">\\xe6\\x84\\x8f\\xe8\\xa7\\x81\\xe5\\x8f\\x8d\\xe9\\xa6\\x88</a>&nbsp;\\xe4\\xba\\xacICP\\xe8\\xaf\\x81030173\\xe5\\x8f\\xb7&nbsp;<i class=\"c-icon-icrlogo\"></i>&nbsp;<a id=\"jgwab\"  target=\"_blank\" href=\"http://www.beian.gov.cn/portal/registerSystemInfo?recordcode=11000002000001\">\\xe4\\xba\\xac\\xe5\\x85\\xac\\xe7\\xbd\\x91\\xe5\\xae\\x89\\xe5\\xa4\\x8711000002000001\\xe5\\x8f\\xb7</a>&nbsp;<i class=\"c-icon-jgwablogo\"></i></p></div></div></div>\\n\\n        <div id=\"wrapper_wrapper\">\\n        </div>\\n    </div>\\n    <div class=\"c-tips-container\" id=\"c-tips-container\"></div>\\n    \\n    <script>\\n        window.__async_strategy=2;\\n    </script>\\n    \\n    \\n<script>\\nvar bds={\\n    se:{},\\n    su:{\\n        urdata:[],\\n                urSendClick:function(){}\\n    },\\n    util:{},\\n    use:{},\\n    comm : {\\n        domain:\"http://www.baidu.com\",\\n        ubsurl : \"http://sclick.baidu.com/w.gif\",\\n        tn:\"baidu\",\\n        queryEnc:\"\",\\n        queryId:\"\",\\n        inter:\"\",\\n        templateName:\"\",\\n        sugHost : \"http://suggestion.baidu.com/su\",\\n        query : \"\",\\n        dpquery: \"\",\\n        qid : \"d2d572590002c6d4\",\\n        cid : \"0\",\\n        sid : \"30747_1458_21114_30841_30824_26350_22160\",\\n        indexSid : \"30747_1458_21114_30841_30824_26350_22160\",\\n        sampleval : [],\\n        stoken : \"\",\\n        serverTime : \"1582600806\",\\n        user : \"\",\\n        username : \"\",\\n        userid : \"\",\\n        isUserLogin : \"0\",\\n        loginAction : [],\\n        useFavo : \"\",\\n        pinyin : \"\",\\n        favoOn : \"\",\\n        cookie : {\"delPer\":\"0\",\"H_PS_PSSID\":\"30747_1458_21114_30841_30824_26350_22160\",\"BAIDUID\":\"E06437B5711A652DCDCE9EB31ED2C144:FG=1\",\"BIDUPSID\":\"E06437B5711A652DCDCE9EB31ED2C144\",\"PSTM\":\"1572864809\",\"BDSVRTM\":\"0\",\"BD_HOME\":\"0\"},\\n        userAgent : \"Mozilla/5.0 (Windows; U; zh-CN) AppleWebKit/533.19.4 (KHTML, like Gecko) AdobeAIR/27.0\",\\n                curResultNum:\"0\",\\n        rightResultExist:false,\\n        protectNum:0,\\n        zxlNum:0,\\n        pageNum:1,\\n        pageSize:10,\\n        newindex:0,\\n        async:2,\\n        maxPreloadThread:5,\\n        maxPreloadTimes:10,\\n        preloadMouseMoveDistance:5,\\n        switchAddMask:false,\\n        isDebug:false,\\n        ishome : 1,\\n        flagTranslateResult:0,\\n        globalLogFlag:0\\n\\t,encTn:\\'c91263B1BR0ICl60zgJ99X4FiF3YDOfO5NN+pg841cJJ1BW1OzsOTCg7eEI\\'    }\\n};\\n\\n\\n\\n    \\n\\n\\nvar name,navigate,al_arr=[];\\nvar selfOpen = window.open;eval(\"var open = selfOpen;\");\\nvar isIE=navigator.userAgent.indexOf(\"MSIE\")!=-1&&!window.opera;\\nvar E = bds.ecom= {};\\n\\nbds.se.mon = {\\'loadedItems\\':[],\\'load\\':function(){},\\'srvt\\':-1};\\n\\ntry {\\n    bds.se.mon.srvt = parseInt(document.cookie.match(new RegExp(\"(^| )BDSVRTM=([^;]*)(;|$)\"))[2]);\\n    document.cookie=\"BDSVRTM=;expires=Sat, 01 Jan 2000 00:00:00 GMT\";\\n}catch(e){}\\nvar\\nbdUser        = bds.comm.user?bds.comm.user:null,\\nbdQuery       = bds.comm.query,\\nbdUseFavo     = bds.comm.useFavo,\\nbdFavoOn      = bds.comm.favoOn,\\nbdCid         = bds.comm.cid,\\nbdSid         = bds.comm.sid,\\nbdServerTime  = bds.comm.serverTime,\\nbdQid         = bds.comm.queryId,\\nbdstoken      = bds.comm.stoken,\\nlogin_success = [];\\n\\n\\n</script>\\n<script>\\nbds.util.domain = (function(){\\n        \\t\\t\\t\\t\\t\\t\\t\\t\\t\\t\\t\\t\\t\\t\\t\\t\\t\\t\\t\\t\\t            \\t\\t\\t\\t\\t\\t\\t\\t\\t\\t\\t\\t\\t\\t\\t\\t\\t\\t\\t\\t\\t\\t\\tvar list = {\\n        \"graph.baidu.com\": \"http://graph.baidu.com\",\\n\\t\\t\"p.qiao.baidu.com\":\"http://p.qiao.baidu.com\",\\n\\t\\t\"vse.baidu.com\":\"http://vse.baidu.com\",\\n\\t\\t\"hdpreload.baidu.com\":\"http://hdpreload.baidu.com\",\\n\\t\\t\"lcr.open.baidu.com\":\"http://lcr.open.baidu.com\",\\n\\t\\t\"kankan.baidu.com\":\"http://kankan.baidu.com\",\\n\\t\\t\"xapp.baidu.com\":\"http://xapp.baidu.com\",\\n\\t\\t\"dr.dh.baidu.com\":\"http://dr.dh.baidu.com\",\\n\\t\\t\"xiaodu.baidu.com\":\"http://xiaodu.baidu.com\",\\n\\t\\t\"sensearch.baidu.com\":\"http://sensearch.baidu.com\",\\n\\t\\t\"s1.bdstatic.com\":\"http://s1.bdstatic.com\",\\n\\t\\t\"olime.baidu.com\":\"http://olime.baidu.com\",\\n\\t\\t\"app.baidu.com\":\"http://app.baidu.com\",\\n\\t\\t\"i.baidu.com\":\"http://i.baidu.com\",\\n\\t\\t\"c.baidu.com\":\"http://c.baidu.com\",\\n\\t\\t\"sclick.baidu.com\":\"http://sclick.baidu.com\",\\n\\t\\t\"nsclick.baidu.com\":\"http://nsclick.baidu.com\",\\n\\t\\t\"sestat.baidu.com\":\"http://sestat.baidu.com\",\\n\\t\\t\"eclick.baidu.com\":\"http://eclick.baidu.com\",\\n\\t\\t\"api.map.baidu.com\":\"http://api.map.baidu.com\",\\n\\t\\t\"ecma.bdimg.com\":\"http://ecma.bdimg.com\",\\n\\t\\t\"ecmb.bdimg.com\":\"http://ecmb.bdimg.com\",\\n        \"t1.baidu.com\":\"http://t1.baidu.com\",\\n        \"t2.baidu.com\":\"http://t2.baidu.com\",\\n        \"t3.baidu.com\":\"http://t3.baidu.com\",\\n\\t\\t\"t10.baidu.com\":\"http://t10.baidu.com\",\\n\\t\\t\"t11.baidu.com\":\"http://t11.baidu.com\",\\n\\t\\t\"t12.baidu.com\":\"http://t12.baidu.com\",\\n\\t\\t\"i7.baidu.com\":\"http://i7.baidu.com\",\\n\\t\\t\"i8.baidu.com\":\"http://i8.baidu.com\",\\n\\t\\t\"i9.baidu.com\":\"http://i9.baidu.com\",\\n\\t\\t\"b1.bdstatic.com\":\"http://b1.bdstatic.com\",\\n\\t\\t\"ss.bdimg.com\":\"http://ss.bdimg.com\",\\n\\t\\t\"opendata.baidu.com\":\"http://opendata.baidu.com\",\\n\\t\\t\"api.open.baidu.com\":\"http://api.open.baidu.com\",\\n\\t\\t\"tag.baidu.com\":\"http://tag.baidu.com\",\\n\\t\\t\"f3.baidu.com\":\"http://f3.baidu.com\",\\n\\t\\t\"s.share.baidu.com\":\"http://s.share.baidu.com\",\\t\\n\\t\\t\"bdimg.share.baidu.com\":\"http://bdimg.share.baidu.com\",\\n        \"1.su.bdimg.com\":\"http://1.su.bdimg.com\",\\n        \"2.su.bdimg.com\":\"http://2.su.bdimg.com\",\\n        \"3.su.bdimg.com\":\"http://3.su.bdimg.com\",\\n        \"4.su.bdimg.com\":\"http://4.su.bdimg.com\",\\n        \"5.su.bdimg.com\":\"http://5.su.bdimg.com\",\\n        \"6.su.bdimg.com\":\"http://6.su.bdimg.com\",\\n        \"7.su.bdimg.com\":\"http://7.su.bdimg.com\",\\n        \"8.su.bdimg.com\":\"http://8.su.bdimg.com\"\\n\\t};\\n\\r\\n\\n    var get = function(url) {\\n        if(location.protocol === \"http\") {\\n            return url;\\n        }\\n        var reg = /^(http[s]?:\\\\/\\\\/)?([^\\\\/]+)(.*)/,\\n        matches = url.match(reg);\\n        url = list.hasOwnProperty(matches[2])&&(list[matches[2]] + matches[3]) || url;\\n        return url;\\n    },\\n    set = function(kdomain,vdomain) {\\n        list[kdomain] = vdomain;\\n    };\\n    return {\\n        get : get,\\n        set : set\\n    }\\n})();\\n</script>\\n<script>\\nif(!location.hash.match(/[^a-zA-Z0-9]wd=/)){\\n    document.getElementById(\"wrapper\").style.display=\\'block\\';\\n    setTimeout(function(){\\n        try{\\n            var kw=document.getElementById(\"kw\");\\n            kw.focus();\\n\\t\\t\\tkw.parentNode.className=\"bg s_ipt_wr iptfocus quickdelete-wrap\";\\n        }catch(e){}\\n    },0);\\n}\\n\\n</script>\\n<script type=\"text/javascript\" src=\"http://s1.bdstatic.com/r/www/cache/static/jquery/jquery-1.10.2.min_65682a2.js\"></script>\\n\\n\\n\\n\\n<script>\\n(function(){\\n\\n    var result_common_css=\"<style data-for=\\\\\"result\\\\\" id=\\\\\"css_result\\\\\" type=\\\\\"text\\\\/css\\\\\">body{color:#333;background:#fff;padding:6px 0 0;margin:0;position:relative;min-width:900px}body,th,td,.p1,.p2{font-family:arial}p,form,ol,ul,li,dl,dt,dd,h3{margin:0;padding:0;list-style:none}input{padding-top:0;padding-bottom:0;-moz-box-sizing:border-box;-webkit-box-sizing:border-box;box-sizing:border-box}table,img{border:0}td{font-size:9pt;line-height:18px}em{font-style:normal;color:#c00}a em{text-decoration:underline}cite{font-style:normal;color:green}.m,a.m{color:#666}a.m:visited{color:#606}.g,a.g{color:green}.c{color:#77c}.f14{font-size:14px}.f10{font-size:10.5pt}.f16{font-size:16px}.f13{font-size:13px}.bg{background-image:url(http:\\\\/\\\\/s1.bdstatic.com\\\\/r\\\\/www\\\\/cache\\\\/static\\\\/global\\\\/img\\\\/icons_441e82f.png);_background-image:url(http:\\\\/\\\\/s1.bdstatic.com\\\\/r\\\\/www\\\\/cache\\\\/static\\\\/global\\\\/img\\\\/icons_d5b04cc.gif);background-repeat:no-repeat}#u,#head,#tool,#search,#foot{font-size:12px}.logo{width:117px;height:38px;cursor:pointer}.p1{line-height:120%;margin-left:-12pt}.p2{width:100%;line-height:120%;margin-left:-12pt}#wrapper{_zoom:1}#container{word-break:break-all;word-wrap:break-word;position:relative}.container_s{width:1002px}.container_l{width:1222px}#content_left{width:636px;float:left;padding-left:35px}#content_right{border-left:1px solid #e1e1e1;float:right}.container_s #content_right{width:271px}.container_l #content_right{width:434px}.content_none{padding-left:35px}#u{color:#999;white-space:nowrap;position:absolute;right:10px;top:4px;z-index:299}#u a{color:#00c;margin:0 5px}#u .reg{margin:0}#u .last{margin-right:0}#u .un{font-weight:700;margin-right:5px}#u ul{width:100%;background:#fff;border:1px solid #9b9b9b}#u li{height:25px}#u li a{width:100%;height:25px;line-height:25px;display:block;text-align:left;text-decoration:none;text-indent:6px;margin:0;filter:none\\\\\\\\9}#u li a:hover{background:#ebebeb}#u li.nl{border-top:1px solid #ebebeb}#user{display:inline-block}#user_center{position:relative;display:inline-block}#user_center .user_center_btn{margin-right:5px}.userMenu{width:64px;position:absolute;right:7px;_right:2px;top:15px;top:14px\\\\\\\\9;*top:15px;padding-top:4px;display:none;*background:#fff}#head{padding-left:35px;margin-bottom:20px;width:900px}.fm{clear:both;position:relative;z-index:297}.nv a,.nv b,.btn,#page,#more{font-size:14px}.s_nav{height:45px}.s_nav .s_logo{margin-right:20px;float:left}.s_nav .s_logo img{border:0;display:block}.s_tab{line-height:18px;padding:20px 0 0;float:left}.s_nav a{color:#00c;font-size:14px}.s_nav b{font-size:14px}.s_ipt_wr{width:536px;height:30px;display:inline-block;margin-right:5px;background-position:0 -96px;border:1px solid #b6b6b6;border-color:#7b7b7b #b6b6b6 #b6b6b6 #7b7b7b;vertical-align:top}.s_ipt{width:523px;height:22px;font:16px\\\\/18px arial;line-height:22px;margin:5px 0 0 7px;padding:0;background:#fff;border:0;outline:0;-webkit-appearance:none}.s_btn{width:95px;height:32px;padding-top:2px\\\\\\\\9;font-size:14px;padding:0;background-color:#ddd;background-position:0 -48px;border:0;cursor:pointer}.s_btn_h{background-position:-240px -48px}.s_btn_wr{width:97px;height:34px;display:inline-block;background-position:-120px -48px;*position:relative;z-index:0;vertical-align:top}.yy_fm .s_ipt_wr,.yy_fm .s_ipt_wr.iptfocus,.yy_fm .s_ipt_wr:hover,.yy_fm .s_ipt_wr.ipthover{border-color:#e10602 transparent #e10602 #e10602;animation:yy-ipt .2s;-moz-animation:yy-ipt .2s;-webkit-animation:yy-ipt .2s;-o-animation:yy-ipt .2s}.yy_fm .s_btn{background-color:#e10602;border-bottom:1px solid #c30602;animation:yunying .2s;-moz-animation:yunying .2s;-webkit-animation:yunying .2s;-o-animation:yunying .2s}.yy_fm_blue .s_ipt_wr,.yy_fm_blue .s_ipt_wr.iptfocus,.yy_fm_blue .s_ipt_wr:hover,.yy_fm_blue .s_ipt_wr.ipthover{animation:yy-ipt-blue .2s;border-color:#4791ff transparent #4791ff #4791ff}.yy_fm_blue .s_btn{animation:yunying-blue .2s;background-color:#3385ff;border-bottom:1px solid #2d78f4}@keyframes yy-ipt{0%{border-color:#4791ff transparent #4791ff #4791ff}100%{border-color:#e10602 transparent #e10602 #e10602}}@-moz-keyframes yy-ipt{0%{border-color:#4791ff transparent #4791ff #4791ff}100%{border-color:#e10602 transparent #e10602 #e10602}}@-webkit-keyframes yy-ipt{0%{border-color:#4791ff transparent #4791ff #4791ff}100%{border-color:#e10602 transparent #e10602 #e10602}}@-o-keyframes yy-ipt{0%{border-color:#4791ff transparent #4791ff #4791ff}100%{border-color:#e10602 transparent #e10602 #e10602}}@keyframes yy-ipt-blue{0%{border-color:#e10602 transparent #e10602 #e10602}100%{border-color:#4791ff transparent #4791ff #4791ff}}@-moz-keyframes yy-ipt-blue{0%{border-color:#e10602 transparent #e10602 #e10602}100%{border-color:#4791ff transparent #4791ff #4791ff}}@-webkit-keyframes yy-ipt-blue{0%{border-color:#e10602 transparent #e10602 #e10602}100%{border-color:#4791ff transparent #4791ff #4791ff}}@-o-keyframes yy-ipt-blue{0%{border-color:#e10602 transparent #e10602 #e10602}100%{border-color:#4791ff transparent #4791ff #4791ff}}@keyframes yunying{0%{background-color:#3385ff;border-bottom:1px solid #2d78f4}100%{background-color:#e10602;border-bottom:1px solid #c30602}}@-moz-keyframes yunying{0%{background-color:#3385ff;border-bottom:1px solid #2d78f4}100%{background-color:#e10602;border-bottom:1px solid #c30602}}@-webkit-keyframes yunying{0%{background-color:#3385ff;border-bottom:1px solid #2d78f4}100%{background-color:#e10602;border-bottom:1px solid #c30602}}@-o-keyframes yunying{0%{background-color:#3385ff;border-bottom:1px solid #2d78f4}100%{background-color:#e10602;border-bottom:1px solid #c30602}}@keyframes yunying-blue{0%{background-color:#e10602;border-bottom:1px solid #c30602}100%{background-color:#3385ff;border-bottom:1px solid #2d78f4}}@-moz-keyframes yunying-blue{0%{background-color:#e10602;border-bottom:1px solid #c30602}100%{background-color:#3385ff;border-bottom:1px solid #2d78f4}}@-webkit-keyframes yunying-blue{0%{background-color:#e10602;border-bottom:1px solid #c30602}100%{background-color:#3385ff;border-bottom:1px solid #2d78f4}}@-o-keyframes yunying-blue{0%{background-color:#e10602;border-bottom:1px solid #c30602}100%{background-color:#3385ff;border-bottom:1px solid #2d78f4}}.sethf{padding:0;margin:0;font-size:14px}.set_h{display:none;behavior:url(#default#homepage)}.set_f{display:none}.shouji{margin-left:19px}.shouji a{text-decoration:none}#head .bdsug{top:33px}#search form{position:relative}#search form .bdsug{bottom:33px}.bdsug{display:none;position:absolute;z-index:1;width:538px;background:#fff;border:1px solid #ccc;_overflow:hidden;box-shadow:1px 1px 3px #ededed;-webkit-box-shadow:1px 1px 3px #ededed;-moz-box-shadow:1px 1px 3px #ededed;-o-box-shadow:1px 1px 3px #ededed}.bdsug.bdsugbg ul{background:url(http:\\\\/\\\\/s1.bdstatic.com\\\\/r\\\\/www\\\\/cache\\\\/static\\\\/home\\\\/img\\\\/sugbg_1762fe7.png) 100% 100% no-repeat;background-size:100px 110px;background-image:url(http:\\\\/\\\\/s1.bdstatic.com\\\\/r\\\\/www\\\\/cache\\\\/static\\\\/home\\\\/img\\\\/sugbg_90fc9cf.gif)\\\\\\\\9}.bdsug li{width:522px;color:#000;font:14px arial;line-height:22px;padding:0 8px;position:relative;cursor:default}.bdsug li.bdsug-s{background:#f0f0f0}.bdsug-store span,.bdsug-store b{color:#7A77C8}.bdsug-store-del{font-size:12px;color:#666;text-decoration:underline;position:absolute;right:8px;top:0;cursor:pointer;display:none}.bdsug-s .bdsug-store-del{display:inline-block}.bdsug-ala{display:inline-block;border-bottom:1px solid #e6e6e6}.bdsug-ala h3{line-height:14px;background:url(\\\\/\\\\/www.baidu.com\\\\/img\\\\/sug_bd.png) no-repeat left center;margin:8px 0 5px;font-size:12px;font-weight:400;color:#7B7B7B;padding-left:20px}.bdsug-ala p{font-size:14px;font-weight:700;padding-left:20px}.bdsug .bdsug-direct{width:auto;padding:0;border-bottom:1px solid #f1f1f1}.bdsug .bdsug-direct p{color:#00c;font-weight:700;line-height:34px;padding:0 8px;cursor:pointer;white-space:nowrap;overflow:hidden}.bdsug .bdsug-direct p img{width:16px;height:16px;margin:7px 6px 9px 0;vertical-align:middle}.bdsug .bdsug-direct p span{margin-left:8px}.bdsug .bdsug-direct p i{font-size:12px;line-height:100%;font-style:normal;font-weight:400;color:#fff;background-color:#2b99ff;display:inline;text-align:center;padding:1px 5px;*padding:2px 5px 0;margin-left:8px;overflow:hidden}.bdsug .bdsug-pcDirect{color:#000;font-size:14px;line-height:30px;height:30px;background-color:#f8f8f8}.bdsug .bdsug-pc-direct-tip{position:absolute;right:15px;top:8px;width:55px;height:15px;display:block;background:url(http:\\\\/\\\\/s1.bdstatic.com\\\\/r\\\\/www\\\\/cache\\\\/static\\\\/global\\\\/img\\\\/pc_direct_42d6311.png) no-repeat 0 0}.bdsug li.bdsug-pcDirect-s{background-color:#f0f0f0}.bdsug .bdsug-pcDirect-is{color:#000;font-size:14px;line-height:22px;background-color:#f8f8f8}.bdsug .bdsug-pc-direct-tip-is{position:absolute;right:15px;top:3px;width:55px;height:15px;display:block;background:url(http:\\\\/\\\\/s1.bdstatic.com\\\\/r\\\\/www\\\\/cache\\\\/static\\\\/global\\\\/img\\\\/pc_direct_42d6311.png) no-repeat 0 0}.bdsug li.bdsug-pcDirect-is-s{background-color:#f0f0f0}.bdsug .bdsug-pcDirect-s .bdsug-pc-direct-tip,.bdsug .bdsug-pcDirect-is-s .bdsug-pc-direct-tip-is{background-position:0 -15px}.bdsug .bdsug-newicon{color:#929292;opacity:.7;font-size:12px;display:inline-block;line-height:22px;letter-spacing:2px}.bdsug .bdsug-s .bdsug-newicon{opacity:1}.bdsug .bdsug-newicon i{letter-spacing:0;font-style:normal}.bdsug .bdsug-feedback-wrap{text-align:right;background:#fafafa;color:#666;height:25px;line-height:27px}.bdsug .bdsug-feedback{margin-right:10px;text-decoration:underline;color:#666}.toggle-underline{text-decoration:none}.toggle-underline:hover{text-decoration:underline}#tb_mr{color:#00c;cursor:pointer;position:relative;z-index:298}#tb_mr b{font-weight:400;text-decoration:underline}#tb_mr small{font-size:11px}#page{font:14px arial;white-space:nowrap;padding-left:35px}#page a,#page strong{display:inline-block;vertical-align:text-bottom;height:66px;text-align:center;line-height:34px;text-decoration:none;overflow:hidden;margin-right:9px;background:#fff}#page a{cursor:pointer}#page a:hover{background:0 0}#page .n:hover,#page a:hover .pc{background:#f2f8ff;border:1px solid #38f}#page .n{height:34px;padding:0 18px;border:1px solid #e1e2e3}#page span{display:block}#page .pc{width:34px;height:34px;border:1px solid #e1e2e3;cursor:pointer}#page .fk{width:24px;height:24px;margin-bottom:6px;margin-left:6px;cursor:pointer}#page strong .fk,#page strong .pc{cursor:auto}#page .fk .c-icon-bear-pn{top:-3px;position:relative}#page .fkd .c-icon-bear-pn{top:3px;position:relative}#page .fk_cur .c-icon-bear-p{top:-2px;position:relative}#page strong .pc{border:0;width:36px;height:36px;line-height:36px}#page .nums{display:inline-block;vertical-align:text-bottom;height:36px;line-height:36px;margin-left:10px}#rs{width:900px;background:#fff;padding:8px 0;margin:20px 0 0 15px}#rs td{width:5%}#rs th{font-size:14px;font-weight:400;line-height:19px;white-space:nowrap;text-align:left;vertical-align:top}#rs .tt{font-weight:700;padding:0 10px 0 20px}#rs_top{font-size:14px;margin-bottom:22px}#rs_top a{margin-right:18px}#container .rs{margin:30px 0 20px;padding:5px 0 15px;font-size:14px;width:540px;padding-left:121px;position:relative;background-color:#fafafa}#container .noback{background-color:#fff}#content_left .rs{margin-left:-121px}#container .rs table{width:540px}#container .rs td{width:5px}#container .rs th{font-size:14px;font-weight:400;white-space:nowrap;text-align:left;vertical-align:top;width:175px;line-height:22px}#container .rs .tt{font-weight:700;padding:0 10px 0 20px;padding:0;line-height:30px;font-size:16px}#container .rs a{margin:0;height:24px;width:173px;display:inline-block;line-height:25px;border:1px solid #ebebeb;text-align:center;vertical-align:middle;overflow:hidden;outline:0;color:#333;background-color:#fff;text-decoration:none}#container .rs a:hover{border-color:#388bff}.c-tip-con .c-tip-menu-b ul{width:100px}.c-tip-con .c-tip-menu-b ul{text-align:center}.c-tip-con .c-tip-menu-b li a{display:block;text-decoration:none;cursor:pointer;background-color:#fff;padding:3px 0;color:#666}.c-tip-con .c-tip-menu-b li a:hover{display:block;background-color:#ebebeb}#search{width:900px;padding:35px 0 16px 35px}#search .s_help{position:relative;top:10px}#foot{height:20px;line-height:20px;color:#77c;background:#e6e6e6;text-align:center}#foot span{color:#666}.site_tip{font-size:12px;margin-bottom:20px}.site_tip_icon{width:56px;height:56px;background:url(\\\\/\\\\/www.baidu.com\\\\/aladdin\\\\/img\\\\/tools\\\\/tools-3.png) -288px 0 no-repeat}.to_zhidao,.to_tieba,.to_zhidao_bottom{font-size:16px;line-height:24px;margin:20px 0 0 35px}.to_tieba .c-icon-tieba{float:left}.f{line-height:115%;*line-height:120%;font-size:100%;width:33.7em;word-break:break-all;word-wrap:break-word}.h{margin-left:8px;width:100%}.r{word-break:break-all;cursor:hand;width:238px}.t{font-weight:400;font-size:medium;margin-bottom:1px}.pl{padding-left:3px;height:8px;padding-right:2px;font-size:14px}.mo,a.mo:link,a.mo:visited{color:#666;font-size:100%;line-height:10px}.htb{margin-bottom:5px}.jc a{color:#c00}a font[size=\\\\\"3\\\\\"] font,font[size=\\\\\"3\\\\\"] a font{text-decoration:underline}div.blog,div.bbs{color:#707070;padding-top:2px;font-size:13px}.result{width:33.7em;table-layout:fixed}.result-op .f{word-wrap:normal}.nums{font-size:12px;color:#999}.tools{position:absolute;top:10px;white-space:nowrap}#mHolder{width:62px;position:relative;z-index:296;top:-18px;margin-left:9px;margin-right:-12px;display:none}#mCon{height:18px;position:absolute;top:3px;top:6px\\\\\\\\9;cursor:pointer;line-height:18px}.wrapper_l #mCon{right:7px}#mCon span{color:#00c;display:block}#mCon .hw{text-decoration:underline;cursor:pointer;display:inline-block}#mCon .pinyin{display:inline-block}#mCon .c-icon-chevron-unfold2{margin-left:5px}#mMenu{width:56px;border:1px solid #9b9b9b;position:absolute;right:7px;top:23px;display:none;background:#fff}#mMenu a{width:100%;height:100%;color:#00c;display:block;line-height:22px;text-indent:6px;text-decoration:none;filter:none\\\\\\\\9}#mMenu a:hover{background:#ebebeb}#mMenu .ln{height:1px;background:#ebebeb;overflow:hidden;font-size:1px;line-height:1px;margin-top:-1px}.op_LAMP{background:url(\\\\/\\\\/www.baidu.com\\\\/cache\\\\/global\\\\/img\\\\/aladdinIcon-1.0.gif) no-repeat 0 2px;color:#77C;display:inline-block;font-size:13px;height:12px;*height:14px;width:16px;text-decoration:none;zoom:1}.EC_mr15{margin-left:0}.pd15{padding-left:0}.map_1{width:30em;font-size:80%;line-height:145%}.map_2{width:25em;font-size:80%;line-height:145%}.favurl{background-repeat:no-repeat;background-position:0 1px;padding-left:20px}.dan_tip{font-size:12px;margin-top:4px}.dan_tip a{color:#b95b07}#more,#u ul,#mMenu,.msg_holder{box-shadow:1px 1px 2px #ccc;-moz-box-shadow:1px 1px 2px #ccc;-webkit-box-shadow:1px 1px 2px #ccc;filter:progid:DXImageTransform.Microsoft.Shadow(Strength=2, Direction=135, Color=#cccccc)\\\\\\\\9}.hit_top{line-height:18px;margin:0 15px 10px 0;width:516px}.hit_top .c-icon-bear{height:18px;margin-right:4px}#rs_top_new,.hit_top_new{width:538px;font-size:13px;line-height:1.54;word-wrap:break-word;word-break:break-all;margin:0 0 14px}.zhannei-si{margin:0 0 10px 121px}.zhannei-si-none{margin:10px 0 -10px 121px}.zhannei-search{margin:10px 0 0 121px;color:#999;font-size:14px}.f a font[size=\\\\\"3\\\\\"] font,.f font[size=\\\\\"-1\\\\\"] a font{text-decoration:underline}h3 a font{text-decoration:underline}.c-title{font-weight:400;font-size:16px}.c-title-size{font-size:16px}.c-abstract{font-size:13px}.c-abstract-size{font-size:13px}.c-showurl{color:green;font-size:13px}.c-showurl-color{color:green}.c-cache-color{color:#666}.c-lightblue{color:#77c}.c-highlight-color{color:#c00}.c-clearfix:after{content:\\\\\".\\\\\";display:block;height:0;clear:both;visibility:hidden}.c-clearfix{zoom:1}.c-wrap{word-break:break-all;word-wrap:break-word}.c-icons-outer{overflow:hidden;display:inline-block;vertical-align:bottom;*vertical-align:-1px;_vertical-align:bottom}.c-icons-inner{margin-left:-4px;display:inline-block}.c-container table.result,.c-container table.result-op{width:100%}.c-container td.f{font-size:13px;line-height:1.54;width:auto}.c-container .vd_newest_main{width:auto}.c-customicon{display:inline-block;width:16px;height:16px;vertical-align:text-bottom;font-style:normal;overflow:hidden}.c-tip-icon i{display:inline-block;cursor:pointer}.c-tip-con{position:absolute;z-index:1;top:22px;left:-35px;background:#fff;border:1px solid #dcdcdc;border:1px solid rgba(0,0,0,.2);-webkit-transition:opacity .218s;transition:opacity .218s;-webkit-box-shadow:0 2px 4px rgba(0,0,0,.2);box-shadow:0 2px 4px rgba(0,0,0,.2);padding:5px 0;display:none;font-size:12px;line-height:20px}.c-tip-arrow{width:0;height:0;font-size:0;line-height:0;display:block;position:absolute;top:-16px}.c-tip-arrow-down{top:auto;bottom:0}.c-tip-arrow em,.c-tip-arrow ins{width:0;height:0;font-size:0;line-height:0;display:block;position:absolute;border:8px solid transparent;border-style:dashed dashed solid}.c-tip-arrow em{border-bottom-color:#d8d8d8}.c-tip-arrow ins{border-bottom-color:#fff;top:2px}.c-tip-arrow-down em,.c-tip-arrow-down ins{border-style:solid dashed dashed;border-color:transparent}.c-tip-arrow-down em{border-top-color:#d8d8d8}.c-tip-arrow-down ins{border-top-color:#fff;top:-2px}.c-tip-arrow .c-tip-arrow-r{border-bottom-color:#82c9fa;top:2px}.c-tip-arrow-down .c-tip-arrow-r{border-bottom-color:transparent;top:-2px}.c-tip-arrow .c-tip-arrow-c{border-bottom-color:#fecc47;top:2px}.c-tip-arrow-down .c-tip-arrow-c{border-bottom-color:transparent;top:-2px}.c-tip-con h3{font-size:12px}.c-tip-con .c-tip-title{margin:0 10px;display:inline-block;width:239px}.c-tip-con .c-tip-info{color:#666;margin:0 10px 1px;width:239px}.c-tip-con .c-tip-cer{width:370px;color:#666;margin:0 10px 1px}.c-tip-con .c-tip-title{width:auto;_width:354px}.c-tip-con .c-tip-item-i{padding:3px 0 3px 20px;line-height:14px}.c-tip-con .c-tip-item-i .c-tip-item-icon{margin-left:-20px}.c-tip-con .c-tip-menu ul{width:74px}.c-tip-con .c-tip-menu ul{text-align:center}.c-tip-con .c-tip-menu li a{display:block;text-decoration:none;cursor:pointer;background-color:#fff;padding:3px 0;color:#0000d0}.c-tip-con .c-tip-menu li a:hover{display:block;background-color:#ebebeb}.c-tip-con .c-tip-notice{width:239px;padding:0 10px}.c-tip-con .c-tip-notice .c-tip-notice-succ{color:#4cbd37}.c-tip-con .c-tip-notice .c-tip-notice-fail{color:#f13F40}.c-tip-con .c-tip-notice .c-tip-item-succ{color:#444}.c-tip-con .c-tip-notice .c-tip-item-fail{color:#aaa}.c-tip-con .c-tip-notice .c-tip-item-fail a{color:#aaa}.c-tip-close{right:10px;position:absolute;cursor:pointer}.ecard{height:86px;overflow:hidden}.c-tools{display:inline}.c-tools-share{width:239px;padding:0 10px}.c-fanyi{display:none;width:20px;height:20px;border:solid 1px #d1d1d1;cursor:pointer;position:absolute;margin-left:516px;text-align:center;color:#333;line-height:22px;opacity:.9;background-color:#fff}.c-fanyi:hover{background-color:#39f;color:#fff;border-color:#39f;opacity:1}.c-fanyi-title,.c-fanyi-abstract{display:none}.icp_info{color:#666;margin-top:2px;font-size:13px}.icon-gw,.icon-unsafe-icon{background:#2c99ff;vertical-align:text-bottom;*vertical-align:baseline;height:16px;padding-top:0;padding-bottom:0;padding-left:6px;padding-right:6px;line-height:16px;_padding-top:2px;_height:14px;_line-height:14px;font-size:12px;font-family:simsun;margin-left:10px;overflow:hidden;display:inline-block;-moz-border-radius:1px;-webkit-border-radius:1px;border-radius:1px;color:#fff}a.icon-gw{color:#fff;background:#2196ff;text-decoration:none;cursor:pointer}a.icon-gw:hover{background:#1e87ef}a.icon-gw:active{height:15px;_height:13px;line-height:15px;_line-height:13px;padding-left:5px;background:#1c80d9;border-left:1px solid #145997;border-top:1px solid #145997}.icon-unsafe-icon{background:#e54d4b}#con-at{margin-bottom:9px;padding-left:121px;border-bottom:1px #ebebeb solid}#con-at .result-op{font-size:13px;line-height:1.52em}.wrapper_l #con-at .result-op{width:1058px}.wrapper_s #con-at .result-op{width:869px}#con-ar{margin-bottom:40px}#con-ar .result-op{margin-bottom:28px;font-size:13px;line-height:1.52em}.result_hidden{position:absolute;top:-10000px;left:-10000px}#content_left .result-op,#content_left .result{margin-bottom:14px;border-collapse:collapse}#content_left .c-border .result-op,#content_left .c-border .result{margin-bottom:25px}#content_left .c-border .result-op:last-child,#content_left .c-border .result:last-child{margin-bottom:12px}#content_left .result .f,#content_left .result-op .f{padding:0}.subLink_factory{border-collapse:collapse}.subLink_factory td{padding:0}.subLink_factory td.middle,.subLink_factory td.last{color:#666}.subLink_factory td a{text-decoration:underline}.subLink_factory td.rightTd{text-align:right}.subLink_factory_right{width:100%}.subLink_factory_left td{padding-right:26px}.subLink_factory_left td.last{padding:0}.subLink_factory_left td.first{padding-right:75px}.subLink_factory_right td{width:90px}.subLink_factory_right td.first{width:auto}.subLink_answer{padding-top:4px}.subLink_answer li{margin-bottom:4px}.subLink_answer h4{margin:0;padding:0;font-weight:400}.subLink_answer .label_wrap span{display:inline-block;color:#666;margin-right:8px}.subLink_answer .label_wrap span em{color:#666;padding-left:8px}.subLink_answer span.c-icon{margin-right:4px}.subLink_answer_dis{padding:0 3px}.subLink_answer .date{color:#666}.general_image_pic a{background:#fff no-repeat center center;text-decoration:none;display:block;overflow:hidden;text-align:left}.res_top_banner{height:36px;text-align:left;border-bottom:1px solid #e3e3e3;background:#f7f7f7;font-size:13px;padding-left:8px;color:#333;position:relative;z-index:302}.res_top_banner span{_zoom:1}.res_top_banner .res_top_banner_icon{background-position:0 -216px;width:18px;height:18px;margin:9px 10px 0 0}.res_top_banner .res_top_banner_icon_baiduapp{background:url(http:\\\\/\\\\/s1.bdstatic.com\\\\/r\\\\/www\\\\/cache\\\\/static\\\\/global\\\\/img\\\\/baiduappLogo_de45621.png) no-repeat 0 0;width:24px;height:24px;margin:3px 10px 0 0;position:relative;top:3px}.res_top_banner .res_top_banner_icon_windows{background:url(http:\\\\/\\\\/s1.bdstatic.com\\\\/r\\\\/www\\\\/cache\\\\/static\\\\/global\\\\/img\\\\/winlogo_e925689.png) no-repeat 0 0;width:18px;height:18px;margin:9px 10px 0 0}.res_top_banner .res_top_banner_download{display:inline-block;width:65px;line-height:21px;_padding-top:1px;margin:0 0 0 10px;color:#333;background:#fbfbfb;border:1px solid #b4b6b8;text-align:center;text-decoration:none}.res_top_banner .res_top_banner_download:hover{border:1px solid #38f}.res_top_banner .res_top_banner_download:active{background:#f0f0f0;border:1px solid #b4b6b8}.res_top_banner .res_top_banner_close{background-position:-672px -144px;cursor:pointer;position:absolute;right:10px;top:10px}.res_top_banner_for_win{height:34px;text-align:left;border-bottom:1px solid #f0f0f0;background:#fdfdfd;font-size:13px;padding-left:12px;color:#333;position:relative;z-index:302}.res_top_banner_for_win span{_zoom:1;color:#666}.res_top_banner_for_win .res_top_banner_download{display:inline-block;width:auto;line-height:21px;_padding-top:1px;margin:0 0 0 16px;color:#333;text-align:left;text-decoration:underline}.res_top_banner_for_win .res_top_banner_icon_windows{background:url(http:\\\\/\\\\/s1.bdstatic.com\\\\/r\\\\/www\\\\/cache\\\\/static\\\\/global\\\\/img\\\\/winlogo_e925689.png) no-repeat 0 0;width:18px;height:18px;margin:8px 8px 0 0}.res_top_banner_for_win .res_top_banner_close{background-position:-672px -144px;cursor:pointer;position:absolute;right:10px;top:10px}.res-gap-right16{margin-right:16px}.res-border-top{border-top:1px solid #f3f3f3}.res-border-bottom{border-bottom:1px solid #f3f3f3}.res-queryext-pos{position:relative;top:1px;_top:0}.c-trust-ecard{height:86px;_height:97px;overflow:hidden}@-moz-document url-prefix(){.result,.f{width:538px}}body{min-width:1000px}#ftCon{display:none}#qrcode{display:none}#pad-version{display:none}#index_guide{display:none}#index_logo{display:none}#u1{display:none}.s_ipt_wr{height:32px}body{padding:0}.s_form:after,.s_tab:after{content:\\\\\".\\\\\";display:block;height:0;clear:both;visibility:hidden}.s_form{zoom:1;height:55px;padding:0 0 0 10px}#result_logo{float:left;margin:7px 0 0}#result_logo img{width:101px;height:33px}#head{padding:0;margin:0;width:100%;position:absolute;z-index:301;min-width:1000px;background:#fff;border-bottom:1px solid #ebebeb;position:fixed;_position:absolute;-webkit-transform:translateZ(0)}#head .head_wrapper{_width:1000px}#head.s_down{box-shadow:0 0 5px #888}.fm{clear:none;float:left;margin:11px 0 0 10px}#s_tab{background:#f8f8f8;line-height:36px;height:38px;padding:55px 0 0 121px;float:none;zoom:1}#s_tab a,#s_tab b{width:54px;display:inline-block;text-decoration:none;text-align:center;color:#666;font-size:14px}#s_tab b{border-bottom:2px solid #38f;font-weight:700;color:#323232}#s_tab a:hover{color:#323232}#content_left{width:540px;padding-left:121px;padding-top:5px}#content_right{margin-top:45px}#content_bottom{width:540px;padding-left:121px}#page{padding:0 0 0 121px;margin:30px 0 40px}.to_tieba,.to_zhidao_bottom{margin:10px 0 0 121px;padding-top:5px}.nums{margin:0 0 0 121px;height:42px;line-height:42px}#rs{padding:0;margin:6px 0 0 121px;width:600px}#rs th{width:175px;line-height:22px}#rs .tt{padding:0;line-height:30px}#rs td{width:5px}#rs table{width:540px}#help{background:#f5f6f5;zoom:1;padding:0 0 0 50px;float:right}#help a{color:#777;padding:0 15px;text-decoration:none}#help a:hover{color:#333}#foot{background:#f5f6f5;border-top:1px solid #ebebeb;text-align:left;height:42px;line-height:42px;margin-top:40px;*margin-top:0}#foot .foot_c{float:left;padding:0 0 0 121px}.content_none{padding:45px 0 25px 121px}.nors p{font-size:18px;font-family:microsoft yahei;color:#000}.nors p em{color:#c00}.nors .tip_head{color:#666;font-size:13px;line-height:28px}.nors li{color:#333;line-height:28px;font-size:13px;font-family:\\'\\\\u5b8b\\\\u4f53\\';padding-left:30px;list-style-position:inside;list-style-type:disc}#mCon{top:5px}.s_ipt_wr.bg,.s_btn_wr.bg,#su.bg{background-image:none}.s_ipt_wr.bg{background:0 0}.s_btn_wr{width:auto;height:auto;border-bottom:1px solid transparent;*border-bottom:0}.s_btn{width:100px;height:34px;color:#fff;letter-spacing:1px;background:#3385ff;border-bottom:1px solid #2d78f4;outline:medium;*border-bottom:0;-webkit-appearance:none;-webkit-border-radius:0}.s_btn.btnhover{background:#317ef3;border-bottom:1px solid #2868c8;*border-bottom:0;box-shadow:1px 1px 1px #ccc}.s_btn_h{background:#3075dc;box-shadow:inset 1px 1px 3px #2964bb;-webkit-box-shadow:inset 1px 1px 3px #2964bb;-moz-box-shadow:inset 1px 1px 3px #2964bb;-o-box-shadow:inset 1px 1px 3px #2964bb}.yy_fm .s_btn.btnhover{background:#D10400;border-bottom:1px solid #D10400}.yy_fm .s_btn_h{background:#C00400;box-shadow:inset 1px 1px 3px #A00300;-webkit-box-shadow:inset 1px 1px 3px #A00300}#wrapper_wrapper .container_l .EC_ppim_top,#wrapper_wrapper .container_xl .EC_ppim_top{width:640px}#wrapper_wrapper .container_s .EC_ppim_top{width:570px}#head .c-icon-bear-round{display:none}.container_l #content_right{width:384px}.container_l{width:1212px}.container_xl #content_right{width:384px}.container_xl{width:1257px}.index_tab_top{display:none}.index_tab_bottom{display:none}#lg{display:none}#m{display:none}#ftCon{display:none}#ent_sug{position:absolute;margin:141px 0 0 130px;font-size:13px;color:#666}.foot_fixed_bottom{position:fixed;bottom:0;width:100%;_position:absolute;_bottom:auto}#head .headBlock{margin:-5px 0 6px 121px}#content_left .leftBlock{margin-bottom:14px;padding-bottom:5px;border-bottom:1px solid #f3f3f3}.hint_toprq_tips{position:relative;width:537px;height:19px;line-height:19px;overflow:hidden;display:none}.hint_toprq_tips span{color:#666}.hint_toprq_icon{margin:0 4px 0 0}.hint_toprq_tips_items{width:444px;_width:440px;max-height:38px;position:absolute;left:95px;top:1px}.hint_toprq_tips_items div{display:inline-block;float:left;height:19px;margin-right:18px;white-space:nowrap;word-break:keep-all}.translateContent{max-width:350px}.translateContent .translateTool{height:16px;margin:-3px 2px}.translateContent .action-translate,.translateContent .action-search{display:inline-block;width:20px;height:16px;background:url(http:\\\\/\\\\/s1.bdstatic.com\\\\/r\\\\/www\\\\/cache\\\\/static\\\\/global\\\\/img\\\\/translate_tool_icon_57087b6.gif) no-repeat}.translateContent .action-translate{background-position:0 0;border-right:1px solid #dcdcdc}.translateContent .action-translate:hover{background-position:0 -20px}.translateContent .action-search{background-position:-20px 0}.translateContent .action-search:hover{background-position:-20px -20px}.nums{width:538px}.search_tool{_padding-top:15px}.head_nums_cont_outer{height:40px;overflow:hidden;position:relative}.head_nums_cont_inner{position:relative}.search_tool_conter .c-gap-left{margin-left:23px}.search_tool_conter .c-icon-triangle-down{opacity:.6}.search_tool_conter .c-icon-triangle-down:hover{opacity:1}.search_tool,.search_tool_close{float:right}.search_tool,.search_tool_conter span{cursor:pointer;color:#666}.search_tool:hover,.search_tool_conter span:hover{color:#333}.search_tool_conter{font-size:12px;color:#666;margin:0 0 0 121px;height:42px;width:538px;line-height:42px;*height:auto;*line-height:normal;*padding:14px 0}.search_tool_conter span strong{color:#666}.c-tip-con .c-tip-langfilter ul{width:80px;text-align:left;color:#666}.c-tip-con .c-tip-langfilter li a{text-indent:15px;color:#666}.c-tip-con .c-tip-langfilter li span{text-indent:15px;padding:3px 0;color:#999;display:block}.c-tip-con .c-tip-timerfilter ul{width:115px;text-align:left;color:#666}.c-tip-con .c-tip-timerfilter-ft ul{width:180px}.c-tip-con .c-tip-timerfilter-si ul{width:206px;padding:7px 10px 10px}.c-tip-con .c-tip-timerfilter li a{text-indent:15px;color:#666}.c-tip-con .c-tip-timerfilter li span{text-indent:15px;padding:3px 0;color:#999;display:block}.c-tip-con .c-tip-timerfilter-ft li a,.c-tip-con .c-tip-timerfilter-ft li span{text-indent:20px}.c-tip-custom{padding:0 15px 10px;position:relative;zoom:1}.c-tip-custom hr{border:0;height:0;border-top:1px solid #ebebeb}.c-tip-custom p{color:#b6b6b6;height:25px;line-height:25px;margin:2px 0}.c-tip-custom .c-tip-custom-et{margin-bottom:7px}.c-tip-custom-input,.c-tip-si-input{display:inline-block;font-size:11px;color:#333;margin-left:4px;padding:0 2px;width:74%;height:16px;line-height:16px\\\\\\\\9;border:1px solid #ebebeb;outline:0;box-sizing:content-box;-webkit-box-sizing:content-box;-moz-box-sizing:content-box;overflow:hidden;position:relative}.c-tip-custom-input-init{color:#d4d4d4}.c-tip-custom-input-focus,.c-tip-si-input-focus{border:1px solid #3385ff}.c-tip-timerfilter-si .c-tip-si-input{width:138px;height:22px;line-height:22px;vertical-align:0;*vertical-align:-6px;_vertical-align:-5px;padding:0 5px;margin-left:0}.c-tip-con .c-tip-timerfilter li .c-tip-custom-submit,.c-tip-con .c-tip-timerfilter li .c-tip-timerfilter-si-submit{display:inline;padding:4px 10px;margin:0;color:#333;border:1px solid #d8d8d8;font-family:inherit;font-weight:400;text-align:center;vertical-align:0;background-color:#f9f9f9;outline:0}.c-tip-con .c-tip-timerfilter li .c-tip-custom-submit:hover,.c-tip-con .c-tip-timerfilter li .c-tip-timerfilter-si-submit:hover{display:inline;border-color:#388bff}.c-tip-timerfilter-si-error,.c-tip-timerfilter-custom-error{display:none;color:#3385FF;padding-left:4px}.c-tip-timerfilter-custom-error{padding:0;margin:-5px -13px 7px 0}#c-tip-custom-calenderCont{position:absolute;background:#fff;white-space:nowrap;padding:5px 10px;color:#000;border:1px solid #e4e4e4;-webkit-box-shadow:0 2px 4px rgba(0,0,0,.2);box-shadow:0 2px 4px rgba(0,0,0,.2)}#c-tip-custom-calenderCont p{text-align:center;padding:2px 0 4px;*padding:4px 0}#c-tip-custom-calenderCont p i{color:#8e9977;cursor:pointer;text-decoration:underline;font-size:13px}#c-tip-custom-calenderCont .op_cal{background:#fff}.op_cal table{background:#eeefea;margin:0;border-collapse:separate}.op_btn_pre_month,.op_btn_next_month{cursor:pointer;display:block;margin-top:6px}.op_btn_pre_month{float:left;background-position:0 -46px}.op_btn_next_month{float:right;background-position:-18px -46px}.op_cal .op_mon_pre1{padding:0}.op_mon th{text-align:center;font-size:12px;background:#FFF;font-weight:700;border:1px solid #FFF;padding:0}.op_mon td{text-align:center;cursor:pointer}.op_mon h5{margin:0;padding:0 4px;text-align:center;font-size:14px;background:#FFF;height:28px;line-height:28px;border-bottom:1px solid #f5f5f5;margin-bottom:5px}.op_mon strong{font-weight:700}.op_mon td{padding:0 5px;border:1px solid #fff;font-size:12px;background:#fff;height:100%}.op_mon td.op_mon_pre_month{color:#a4a4a4}.op_mon td.op_mon_cur_month{color:#00c}.op_mon td.op_mon_next_month{color:#a4a4a4}.op_mon td.op_mon_day_hover{color:#000;border:1px solid #278df2}.op_mon td.op_mon_day_selected{color:#FFF;border:1px solid #278df2;background:#278df2}.op_mon td.op_mon_day_disabled{cursor:not-allowed;color:#ddd}.zhannei-si-none,.zhannei-si,.hit_quet,.zhannei-search{display:none}#c-tip-custom-calenderCont .op_mon td.op_mon_cur_month{color:#000}#c-tip-custom-calenderCont .op_mon td.op_mon_day_selected{color:#fff}.c-icon-toen{width:24px;height:24px;line-height:24px;background-color:#1cb7fd;color:#fff;font-size:14px;font-weight:700;font-style:normal;display:block;display:inline-block;float:left;text-align:center}.hint_common_restop{width:538px;color:#999;font-size:12px;text-align:left;margin:5px 0 10px 121px}.hint_common_restop.hint-adrisk-pro{margin-top:4px;margin-bottom:13px}.hint_common_restop .hint-adrisk-title{color:#333;margin-bottom:3px}#con-at~#wrapper_wrapper .hint_common_restop{padding-top:7px}.sitelink{overflow:auto;zoom:1}.sitelink_summary{float:left;width:47%;padding-right:30px}.sitelink_summary a{font-size:1.1em;position:relative}.sitelink_summary_last{padding-right:0}.sitelink_en{overflow:auto;zoom:1}.sitelink_en_summary{float:left;width:47%;padding-right:30px}.sitelink_en_summary a{font-size:1.1em;position:relative}.sitelink_en_summary_last{padding-right:0}.sitelink_en_summary_title,.sitelink_en_summary .m{height:22px;overflow:hidden}.without-summary-sitelink-en-container{overflow:hidden;height:22px}.without-summary-sitelink-en{float:left}.without-summary-sitelink-en-delimiter{margin-right:5px;margin-left:5px}.wise-qrcode-wrapper{height:42px;line-height:42px;position:absolute;margin-left:8px;top:0;z-index:300}.wise-qrcode-icon-outer{overflow:hidden}.wise-qrcode-icon{position:relative;display:inline-block;width:15px;height:15px;vertical-align:text-bottom;overflow:hidden;opacity:.5;background:url(http:\\\\/\\\\/s1.bdstatic.com\\\\/r\\\\/www\\\\/cache\\\\/static\\\\/global\\\\/img\\\\/qrcode_icon_ae03227.png) no-repeat;-webkit-transform:translateY(42px);-ms-transform:translateY(42px);transform:translateY(42px);-webkit-background-size:100% 100%;background-size:100%}.wise-qrcode-container{padding:15px;background:#fff;display:none;top:61px;left:0;-webkit-transform:translateX(-50%);-ms-transform:translateX(-50%);transform:translateX(-50%);-webkit-box-shadow:0 0 1px rgba(0,0,0,.5);box-shadow:0 0 1px rgba(0,0,0,.5)}.wise-qrcode-wrapper.show:hover .wise-qrcode-container{display:block}.wise-qrcode-image{width:90px;height:90px;display:inline-block;vertical-align:middle}.wise-qrcode-image .wise-qrcode-canvas{width:100%;height:100%}.wise-qrcode-right{display:inline-block;vertical-align:middle;margin-left:15px}.wise-qrcode-title{font-size:16px;color:#000;line-height:26px}.wise-qrcode-text{font-size:12px;line-height:22px;color:#555}.c-frame{margin-bottom:18px}.c-offset{padding-left:10px}.c-gray{color:#666}.c-gap-top-small{margin-top:5px}.c-gap-top{margin-top:10px}.c-gap-bottom-small{margin-bottom:5px}.c-gap-bottom{margin-bottom:10px}.c-gap-left{margin-left:12px}.c-gap-left-small{margin-left:6px}.c-gap-right{margin-right:12px}.c-gap-right-small{margin-right:6px}.c-gap-right-large{margin-right:16px}.c-gap-left-large{margin-left:16px}.c-gap-icon-right-small{margin-right:5px}.c-gap-icon-right{margin-right:10px}.c-gap-icon-left-small{margin-left:5px}.c-gap-icon-left{margin-left:10px}.c-container{width:538px;font-size:13px;line-height:1.54;word-wrap:break-word;word-break:break-word}.c-container .c-container{width:auto}.c-container table{border-collapse:collapse;border-spacing:0}.c-container td{font-size:13px;line-height:1.54}.c-default{font-size:13px;line-height:1.54;word-wrap:break-word;word-break:break-all}.c-container .t,.c-default .t{line-height:1.54}.c-default .t{margin-bottom:0}.cr-content{width:259px;font-size:13px;line-height:1.54;color:#333;word-wrap:break-word;word-break:normal}.cr-content table{border-collapse:collapse;border-spacing:0}.cr-content td{font-size:13px;line-height:1.54;vertical-align:top}.cr-offset{padding-left:17px}.cr-title{font-size:14px;line-height:1.29;font-weight:700}.cr-title-sub{float:right;font-size:13px;font-weight:400}.c-row{*zoom:1}.c-row:after{display:block;height:0;content:\\\\\"\\\\\";clear:both;visibility:hidden}.c-span2{width:29px}.c-span3{width:52px}.c-span4{width:75px}.c-span5{width:98px}.c-span6{width:121px}.c-span7{width:144px}.c-span8{width:167px}.c-span9{width:190px}.c-span10{width:213px}.c-span11{width:236px}.c-span12{width:259px}.c-span13{width:282px}.c-span14{width:305px}.c-span15{width:328px}.c-span16{width:351px}.c-span17{width:374px}.c-span18{width:397px}.c-span19{width:420px}.c-span20{width:443px}.c-span21{width:466px}.c-span22{width:489px}.c-span23{width:512px}.c-span24{width:535px}.c-span2,.c-span3,.c-span4,.c-span5,.c-span6,.c-span7,.c-span8,.c-span9,.c-span10,.c-span11,.c-span12,.c-span13,.c-span14,.c-span15,.c-span16,.c-span17,.c-span18,.c-span19,.c-span20,.c-span21,.c-span22,.c-span23,.c-span24{float:left;_display:inline;margin-right:17px;list-style:none}.c-span-last{margin-right:0}.c-span-last-s{margin-right:0}.container_l .cr-content{width:351px}.container_l .cr-content .c-span-last-s{margin-right:17px}.container_l .cr-content-narrow{width:259px}.container_l .cr-content-narrow .c-span-last-s{margin-right:0}.c-border{width:518px;padding:9px;border:1px solid #e3e3e3;border-bottom-color:#e0e0e0;border-right-color:#ececec;box-shadow:1px 2px 1px rgba(0,0,0,.072);-webkit-box-shadow:1px 2px 1px rgba(0,0,0,.072);-moz-box-shadow:1px 2px 1px rgba(0,0,0,.072);-o-box-shadow:1px 2px 1px rgba(0,0,0,.072)}.c-border .c-gap-left{margin-left:10px}.c-border .c-gap-left-small{margin-left:5px}.c-border .c-gap-right{margin-right:10px}.c-border .c-gap-right-small{margin-right:5px}.c-border .c-border{width:auto;padding:0;border:0;box-shadow:none;-webkit-box-shadow:none;-moz-box-shadow:none;-o-box-shadow:none}.c-border .c-span2{width:34px}.c-border .c-span3{width:56px}.c-border .c-span4{width:78px}.c-border .c-span5{width:100px}.c-border .c-span6{width:122px}.c-border .c-span7{width:144px}.c-border .c-span8{width:166px}.c-border .c-span9{width:188px}.c-border .c-span10{width:210px}.c-border .c-span11{width:232px}.c-border .c-span12{width:254px}.c-border .c-span13{width:276px}.c-border .c-span14{width:298px}.c-border .c-span15{width:320px}.c-border .c-span16{width:342px}.c-border .c-span17{width:364px}.c-border .c-span18{width:386px}.c-border .c-span19{width:408px}.c-border .c-span20{width:430px}.c-border .c-span21{width:452px}.c-border .c-span22{width:474px}.c-border .c-span23{width:496px}.c-border .c-span24{width:518px}.c-border .c-span2,.c-border .c-span3,.c-border .c-span4,.c-border .c-span5,.c-border .c-span6,.c-border .c-span7,.c-border .c-span8,.c-border .c-span9,.c-border .c-span10,.c-border .c-span11,.c-border .c-span12,.c-border .c-span13,.c-border .c-span14,.c-border .c-span15,.c-border .c-span16,.c-border .c-span17,.c-border .c-span18,.c-border .c-span19,.c-border .c-span20,.c-border .c-span21,.c-border .c-span22,.c-border .c-span23,.c-border .c-span24{margin-right:10px}.c-border .c-span-last{margin-right:0}.c-loading{display:block;width:50px;height:50px;background:url(\\\\/\\\\/www.baidu.com\\\\/aladdin\\\\/img\\\\/tools\\\\/loading.gif) no-repeat 0 0}.c-vline{display:inline-block;margin:0 3px;border-left:1px solid #ddd;width:0;height:12px;_vertical-align:middle;_overflow:hidden}.c-icon{background:url(http:\\\\/\\\\/s1.bdstatic.com\\\\/r\\\\/www\\\\/cache\\\\/static\\\\/global\\\\/img\\\\/icons_441e82f.png) no-repeat 0 0;_background-image:url(http:\\\\/\\\\/s1.bdstatic.com\\\\/r\\\\/www\\\\/cache\\\\/static\\\\/global\\\\/img\\\\/icons_d5b04cc.gif)}.c-icon{display:inline-block;width:14px;height:14px;vertical-align:text-bottom;font-style:normal;overflow:hidden}.c-icon-unfold,.c-icon-fold,.c-icon-chevron-unfold,.c-icon-chevron-fold{width:12px;height:12px}.c-icon-star,.c-icon-star-gray{width:60px}.c-icon-qa-empty,.c-icon-safeguard,.c-icon-register-empty,.c-icon-zan,.c-icon-music,.c-icon-music-gray,.c-icon-location,.c-icon-warning,.c-icon-doc,.c-icon-xls,.c-icon-ppt,.c-icon-pdf,.c-icon-txt,.c-icon-play-black,.c-icon-gift,.c-icon-baidu-share,.c-icon-bear,.c-icon-bear-border,.c-icon-location-blue,.c-icon-hotAirBall,.c-icon-moon,.c-icon-streetMap,.c-icon-mv,.c-icon-zhidao-s,.c-icon-shopping{width:16px;height:16px}.c-icon-bear-circle,.c-icon-warning-circle,.c-icon-warning-triangle,.c-icon-warning-circle-gray{width:18px;height:18px}.c-icon-tieba,.c-icon-zhidao,.c-icon-bear-p,.c-icon-bear-pn{width:24px;height:24px}.c-icon-ball-blue,.c-icon-ball-red{width:38px;height:38px}.c-icon-unfold:hover,.c-icon-fold:hover,.c-icon-chevron-unfold:hover,.c-icon-chevron-fold:hover,.c-icon-download:hover,.c-icon-lyric:hover,.c-icon-v:hover,.c-icon-hui:hover,.c-icon-bao:hover,.c-icon-newbao:hover,.c-icon-person:hover,.c-icon-high-v:hover,.c-icon-phone:hover,.c-icon-nuo:hover,.c-icon-fan:hover,.c-icon-med:hover,.c-icon-air:hover,.c-icon-share2:hover,.c-icon-v1:hover,.c-icon-v2:hover,.c-icon-write:hover,.c-icon-R:hover{border-color:#388bff}.c-icon-unfold:active,.c-icon-fold:active,.c-icon-chevron-unfold:active,.c-icon-chevron-fold:active,.c-icon-download:active,.c-icon-lyric:active,.c-icon-v:active,.c-icon-hui:active,.c-icon-bao:active,.c-icon-newbao:active,.c-icon-person:active,.c-icon-high-v:active,.c-icon-phone:active,.c-icon-nuo:active,.c-icon-fan:active,.c-icon-med:active,.c-icon-air:active,.c-icon-share2:active,.c-icon-v1:active,.c-icon-v2:active,.c-icon-write:active,.c-icon-R:active{border-color:#a2a6ab;background-color:#f0f0f0;box-shadow:inset 1px 1px 1px #c7c7c7;-webkit-box-shadow:inset 1px 1px 1px #c7c7c7;-moz-box-shadow:inset 1px 1px 1px #c7c7c7;-o-box-shadow:inset 1px 1px 1px #c7c7c7}.c-icon-v3:hover{border-color:#ffb300}.c-icon-v3:active{border-color:#a2a6ab;background-color:#f0f0f0;box-shadow:inset 1px 1px 1px #c7c7c7;-webkit-box-shadow:inset 1px 1px 1px #c7c7c7;-moz-box-shadow:inset 1px 1px 1px #c7c7c7;-o-box-shadow:inset 1px 1px 1px #c7c7c7}.c-icon-unfold,.c-icon-fold,.c-icon-chevron-unfold,.c-icon-chevron-fold,.c-icon-download,.c-icon-lyric{border:1px solid #d8d8d8;cursor:pointer}.c-icon-v,.c-icon-hui,.c-icon-bao,.c-icon-newbao,.c-icon-person,.c-icon-high-v,.c-icon-phone,.c-icon-nuo,.c-icon-fan,.c-icon-med,.c-icon-air,.c-icon-share2,.c-icon-v1,.c-icon-v2,.c-icon-v3,.c-icon-write,.c-icon-R{border:1px solid #d8d8d8;cursor:pointer;border-color:transparent;_border-color:tomato;_filter:chroma(color=#ff6347)}.c-icon-v1,.c-icon-v2,.c-icon-v3,.c-icon-v1-noborder,.c-icon-v2-noborder,.c-icon-v3-noborder,.c-icon-v1-noborder-disable,.c-icon-v2-noborder-disable,.c-icon-v3-noborder-disable{width:19px}.c-icon-download,.c-icon-lyric{width:16px;height:16px}.c-icon-play-circle,.c-icon-stop-circle{width:18px;height:18px}.c-icon-play-circle-middle,.c-icon-stop-circle-middle{width:24px;height:24px}.c-icon-play-black-large,.c-icon-stop-black-large{width:36px;height:36px}.c-icon-play-black-larger,.c-icon-stop-black-larger{width:52px;height:52px}.c-icon-flag{background-position:0 -144px}.c-icon-bus{background-position:-24px -144px}.c-icon-calendar{background-position:-48px -144px}.c-icon-street{background-position:-72px -144px}.c-icon-map{background-position:-96px -144px}.c-icon-bag{background-position:-120px -144px}.c-icon-money{background-position:-144px -144px}.c-icon-game{background-position:-168px -144px}.c-icon-user{background-position:-192px -144px}.c-icon-globe{background-position:-216px -144px}.c-icon-lock{background-position:-240px -144px}.c-icon-plane{background-position:-264px -144px}.c-icon-list{background-position:-288px -144px}.c-icon-star-gray{background-position:-312px -144px}.c-icon-circle-gray{background-position:-384px -144px}.c-icon-triangle-down{background-position:-408px -144px}.c-icon-triangle-up{background-position:-432px -144px}.c-icon-triangle-up-empty{background-position:-456px -144px}.c-icon-sort-gray{background-position:-480px -144px}.c-icon-sort-up{background-position:-504px -144px}.c-icon-sort-down{background-position:-528px -144px}.c-icon-down-gray{background-position:-552px -144px}.c-icon-up-gray{background-position:-576px -144px}.c-icon-download-noborder{background-position:-600px -144px}.c-icon-lyric-noborder{background-position:-624px -144px}.c-icon-download-white{background-position:-648px -144px}.c-icon-close{background-position:-672px -144px}.c-icon-fail{background-position:-696px -144px}.c-icon-success{background-position:-720px -144px}.c-icon-triangle-down-g{background-position:-744px -144px}.c-icon-refresh{background-position:-768px -144px}.c-icon-chevron-left-gray{background-position:-816px -144px}.c-icon-chevron-right-gray{background-position:-840px -144px}.c-icon-setting{background-position:-864px -144px}.c-icon-close2{background-position:-888px -144px}.c-icon-chevron-top-gray-s{background-position:-912px -144px}.c-icon-fullscreen{background-position:0 -168px}.c-icon-safe{background-position:-24px -168px}.c-icon-exchange{background-position:-48px -168px}.c-icon-chevron-bottom{background-position:-72px -168px}.c-icon-chevron-top{background-position:-96px -168px}.c-icon-unfold{background-position:-120px -168px}.c-icon-fold{background-position:-144px -168px}.c-icon-chevron-unfold{background-position:-168px -168px}.c-icon-qa{background-position:-192px -168px}.c-icon-register{background-position:-216px -168px}.c-icon-star{background-position:-240px -168px}.c-icon-star-gray{position:relative}.c-icon-star-gray .c-icon-star{position:absolute;top:0;left:0}.c-icon-play-blue{background-position:-312px -168px}.c-icon-pic{width:16px;background-position:-336px -168px}.c-icon-chevron-fold{background-position:-360px -168px}.c-icon-video{width:18px;background-position:-384px -168px}.c-icon-circle-blue{background-position:-408px -168px}.c-icon-circle-yellow{background-position:-432px -168px}.c-icon-play-white{background-position:-456px -168px}.c-icon-triangle-down-blue{background-position:-480px -168px}.c-icon-chevron-unfold2{background-position:-504px -168px}.c-icon-right{background-position:-528px -168px}.c-icon-right-empty{background-position:-552px -168px}.c-icon-new-corner{width:15px;background-position:-576px -168px}.c-icon-horn{background-position:-600px -168px}.c-icon-right-large{width:18px;background-position:-624px -168px}.c-icon-wrong-large{background-position:-648px -168px}.c-icon-circle-blue-s{background-position:-672px -168px}.c-icon-play-gray{background-position:-696px -168px}.c-icon-up{background-position:-720px -168px}.c-icon-down{background-position:-744px -168px}.c-icon-stable{background-position:-768px -168px}.c-icon-calendar-blue{background-position:-792px -168px}.c-icon-triangle-down-blue2{background-position:-816px -168px}.c-icon-triangle-up-blue2{background-position:-840px -168px}.c-icon-down-blue{background-position:-864px -168px}.c-icon-up-blue{background-position:-888px -168px}.c-icon-ting{background-position:-912px -168px}.c-icon-piao{background-position:-936px -168px}.c-icon-wrong-empty{background-position:-960px -168px}.c-icon-warning-circle-s{background-position:-984px -168px}.c-icon-chevron-left{background-position:-1008px -168px}.c-icon-chevron-right{background-position:-1032px -168px}.c-icon-circle-gray-s{background-position:-1056px -168px}.c-icon-v,.c-icon-v-noborder{background-position:0 -192px}.c-icon-hui{background-position:-24px -192px}.c-icon-bao{background-position:-48px -192px}.c-icon-newbao{background-position:-97px -218px}.c-icon-phone{background-position:-72px -192px}.c-icon-qa-empty{background-position:-96px -192px}.c-icon-safeguard{background-position:-120px -192px}.c-icon-register-empty{background-position:-144px -192px}.c-icon-zan{background-position:-168px -192px}.c-icon-music{background-position:-192px -192px}.c-icon-music-gray{background-position:-216px -192px}.c-icon-location{background-position:-240px -192px}.c-icon-warning{background-position:-264px -192px}.c-icon-doc{background-position:-288px -192px}.c-icon-xls{background-position:-312px -192px}.c-icon-ppt{background-position:-336px -192px}.c-icon-pdf{background-position:-360px -192px}.c-icon-txt{background-position:-384px -192px}.c-icon-play-black{background-position:-408px -192px}.c-icon-play-black:hover{background-position:-432px -192px}.c-icon-gift{background-position:-456px -192px}.c-icon-baidu-share{background-position:-480px -192px}.c-icon-bear{background-position:-504px -192px}.c-icon-R{background-position:-528px -192px}.c-icon-bear-border{background-position:-576px -192px}.c-icon-person,.c-icon-person-noborder{background-position:-600px -192px}.c-icon-location-blue{background-position:-624px -192px}.c-icon-hotAirBall{background-position:-648px -192px}.c-icon-moon{background-position:-672px -192px}.c-icon-streetMap{background-position:-696px -192px}.c-icon-high-v,.c-icon-high-v-noborder{background-position:-720px -192px}.c-icon-nuo{background-position:-744px -192px}.c-icon-mv{background-position:-768px -192px}.c-icon-fan{background-position:-792px -192px}.c-icon-med{background-position:-816px -192px}.c-icon-air{background-position:-840px -192px}.c-icon-share2{background-position:-864px -192px}.c-icon-v1,.c-icon-v1-noborder{background-position:-888px -192px}.c-icon-v2,.c-icon-v2-noborder{background-position:-912px -192px}.c-icon-v3,.c-icon-v3-noborder{background-position:-936px -192px}.c-icon-v1-noborder-disable{background-position:-960px -192px}.c-icon-v2-noborder-disable{background-position:-984px -192px}.c-icon-v3-noborder-disable{background-position:-1008px -192px}.c-icon-write{background-position:-1032px -192px}.c-icon-zhidao-s{background-position:-1056px -192px}.c-icon-shopping{background-position:-1080px -192px}.c-icon-bear-circle{background-position:0 -216px}.c-icon-warning-circle{background-position:-24px -216px}.c-icon-warning-triangle{width:24px;background-position:-48px -216px}.c-icon-warning-circle-gray{background-position:-72px -216px}.c-icon-ball-red{background-position:0 -240px}.c-icon-ball-blue{background-position:-48px -240px}.c-icon-tieba{background-position:0 -288px}.c-icon-zhidao{background-position:-48px -288px}.c-icon-bear-p{background-position:-96px -288px}.c-icon-bear-pn{background-position:-144px -288px}.c-icon-download{background-position:0 -336px}.c-icon-lyric{background-position:-24px -336px}.c-icon-play-circle{background-position:-48px -336px}.c-icon-play-circle:hover{background-position:-72px -336px}.c-icon-stop-circle{background-position:-96px -336px}.c-icon-stop-circle:hover{background-position:-120px -336px}.c-icon-play-circle-middle{background-position:0 -360px}.c-icon-play-circle-middle:hover{background-position:-48px -360px}.c-icon-stop-circle-middle{background-position:-96px -360px}.c-icon-stop-circle-middle:hover{background-position:-144px -360px}.c-icon-play-black-large{background-position:0 -408px}.c-icon-play-black-large:hover{background-position:-48px -408px}.c-icon-stop-black-large{background-position:-96px -408px}.c-icon-stop-black-large:hover{background-position:-144px -408px}.c-icon-play-black-larger{background-position:0 -456px}.c-icon-play-black-larger:hover{background-position:-72px -456px}.c-icon-stop-black-larger{background-position:-144px -456px}.c-icon-stop-black-larger:hover{background-position:-216px -456px}.c-recommend{font-size:0;padding:5px 0;border:1px solid #f3f3f3;border-left:0;border-right:0}.c-recommend .c-icon{margin-bottom:-4px}.c-recommend .c-gray,.c-recommend a{font-size:13px}.c-recommend-notopline{padding-top:0;border-top:0}.c-recommend-vline{display:inline-block;margin:0 10px -2px;border-left:1px solid #d8d8d8;width:0;height:12px;_vertical-align:middle;_overflow:hidden}.c-text{display:inline-block;padding:2px;text-align:center;vertical-align:text-bottom;font-size:12px;line-height:100%;font-style:normal;font-weight:400;color:#fff;overflow:hidden}a.c-text{text-decoration:none}.c-text-new{background-color:#f13f40}.c-text-info{padding-left:0;padding-right:0;font-weight:700;color:#2b99ff;*vertical-align:baseline;_position:relative;_top:2px}.c-text-info b{_position:relative;_top:-1px}.c-text-info span{padding:0 2px;font-weight:400}.c-text-important{background-color:#1cb7fd}.c-text-public{background-color:#2b99ff}.c-text-warning{background-color:#ff830f}.c-text-prompt{background-color:#f5c537}.c-text-danger{background-color:#f13f40}.c-text-safe{background-color:#52c277}.c-text-empty{padding-top:1px;padding-bottom:1px;border:1px solid #d8d8d8;cursor:pointer;color:#23b9fd;background-color:#fff}.c-text-empty:hover{border-color:#388bff}.c-text-empty:active{border-color:#a2a6ab;background-color:#f0f0f0;box-shadow:inset 1px 1px 1px #c7c7c7;-webkit-box-shadow:inset 1px 1px 1px #c7c7c7;-moz-box-shadow:inset 1px 1px 1px #c7c7c7;-o-box-shadow:inset 1px 1px 1px #c7c7c7}.c-text-mult{padding-left:5px;padding-right:5px}.c-text-gray{background-color:#666}.c-btn,.c-btn:visited{color:#333!important}.c-btn{display:inline-block;padding:0 14px;margin:0;height:24px;line-height:25px;font-size:13px;filter:chroma(color=#000000);*zoom:1;border:1px solid #d8d8d8;cursor:pointer;font-family:inherit;font-weight:400;text-align:center;vertical-align:middle;background-color:#f9f9f9;overflow:hidden;outline:0}.c-btn:hover{border-color:#388bff}.c-btn:active{border-color:#a2a6ab;background-color:#f0f0f0;box-shadow:inset 1px 1px 1px #c7c7c7;-webkit-box-shadow:inset 1px 1px 1px #c7c7c7;-moz-box-shadow:inset 1px 1px 1px #c7c7c7;-o-box-shadow:inset 1px 1px 1px #c7c7c7}a.c-btn{text-decoration:none}button.c-btn{height:26px;_line-height:18px;*overflow:visible}button.c-btn::-moz-focus-inner{padding:0;border:0}.c-btn .c-icon{margin-top:5px}.c-btn-disable{color:#999!important}.c-btn-disable:visited{color:#999!important}.c-btn-disable:hover{border:1px solid #d8d8d8;cursor:default}.c-btn-disable:active{border-color:#d8d8d8;background-color:#f9f9f9;box-shadow:none;-webkit-box-shadow:none;-moz-box-shadow:none;-o-box-shadow:none}.c-btn-mini{padding-left:5px;padding-right:5px;height:18px;line-height:18px;font-size:12px}button.c-btn-mini{height:20px;_height:18px;_line-height:14px}.c-btn-mini .c-icon{margin-top:2px}.c-btn-large{height:28px;line-height:28px;font-size:14px;font-family:\\\\\"\\\\u5fae\\\\u8f6f\\\\u96c5\\\\u9ed1\\\\\",\\\\\"\\\\u9ed1\\\\u4f53\\\\\"}button.c-btn-large{height:30px;_line-height:24px}.c-btn-large .c-icon{margin-top:7px;_margin-top:6px}.c-btn-primary,.c-btn-primary:visited{color:#fff!important}.c-btn-primary{background-color:#388bff;border-color:#3c8dff #408ffe #3680e6}.c-btn-primary:hover{border-color:#2678ec #2575e7 #1c6fe2 #2677e7;background-color:#388bff;background-image:url(data:image\\\\/png;base64,iVBORw0KGgoAAAANSUhEUgAAAAEAAAACCAMAAACuX0YVAAAABlBMVEVnpv85i\\\\/9PO5r4AAAAD0lEQVR42gEEAPv\\\\/AAAAAQAFAAIros7PAAAAAElFTkSuQmCC);*background-image:none;background-repeat:repeat-x;box-shadow:1px 1px 1px rgba(0,0,0,.4);-webkit-box-shadow:1px 1px 1px rgba(0,0,0,.4);-moz-box-shadow:1px 1px 1px rgba(0,0,0,.4);-o-box-shadow:1px 1px 1px rgba(0,0,0,.4)}.c-btn-primary:active{border-color:#178ee3 #1784d0 #177bbf #1780ca;background-color:#388bff;background-image:none;box-shadow:inset 1px 1px 1px rgba(0,0,0,.15);-webkit-box-shadow:inset 1px 1px 1px rgba(0,0,0,.15);-moz-box-shadow:inset 1px 1px 1px rgba(0,0,0,.15);-o-box-shadow:inset 1px 1px 1px rgba(0,0,0,.15)}.c-btn .c-icon{float:left}.c-dropdown2{position:relative;display:inline-block;width:100%;height:26px;line-height:26px;font-size:13px;vertical-align:middle;outline:0;_font-family:SimSun;background-color:#fff;word-wrap:normal;word-break:normal}.c-dropdown2 .c-dropdown2-btn-group{position:relative;height:24px;border:1px solid #999;border-bottom-color:#d8d8d8;border-right-color:#d8d8d8;-moz-user-select:none;-webkit-user-select:none;user-select:none}.c-dropdown2:hover .c-dropdown2-btn-group,.c-dropdown2-hover .c-dropdown2-btn-group{box-shadow:inset 1px 1px 0 0 #d8d8d8;-webkit-box-shadow:inset 1px 1px 0 0 #d8d8d8;-moz-box-shadow:inset 1px 1px 0 0 #d8d8d8;-o-box-shadow:inset 1px 1px 0 0 #d8d8d8}.c-dropdown2:hover .c-dropdown2-btn-icon,.c-dropdown2-hover .c-dropdown2-btn-icon{box-shadow:inset 0 1px 0 0 #d8d8d8;-webkit-box-shadow:inset 0 1px 0 0 #d8d8d8;-moz-box-shadow:inset 0 1px 0 0 #d8d8d8;-o-box-shadow:inset 0 1px 0 0 #d8d8d8}.c-dropdown2:hover .c-dropdown2-btn-icon-border,.c-dropdown2-hover .c-dropdown2-btn-icon-border{background-color:#f2f2f2}.c-dropdown2 .c-dropdown2-btn{height:24px;padding-left:10px;padding-right:10px;cursor:default;overflow:hidden;white-space:nowrap}.c-dropdown2 .c-dropdown2-btn-icon{position:absolute;top:0;right:0;width:23px;height:24px;line-height:24px;background-color:#fff;padding:0 1px 0 10px}.c-dropdown2 .c-dropdown2-btn-icon-border{height:24px;width:23px;border-left:1px solid #d9d9d9;text-align:center;zoom:1}.c-dropdown2 .c-icon-triangle-down{*margin-top:5px;_margin-left:2px}.c-dropdown2 .c-dropdown2-menu{position:absolute;left:0;top:100%;_margin-top:0;width:100%;overflow:hidden;border:1px solid #bbb;background:#fff;visibility:hidden}.c-dropdown2 .c-dropdown2-menu-inner{overflow:hidden}.c-dropdown2 .c-dropdown2-option{background-color:#fff;cursor:pointer}.c-dropdown2 .c-dropdown2-selected{background-color:#f5f5f5}.c-dropdown2-common ul,.c-dropdown2-common li{margin:0;padding:0;list-style:none}.c-dropdown2-common .c-dropdown2-option{height:26px;line-height:26px;font-size:12px;color:#333;white-space:nowrap;cursor:pointer;padding-left:10px}.c-dropdown2-common .c-dropdown2-selected{background-color:#f5f5f5}.c-dropdown2-common .c-dropdown2-menu-group .c-dropdown2-group{padding-left:10px;font-weight:700;cursor:default}.c-dropdown2-common .c-dropdown2-menu-group .c-dropdown2-option{padding-left:20px}.c-img{display:block;min-height:1px;border:0 0}.c-img3{width:52px}.c-img4{width:75px}.c-img6{width:121px}.c-img7{width:144px}.c-img12{width:259px}.c-img15{width:328px}.c-img18{width:397px}.c-border .c-img3{width:56px}.c-border .c-img4{width:78px}.c-border .c-img7{width:144px}.c-border .c-img12{width:254px}.c-border .c-img15{width:320px}.c-border .c-img18{width:386px}.c-index{display:inline-block;padding:1px 0;color:#fff;width:14px;line-height:100%;font-size:12px;text-align:center;background-color:#8eb9f5}.c-index-hot,.c-index-hot1{background-color:#f54545}.c-index-hot2{background-color:#ff8547}.c-index-hot3{background-color:#ffac38}.c-input{display:inline-block;padding:0 4px;height:24px;line-height:24px\\\\\\\\9;font-size:13px;border:1px solid #999;border-bottom-color:#d8d8d8;border-right-color:#d8d8d8;outline:0;box-sizing:content-box;-webkit-box-sizing:content-box;-moz-box-sizing:content-box;vertical-align:top;overflow:hidden}.c-input:hover{box-shadow:inset 1px 1px 1px 0 #d8d8d8;-webkit-box-shadow:inset 1px 1px 1px 0 #d8d8d8;-moz-box-shadow:inset 1px 1px 1px 0 #d8d8d8;-o-box-shadow:inset 1px 1px 1px 0 #d8d8d8}.c-input .c-icon{float:right;margin-top:6px}.c-input .c-icon-left{float:left;margin-right:4px}.c-input input{float:left;height:22px;*padding-top:4px;margin-top:2px;font-size:13px;border:0;outline:0}.c-input{width:180px}.c-input input{width:162px}.c-input-xmini{width:65px}.c-input-xmini input{width:47px}.c-input-mini{width:88px}.c-input-mini input{width:70px}.c-input-small{width:157px}.c-input-small input{width:139px}.c-input-large{width:203px}.c-input-large input{width:185px}.c-input-xlarge{width:341px}.c-input-xlarge input{width:323px}.c-input12{width:249px}.c-input12 input{width:231px}.c-input20{width:433px}.c-input20 input{width:415px}.c-border .c-input{width:178px}.c-border .c-input input{width:160px}.c-border .c-input-xmini{width:68px}.c-border .c-input-xmini input{width:50px}.c-border .c-input-mini{width:90px}.c-border .c-input-mini input{width:72px}.c-border .c-input-small{width:156px}.c-border .c-input-small input{width:138px}.c-border .c-input-large{width:200px}.c-border .c-input-large input{width:182px}.c-border .c-input-xlarge{width:332px}.c-border .c-input-xlarge input{width:314px}.c-border .c-input12{width:244px}.c-border .c-input12 input{width:226px}.c-border .c-input20{width:420px}.c-border .c-input20 input{width:402px}.c-numberset{*zoom:1}.c-numberset:after{display:block;height:0;content:\\\\\"\\\\\";clear:both;visibility:hidden}.c-numberset li{float:left;margin-right:17px;list-style:none}.c-numberset .c-numberset-last{margin-right:0}.c-numberset a{display:block;width:50px;text-decoration:none;text-align:center;border:1px solid #d8d8d8;cursor:pointer}.c-numberset a:hover{border-color:#388bff}.c-border .c-numberset li{margin-right:10px}.c-border .c-numberset .c-numberset-last{margin-right:0}.c-border .c-numberset a{width:54px}.c-table{width:100%;border-collapse:collapse;border-spacing:0}.c-table th,.c-table td{padding-left:10px;line-height:1.54;font-size:13px;border-bottom:1px solid #f3f3f3;text-align:left}.cr-content .c-table th:first-child,.cr-content .c-table td:first-child{padding-left:0}.c-table th{padding-top:4px;padding-bottom:4px;font-weight:400;color:#666;border-color:#f0f0f0;white-space:nowrap;background-color:#fafafa}.c-table td{padding-top:6.5px;padding-bottom:6.5px}.c-table-hasimg td{padding-top:10px;padding-bottom:10px}.c-table a,.c-table em{text-decoration:none}.c-table a:hover,.c-table a:hover em{text-decoration:underline}.c-table a.c-icon:hover{text-decoration:none}.c-table .c-btn:hover,.c-table .c-btn:hover em{text-decoration:none}.c-table-nohihead th{background-color:transparent}.c-table-noborder td{border-bottom:0}.c-tabs-nav-movetop{margin:-10px -9px 0 -10px;position:relative}.c-tabs-nav{border-bottom:1px solid #d9d9d9;background-color:#fafafa;line-height:1.54;font-size:0;*zoom:1;_overflow-x:hidden;_position:relative}.c-tabs-nav:after{display:block;height:0;content:\\\\\"\\\\\";clear:both;visibility:hidden}.c-tabs-nav .c-tabs-nav-btn{float:right;_position:absolute;_top:0;_right:0;_z-index:1;background:#fafafa}.c-tabs-nav .c-tabs-nav-btn .c-tabs-nav-btn-prev,.c-tabs-nav .c-tabs-nav-btn .c-tabs-nav-btn-next{float:left;padding:6px 2px;cursor:pointer}.c-tabs-nav .c-tabs-nav-btn .c-tabs-nav-btn-disable{cursor:default}.c-tabs-nav .c-tabs-nav-view{_position:relative;overflow:hidden;*zoom:1;margin-bottom:-1px}.c-tabs-nav .c-tabs-nav-view .c-tabs-nav-li{margin-bottom:0}.c-tabs-nav .c-tabs-nav-more{float:left;white-space:nowrap}.c-tabs-nav li,.c-tabs-nav a{color:#666;font-size:13px;*zoom:1}.c-tabs-nav li{display:inline-block;margin-bottom:-1px;*display:inline;padding:3px 15px;vertical-align:bottom;border-style:solid;border-width:2px 1px 0;border-color:transparent;_border-color:tomato;_filter:chroma(color=#ff6347);list-style:none;cursor:pointer;white-space:nowrap;overflow:hidden}.c-tabs-nav a{text-decoration:none}.c-tabs-nav .c-tabs-nav-sep{height:16px;width:0;padding:0;margin-bottom:4px;border-style:solid;border-width:0 1px;border-color:transparent #fff transparent #dedede}.c-tabs-nav .c-tabs-nav-selected{_position:relative;border-color:#2c99ff #e4e4e4 #fff #dedede;background-color:#fff;color:#000;cursor:default}.c-tabs-nav-one .c-tabs-nav-selected{border-color:transparent;_border-color:tomato;_filter:chroma(color=#ff6347);background-color:transparent;color:#666}.c-tabs .c-tabs .c-tabs-nav{padding:10px 0 5px;border:0 0;background-color:#fff}.c-tabs .c-tabs .c-tabs-nav li,.c-tabs .c-tabs .c-tabs-nav a{color:#00c}.c-tabs .c-tabs .c-tabs-nav li{padding:0 5px;position:static;margin:0 10px;border:0 0;cursor:pointer;white-space:nowrap}.c-tabs .c-tabs .c-tabs-nav .c-tabs-nav-sep{height:11px;width:0;padding:0;margin:0 0 4px;border:0 0;border-left:1px solid #d8d8d8}.c-tabs .c-tabs .c-tabs-nav .c-tabs-nav-selected{background-color:#2c99ff;color:#fff;cursor:default}.c-tag{padding-top:3px;margin-bottom:3px;height:1.7em;font-size:13px;line-height:1.4em;transition:height .3s ease-in;-webkit-transition:height .3s ease-in;-moz-transition:height .3s ease-in;-ms-transition:height .3s ease-in;-o-transition:height .3s ease-in;*zoom:1;overflow:hidden}.c-tag:after{display:block;height:0;content:\\\\\"\\\\\";clear:both;visibility:hidden}.c-tag-cont{overflow:hidden;*zoom:1}.c-tag-type,.c-tag-li,.c-tag-more,.c-tag-cont span{margin:2px 0}.c-tag-type,.c-tag-li,.c-tag-cont span{float:left}.c-tag-type,.c-tag-more{color:#666}.c-tag-li,.c-tag-cont span{padding:0 4px;display:inline-block;margin-right:12px;white-space:nowrap;cursor:pointer;color:#00c}.c-tag .c-tag-selected{background:#388bff;color:#fff}.c-tag-more{float:right;background:#fff;cursor:pointer;*height:18px}.c-tool{display:inline-block;width:56px;height:56px;background:url(\\\\/\\\\/www.baidu.com\\\\/aladdin\\\\/img\\\\/tools\\\\/tools-5.png) no-repeat}.c-tool-region{background-position:0 0}.c-tool-calendar{background-position:-72px 0}.c-tool-city{background-position:-144px 0}.c-tool-phone-pos{background-position:-216px 0}.c-tool-other{background-position:-288px 0}.c-tool-midnight{background-position:-360px 0}.c-tool-kefu{width:121px;background-position:-432px 0}.c-tool-phone{background-position:-576px 0}.c-tool-car{background-position:-648px 0}.c-tool-station{background-position:0 -72px}.c-tool-cheat{background-position:-72px -72px}.c-tool-counter{background-position:-144px -72px}.c-tool-time{background-position:-216px -72px}.c-tool-zip{background-position:-288px -72px}.c-tool-warning{background-position:-360px -72px}.c-tool-ip{background-position:0 -144px}.c-tool-unit{background-position:-72px -144px}.c-tool-rate{background-position:-144px -144px}.c-tool-conversion{background-position:-288px -144px}.c-tool-ads{background-position:-360px -144px}.c-icon-baozhang-new{width:14px;height:14px;background-image:url(http:\\\\/\\\\/s1.bdstatic.com\\\\/r\\\\/www\\\\/cache\\\\/static\\\\/global\\\\/img\\\\/pc-bao_96f4fc0.png);background-size:140px 14px;background-repeat:no-repeat;cursor:pointer;border-color:transparent;margin-left:11px;margin-right:3px}.c-icon-baozhang-new.animate{-webkit-animation-name:keyframesBao;animation-name:keyframesBao;-webkit-animation-duration:1s;animation-duration:1s;-webkit-animation-delay:0s;animation-delay:0s;-webkit-animation-iteration-count:1;animation-iteration-count:1;-webkit-animation-fill-mode:forwards;animation-fill-mode:forwards;-webkit-animation-timing-function:steps(1);animation-timing-function:steps(1)}@-webkit-keyframes keyframesBao{0%{background-position:0 0}10%{background-position:-14px 0}20%{background-position:-28px 0}30%{background-position:-42px 0}40%{background-position:-56px 0}50%{background-position:-70px 0}60%{background-position:-84px 0}70%{background-position:-98px 0}80%{background-position:-112px 0}90%,100%{background-position:-126px 0}}@keyframes keyframesBao{0%{background-position:0 0}10%{background-position:-14px 0}20%{background-position:-28px 0}30%{background-position:-42px 0}40%{background-position:-56px 0}50%{background-position:-70px 0}60%{background-position:-84px 0}70%{background-position:-98px 0}80%{background-position:-112px 0}90%,100%{background-position:-126px 0}}.opui-honourCard4-new-bao-title{font-size:12px;line-height:16px;color:#333;margin:3px 10px 0}.c-tip-con .opui-honourCard4-new-bao-style{width:100%;margin-top:4px}.c-tip-con .opui-honourCard4-new-bao-style a,.c-tip-con .opui-honourCard4-new-bao-style a:visited{color:#666}.soutu-input{padding-left:55px!important}.soutu-input-image{position:absolute;left:1px;top:1px;height:28px;width:49px;z-index:1;padding:0;background:#e6e6e6;border:1px solid #e6e6e6}.soutu-input-thumb{height:28px;width:28px;min-width:1px}.soutu-input-close{position:absolute;right:0;top:0;cursor:pointer;display:block;width:22px;height:28px}.soutu-input-close::after{content:\\\\\" \\\\\";position:absolute;right:3px;top:50%;cursor:pointer;margin-top:-7px;display:block;width:14px;height:14px;background:url(http:\\\\/\\\\/s1.bdstatic.com\\\\/r\\\\/www\\\\/cache\\\\/static\\\\/soutu\\\\/img\\\\/soutu_icons_new_8abaf8a.png) no-repeat -163px 0}.soutu-input-image:hover .soutu-input-close::after{background-position:-215px 2px}.fb-hint{margin-top:5px;transition-duration:.9s;opacity:0;display:none;color:red}.fb-img{display:none}.fb-hint-tip{height:44px;line-height:24px;background-color:#38f;color:#fff;box-sizing:border-box;width:269px;font-size:16px;padding:10px;padding-left:14px;position:absolute;top:-65px;right:-15px;border-radius:3px;z-index:299}.fb-hint-tip::before{content:\\\\\"\\\\\";width:0;height:0;display:block;position:absolute;border-left:8px solid transparent;border-right:8px solid transparent;border-top:8px solid #38f;bottom:-8px;right:25px}.fb-mask,.fb-mask-light{position:fixed;top:0;left:0;bottom:0;right:0;z-index:296;background-color:#000;filter:alpha(opacity=60);background-color:rgba(0,0,0,.6)}.fb-mask-light{background-color:#fff;filter:alpha(opacity=0);background-color:rgba(255,255,255,0)}.fb-success .fb-success-text{text-align:center;color:#333;font-size:13px;margin-bottom:14px}.fb-success-text.fb-success-text-title{color:#3b6;font-size:16px;margin-bottom:16px}.fb-success-text-title i{width:16px;height:16px;margin-right:5px}.fb-list-container{box-sizing:border-box;padding:4px 8px;position:absolute;top:0;left:0;bottom:0;right:0;z-index:298;display:block;width:100%;cursor:pointer;margin-top:-5px;margin-left:-5px}.fb-list-container-hover{background-color:#fff;border:2px #38f solid}.fb-list-container-first{box-sizing:border-box;padding-left:10px;padding-top:5px;position:absolute;top:0;left:0;bottom:0;right:0;z-index:297;display:block;width:100%;cursor:pointer;margin-top:-5px;margin-left:-5px;border:3px #f5f5f5 dashed;border-radius:3px}.fb-des-content{font-size:13px!important;color:#000}.fb-des-content::-webkit-input-placeholder{font-size:13px!important;color:#9a9a9a}.fb-des-content:-moz-placeholder{font-size:13px!important;color:#9a9a9a}.fb-des-content::-moz-placeholder{font-size:13px!important;color:#9a9a9a}.fb-des-content:-ms-input-placeholder{font-size:13px!important;color:#9a9a9a}.fb-btn,.fb-btn:visited{color:#333!important}.fb-select{position:relative;background-color:#fff;border:1px solid #ccc}.fb-select i{position:absolute;right:2px;top:7px}.fb-type{width:350px;box-sizing:border-box;height:28px;font-size:13px;line-height:28px;border:0;word-break:normal;word-wrap:normal;position:relative;appearance:none;-moz-appearance:none;-webkit-appearance:none;display:inline-block;vertical-align:middle;line-height:normal;color:#333;background-color:transparent;border-radius:0;overflow:hidden;outline:0;padding-left:5px}.fb-type::-ms-expand{display:none}.fb-btn{display:inline-block;padding:0 14px;margin:0;height:24px;line-height:25px;font-size:13px;filter:chroma(color=#000000);*zoom:1;border:1px solid #d8d8d8;cursor:pointer;font-family:inherit;font-weight:400;text-align:center;vertical-align:middle;background-color:#f9f9f9;overflow:hidden;outline:0}.fb-btn:hover{border-color:#388bff}.fb-btn:active{border-color:#a2a6ab;background-color:#f0f0f0;box-shadow:inset 1px 1px 1px #c7c7c7;-webkit-box-shadow:inset 1px 1px 1px #c7c7c7;-moz-box-shadow:inset 1px 1px 1px #c7c7c7;-o-box-shadow:inset 1px 1px 1px #c7c7c7}a.fb-btn{text-decoration:none}button.fb-btn{height:26px;_line-height:18px;*overflow:visible}button.fb-btn::-moz-focus-inner{padding:0;border:0}.fb-btn .c-icon{margin-top:5px}.fb-btn-primary,.fb-btn-primary:visited{color:#fff!important}.fb-btn-primary{background-color:#388bff;_width:82px;border-color:#3c8dff #408ffe #3680e6}.fb-btn-primary:hover{border-color:#2678ec #2575e7 #1c6fe2 #2677e7;background-color:#388bff;background-image:url(data:image\\\\/png;base64,iVBORw0KGgoAAAANSUhEUgAAAAEAAAACCAMAAACuX0YVAAAABlBMVEVnpv85i\\\\/9PO5r4AAAAD0lEQVR42gEEAPv\\\\/AAAAAQAFAAIros7PAAAAAElFTkSuQmCC);background-repeat:repeat-x;box-shadow:1px 1px 1px rgba(0,0,0,.4);-webkit-box-shadow:1px 1px 1px rgba(0,0,0,.4);-moz-box-shadow:1px 1px 1px rgba(0,0,0,.4);-o-box-shadow:1px 1px 1px rgba(0,0,0,.4)}.fb-btn-primary:active{border-color:#178ee3 #1784d0 #177bbf #1780ca;background-color:#388bff;background-image:none;box-shadow:inset 1px 1px 1px rgba(0,0,0,.15);-webkit-box-shadow:inset 1px 1px 1px rgba(0,0,0,.15);-moz-box-shadow:inset 1px 1px 1px rgba(0,0,0,.15);-o-box-shadow:inset 1px 1px 1px rgba(0,0,0,.15)}.fb-feedback-right-dialog{position:fixed;z-index:299;bottom:0;right:0}.fb-feedback-list-dialog,.fb-feedback-list-dialog-left{position:absolute;z-index:299}.fb-feedback-list-dialog:before{content:\\\\\"\\\\\";width:0;height:0;display:block;position:absolute;top:15px;left:-6px;border-top:8px solid transparent;border-bottom:8px solid transparent;border-right:8px solid #fff}.fb-feedback-list-dialog-left:before{content:\\\\\"\\\\\";width:0;height:0;display:block;position:absolute;top:15px;right:-6px;border-top:8px solid transparent;border-bottom:8px solid transparent;border-left:8px solid #fff}.fb-header{padding-left:20px;padding-right:20px;margin-top:14px;text-align:left;-moz-user-select:none}.fb-header .fb-close{color:#e0e0e0}.fb-close{text-decoration:none;margin-top:2px;float:right;font-size:20px;font-weight:700;line-height:18px;color:#666;text-shadow:0 1px 0 #fff}.fb-photo-block{display:none}.fb-photo-block-title{font-size:13px;color:#333;padding-top:10px}.fb-photo-block-title-span{color:#999}.fb-photo-sub-block{margin-top:10px;margin-bottom:10px;width:60px;text-align:center}.fb-photo-sub-block-hide{display:none}.fb-photo-update-block{overflow:hidden}.fb-photo-update-item-block{width:100px;height:100px;background:red;border:solid 1px #ccc;margin-top:10px;float:left;margin-right:20px;position:relative;background:url(http:\\\\/\\\\/s1.bdstatic.com\\\\/r\\\\/www\\\\/cache\\\\/static\\\\/global\\\\/img\\\\/feedback_add_photo_69ff822.png);background-repeat:no-repeat;background-size:contain;background-position:center center;background-size:24px 24px}.fb-photo-block-title-ex{font-size:13px;float:right}.fb-photo-block-title-ex img{vertical-align:text-top;margin-right:4px}.fb-photo-block-title-span{margin-left:4px;color:#999}.fb-photo-update-item-show-img{width:100%;height:100%;display:none}.fb-photo-update-item-close{width:13px;height:13px;position:absolute;top:-6px;right:-6px;display:none}.fb-photo-block input{display:none}.fb-photo-update-hide{display:none}.fb-photo-update-item-block{width:60px;height:60px;border:solid 1px #ccc;float:left}.fb-photo-block-example{position:absolute;top:0;left:0;display:none;background-color:#fff;padding:14px;padding-top:0;width:392px}.fb-photo-block-example-header{padding-top:14px;overflow:hidden}.fb-photo-block-example-header p{float:left}.fb-photo-block-example-header img{float:right;width:13px;height:13px}.fb-photo-block-example-img img{margin:0 auto;margin-top:14px;display:block;width:200px}.fb-photo-block-example-title{text-align:center}.fb-photo-block-example-title-big{font-size:14px;color:#333}.fb-photo-block-example-title-small{font-size:13px;color:#666}.fb-header a.fb-close:hover{text-decoration:none}.fb-photo-block-upinfo{width:100%}.fb-header-tips{font-size:16px;margin:0;color:#333;text-rendering:optimizelegibility}.fb-body{margin-bottom:0;padding:20px;padding-top:10px;overflow:hidden;text-align:left}.fb-modal,.fb-success,.fb-vertify{background-color:#fff;cursor:default;top:100%;left:100%;width:390px;overflow:hidden;border:1px solid #999;*border:1px solid #ddd;font-size:13px;line-height:1.54}.fb-textarea textarea{width:350px;height:64px;padding:4px;margin:10px 0;vertical-align:top;resize:none;overflow:auto;box-sizing:border-box;display:inline-block;border:1px solid #ccc;-webkit-border-radius:0;-moz-border-radius:0;border-radius:0;-webkit-box-shadow:inset 0 1px 1px rgba(0,0,0,.075);-moz-box-shadow:inset 0 1px 1px rgba(0,0,0,.075);box-shadow:inset 0 1px 1px rgba(0,0,0,.075);-webkit-transition:border linear .2s,box-shadow linear .2s;-moz-transition:border linear .2s,box-shadow linear .2s;-ms-transition:border linear .2s,box-shadow linear .2s;-o-transition:border linear .2s,box-shadow linear .2s;transition:border linear .2s,box-shadow linear .2s}.fb-selected{display:none;width:12px;height:12px;background:url(data:image\\\\/png;base64,iVBORw0KGgoAAAANSUhEUgAAAAcAAAAFCAYAAACJmvbYAAAABGdBTUEAALGPC\\\\/xhBQAAACBjSFJNAAB6JgAAgIQAAPoAAACA6AAAdTAAAOpgAAA6mAAAF3CculE8AAAABmJLR0QAAAAAAAD5Q7t\\\\/AAAACXBIWXMAABYlAAAWJQFJUiTwAAAAJklEQVQI12NgwAEsuv\\\\/8xy9h3vX7P6oEKp\\\\/BHCqA0yhzdB0MDAwAFXkTK5la4mAAAAAASUVORK5CYII=) no-repeat 2px 3px}.fb-guide{padding-top:10px;color:#9a9a9a;margin-left:-20px;padding-left:20px;border-right-width:0;margin-right:-20px;padding-right:25px;margin-bottom:-20px;padding-bottom:15px}.fb-footer{padding-top:10px;text-align:left}.fb-block{overflow:hidden;position:relative}.fb-block .fb-email{height:28px;line-height:26px;width:350px;border:1px solid #ccc;padding:4px;padding-top:0;box-sizing:border-box;padding-bottom:0;display:inline-block;font-family:\\'Helvetica Neue\\',Helvetica,Arial,sans-serif;vertical-align:middle!important;-webkit-border-radius:0;-moz-border-radius:0;border-radius:0;-webkit-box-shadow:inset 0 1px 1px rgba(0,0,0,.075);-moz-box-shadow:inset 0 1px 1px rgba(0,0,0,.075);box-shadow:inset 0 1px 1px rgba(0,0,0,.075);-webkit-transition:border linear .2s,box-shadow linear .2s;-moz-transition:border linear .2s,box-shadow linear .2s;-ms-transition:border linear .2s,box-shadow linear .2s;-o-transition:border linear .2s,box-shadow linear .2s;transition:border linear .2s,box-shadow linear .2s}.fb-email{font-size:13px!important;color:#000}.fb-email::-webkit-input-placeholder{font-size:13px!important;color:#9a9a9a}.fb-email:-moz-placeholder{font-size:13px!important;color:#9a9a9a}.fb-email::-moz-placeholder{font-size:13px!important;color:#9a9a9a}.fb-email:-ms-input-placeholder{font-size:13px!important;color:#9a9a9a}.fb-cut-block{height:15px;padding-bottom:10px}.fb-canvas-block{height:172px;border:1px solid #ccc;margin-bottom:10px;position:relative;overflow:hidden;width:100%;background-position:center;box-sizing:border-box}.fb-canvas-block img{width:350px;position:absolute}.fb-canvas-block img[src=\\\\\"\\\\\"]{opacity:0}.fb-cut-input{width:14px;height:14px;margin:0;margin-right:10px;display:inline-block;border:1px solid #ccc}.fb-cut-btn{width:60px!important}#fb_tips_span{vertical-align:middle}#fb_popwindow{display:block;left:457px;top:69.5px;position:absolute;width:450px;z-index:999999;background:none repeat scroll 0 0 #fff;border:1px solid #999;border-radius:3px;box-shadow:0 0 9px #999;padding:0}#feedback_dialog_content{text-align:center}#fb_right_post_save:hover{background-image:url(data:image\\\\/png;base64,iVBORw0KGgoAAAANSUhEUgAAAAEAAAACCAMAAACuX0YVAAAABlBMVEVnpv85i\\\\/9PO5r4AAAAD0lEQVR42gEEAPv\\\\/AAAAAQAFAAIros7PAAAAAElFTkSuQmCC);background-repeat:repeat-x;box-shadow:1px 1px 1px rgba(0,0,0,.4);-webkit-box-shadow:1px 1px 1px rgba(0,0,0,.4);-moz-box-shadow:1px 1px 1px rgba(0,0,0,.4);-o-box-shadow:1px 1px 1px rgba(0,0,0,.4)}.fb-select-icon{position:absolute;bottom:6px;right:5px;width:16px;height:16px;box-sizing:content-box;background-position:center center;background-repeat:no-repeat;background-size:7px 4px;-webkit-background-size:7px 4px;background-image:url(data:image\\\\/png;base64,iVBORw0KGgoAAAANSUhEUgAAAAcAAAAECAYAAABCxiV9AAAABGdBTUEAALGPC\\\\/xhBQAAACBjSFJNAAB6JgAAgIQAAPoAAACA6AAAdTAAAOpgAAA6mAAAF3CculE8AAAABmJLR0QAAAAAAAD5Q7t\\\\/AAAACXBIWXMAAAsSAAALEgHS3X78AAAAKElEQVQI12Ps7Or6z4ADMDIwMDBgU1BeVsbICOMgKygvK2PEMAbdBAAhxA08t5Q3VgAAAABJRU5ErkJggg==)}.fb-select-shorter{position:relative;min-height:28px}.fb-type-container{line-height:28px;position:absolute;top:28px;width:100%;background-color:#fff;border:1px solid #ccc;z-index:300;margin-left:-1px;display:none}.fb-type-item,.fb-type-selected{height:28px;line-height:30px;padding-left:4px}.fb-type-item:hover{background:#f5F5F5}.fb-checkbox{position:relative;border-bottom:1px solid #eee;height:34px;line-height:35px}.fb-checkbox:last-child{border-bottom:0}.fb-list-wrapper{margin-top:-10px}.fb-textarea-sug textarea{margin-top:0}@media screen and (min-width:1921px){.slowmsg{left:50%!important;-webkit-transform:translateX(-50%);-ms-transform:translateX(-50%);transform:translateX(-50%)}.wrapper_l #head{-webkit-transform-style:preserve-3d;transform-style:preserve-3d}.head_wrapper{width:1196px;margin:0 auto;position:relative;-webkit-transform:translate3d(-52px,0,1px);transform:translate3d(-52px,0,1px)}#head .headBlock{-webkit-box-sizing:border-box;box-sizing:border-box;margin-left:auto;margin-right:auto;width:1196px;padding-left:121px;-webkit-transform:translate3d(-52px,0,0);transform:translate3d(-52px,0,0)}#s_tab.s_tab{padding-left:0}#s_tab.s_tab .s_tab_inner{display:block;-webkit-box-sizing:border-box;box-sizing:border-box;padding-left:77px;width:1212px;margin:0 auto}#con-at .result-op{margin-left:auto;margin-right:auto;-webkit-transform:translateX(-60px);-ms-transform:translateX(-60px);transform:translateX(-60px)}#wrapper_wrapper{margin-left:-88px}#container{-webkit-box-sizing:border-box;box-sizing:border-box;width:1212px;margin:0 auto}.foot-inner{width:1212px;margin:0 auto}}@font-face{font-family:cicons;font-weight:400;font-style:normal;src:url(\\\\/\\\\/m.baidu.com\\\\/se\\\\/static\\\\/font\\\\/cicon.eot?t=1582512397158#);src:url(\\\\/\\\\/m.baidu.com\\\\/se\\\\/static\\\\/font\\\\/cicon.eot?t=1582512397158#iefix) format(\\'embedded-opentype\\'),url(\\\\/\\\\/m.baidu.com\\\\/se\\\\/static\\\\/font\\\\/cicon.woff?t=1582512397158#) format(\\'woff\\'),url(\\\\/\\\\/m.baidu.com\\\\/se\\\\/static\\\\/font\\\\/cicon.ttf?t=1582512397158#) format(\\'truetype\\'),url(\\\\/\\\\/m.baidu.com\\\\/se\\\\/static\\\\/font\\\\/cicon.svg?t=1582512397158#cicons) format(\\'svg\\')}html{font-size:100px}html body{font-size:.14rem;font-size:14px}[data-pmd] a{color:#333;text-decoration:none;-webkit-tap-highlight-color:rgba(23,23,23,.1)}[data-pmd] .c-icon{display:inline;width:auto;height:auto;vertical-align:baseline;overflow:auto}[data-pmd] .c-row-tile{position:relative;margin:0 -9px}[data-pmd] .c-row-tile .c-row{padding:0 9px}[data-pmd] .c-row :last-child,[data-pmd] .c-row-tile :last-child{margin-right:0}[data-pmd] .c-row *,[data-pmd] .c-row-tile *{-webkit-box-sizing:border-box;box-sizing:border-box}[data-pmd] .c-icon{font-family:cicons!important;font-style:normal;-webkit-font-smoothing:antialiased}[data-pmd] .c-result{padding:0;margin:0;background:0 0;border:0 none}[data-pmd] .c-blocka{display:block}[data-pmd] a .c-title,[data-pmd] a.c-title{font:18px\\\\/26px Arial,Helvetica,sans-serif;color:#000}[data-pmd] a:visited .c-title,[data-pmd] a:visited.c-title{color:#999}[data-pmd] .sfa-view a:visited .c-title,[data-pmd] .sfa-view a:visited.c-title,[data-pmd] .sfa-view .c-title{color:#000;font:18px\\\\/26px Arial,Helvetica,sans-serif}[data-pmd] .c-title-noclick,[data-pmd] .c-title{font:18px\\\\/26px Arial,Helvetica,sans-serif;color:#999}[data-pmd] .c-title-nowrap{padding-right:33px;width:100%;position:relative;white-space:nowrap;box-sizing:border-box}[data-pmd] .c-title-nowrap .c-text{display:inline-block;vertical-align:middle}[data-pmd] .c-title-nowrap .c-title-text{display:inline-block;max-width:100%;white-space:nowrap;overflow:hidden;text-overflow:ellipsis;vertical-align:bottom}[data-pmd] .c-font-sigma{font:22px\\\\/30px Arial,Helvetica,sans-serif}[data-pmd] .c-font-large{font:18px\\\\/26px Arial,Helvetica,sans-serif}[data-pmd] .c-font-big{font:18px\\\\/26px Arial,Helvetica,sans-serif}[data-pmd] .c-font-medium{font:14px\\\\/22px Arial,Helvetica,sans-serif}[data-pmd] .c-font-normal{font:13px\\\\/21px Arial,Helvetica,sans-serif}[data-pmd] .c-font-small{font:12px\\\\/20px Arial,Helvetica,sans-serif}[data-pmd] .c-font-tiny{font:12px\\\\/20px Arial,Helvetica,sans-serif}[data-pmd] .c-price{font:18px\\\\/26px Arial,Helvetica,sans-serif;color:#f60}[data-pmd] .c-title-wrap{display:block}[data-pmd] .c-title-nowrap{display:none}@media (min-width:376px){[data-pmd] .c-title{display:block;max-width:100%;white-space:nowrap;overflow:hidden;text-overflow:ellipsis;vertical-align:middle}[data-pmd] .c-title-nowrap{display:block;overflow:visible}[data-pmd] .c-title-wrap{display:none}}[data-pmd] .c-abstract{color:#555}[data-pmd] .c-showurl{color:#999;font:13px\\\\/21px Arial,Helvetica,sans-serif}[data-pmd] .c-gray{color:#999;font:13px\\\\/21px Arial,Helvetica,sans-serif}[data-pmd] .c-moreinfo{color:#555;text-align:right;font:13px\\\\/21px Arial,Helvetica,sans-serif}[data-pmd] .c-foot-icon{display:inline-block;position:relative;top:.02rem;background:url(\\\\/\\\\/m.baidu.com\\\\/static\\\\/search\\\\/sprite.png) no-repeat;-webkit-background-size:1.9rem 1.42rem;background-size:1.9rem 1.42rem}[data-pmd] .c-foot-icon-16{width:.16rem;height:.13rem}[data-pmd] .c-foot-icon-16-aladdin{display:none;background-position:0 -.98rem}[data-pmd] .c-foot-icon-16-lightapp{background-position:-.2rem -.98rem}[data-pmd] .c-visited,[data-pmd] .c-visited .c-title,[data-pmd] .c-visited.c-title{color:#999!important}[data-pmd] .c-container{margin:8px 0;padding:10px 9px 15px;background-color:#fff;width:auto;color:#555;font:13px\\\\/21px Arial,Helvetica,sans-serif;word-break:break-word;word-wrap:break-word;border:0 none}[data-pmd] .c-container-tight{padding:10px 9px 15px;background-color:#fff;width:auto;color:#555;font:13px\\\\/21px Arial,Helvetica,sans-serif;word-break:break-word;word-wrap:break-word;border:0 none}[data-pmd] .c-container-tile{margin:0;padding:0}[data-pmd] .c-span-middle{display:-webkit-box;display:-moz-box;display:-ms-flexbox;display:-webkit-flex;display:flex;-webkit-box-orient:vertical;-moz-box-orient:vertical;-webkit-box-direction:normal;-moz-box-direction:normal;-webkit-flex-direction:column;-ms-flex-direction:column;flex-direction:column;-moz-box-pack:center;-webkit-box-pack:center;-ms-flex-pack:center;-webkit-justify-content:center;justify-content:center}[data-pmd] .c-line-clamp2,[data-pmd] .c-line-clamp3,[data-pmd] .c-line-clamp4,[data-pmd] .c-line-clamp5{display:-webkit-box;-webkit-box-orient:vertical;overflow:hidden;text-overflow:ellipsis;margin-bottom:4px;white-space:normal}[data-pmd] .c-line-clamp2{-webkit-line-clamp:2}[data-pmd] .c-line-clamp3{-webkit-line-clamp:3}[data-pmd] .c-line-clamp4{-webkit-line-clamp:4}[data-pmd] .c-line-clamp5{-webkit-line-clamp:5}[data-pmd] .c-line-clamp1{display:block;overflow:hidden;text-overflow:ellipsis;white-space:nowrap}[data-pmd] .c-line-top{border-top:1px solid #eee}[data-pmd] .c-line-dotted-top{border-top:1px dotted #eee}[data-pmd] .c-line-bottom{border-bottom:1px solid #eee}[data-pmd] .c-line-dotted-bottom{border-bottom:1px dotted #eee}[data-pmd] .c-color{color:#555}[data-pmd] .c-color-gray-a{color:#666}[data-pmd] .c-color-gray{color:#999}[data-pmd] .c-color-link{color:#000}[data-pmd] .c-color-noclick{color:#999}[data-pmd] .c-color-url{color:#999}[data-pmd] .c-color-red{color:#e43}[data-pmd] .c-color-red:visited{color:#e43}[data-pmd] .c-color-orange{color:#f60}[data-pmd] .c-color-orange:visited{color:#f60}[data-pmd] .c-color-icon-special{color:#b4b4b4}[data-pmd] .c-color-split{color:#eee}[data-pmd] .c-bg-color-white{background-color:#fff}[data-pmd] .c-bg-color-black{background-color:#000}[data-pmd] .se-page-bd .c-bg-color-gray{background-color:#f1f1f1}[data-pmd] .sfa-view .c-bg-color-gray{background-color:#f2f2f2}[data-pmd] .c-gap-top-zero{margin-top:0}[data-pmd] .c-gap-right-zero{margin-right:0}[data-pmd] .c-gap-bottom-zero{margin-bottom:0}[data-pmd] .c-gap-left-zero{margin-left:0}[data-pmd] .c-gap-top{margin-top:8px}[data-pmd] .c-gap-right{margin-right:8px}[data-pmd] .c-gap-bottom{margin-bottom:8px}[data-pmd] .c-gap-left{margin-left:8px}[data-pmd] .c-gap-top-small{margin-top:4px}[data-pmd] .c-gap-right-small{margin-right:4px}[data-pmd] .c-gap-bottom-small{margin-bottom:4px}[data-pmd] .c-gap-left-small{margin-left:4px}[data-pmd] .c-gap-top-large{margin-top:12px}[data-pmd] .c-gap-right-large{margin-right:12px}[data-pmd] .c-gap-bottom-large{margin-bottom:12px}[data-pmd] .c-gap-left-large{margin-left:12px}[data-pmd] .c-gap-left-middle{margin-left:8px}[data-pmd] .c-gap-right-middle{margin-right:8px}[data-pmd] .c-gap-inner-top-zero{padding-top:0}[data-pmd] .c-gap-inner-right-zero{padding-right:0}[data-pmd] .c-gap-inner-bottom-zero{padding-bottom:0}[data-pmd] .c-gap-inner-left-zero{padding-left:0}[data-pmd] .c-gap-inner-top{padding-top:8px}[data-pmd] .c-gap-inner-right{padding-right:8px}[data-pmd] .c-gap-inner-bottom{padding-bottom:8px}[data-pmd] .c-gap-inner-left{padding-left:8px}[data-pmd] .c-gap-inner-top-small{padding-top:4px}[data-pmd] .c-gap-inner-right-small{padding-right:4px}[data-pmd] .c-gap-inner-bottom-small{padding-bottom:4px}[data-pmd] .c-gap-inner-left-small{padding-left:4px}[data-pmd] .c-gap-inner-top-large{padding-top:12px}[data-pmd] .c-gap-inner-right-large{padding-right:12px}[data-pmd] .c-gap-inner-bottom-large{padding-bottom:12px}[data-pmd] .c-gap-inner-left-large{padding-left:12px}[data-pmd] .c-gap-inner-left-middle{padding-left:8px}[data-pmd] .c-gap-inner-right-middle{padding-right:8px}[data-pmd] .c-img{position:relative;display:block;width:100%;border:0 none;background:#f7f7f7 url(\\\\/\\\\/m.baidu.com\\\\/static\\\\/search\\\\/image_default.png) center center no-repeat;margin:4px 0}[data-pmd] .c-img img{width:100%}[data-pmd] .c-img .c-img-text{position:absolute;left:0;bottom:0;width:100%;height:.16rem;background:rgba(51,51,51,.4);font-size:.12rem;line-height:1.33333333;color:#fff;text-align:center}[data-pmd] .c-img-s,[data-pmd] .c-img-l,[data-pmd] .c-img-w,[data-pmd] .c-img-x,[data-pmd] .c-img-y,[data-pmd] .c-img-v,[data-pmd] .c-img-z{height:0;overflow:hidden}[data-pmd] .c-img-s{padding-bottom:100%}[data-pmd] .c-img-l{padding-bottom:133.33333333%}[data-pmd] .c-img-w{padding-bottom:56.25%}[data-pmd] .c-img-x{padding-bottom:75%}[data-pmd] .c-img-y{padding-bottom:66.66666667%}[data-pmd] .c-img-v{padding-bottom:33.33333333%}[data-pmd] .c-img-z{padding-bottom:40%}[data-pmd] .c-table{width:100%;border-collapse:collapse;border-spacing:0;color:#000}[data-pmd] .c-table th{color:#999}[data-pmd] .c-table th,[data-pmd] .c-table td{border-bottom:1px solid #eee;text-align:left;font-weight:400;padding:8px 0}[data-pmd] .c-table-hihead th{padding:0;border-bottom:0 none;background-color:#f6f6f6;line-height:.37rem}[data-pmd] .c-table-hihead div{background-color:#f6f6f6}[data-pmd] .c-table-hihead th:first-child div{margin-left:-9px;padding-left:9px}[data-pmd] .c-table-hihead th:last-child div{margin-right:-9px;padding-right:9px}[data-pmd] .c-table-noborder th,[data-pmd] .c-table-noborder td{border-bottom:0 none}[data-pmd] .c-table-slink tbody{color:#555;border-bottom:1px solid #eee}[data-pmd] .c-table-slink tbody th{border-bottom:1px solid #eee;padding:0}[data-pmd] .c-table-slink tbody td{border-bottom:0;padding:0}[data-pmd] .c-table-slink tbody td .c-slink-auto{margin:5px 0}[data-pmd] .c-table-slink tbody tr:first-child th,[data-pmd] .c-table-slink tbody tr:first-child td{padding:8px 0}[data-pmd] .c-table-slink tbody tr:nth-child(2) th,[data-pmd] .c-table-slink tbody tr:nth-child(2) td{padding-top:8px}[data-pmd] .c-table-slink tbody tr th,[data-pmd] .c-table-slink tbody tr td{padding-bottom:4px}[data-pmd] .c-table-slink tbody tr:last-child th,[data-pmd] .c-table-slink tbody tr:last-child td{padding-bottom:8px}[data-pmd] .c-table-abstract tbody{color:#555;border-bottom:1px solid #eee}[data-pmd] .c-table-abstract tbody th{border-bottom:1px solid #eee;padding:0}[data-pmd] .c-table-abstract tbody td{border-bottom:0;padding:0}[data-pmd] .c-table-abstract tbody tr:first-child th,[data-pmd] .c-table-abstract tbody tr:nth-child(2) th,[data-pmd] .c-table-abstract tbody tr:first-child td,[data-pmd] .c-table-abstract tbody tr:nth-child(2) td{padding-top:8px}[data-pmd] .c-table-abstract tbody tr th,[data-pmd] .c-table-abstract tbody tr td{padding-bottom:8px}[data-pmd] .c-table-abstract .c-table-gray{color:#999;font:12px\\\\/20px Arial,Helvetica,sans-serif}[data-pmd] .c-table-shaft th{color:#999}[data-pmd] .c-table-shaft td,[data-pmd] .c-table-shaft th{border-right:1px solid #eee;text-align:center}[data-pmd] .c-table-shaft td:last-child,[data-pmd] .c-table-shaft th:last-child{border-right:0}[data-pmd] .c-table-shaft tr:last-child td{border-bottom:0}[data-pmd] .c-slink{width:auto;display:-webkit-box;-webkit-box-orient:horizontal;-webkit-box-direction:normal;-webkit-box-pack:justify;-webkit-box-align:stretch;-webkit-box-lines:single;display:-webkit-flex;-webkit-flex-direction:row;-webkit-justify-content:space-between;-webkit-align-items:stretch;-webkit-align-content:flex-start;-webkit-flex-wrap:nowrap}[data-pmd] .c-slink a,[data-pmd] .c-slink .c-slink-elem{position:relative;display:block;-webkit-box-flex:1;-webkit-flex:1 1 auto;width:16.66666667%;height:.32rem;line-height:2.28571429;padding:0 .06rem;font-size:.14rem;text-align:center;text-decoration:none;color:#666;overflow:hidden;text-overflow:ellipsis;white-space:nowrap}[data-pmd] .c-slink a:first-child::before,[data-pmd] .c-slink .c-slink-elem:first-child::before,[data-pmd] .c-slink a::after,[data-pmd] .c-slink .c-slink-elem::after{content:\\\\\"\\\\\";width:1px;height:.1rem;background-color:#eee;position:absolute;top:.11rem;right:0}[data-pmd] .c-slink a:first-child::before,[data-pmd] .c-slink .c-slink-elem:first-child::before{left:0}[data-pmd] .c-slink-strong{margin-bottom:1px}[data-pmd] .c-slink-strong:last-child{margin-bottom:0}[data-pmd] .c-slink-strong:last-child a,[data-pmd] .c-slink-strong:last-child .c-slink-elem{border-bottom:1px solid #eee}[data-pmd] .c-slink-strong a,[data-pmd] .c-slink-strong .c-slink-elem{height:.3rem;margin-right:1px;line-height:.3rem;background-color:#f5f5f5}[data-pmd] .c-slink-strong a:last-child,[data-pmd] .c-slink-strong .c-slink-elem:last-child{margin-right:0}[data-pmd] .c-slink-strong a:first-child::before,[data-pmd] .c-slink-strong .c-slink-elem:first-child::before,[data-pmd] .c-slink-strong a::after,[data-pmd] .c-slink-strong .c-slink-elem::after{display:none}[data-pmd] .c-slink-new{display:block;width:100%;height:.3rem;line-height:.3rem;background-color:#f5f5f5;font-size:.14rem;color:#000;text-align:center;text-decoration:none;overflow:hidden;text-overflow:ellipsis;white-space:nowrap;padding:0 .08rem;border-radius:.03rem;vertical-align:middle;outline:0;-webkit-tap-highlight-color:rgba(0,0,0,0)}[data-pmd] .c-slink-new:visited{color:#000}[data-pmd] .c-slink-new:active{background-color:#e5e5e5}[data-pmd] .c-slink-new-strong{display:block;width:100%;background-color:#f5f5f5;font-size:.14rem;color:#000;text-align:center;text-decoration:none;overflow:hidden;text-overflow:ellipsis;white-space:nowrap;padding:0 .08rem;border-radius:.03rem;vertical-align:middle;outline:0;-webkit-tap-highlight-color:rgba(0,0,0,0);height:.3rem;line-height:.3rem}[data-pmd] .c-slink-new-strong:visited{color:#000}[data-pmd] .c-slink-new-strong:active{background-color:#e5e5e5}[data-pmd] .c-slink-auto{display:inline-block;max-width:100%;height:.3rem;line-height:.3rem;background-color:#f5f5f5;font-size:.14rem;color:#000;text-align:center;text-decoration:none;overflow:hidden;text-overflow:ellipsis;white-space:nowrap;padding:0 .1rem;border-radius:3px;vertical-align:middle;outline:0;-webkit-tap-highlight-color:rgba(0,0,0,0)}[data-pmd] .c-slink-auto:active{background-color:#e5e5e5}[data-pmd] .c-slink-auto:visited{color:#000}[data-pmd] .c-text{display:inline-block;height:14px;padding:0 2px;margin-bottom:2px;text-decoration:none;vertical-align:middle;color:#fff;font-size:10px;line-height:15px;font-style:normal;font-weight:400;overflow:hidden;border-radius:2px}[data-pmd] .c-text-danger{background-color:#f13f40}[data-pmd] .c-text-public{background-color:#2b99ff}[data-pmd] .c-text-box{display:inline-block;padding:1px 2px;margin-bottom:2px;text-decoration:none;vertical-align:middle;font-size:10px;line-height:11px;height:10px;font-style:normal;font-weight:400;overflow:hidden;-webkit-box-sizing:content-box;box-sizing:content-box;border-radius:2px}[data-pmd] .c-text-box-gray{color:#999;border:1px solid #e3e3e3}[data-pmd] .c-text-box-orange{color:#f60;border:1px solid #f3d9c5}[data-pmd] .c-text-box-pink{color:#ff4683;border:1px solid #ffc7da}[data-pmd] .c-text-box-red{color:#f13f40;border:1px solid #efb9b9}[data-pmd] .c-text-box-blue{color:#2b99ff;border:1px solid #b3d4f3}[data-pmd] .c-text-box-green{color:#65b12c;border:1px solid #d7efc6}[data-pmd] .c-text-box-yellow{color:#faa90e;border:1px solid #feecc9}[data-pmd] .c-text-info{display:inline;color:#999;font-style:normal;font-weight:400;font-family:sans-serif}[data-pmd] .c-index{display:inline-block;height:15px;margin:0 5px 3px 0;text-align:center;vertical-align:middle;color:#999;font-size:14px;line-height:15px;overflow:hidden}[data-pmd] .c-index-hot-common{font-size:12px;color:#fff;width:16px}[data-pmd] .c-index-hot,[data-pmd] .c-index-hot1{background-color:#ff2d46;font-size:12px;color:#fff;width:16px}[data-pmd] .c-index-hot2{background-color:#ff7f49;font-size:12px;color:#fff;width:16px}[data-pmd] .c-index-hot3{background-color:#ffaa3b;font-size:12px;color:#fff;width:16px}[data-pmd] .c-btn{display:inline-block;padding:0 .08rem;width:100%;height:.3rem;font:13px\\\\/21px Arial,Helvetica,sans-serif;line-height:.28rem;text-decoration:none;text-align:center;color:#000;background-color:#fff;border:1px solid #707379;border-radius:3px;vertical-align:middle;overflow:hidden;outline:0;-webkit-tap-highlight-color:rgba(0,0,0,0)}[data-pmd] .c-btn:visited{color:#000}[data-pmd] .c-btn:active{border-color:#707379;background-color:#f2f2f2}[data-pmd] .c-btn .c-icon{position:relative;top:-1px;vertical-align:middle;font-size:14px;margin-right:4px}[data-pmd] .c-btn-small{display:inline-block;padding:0 .08rem;width:100%;height:.3rem;line-height:.28rem;font-size:12px;font-weight:400;text-decoration:none;text-align:center;color:#000;background-color:#fff;border:1px solid #707379;border-radius:3px;vertical-align:middle;overflow:hidden;outline:0;-webkit-tap-highlight-color:rgba(0,0,0,0)}[data-pmd] .c-btn-small:visited{color:#000}[data-pmd] .c-btn-small:active{border-color:#707379;background-color:#f2f2f2}[data-pmd] .c-btn-small .c-icon{position:relative;top:-1px;vertical-align:middle;font-size:14px;margin-right:4px}@media screen and (max-width:360px){[data-pmd] .c-btn{padding:0 .05rem}}@media screen and (max-width:375px){[data-pmd] .c-btn-small{padding:0 .02rem}}[data-pmd] .c-btn-primary{background-color:#f8f8f8;border-color:#d0d0d0;border-bottom-color:#b2b2b2;-webkit-box-shadow:0 1px 1px 0 #e1e1e1;box-shadow:0 1px 1px 0 #e1e1e1}[data-pmd] .c-btn-primary .c-icon{color:#02aaf8}[data-pmd] .c-btn-disable{color:#999;background-color:#fff;border-color:#f1f1f1}[data-pmd] .c-btn-disable:visited{color:#999}[data-pmd] .c-btn-disable:active{border-color:#f1f1f1}[data-pmd] .c-btn-disable .c-icon{color:#999}[data-pmd] .c-btn-weak{height:.3rem;line-height:.3rem;border-width:0}[data-pmd] .c-btn-weak:active{background-color:#f2f2f2}[data-pmd] .c-btn-weak-auto{width:auto;height:.3rem;line-height:.3rem;border-width:0}[data-pmd] .c-btn-weak-auto:active{background-color:#f2f2f2}[data-pmd] .c-btn-weak-gray{height:.3rem;line-height:.3rem;background-color:#f8f8f8;border-width:0}[data-pmd] .c-btn-weak-gray:active{background-color:#e5e5e5}[data-pmd] .c-btn-pills{height:.2rem;padding:0 .08rem;border-width:0;border-radius:.2rem;line-height:.2rem;font-size:10px;background-color:rgba(0,0,0,.4);color:#fff;width:auto;word-spacing:-3px;letter-spacing:0}[data-pmd] .c-btn-pills span{position:relative;top:1px}[data-pmd] .c-btn-pills::selection{color:#fff}[data-pmd] .c-btn-pills:visited{color:#fff}[data-pmd] .c-btn-pills:active{background-color:rgba(0,0,0,.4);color:#fff}[data-pmd] .c-btn-pills .c-icon{font-size:10px;top:1px;margin-right:4px}[data-pmd] .c-btn-circle{height:.3rem;width:.3rem;border-radius:50%;color:#fff;background-color:rgba(0,0,0,.4);border:0;padding:0;line-height:.3rem;text-align:center;vertical-align:middle;white-space:nowrap}[data-pmd] .c-btn-circle:active{color:#fff;background-color:rgba(0,0,0,.4)}[data-pmd] .c-btn-circle .c-icon{top:0;margin:0;display:block;font-size:14px;color:#fff}[data-pmd] .c-btn-circle-big{height:.3rem;width:.3rem;border-radius:50%;background-color:rgba(0,0,0,.4);border:0;padding:0;line-height:.3rem;text-align:center;vertical-align:middle;white-space:nowrap;height:.48rem;width:.48rem;line-height:.48rem;font-size:18px;color:#fff}[data-pmd] .c-btn-circle-big:active{color:#fff;background-color:rgba(0,0,0,.4)}[data-pmd] .c-btn-circle-big .c-icon{top:0;margin:0;display:block;font-size:14px;color:#fff}[data-pmd] .c-btn-circle-big .c-icon{font-size:24px}[data-pmd] .c-input{word-break:normal;word-wrap:normal;-webkit-appearance:none;appearance:none;display:inline-block;padding:0 .08rem;width:100%;height:.3rem;vertical-align:middle;line-height:normal;font-size:.14rem;color:#000;background-color:#fff;border:1px solid #eee;border-radius:1px;overflow:hidden;outline:0}[data-pmd] .c-input::-webkit-input-placeholder{color:#999;border-color:#eee}[data-pmd] .c-input:focus{border-color:#000}[data-pmd] .c-input:focus .c-icon{color:#dbdbdb}[data-pmd] .c-input:disabled{color:#999;border-color:#f1f1f1}[data-pmd] .c-dropdown{position:relative;background-color:#fff}[data-pmd] .c-dropdown::before{font-family:cicons;content:\\\\\"\\\\\\\\e73c\\\\\";display:inline-block;position:absolute;bottom:0;right:.08rem;color:#555;font-size:.14rem;height:.3rem;line-height:.3rem}[data-pmd] .c-dropdown>label{display:block;color:#999;background-color:#fff;width:100%;height:.26rem}[data-pmd] .c-dropdown>select{word-break:normal;word-wrap:normal;position:relative;-webkit-appearance:none;appearance:none;display:inline-block;padding:0 .24rem 0 .08rem;width:100%;height:.3rem;vertical-align:middle;line-height:normal;font-size:.14rem;color:#000;background-color:transparent;border:1px solid #eee;border-radius:0;overflow:hidden;outline:0}[data-pmd] .c-dropdown>select:focus{border-color:#000}[data-pmd] .c-dropdown-disable{background-color:#fff}[data-pmd] .c-dropdown-disable::before{color:#999}[data-pmd] .c-dropdown-disable>label{color:#999}[data-pmd] .c-dropdown-disable>select{color:#999;border-color:#f1f1f1}[data-pmd] .c-btn-shaft{border:1px solid #f1f1f1;text-overflow:ellipsis;white-space:nowrap}[data-pmd] .c-btn-shaft:active{border-color:#f1f1f1}[data-pmd] .c-tab-select{background-color:#f5f5f5;height:.38rem;line-height:.38rem;font-size:.14rem;color:#000;text-align:center}[data-pmd] .c-tab-select .c-icon{display:inline-block;font-size:.14rem;color:#555}[data-pmd] .c-tab-select .c-span12{text-align:left}[data-pmd] .c-tab-select .c-span12 .c-icon{position:absolute;right:0;bottom:0}@-webkit-keyframes c-loading-rotation{from{-webkit-transform:rotate(1deg)}to{-webkit-transform:rotate(360deg)}}[data-pmd] .c-loading,[data-pmd] .c-loading-zbios{text-align:center}[data-pmd] .c-loading i{display:block;position:relative;font-size:.3rem;width:.54rem;height:.54rem;line-height:.52rem;color:#f3f3f3;margin:auto}[data-pmd] .c-loading i::before{content:\\\\\"\\\\\";display:block;position:absolute;width:.5rem;height:.5rem;margin:auto;border-radius:50%;border:.02rem solid #f3f3f3;border-top-color:#ddd;-webkit-transform-origin:50% 50%;-webkit-animation:c-loading-rotation 1s ease 0s infinite normal}[data-pmd] .c-loading-zbios i{display:block;position:relative;font-size:.48rem;width:.54rem;height:.54rem;line-height:.54rem;color:#f3f3f3;margin:auto;-webkit-transform-origin:50% 50%;-webkit-animation:c-loading-rotation .5s linear 0s infinite normal}[data-pmd] .c-loading p,[data-pmd] .c-loading-zbios p{color:#999;margin-top:.08rem;text-indent:.5em}[data-pmd] .c-tabs{position:relative}[data-pmd] .c-tabs-nav{position:relative;min-width:100%;height:.38rem;padding:0 9px;font-size:.14rem;white-space:nowrap;background-color:#f5f5f5;display:-webkit-box;-webkit-box-orient:horizontal;-webkit-box-direction:normal;-webkit-box-pack:justify;-webkit-box-align:stretch;-webkit-box-lines:single;display:-webkit-flex;-webkit-flex-direction:row;-webkit-justify-content:space-between;-webkit-align-items:stretch;-webkit-align-content:flex-start;-webkit-flex-wrap:nowrap;-webkit-user-select:none!important;user-select:none!important;-khtml-user-select:none!important;-webkit-touch-callout:none!important}[data-pmd] .c-tabs-nav *{-webkit-box-sizing:border-box;box-sizing:border-box}[data-pmd] .c-tabs-nav-li{display:block;-webkit-box-flex:1;-webkit-flex:1 1 auto;width:16.66666667%;list-style:none;text-decoration:none;height:.38rem;line-height:.38rem;color:#555;text-align:center;text-overflow:ellipsis;white-space:nowrap;overflow:hidden;-webkit-tap-highlight-color:rgba(0,0,0,0)}[data-pmd] .c-tabs-nav .c-tabs-nav-selected{color:#000;border-bottom:1px solid #000}[data-pmd] .c-tabs-nav-bottom{border-top:1px solid #f1f1f1;padding:0}[data-pmd] .c-tabs-nav-bottom .c-tabs-nav-li{color:#999}[data-pmd] .c-tabs-nav-bottom .c-tabs-nav-icon{display:none}[data-pmd] .c-tabs-nav-bottom .c-tabs-nav-selected{position:relative;top:-1px;height:.38rem;line-height:.39rem;color:#000;background-color:#fff;border-bottom:1px solid #000;border-top-color:#fff}[data-pmd] .c-tabs-nav-bottom .c-tabs-nav-selected:first-child{margin-left:-1px}[data-pmd] .c-tabs-nav-bottom .c-tabs-nav-selected .c-tabs-nav-icon{display:inline-block;width:.15rem;height:.15rem}[data-pmd] .c-tabs-nav-view{position:relative;height:.38rem;background-color:#f5f5f5;overflow:hidden}[data-pmd] .c-tabs-nav-view .c-tabs-nav{display:block}[data-pmd] .c-tabs-nav-view .c-tabs-nav .c-tabs-nav-li{display:inline-block;width:auto;padding:0 .17rem}[data-pmd] .c-tabs-nav-toggle{position:absolute;top:0;right:0;z-index:9;display:block;text-align:center;width:.38rem;height:.38rem;border-left:1px solid #eee;background-color:#f5f5f5}[data-pmd] .c-tabs-nav-toggle::before{display:inline-block;font-family:cicons;content:\\\\\"\\\\\\\\e73c\\\\\";font-size:.12rem;color:#333;line-height:.36rem}[data-pmd] .c-tabs-nav-layer{position:absolute;top:0;z-index:8;width:100%;background-color:#f5f5f5;border-bottom:1px solid #eee}[data-pmd] .c-tabs-nav-layer p{color:#999;height:.39rem;line-height:.39rem;padding:0 .17rem;border-bottom:1px solid #eee}[data-pmd] .c-tabs-nav-layer-ul .c-tabs-nav-li{display:inline-block;width:16.66666667%;padding:0}[data-pmd] .c-tabs-nav-layer-ul .c-tabs-nav-selected{color:#000}[data-pmd] .c-tabs2 .c-tabs-view-content{overflow:hidden}[data-pmd] .c-tabs2 .c-tabs-content{position:relative;float:left;display:none}[data-pmd] .c-tabs2 .c-tabs-selected{display:block}[data-pmd] .c-tabs2 .c-tabs-view-content-anim{transition:height .3s cubic-bezier(0.7,0,.3,1);-webkit-transition:height .3s cubic-bezier(0.7,0,.3,1);-moz-transition:height .3s cubic-bezier(0.7,0,.3,1);-o-transition:height .3s cubic-bezier(0.7,0,.3,1);transform:translate3d(0,0,0);-webkit-transform:translate3d(0,0,0);-moz-transition:translate3d(0,0,0);-o-transition:translate3d(0,0,0)}[data-pmd] .c-tabs2 .c-tabs-stopanimate{transition:none;-webkit-transition:none;transform:none;-webkit-transform:none;-moz-transition:none;-o-transition:none}[data-pmd] .c-tabs2 .c-tabs-tabcontent{transition:transform .3s cubic-bezier(0.7,0,.3,1);-webkit-transition:transform .3s cubic-bezier(0.7,0,.3,1);-moz-transition:transform .3s cubic-bezier(0.7,0,.3,1);-o-transition:transform .3s cubic-bezier(0.7,0,.3,1);transform:translate3d(0,0,0);-webkit-transform:translate3d(0,0,0);-moz-transition:translate3d(0,0,0);-o-transition:translate3d(0,0,0)}[data-pmd] .c-tabs-animation .c-tabs-view-content{margin:0 -.17rem;overflow:hidden}[data-pmd] .c-tabs-animation .c-tabs-content{position:relative;padding-left:.17rem;padding-right:.17rem;box-sizing:border-box;float:left;display:none}[data-pmd] .c-tabs-animation .c-tabs-selected{display:block}[data-pmd] .c-tabs-animation .c-tabs-view-content-anim{transition:height .3s cubic-bezier(0.7,0,.3,1);-webkit-transition:height .3s cubic-bezier(0.7,0,.3,1);-moz-transition:height .3s cubic-bezier(0.7,0,.3,1);-o-transition:height .3s cubic-bezier(0.7,0,.3,1);transform:translate3d(0,0,0);-webkit-transform:translate3d(0,0,0);-moz-transition:translate3d(0,0,0);-o-transition:translate3d(0,0,0)}[data-pmd] .c-tabs-animation .c-tabs-stopanimate{transition:none;-webkit-transition:none;transform:none;-webkit-transform:none;-moz-transition:none;-o-transition:none}[data-pmd] .c-tabs-animation .c-tabs-tabcontent{transition:transform .3s cubic-bezier(0.7,0,.3,1);-webkit-transition:transform .3s cubic-bezier(0.7,0,.3,1);-moz-transition:transform .3s cubic-bezier(0.7,0,.3,1);-o-transition:transform .3s cubic-bezier(0.7,0,.3,1);transform:translate3d(0,0,0);-webkit-transform:translate3d(0,0,0);-moz-transition:translate3d(0,0,0);-o-transition:translate3d(0,0,0)}[data-pmd] .c-scroll-wrapper,[data-pmd] .c-scroll-wrapper-new{position:relative;overflow:hidden}[data-pmd] .c-scroll-wrapper-new .c-scroll-touch{padding-left:9px;padding-right:9px}[data-pmd] .c-scroll-parent-gap{padding:0 .11rem 0 9px}[data-pmd] .c-scroll-parent-gap .c-scroll-element-gap{padding-right:.1rem}[data-pmd] .c-scroll-indicator-wrapper{text-align:center;height:6px}[data-pmd] .c-scroll-indicator-wrapper .c-scroll-indicator{vertical-align:top}[data-pmd] .c-scroll-indicator{display:inline-block;position:relative;height:6px}[data-pmd] .c-scroll-indicator .c-scroll-dotty{position:absolute;width:6px;height:6px;border-radius:50%;background-color:#999}[data-pmd] .c-scroll-indicator .c-scroll-dotty-now{background-color:#999}[data-pmd] .c-scroll-indicator span{display:block;float:left;width:6px;height:6px;border-radius:50%;background-color:#e1e1e1;margin-right:.07rem}[data-pmd] .c-scroll-indicator span:last-child{margin-right:0}[data-pmd] .c-scroll-touch{position:relative;overflow-x:auto;-webkit-overflow-scrolling:touch;padding-bottom:.3rem;margin-top:-.3rem;-webkit-transform:translateY(0.3rem);transform:translateY(0.3rem)}[data-pmd] .c-location-wrap{overflow:hidden;padding:0 .15rem;background-color:#f7f7f7}[data-pmd] .c-location-header-tips{font-size:.13rem}[data-pmd] .c-location-header-btn{padding-top:.08rem;-webkit-box-flex:0;-webkit-flex:none}[data-pmd] .c-location-header-btn div{display:inline-block}[data-pmd] .c-location-header-btn-reload:after{content:\\\\\"\\\\\";display:inline-block;overflow:hidden;width:1px;height:.1rem;margin:0 .08rem;background-color:#ccc}[data-pmd] .c-location-header-btn-788{display:none}[data-pmd] .c-location-header-btn-in,[data-pmd] .c-location-header-btn-reload{color:#333}[data-pmd] .c-location-header-btn .c-icon{color:#666;vertical-align:top}[data-pmd] .c-location-header-tips{color:#999}[data-pmd] .c-location-header-tips-err{color:#c00}[data-pmd] .c-location-header-tips-success{color:#38f}[data-pmd] .c-location-header-btn-reload-ing .c-location-header-btn-787{display:none}[data-pmd] .c-location-header-btn-reload-ing .c-location-header-btn-788{display:inline-block;color:#999;-webkit-animation-name:c_location_rotate;-webkit-animation-duration:1.5s;-webkit-animation-iteration-count:infinite;-webkit-animation-timing-function:linear}[data-pmd] .c-location-header-btn-reload-ing{color:#999}@-webkit-keyframes c_location_rotate{from{-webkit-transform:rotate(0deg)}to{-webkit-transform:rotate(360deg)}}@keyframes c_location_rotate{from{transform:rotate(0deg)}to{transform:rotate(360deg)}}[data-pmd] .c-location-header-btn-in-active,[data-pmd] .c-location-header-btn-in-active .c-icon{color:#38f}[data-pmd] .c-location-form{position:relative}[data-pmd] .c-location-form .c-input{padding-right:.7rem}[data-pmd] .c-location-input-close{position:absolute;z-index:10;top:1px;right:.37rem;display:none;width:.36rem;height:.36rem;line-height:.36rem;text-align:center;color:#ddd;font-size:.16rem}[data-pmd] .c-location-form .c-input:focus{border-color:#ddd #eee #eee #ddd;background-color:#fff}[data-pmd] .c-location-sub{position:absolute;z-index:10;top:1px;right:1px;width:.36rem;height:.36rem;border-left:1px solid #eee;line-height:.36rem;text-align:center;background-color:#fafafa}[data-pmd] .c-location-body{display:none;padding-bottom:.14rem}[data-pmd] .c-location-down{display:none;border:1px solid #eee;border-top:0;background-color:#fff;-webkit-tap-highlight-color:rgba(0,0,0,0)}[data-pmd] .c-location-down-tips{height:.38rem;padding-left:.12rem;line-height:.38rem;background-color:#fafafa}[data-pmd] .c-location-down-tips-close{padding-right:.12rem}[data-pmd] .c-location-down-tips-close:before{content:\\\\\"\\\\\";display:inline-block;width:1px;height:.1rem;margin-right:.08rem;background-color:#ddd}[data-pmd] .c-location-down ul{list-style:none}[data-pmd] .c-location-down li{padding:.04rem .12rem;border-top:1px solid #eee}[data-pmd] .c-navs{position:relative}[data-pmd] .c-navs-bar{position:relative;min-width:100%;height:40px;white-space:nowrap;display:-webkit-box;-webkit-box-orient:horizontal;-webkit-box-direction:normal;-webkit-box-pack:justify;-webkit-box-align:stretch;-webkit-box-lines:single;display:-webkit-flex;-webkit-flex-direction:row;-webkit-justify-content:space-between;-webkit-align-items:stretch;-webkit-align-content:flex-start;-webkit-flex-wrap:nowrap}[data-pmd] .c-navs .c-row-tile{border-bottom:1px solid #f1f1f1}[data-pmd] .c-navs-sub .c-navs-bar{height:38px}[data-pmd] .c-navs-bar *{-webkit-box-sizing:border-box;box-sizing:border-box}[data-pmd] .c-navs-bar-li{display:block;-webkit-box-flex:1;-webkit-flex:1 1 auto;width:16.66666667%;height:40px;line-height:40px;list-style:none;text-decoration:none;color:#666;text-align:center;font-size:15px;-webkit-tap-highlight-color:transparent;padding:0 17px}[data-pmd] .c-navs-sub .c-navs-bar-li{height:38px;line-height:38px}[data-pmd] .c-navs-bar-li span{height:100%;display:inline-block;max-width:100%;text-overflow:ellipsis;white-space:nowrap;overflow:hidden}[data-pmd] .c-navs-bar .c-navs-bar-selected span{color:#333;font-weight:700;border-bottom:2px solid #333}[data-pmd] .c-navs-bar-view{position:relative;overflow:hidden}[data-pmd] .c-navs-bar-view .c-navs-bar{display:block}[data-pmd] .c-navs-bar-view .c-navs-bar .c-navs-bar-li{display:inline-block;width:auto;padding:0 17px}[data-pmd] .c-navs-bar-toggle{position:absolute;top:0;right:0;width:34px;height:40px;background-color:#fff}[data-pmd] .c-navs-sub .c-navs-bar-toggle{height:38px}[data-pmd] .c-navs-bar-toggle i{width:0;height:0;right:17px;top:17px;border-right:5px solid transparent;border-top:5px solid #999;border-left:5px solid transparent;position:absolute}[data-pmd] .c-navs-bar-layer{position:absolute;top:0;z-index:8;width:100%;background-color:#fff;overflow-x:hidden}[data-pmd] .c-navs-bar-layer p{color:#999;padding:9px 17px 13px}[data-pmd] .c-navs-sub .c-navs-bar-layer p{padding:8px 17px 13px}[data-pmd] .c-navs-bar-layer .c-row{margin-bottom:17px}[data-pmd] .c-navs-sub .c-navs-bar-toggle i{top:16px}[data-pmd] .c-navs-bar-layer .c-navs-bar-toggle i{border-right:5px solid transparent;border-bottom:5px solid #999;border-left:5px solid transparent;border-top:0}[data-pmd] .c-navs-bar-layer .c-navs-bar-li{height:33px;line-height:33px;text-align:center;font-size:14px;color:#333;width:33.33333333%;-webkit-box-flex:4;-webkit-flex:4 4 auto;padding-right:1.55367232%;padding-left:1.55367232%}[data-pmd] .c-navs-bar-layer .c-span4.c-navs-bar-li span{display:inline-block;width:100%;border:1px solid #f1f1f1;border-bottom:1px solid #f1f1f1}[data-pmd] .c-navs-bar-layer .c-span4.c-navs-bar-selected span{border:2px solid #333;line-height:31px}[data-pmd] .c-navs-shadow{right:34px;position:absolute;top:0;width:10px;height:40px;background:-webkit-linear-gradient(left,rgba(255,255,255,0),#fff);background:linear-gradient(to right,rgba(255,255,255,0),#fff)}[data-pmd] .c-navs-sub .c-navs-shadow{height:38px}[data-pmd] .c-navs-bar-mask{position:absolute;z-index:7;top:0;left:0;background:rgba(0,0,0,.65);height:1024px;width:100%}[data-pmd] .c-navs-sub .c-navs-bar-li span{border-bottom:0;font-size:14px}<\\\\/style>\";\\n    result_common_css=$(result_common_css);\\n    result_common_css.attr(\"data-for\",\"result\");\\n\\n    var index_css= $(\\'head [index]\\');\\n    var wrapper=$(\"#wrapper\");\\n    window.index_on=function(){\\n        index_css.insertAfter(\"meta:eq(0)\");\\n        result_common_css.remove();\\n        wrapper.show();\\n        if(bds.su&&bds.su.U&&bds.su.U.homeInit){\\n            bds.su.U.homeInit();\\n        }\\n    };\\n    window.index_off=function(){\\n        result_common_css.insertAfter(\"meta:eq(0)\");\\n        wrapper.show();\\n        index_css.remove();\\n    };\\n})();\\n$(window).on(\"load\", function() {\\n    var e = $(\\'#virus-2020\\');\\n    e.click(function() {\\n        $.setCookie(\\'virus-2020-clicked\\', \\'1\\');\\n        e.removeClass(\\'dot\\');\\n    });\\n    var hasClicked = $.getCookie(\\'virus-2020-clicked\\');\\n    if (!hasClicked) {\\n        e.addClass(\\'dot\\');\\n    }\\n});\\n$(window).on(\"load\",function() {\\n\\n\\tvar rand = Math.random();\\n\\n\\tif(rand < 0.01) {\\n\\t\\ttry {\\n\\t\\tvar baseUrl = \"//www.baidu.com/nocache/fesplg/s.gif?log_type=hm&type=uamonitor&\",\\n\\t\\t\\tqueryString = \"\";\\n\\n\\t\\tqueryString += \"&c_ua=\" + encodeURIComponent(navigator.userAgent);\\n\\t\\tqueryString += \"&s_ua=\" + encodeURIComponent(bds.comm.userAgent);\\n\\n\\t\\tvar url=baseUrl+queryString,\\n\\t\\t\\timg = new Image(),\\n\\t\\t\\timg_rand=\"_LOG_\"+new Date().getTime();\\n\\t\\timg.onload=function(){\\n\\t\\t\\tdelete window[img_rand];\\n\\t\\t};\\n\\t\\twindow[img_rand]=img;\\n\\t\\timg.src=url;\\n\\t\\t} catch(e) {};\\n\\t}\\n});\\n\\n</script>\\n\\n<script type=\"text/javascript\">var Cookie={set:function(t,e,o,i,s,n){document.cookie=t+\"=\"+(n?e:escape(e))+(s?\"; expires=\"+s.toGMTString():\"\")+(i?\"; path=\"+i:\"; path=/\")+(o?\"; domain=\"+o:\"\")},get:function(t,e){var o=document.cookie.match(new RegExp(\"(^| )\"+t+\"=([^;]*)(;|$)\"));return null!=o?unescape(o[2]):e},clear:function(t,e,o){this.get(t)&&(document.cookie=t+\"=\"+(e?\"; path=\"+e:\"; path=/\")+(o?\"; domain=\"+o:\"\")+\";expires=Fri, 02-Jan-1970 00:00:00 GMT\")}};!function(){function save(t){var e=[];for(tmpName in options)options.hasOwnProperty(tmpName)&&\"duRobotState\"!==tmpName&&e.push(\\'\"\\'+tmpName+\\'\":\"\\'+options[tmpName]+\\'\"\\');\\nvar o=\"{\"+e.join(\",\")+\"}\";bds.comm.personalData?$.ajax({url:\"//www.baidu.com/ups/submit/addtips/?product=ps&tips=\"+encodeURIComponent(o)+\"&_r=\"+(new Date).getTime(),success:function(){writeCookie(),\"function\"==typeof t&&t()}}):(writeCookie(),\"function\"==typeof t&&setTimeout(t,0))}function set(t,e){options[t]=e}function get(t){return options[t]}function writeCookie(){if(options.hasOwnProperty(\"sugSet\")){var t=\"0\"==options.sugSet?\"0\":\"3\";clearCookie(\"sug\"),Cookie.set(\"sug\",t,document.domain,\"/\",expire30y)\\n}if(options.hasOwnProperty(\"sugStoreSet\")){var t=0==options.sugStoreSet?\"0\":\"1\";clearCookie(\"sugstore\"),Cookie.set(\"sugstore\",t,document.domain,\"/\",expire30y)}if(options.hasOwnProperty(\"isSwitch\")){var e={0:\"2\",1:\"0\",2:\"1\"},t=e[options.isSwitch];clearCookie(\"ORIGIN\"),Cookie.set(\"ORIGIN\",t,document.domain,\"/\",expire30y)}if(options.hasOwnProperty(\"imeSwitch\")){var t=options.imeSwitch;clearCookie(\"bdime\"),Cookie.set(\"bdime\",t,document.domain,\"/\",expire30y)}}function writeBAIDUID(){var t,e,o,i=Cookie.get(\"BAIDUID\");\\n/FG=(\\\\d+)/.test(i)&&(e=RegExp.$1),/SL=(\\\\d+)/.test(i)&&(o=RegExp.$1),/NR=(\\\\d+)/.test(i)&&(t=RegExp.$1),options.hasOwnProperty(\"resultNum\")&&(t=options.resultNum),options.hasOwnProperty(\"resultLang\")&&(o=options.resultLang),Cookie.set(\"BAIDUID\",i.replace(/:.*$/,\"\")+(\"undefined\"!=typeof o?\":SL=\"+o:\"\")+(\"undefined\"!=typeof t?\":NR=\"+t:\"\")+(\"undefined\"!=typeof e?\":FG=\"+e:\"\"),\".baidu.com\",\"/\",expire30y,!0)}function clearCookie(t){Cookie.clear(t,\"/\"),Cookie.clear(t,\"/\",document.domain),Cookie.clear(t,\"/\",\".\"+document.domain),Cookie.clear(t,\"/\",\".baidu.com\")\\n}function reset(t){options=defaultOptions,save(t)}var defaultOptions={sugSet:1,sugStoreSet:1,isSwitch:1,isJumpHttps:1,imeSwitch:0,resultNum:10,skinOpen:1,resultLang:0,duRobotState:\"000\"},options={},tmpName,expire30y=new Date;expire30y.setTime(expire30y.getTime()+94608e7);try{if(bds&&bds.comm&&bds.comm.personalData){if(\"string\"==typeof bds.comm.personalData&&(bds.comm.personalData=eval(\"(\"+bds.comm.personalData+\")\")),!bds.comm.personalData)return;for(tmpName in bds.comm.personalData)defaultOptions.hasOwnProperty(tmpName)&&bds.comm.personalData.hasOwnProperty(tmpName)&&\"SUCCESS\"==bds.comm.personalData[tmpName].ErrMsg&&(options[tmpName]=bds.comm.personalData[tmpName].value)\\n}try{parseInt(options.resultNum)||delete options.resultNum,parseInt(options.resultLang)||\"0\"==options.resultLang||delete options.resultLang}catch(e){}writeCookie(),\"sugSet\"in options||(options.sugSet=3!=Cookie.get(\"sug\",3)?0:1),\"sugStoreSet\"in options||(options.sugStoreSet=Cookie.get(\"sugstore\",0));var BAIDUID=Cookie.get(\"BAIDUID\");\"resultNum\"in options||(options.resultNum=/NR=(\\\\d+)/.test(BAIDUID)&&RegExp.$1?parseInt(RegExp.$1):10),\"resultLang\"in options||(options.resultLang=/SL=(\\\\d+)/.test(BAIDUID)&&RegExp.$1?parseInt(RegExp.$1):0),\"isSwitch\"in options||(options.isSwitch=2==Cookie.get(\"ORIGIN\",0)?0:1==Cookie.get(\"ORIGIN\",0)?2:1),\"imeSwitch\"in options||(options.imeSwitch=Cookie.get(\"bdime\",0))\\n}catch(e){}window.UPS={writeBAIDUID:writeBAIDUID,reset:reset,get:get,set:set,save:save}}(),function(){var t=\"http://s1.bdstatic.com/r/www/cache/static/plugins/every_cookie_4644b13.js\";(\"Mac68K\"==navigator.platform||\"MacPPC\"==navigator.platform||\"Macintosh\"==navigator.platform||\"MacIntel\"==navigator.platform)&&(t=\"http://s1.bdstatic.com/r/www/cache/static/plugins/every_cookie_mac_82990d4.js\"),setTimeout(function(){$.ajax({url:t,cache:!0,dataType:\"script\"})},0);var e=navigator&&navigator.userAgent?navigator.userAgent:\"\",o=document&&document.cookie?document.cookie:\"\",i=!!(e.match(/(msie [2-8])/i)||e.match(/windows.*safari/i)&&!e.match(/chrome/i)||e.match(/(linux.*firefox)/i)||e.match(/Chrome\\\\/29/i)||e.match(/mac os x.*firefox/i)||o.match(/\\\\bISSW=1/)||0==UPS.get(\"isSwitch\"));\\nbds&&bds.comm&&(bds.comm.supportis=!i,bds.comm.isui=!0),window.__restart_confirm_timeout=!0,window.__confirm_timeout=8e3,window.__disable_is_guide=!0,window.__disable_swap_to_empty=!0,window.__switch_add_mask=!0;var s=\"http://s1.bdstatic.com/r/www/cache/static/global/js/all_async_search_658106b.js\",n=\"/script\";document.write(\"<script src=\\'\"+s+\"\\'><\"+n+\">\"),bds.comm.newindex&&$(window).on(\"index_off\",function(){$(\\'<div class=\"c-tips-container\" id=\"c-tips-container\"></div>\\').insertAfter(\"#wrapper\"),window.__sample_dynamic_tab&&$(\"#s_tab\").remove()\\n}),bds.comm&&bds.comm.ishome&&Cookie.get(\"H_PS_PSSID\")&&(bds.comm.indexSid=Cookie.get(\"H_PS_PSSID\"));var a=$(document).find(\"#s_tab\").find(\"a\");a&&a.length>0&&a.each(function(t,e){e.innerHTML&&e.innerHTML.match(/\\xe6\\x96\\xb0\\xe9\\x97\\xbb/)&&(e.innerHTML=\"\\xe8\\xb5\\x84\\xe8\\xae\\xaf\",e.href=\"//www.baidu.com/s?rtt=1&bsst=1&cl=2&tn=news&word=\",e.setAttribute(\"sync\",!0))})}();</script>\\n\\n\\n\\n<script>\\nif(bds.comm.supportis){\\n    window.__restart_confirm_timeout=true;\\n    window.__confirm_timeout=8000;\\n    window.__disable_is_guide=true;\\n    window.__disable_swap_to_empty=true;\\n}\\ninitPreload({\\n    \\'isui\\':true,\\n    \\'index_form\\':\"#form\",\\n    \\'index_kw\\':\"#kw\",\\n    \\'result_form\\':\"#form\",\\n    \\'result_kw\\':\"#kw\"\\n});\\n</script>\\n\\n<script>\\nif(navigator.cookieEnabled){\\n\\tdocument.cookie=\"NOJS=;expires=Sat, 01 Jan 2000 00:00:00 GMT\";\\n}\\n</script>\\n\\n\\n\\n</body>\\n</html>\\n\\n\\r\\n\\n\\n\\r\\n'\n"
     ]
    }
   ],
   "source": [
    "html = getHtml(\"http://www.baidu.com\")\n",
    " \n",
    "print(html)"
   ]
  },
  {
   "cell_type": "code",
   "execution_count": null,
   "metadata": {},
   "outputs": [],
   "source": []
  },
  {
   "cell_type": "markdown",
   "metadata": {},
   "source": [
    "## xml\n",
    "\n",
    "“当 XML（扩展标记语言）于 1998 年 2 月被引入软件工业界时，它给整个行业带来了一场风暴。有史以来第一次，这个世界拥有了一种用来结构化文档和数据的通用且适应性强的格式，它不仅仅可以用于 WEB，而且可以被用于任何地方。”\n",
    "\n",
    "对于xml如果要做一个定义式的说明，就不得不引用w3school里面简洁而明快的说明：\n",
    "\n",
    "* XML 指可扩展标记语言（EXtensible Markup Language）\n",
    "* XML 是一种标记语言，很类似 HTML\n",
    "* XML 的设计宗旨是传输数据，而非显示数据\n",
    "* XML 标签没有被预定义。您需要自行定义标签。\n",
    "* XML 被设计为具有自我描述性。\n",
    "* XML 是 W3C 的推荐标准\n",
    "\n",
    "xml的重要，关键在于它是用来传输数据，因为传输数据，特别是在web编程中，经常要用到的。有了这样一种东西，就让数据传输变得简单了。对于这么重要的，python当然有支持。\n",
    "\n",
    "一般来讲，一个引人关注的东西，总会有很多人从不同侧面去关注。在编程语言中也是如此，所以，对xml这个明星式的东西，python提供了多种模块来处理。\n",
    "\n",
    "* xml.dom.* 模块：Document Object Model。适合用于处理 DOM API。它能够将xml数据在内存中解析成一个树，然后通过对树的操作来操作xml。但是，这种方式由于将xml数据映射到内存中的树，导致比较慢，且消耗更多内存。\n",
    "* xml.sax.* 模块：simple API for XML。由于SAX以流式读取xml文件，从而速度较快，切少占用内存，但是操作上稍复杂，需要用户实现回调函数。\n",
    "* xml.parser.expat：是一个直接的，低级一点的基于 C 的 expat 的语法分析器。 expat接口基于事件反馈，有点像 SAX 但又不太像，因为它的接口并不是完全规范于 expat 库的。\n",
    "* xml.etree.ElementTree (以下简称 ET)：元素树。它提供了轻量级的python式的API，相对于DOM，ET快了很多 ，而且有很多令人愉悦的API可以使用；相对于SAX，ET也有ET.iterparse提供了 “在空中” 的处理方式，没有必要加载整个文档到内存，节省内存。ET的性能的平均值和SAX差不多，但是API的效率更高一点而且使用起来很方便。\n",
    "\n",
    "所以，我用xml.etree.ElementTree\n",
    "\n",
    "ElementTree在标准库中有两种实现。一种是纯Python实现：xml.etree.ElementTree ，另外一种是速度快一点：xml.etree.cElementTree 。"
   ]
  },
  {
   "cell_type": "code",
   "execution_count": 111,
   "metadata": {},
   "outputs": [
    {
     "data": {
      "text/plain": [
       "<xml.etree.ElementTree.ElementTree at 0x7fcf1c0feb38>"
      ]
     },
     "execution_count": 111,
     "metadata": {},
     "output_type": "execute_result"
    }
   ],
   "source": [
    "import xml.etree.ElementTree as ET\n",
    "\n",
    "tree = ET.parse('22601.xml')\n",
    "tree"
   ]
  },
  {
   "cell_type": "code",
   "execution_count": 113,
   "metadata": {},
   "outputs": [
    {
     "data": {
      "text/plain": [
       "<Element 'data' at 0x7fcf1c0fdc28>"
      ]
     },
     "execution_count": 113,
     "metadata": {},
     "output_type": "execute_result"
    }
   ],
   "source": [
    "root = tree.getroot()      #获得根\n",
    "root"
   ]
  },
  {
   "cell_type": "code",
   "execution_count": 114,
   "metadata": {},
   "outputs": [
    {
     "data": {
      "text/plain": [
       "'data'"
      ]
     },
     "execution_count": 114,
     "metadata": {},
     "output_type": "execute_result"
    }
   ],
   "source": [
    "root.tag"
   ]
  },
  {
   "cell_type": "code",
   "execution_count": 115,
   "metadata": {},
   "outputs": [
    {
     "data": {
      "text/plain": [
       "{}"
      ]
     },
     "execution_count": 115,
     "metadata": {},
     "output_type": "execute_result"
    }
   ],
   "source": [
    "root.attrib"
   ]
  },
  {
   "cell_type": "code",
   "execution_count": 116,
   "metadata": {},
   "outputs": [
    {
     "name": "stdout",
     "output_type": "stream",
     "text": [
      "country {'name': 'Liechtenstein'}\n",
      "country {'name': 'Singapore'}\n",
      "country {'name': 'Panama'}\n"
     ]
    }
   ],
   "source": [
    "for child in root:\n",
    "    print(child.tag, child.attrib)"
   ]
  },
  {
   "cell_type": "code",
   "execution_count": 117,
   "metadata": {},
   "outputs": [
    {
     "data": {
      "text/plain": [
       "'country'"
      ]
     },
     "execution_count": 117,
     "metadata": {},
     "output_type": "execute_result"
    }
   ],
   "source": [
    "root[0].tag"
   ]
  },
  {
   "cell_type": "code",
   "execution_count": 118,
   "metadata": {},
   "outputs": [
    {
     "data": {
      "text/plain": [
       "'rank'"
      ]
     },
     "execution_count": 118,
     "metadata": {},
     "output_type": "execute_result"
    }
   ],
   "source": [
    "root[0][0].tag"
   ]
  },
  {
   "cell_type": "code",
   "execution_count": 119,
   "metadata": {},
   "outputs": [
    {
     "data": {
      "text/plain": [
       "{'updated': 'yes'}"
      ]
     },
     "execution_count": 119,
     "metadata": {},
     "output_type": "execute_result"
    }
   ],
   "source": [
    "root[0][0].attrib"
   ]
  },
  {
   "cell_type": "code",
   "execution_count": 120,
   "metadata": {},
   "outputs": [
    {
     "data": {
      "text/plain": [
       "'2'"
      ]
     },
     "execution_count": 120,
     "metadata": {},
     "output_type": "execute_result"
    }
   ],
   "source": [
    "root[0][0].text"
   ]
  },
  {
   "cell_type": "code",
   "execution_count": 125,
   "metadata": {},
   "outputs": [
    {
     "name": "stdout",
     "output_type": "stream",
     "text": [
      "country {'name': 'Liechtenstein'}\n",
      "country {'name': 'Singapore'}\n",
      "country {'name': 'Panama'}\n"
     ]
    }
   ],
   "source": [
    "for ele in tree.iter(tag=\"country\"):        #遍历名称为country的节点\n",
    "    print(ele.tag, ele.attrib)"
   ]
  },
  {
   "cell_type": "code",
   "execution_count": 128,
   "metadata": {},
   "outputs": [
    {
     "name": "stdout",
     "output_type": "stream",
     "text": [
      "data {} \n",
      "    \n",
      "country {'name': 'Liechtenstein'} \n",
      "        \n",
      "rank {'updated': 'yes'} 2\n",
      "year {} 2008\n",
      "gdppc {} 141100\n",
      "neighbor {'name': 'Austria', 'direction': 'E'} None\n",
      "neighbor {'name': 'Switzerland', 'direction': 'W'} None\n",
      "country {'name': 'Singapore'} \n",
      "        \n",
      "rank {'updated': 'yes'} 5\n",
      "year {} 2011\n",
      "gdppc {} 59900\n",
      "neighbor {'name': 'Malaysia', 'direction': 'N'} None\n",
      "country {'name': 'Panama'} \n",
      "        \n",
      "rank {'updated': 'yes'} 69\n",
      "year {} 2011\n",
      "gdppc {} 2011\n",
      "neighbor {'name': 'Costa Rica', 'direction': 'W'} None\n",
      "neighbor {'name': 'Colombia', 'direction': 'E'} None\n"
     ]
    }
   ],
   "source": [
    "for ele in tree.iter():\n",
    "    print(ele.tag, ele.attrib,ele.text)\n",
    "    \n",
    "# 不指定元素名称，就是将所有的元素遍历一遍。"
   ]
  },
  {
   "cell_type": "code",
   "execution_count": 129,
   "metadata": {},
   "outputs": [
    {
     "data": {
      "text/plain": [
       "'country'"
      ]
     },
     "execution_count": 129,
     "metadata": {},
     "output_type": "execute_result"
    }
   ],
   "source": [
    "root[1].tag"
   ]
  },
  {
   "cell_type": "code",
   "execution_count": 130,
   "metadata": {},
   "outputs": [],
   "source": [
    "del root[1]"
   ]
  },
  {
   "cell_type": "code",
   "execution_count": 131,
   "metadata": {},
   "outputs": [
    {
     "name": "stdout",
     "output_type": "stream",
     "text": [
      "country\n",
      "country\n"
     ]
    }
   ],
   "source": [
    "# 删除了一个节点\n",
    "for ele in root:\n",
    "    print(ele.tag)"
   ]
  },
  {
   "cell_type": "markdown",
   "metadata": {},
   "source": [
    "## json\n",
    "\n",
    "就传递数据而言，xml是一种选择，还有另外一种，就是json，它是一种轻量级的数据交换格式，如果读者要做web编程，是会用到它的。\n",
    "\n",
    "JSON（JavaScript Object Notation）是一種由道格拉斯·克羅克福特構想設計、輕量級的資料交換語言，以文字為基礎，且易於讓人閱讀。儘管JSON是Javascript的一個子集，但JSON是獨立於語言的文本格式，並且採用了類似於C語言家族的一些習慣。\n",
    "\n",
    "\n",
    "JSON建构于两种结构：\n",
    "\n",
    "* “名称/值”对的集合（A collection of name/value pairs）。不同的语言中，它被理解为对象（object），纪录（record），结构（struct），字典（dictionary），哈希表（hash table），有键列表（keyed list），或者关联数组 （associative array）。\n",
    "* 值的有序列表（An ordered list of values）。在大部分语言中，它被理解为数组（array）。\n",
    "\n",
    "python标准库中有json模块，主要是执行序列化和反序列化功能：\n",
    "\n",
    "* 序列化：encoding，把一个python对象编码转化成json字符串\n",
    "* 反序列化：decoding，把json格式字符串解码转换为python数据对象\n"
   ]
  },
  {
   "cell_type": "code",
   "execution_count": 132,
   "metadata": {},
   "outputs": [
    {
     "data": {
      "text/plain": [
       "['dump',\n",
       " 'dumps',\n",
       " 'load',\n",
       " 'loads',\n",
       " 'JSONDecoder',\n",
       " 'JSONDecodeError',\n",
       " 'JSONEncoder']"
      ]
     },
     "execution_count": 132,
     "metadata": {},
     "output_type": "execute_result"
    }
   ],
   "source": [
    "import json\n",
    "json.__all__"
   ]
  },
  {
   "cell_type": "code",
   "execution_count": 133,
   "metadata": {},
   "outputs": [
    {
     "name": "stdout",
     "output_type": "stream",
     "text": [
      "[{'name': 'qiwsir', 'lang': ('python', 'english'), 'age': 40}]\n"
     ]
    }
   ],
   "source": [
    "data = [{\"name\":\"qiwsir\", \"lang\":(\"python\", \"english\"), \"age\":40}]\n",
    "print(data)"
   ]
  },
  {
   "cell_type": "code",
   "execution_count": 134,
   "metadata": {},
   "outputs": [
    {
     "name": "stdout",
     "output_type": "stream",
     "text": [
      "[{\"name\": \"qiwsir\", \"lang\": [\"python\", \"english\"], \"age\": 40}]\n"
     ]
    }
   ],
   "source": [
    "data_json = json.dumps(data)\n",
    "print(data_json)"
   ]
  },
  {
   "cell_type": "code",
   "execution_count": 135,
   "metadata": {},
   "outputs": [
    {
     "data": {
      "text/plain": [
       "str"
      ]
     },
     "execution_count": 135,
     "metadata": {},
     "output_type": "execute_result"
    }
   ],
   "source": [
    "type(data_json)"
   ]
  },
  {
   "cell_type": "code",
   "execution_count": 136,
   "metadata": {},
   "outputs": [
    {
     "data": {
      "text/plain": [
       "list"
      ]
     },
     "execution_count": 136,
     "metadata": {},
     "output_type": "execute_result"
    }
   ],
   "source": [
    "type(data)"
   ]
  },
  {
   "cell_type": "code",
   "execution_count": 137,
   "metadata": {},
   "outputs": [
    {
     "data": {
      "text/plain": [
       "[{'name': 'qiwsir', 'lang': ['python', 'english'], 'age': 40}]"
      ]
     },
     "execution_count": 137,
     "metadata": {},
     "output_type": "execute_result"
    }
   ],
   "source": [
    "new_data = json.loads(data_json)\n",
    "new_data"
   ]
  },
  {
   "cell_type": "code",
   "execution_count": 139,
   "metadata": {},
   "outputs": [
    {
     "name": "stdout",
     "output_type": "stream",
     "text": [
      "[\n",
      "  {\n",
      "    \"age\": 40,\n",
      "    \"lang\": [\n",
      "      \"python\",\n",
      "      \"english\"\n",
      "    ],\n",
      "    \"name\": \"qiwsir\"\n",
      "  }\n",
      "]\n"
     ]
    }
   ],
   "source": [
    "data_j = json.dumps(data, sort_keys=True, indent=2)\n",
    "print(data_j)\n",
    "\n",
    "# sort_keys=True意思是按照键的字典顺序排序，indent=2是让每个键值对显示的时候，\n",
    "# 以缩进两个字符对齐。这样的视觉效果好多了。"
   ]
  },
  {
   "cell_type": "code",
   "execution_count": 140,
   "metadata": {},
   "outputs": [
    {
     "data": {
      "text/plain": [
       "[{'name': 'qiwsir', 'lang': ('python', 'english'), 'age': 40}]"
      ]
     },
     "execution_count": 140,
     "metadata": {},
     "output_type": "execute_result"
    }
   ],
   "source": [
    "import tempfile    #临时文件模块\n",
    "data"
   ]
  },
  {
   "cell_type": "code",
   "execution_count": 143,
   "metadata": {},
   "outputs": [],
   "source": [
    "f = tempfile.NamedTemporaryFile(mode='w+')\n",
    "json.dump(data, f)\n",
    "f.flush()"
   ]
  },
  {
   "cell_type": "code",
   "execution_count": 144,
   "metadata": {},
   "outputs": [
    {
     "name": "stdout",
     "output_type": "stream",
     "text": [
      "[{\"name\": \"qiwsir\", \"lang\": [\"python\", \"english\"], \"age\": 40}]\n"
     ]
    }
   ],
   "source": [
    "print(open(f.name, \"r\").read())"
   ]
  },
  {
   "cell_type": "code",
   "execution_count": null,
   "metadata": {},
   "outputs": [],
   "source": []
  },
  {
   "cell_type": "markdown",
   "metadata": {},
   "source": [
    "## 第三方库\n",
    "\n",
    "标准库的内容已经非常多了，前面仅仅列举几个，但是python给编程者的支持还不仅仅在于标准库，它还有不可胜数的第三方库。因此，如果作为一个python编程者，即使你达到了master的水平，最好的还是要在做某个事情之前，在网上搜一下是否有标准库或者第三方库替你完成那件事。\n",
    "\n"
   ]
  },
  {
   "cell_type": "code",
   "execution_count": 146,
   "metadata": {},
   "outputs": [
    {
     "ename": "SyntaxError",
     "evalue": "invalid syntax (<ipython-input-146-863939eec399>, line 3)",
     "output_type": "error",
     "traceback": [
      "\u001b[0;36m  File \u001b[0;32m\"<ipython-input-146-863939eec399>\"\u001b[0;36m, line \u001b[0;32m3\u001b[0m\n\u001b[0;31m    python setup.py install\u001b[0m\n\u001b[0m               ^\u001b[0m\n\u001b[0;31mSyntaxError\u001b[0m\u001b[0;31m:\u001b[0m invalid syntax\n"
     ]
    }
   ],
   "source": [
    "# 方法一：利用源码安装\n",
    "\n",
    "python setup.py install"
   ]
  },
  {
   "cell_type": "code",
   "execution_count": 147,
   "metadata": {},
   "outputs": [
    {
     "ename": "SyntaxError",
     "evalue": "invalid syntax (<ipython-input-147-2b6d3e8c1aaf>, line 3)",
     "output_type": "error",
     "traceback": [
      "\u001b[0;36m  File \u001b[0;32m\"<ipython-input-147-2b6d3e8c1aaf>\"\u001b[0;36m, line \u001b[0;32m3\u001b[0m\n\u001b[0;31m    sudo apt-get install python-pip\u001b[0m\n\u001b[0m           ^\u001b[0m\n\u001b[0;31mSyntaxError\u001b[0m\u001b[0;31m:\u001b[0m invalid syntax\n"
     ]
    }
   ],
   "source": [
    "# 方法二：pip\n",
    "\n",
    "sudo apt-get install python-pip"
   ]
  },
  {
   "cell_type": "code",
   "execution_count": null,
   "metadata": {},
   "outputs": [],
   "source": []
  }
 ],
 "metadata": {
  "kernelspec": {
   "display_name": "Python code",
   "language": "python",
   "name": "py36pt04"
  },
  "language_info": {
   "codemirror_mode": {
    "name": "ipython",
    "version": 3
   },
   "file_extension": ".py",
   "mimetype": "text/x-python",
   "name": "python",
   "nbconvert_exporter": "python",
   "pygments_lexer": "ipython3",
   "version": "3.6.9"
  }
 },
 "nbformat": 4,
 "nbformat_minor": 2
}
