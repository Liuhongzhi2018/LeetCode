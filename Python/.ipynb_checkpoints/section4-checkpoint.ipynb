{
 "cells": [
  {
   "cell_type": "markdown",
   "metadata": {},
   "source": [
    "# 类"
   ]
  },
  {
   "cell_type": "markdown",
   "metadata": {},
   "source": [
    "对象（object），台湾译作物件，是面向对象（Object Oriented）中的术语，既表示客观世界问题空间（Namespace）中的某个具体的事物，又表示软件系统解空间中的基本元素。\n",
    "\n",
    "定义：在面向对象程式设计，类（class）是一种面向对象计算机编程语言的构造，是创建对象的蓝图，描述了所创建的对象共同的属性和方法。类是对某一群具有同样属性和方法的对象的抽象。\n",
    "\n",
    "类的更严格的定义是由某种特定的元数据所组成的内聚的包。它描述了一些对象的行为规则，而这些对象就被称为该类的实例。类有接口和结构。接口描述了如何通过方法与类及其实例互操作，而结构描述了一个实例中数据如何划分为多个属性。类是与某个层的对象的最具体的类型。类还可以有运行时表示形式（元对象），它为操作与类相关的元数据提供了运行时支持。\n",
    "\n",
    "支持类的编程语言在支持与类相关的各种特性方面都多多少少有一些微妙的差异。大多数都支持不同形式的类继承。许多语言还支持提供封装性的特性，比如访问修饰符。类的出现，为面向对象编程的三个最重要的特性（封装性，继承性，多态性），提供了实现的手段。\n"
   ]
  },
  {
   "cell_type": "markdown",
   "metadata": {},
   "source": [
    "对于对象这个东西，OOP大师Grandy Booch的定义，应该是权威的，相关定义的内容包括：\n",
    "\n",
    "* 对象：一个对象有自己的状态、行为和唯一的标识；所有相同类型的对象所具有的结构和行为在他们共同的类中被定义。\n",
    "* 状态（state）：包括这个对象已有的属性（通常是类里面已经定义好的）在加上对象具有的当前属性值（这些属性往往是动态的）\n",
    "* 行为（behavior）：是指一个对象如何影响外界及被外界影响，表现为对象自身状态的改变和信息的传递。\n",
    "* 标识（identity）：是指一个对象所具有的区别于所有其它对象的属性。（本质上指内存中所创建的对象的地址）\n",
    "\n",
    "任何一个对象都要包括这两部分：属性（是什么）和方法（能做什么）。"
   ]
  },
  {
   "cell_type": "markdown",
   "metadata": {},
   "source": [
    "## 面向对象\n",
    "\n",
    "定义：面向对象程序设计（英语：Object-oriented programming，缩写：OOP）是一种程序设计范型，同时也是一种程序开发的方法。对象指的是类的实例。它将对象作为程序的基本单元，将程序和数据封装其中，以提高软件的重用性、灵活性和扩展性。"
   ]
  },
  {
   "cell_type": "markdown",
   "metadata": {},
   "source": [
    "## 编写类\n",
    "\n",
    "* 要定义类，就要抽象，找出共同的方面。\n",
    "\n",
    "class 美女:        #用class来声明，后面定义的是一个类\n",
    "\n",
    "    pass\n",
    "    \n",
    "class 美女:\n",
    "\n",
    "    胸围 = 90\n",
    "    \n",
    "    腰围 = 58\n",
    "    \n",
    "    臀围 = 83\n",
    "    \n",
    "    皮肤 = white\n",
    "    \n",
    "    唱歌()\n",
    "    \n",
    "    做饭()\n",
    "\n",
    "其中约定，没有括号的是属性，带有括号的是方法\n",
    "\n",
    "* 对于一个具体的美女,是上面所定义的“美女”那个类的具体化，这在编程中称为“美女类”的实例，用这样一种表达方式，就是将“美女类”实例化了\n",
    "\n",
    "王美女 = 美女()\n",
    "\n",
    "* 对“王美女”这个实例，就可以具体化一些属性，比如胸围；还可以具体实施一些方法，比如做饭。通常可以用这样一种方式表示：\n",
    "\n",
    "a = 王美女.皮肤\n",
    "\n",
    "用点号.的方式，表示王美女的属性，得到的变量a就是white.另外，还可以通过这种方式给属性赋值\n",
    "\n",
    "* 通过实例，也可以访问某个方法\n",
    "\n",
    "王美女.做饭()"
   ]
  },
  {
   "cell_type": "code",
   "execution_count": 2,
   "metadata": {},
   "outputs": [],
   "source": [
    "class AA:\n",
    "    pass\n",
    "\n",
    "aa = AA()"
   ]
  },
  {
   "cell_type": "code",
   "execution_count": 7,
   "metadata": {},
   "outputs": [
    {
     "name": "stdout",
     "output_type": "stream",
     "text": [
      "<class 'type'>\n"
     ]
    }
   ],
   "source": [
    "print(type(AA))"
   ]
  },
  {
   "cell_type": "code",
   "execution_count": 8,
   "metadata": {},
   "outputs": [
    {
     "name": "stdout",
     "output_type": "stream",
     "text": [
      "<class '__main__.AA'>\n"
     ]
    }
   ],
   "source": [
    "print(type(aa))"
   ]
  },
  {
   "cell_type": "code",
   "execution_count": 9,
   "metadata": {},
   "outputs": [
    {
     "name": "stdout",
     "output_type": "stream",
     "text": [
      "<class '__main__.AA'>\n"
     ]
    }
   ],
   "source": [
    "print(aa.__class__)"
   ]
  },
  {
   "cell_type": "markdown",
   "metadata": {},
   "source": [
    "新式类，从python2.2开始，aa.\\_class\\__和type(aa)都可以查看对象类型，都可以查看对象类型"
   ]
  },
  {
   "cell_type": "code",
   "execution_count": 10,
   "metadata": {},
   "outputs": [
    {
     "name": "stdout",
     "output_type": "stream",
     "text": [
      "<__main__.AA object at 0x7fad800cc400>\n"
     ]
    }
   ],
   "source": [
    "print(aa)"
   ]
  },
  {
   "cell_type": "markdown",
   "metadata": {},
   "source": [
    "## 定义新式类\n",
    "\n",
    "class BB(object):\n",
    "\n",
    "    pass\n",
    "\n",
    "跟旧式类的区别就在于类的名字后面跟上(object)，这其实是一种名为“继承”的类的操作，当前的类BB是以类object为上级的（object被称为父类），即BB是继承自类object的新类。在python3中，所有的类自然地都是类object的子类，就不用彰显出继承关系了。\n",
    "\n",
    "这是在声明创建一个名为\"BB\"的类。类的名称一般用大写字母开头，这是惯例。如果名称是两个单词，那么两个单词的首字母都要大写，例如class HotPerson，这种命名方法有一个形象的名字，叫做“驼峰式命名”。\n",
    "\n",
    "类里面的函数叫做“方法”，函数的命名方法是以def发起，并且函数名称首字母不要用大写，可以使用aa_bb的样式，也可以使用aaBb的样式。类中的函数（方法）的参数跟以往的参数样式有区别，那就是每个函数必须包括self参数，并且作为默认的第一个参数。"
   ]
  },
  {
   "cell_type": "markdown",
   "metadata": {},
   "source": [
    "## 初始化\n",
    "\n",
    "def \\__init\\__，这个函数是一个比较特殊的，并且有一个名字，叫做初始化函数（注意，很多教材和资料中，把它叫做构造函数，这种说法貌似没有错误，但是一来从字面意义上看，它对应的含义是初始化，二来在python中它的作用和其它语言比如java中的构造函数还不完全一样，因为还有一个__new__的函数，是真正地构造。所以，在本教程中，我称之为初始化函数）。它是以两个下划线开始，然后是init，最后以两个下划线结束。\n",
    "\n",
    "构造函数下面的两个函数，和前面的初始化函数有共同的地方，即都是以self作为第一个参数。"
   ]
  },
  {
   "cell_type": "code",
   "execution_count": 22,
   "metadata": {},
   "outputs": [],
   "source": [
    "#!/usr/bin/env python\n",
    "# coding=utf-8\n",
    "\n",
    "__metaclass__ = type\n",
    "\n",
    "class Person:\n",
    "    def __init__(self, name):\n",
    "        self.name = name\n",
    "\n",
    "    def getName(self):\n",
    "        return self.name\n",
    "\n",
    "    def color(self, color):\n",
    "        print(\"%s is %s\" % (self.name, color))"
   ]
  },
  {
   "cell_type": "markdown",
   "metadata": {},
   "source": [
    "就是在这个类被实例化的同时，要通过name参数传一个值，这个值被一开始就写入了类和实例中，成为了类和实例的一个属性。"
   ]
  },
  {
   "cell_type": "code",
   "execution_count": 13,
   "metadata": {},
   "outputs": [],
   "source": [
    "girl = Person('canglaoshi')"
   ]
  },
  {
   "cell_type": "markdown",
   "metadata": {},
   "source": [
    "girl是一个实例对象，就如同前面所说的一样，它有属性和方法。这里仅说属性吧。当通过上面的方式实例化后，就自动执行了初始化函数，让实例girl就具有了name属性。"
   ]
  },
  {
   "cell_type": "code",
   "execution_count": 14,
   "metadata": {},
   "outputs": [
    {
     "name": "stdout",
     "output_type": "stream",
     "text": [
      "canglaoshi\n"
     ]
    }
   ],
   "source": [
    "print(girl.name)"
   ]
  },
  {
   "cell_type": "markdown",
   "metadata": {},
   "source": [
    "这就是初始化的功能。简而言之，通过初始化函数，确定了这个实例（类）的“基本属性”（实例是什么样子的）。比如上面的实例化之后，就确立了实例girl的name是\"canglaoshi\"。"
   ]
  },
  {
   "cell_type": "code",
   "execution_count": 19,
   "metadata": {},
   "outputs": [],
   "source": [
    "class Person1:\n",
    "    def __init__(self, name, lang=\"golang\", website=\"www.google.com\"):\n",
    "        self.name = name\n",
    "        self.lang = lang\n",
    "        self.website = website\n",
    "        self.email = \"qiwsir@gmail.com\""
   ]
  },
  {
   "cell_type": "code",
   "execution_count": 20,
   "metadata": {},
   "outputs": [],
   "source": [
    "laoqi = Person1(\"LaoQi\")\n",
    "info = Person1(\"qiwsir\",lang=\"python\",website=\"qiwsir.github.io\")"
   ]
  },
  {
   "cell_type": "code",
   "execution_count": 21,
   "metadata": {},
   "outputs": [
    {
     "name": "stdout",
     "output_type": "stream",
     "text": [
      "laoqi.name= LaoQi\n",
      "info.name= qiwsir\n",
      "-------\n",
      "laoqi.lang= golang\n",
      "info.lang= python\n",
      "-------\n",
      "laoqi.website= www.google.com\n",
      "info.website= qiwsir.github.io\n"
     ]
    }
   ],
   "source": [
    "print(\"laoqi.name=\",laoqi.name)\n",
    "print(\"info.name=\",info.name)\n",
    "print(\"-------\")\n",
    "print(\"laoqi.lang=\",laoqi.lang)\n",
    "print(\"info.lang=\",info.lang)\n",
    "print(\"-------\")\n",
    "print(\"laoqi.website=\",laoqi.website)\n",
    "print(\"info.website=\",info.website)"
   ]
  },
  {
   "cell_type": "code",
   "execution_count": 25,
   "metadata": {},
   "outputs": [
    {
     "name": "stdout",
     "output_type": "stream",
     "text": [
      "canglaoshi\n"
     ]
    }
   ],
   "source": [
    "girl = Person('canglaoshi')\n",
    "name = girl.getName()\n",
    "print(name)"
   ]
  },
  {
   "cell_type": "code",
   "execution_count": 26,
   "metadata": {},
   "outputs": [
    {
     "name": "stdout",
     "output_type": "stream",
     "text": [
      "canglaoshi is white\n"
     ]
    }
   ],
   "source": [
    "girl.color(\"white\")"
   ]
  },
  {
   "cell_type": "code",
   "execution_count": 28,
   "metadata": {},
   "outputs": [],
   "source": [
    "# 完整版\n",
    "#!/usr/bin/env python\n",
    "# coding=utf-8\n",
    "\n",
    "__metaclass__ = type             #新式类\n",
    "\n",
    "class Person:                    #创建类\n",
    "    def __init__(self, name):    #构造函数\n",
    "        self.name = name\n",
    "\n",
    "    def getName(self):           #类中的方法（函数）\n",
    "        return self.name\n",
    "\n",
    "    def color(self, color):\n",
    "        print(\"%s is %s\" % (self.name, color))"
   ]
  },
  {
   "cell_type": "code",
   "execution_count": 29,
   "metadata": {},
   "outputs": [
    {
     "name": "stdout",
     "output_type": "stream",
     "text": [
      "the person's name is:  caolangshi\n"
     ]
    }
   ],
   "source": [
    "girl = Person(\"caolangshi\")\n",
    "name = girl.getName()\n",
    "print(\"the person's name is: \", name)"
   ]
  },
  {
   "cell_type": "code",
   "execution_count": 30,
   "metadata": {},
   "outputs": [
    {
     "name": "stdout",
     "output_type": "stream",
     "text": [
      "caolangshi is white\n",
      "caolangshi\n"
     ]
    }
   ],
   "source": [
    "girl.color(\"white\")\n",
    "print(girl.name)"
   ]
  },
  {
   "cell_type": "markdown",
   "metadata": {},
   "source": [
    "总结一下类和实例的关系：\n",
    "\n",
    "* “类提供默认行为，是实例的工厂”（源自Learning Python），这句话非常经典，一下道破了类和实例的关系。所谓工厂，就是可以用同一个模子做出很多具体的产品。类就是那个模子，实例就是具体的产品。所以，实例是程序处理的实际对象。\n",
    "\n",
    "* 类是由一些语句组成，但是实例，是通过调用类生成，每次调用一个类，就得到这个类的新的实例。\n",
    "\n",
    "* 对于类的：class Person，class是一个可执行的语句。如果执行，就得到了一个类对象，并且将这个类对象赋值给对象名（比如Person）。\n"
   ]
  },
  {
   "cell_type": "markdown",
   "metadata": {},
   "source": [
    "## self的作用"
   ]
  },
  {
   "cell_type": "markdown",
   "metadata": {},
   "source": [
    "self是一个很神奇的参数\n",
    "\n",
    "在Person实例化的过程中girl = Person(\"canglaoshi\")，字符串\"canglaoshi\"通过初始化函数（\\__init\\__()）的参数已经存入到内存中，并且以Person类型的面貌存在，组成了一个对象，这个对象和变量girl建立引用关系。这个过程也可说成这些数据附加到一个实例上。这样就能够以:object.attribute的形式，在程序中任何地方调用某个数据，例如上面的程序中以girl.name的方式得到\"canglaoshi\"。这种调用方式，在类和实例中经常使用，点号“.”后面的称之为类或者实例的属性。这是在程序中，并且是在类的外面。\n",
    "\n",
    "在类内部，就是将所有传入的数据都赋给一个变量，通常这个变量的名字是self。注意，这是习惯，而且是共识，所以，看官不要另外取别的名字了。\n",
    "\n",
    "在初始化函数中的第一个参数self，就是起到了这个作用——接收实例化过程中传入的所有数据，这些数据是初始化函数后面的参数导入的。显然，self应该就是一个实例（准确说法是应用实例），因为它所对应的就是具体数据。"
   ]
  },
  {
   "cell_type": "code",
   "execution_count": 7,
   "metadata": {},
   "outputs": [],
   "source": [
    "#!/usr/bin/env python\n",
    "# coding=utf-8\n",
    "\n",
    "__metaclass__ = type\n",
    "\n",
    "class Person2:\n",
    "    def __init__(self, name):\n",
    "        self.name = name\n",
    "        print(\"self: \",self)           #新增\n",
    "        print(\"type self: \",type(self))     #新增"
   ]
  },
  {
   "cell_type": "code",
   "execution_count": 9,
   "metadata": {},
   "outputs": [
    {
     "name": "stdout",
     "output_type": "stream",
     "text": [
      "self:  <__main__.Person2 object at 0x7fa52c2fedd8>\n",
      "type self:  <class '__main__.Person2'>\n"
     ]
    }
   ],
   "source": [
    "girl = Person2(\"name\")\n",
    "\n",
    "# 当初始化的时候，就首先要运行构造函数\n",
    "\n",
    "# self就是一个实例（准确说是实例的引用变量）"
   ]
  },
  {
   "cell_type": "markdown",
   "metadata": {},
   "source": [
    "self.name = name \n",
    "\n",
    "规定了self实例的一个属性，这个属性的名字也叫做name，这个属性的值等于初始化函数的参数name所导入的数据。注意，self.name中的name和初始化函数的参数name没有任何关系，它们两个一样，只不过是一种起巧合（经常巧合，其实是为了省事和以后识别方便，故意让它们巧合。），或者说是写代码的人懒惰，不想另外取名字而已，无他。当然，如果写成self.xxxooo = name，也是可以的。\n",
    "\n",
    "从效果的角度来理解，类的实例girl对应着self，girl通过self导入实例属性的所有数据。\n",
    "\n",
    "self的属性数据，也不一定非得是由参数传入的，也可以在构造函数中自己设定。"
   ]
  },
  {
   "cell_type": "code",
   "execution_count": 10,
   "metadata": {},
   "outputs": [],
   "source": [
    "#!/usr/bin/env python\n",
    "#coding:utf-8\n",
    "\n",
    "__metaclass__ = type\n",
    "\n",
    "class Person:\n",
    "    def __init__(self, name):\n",
    "        self.name = name\n",
    "        self.email = \"qiwsir@gmail.com\"     #这个属性不是通过参数传入的"
   ]
  },
  {
   "cell_type": "code",
   "execution_count": 12,
   "metadata": {},
   "outputs": [
    {
     "name": "stdout",
     "output_type": "stream",
     "text": [
      "info.name= qiwsir\n",
      "info.email= qiwsir@gmail.com\n"
     ]
    }
   ],
   "source": [
    "info = Person(\"qiwsir\")              #换个字符串和实例化变量\n",
    "print(\"info.name=\",info.name)\n",
    "print(\"info.email=\",info.email)    #info通过self建立实例，并导入实例属性数据"
   ]
  },
  {
   "cell_type": "markdown",
   "metadata": {},
   "source": [
    "通过这个例子，其实让我们拓展了对self的认识，也就是它不仅仅是为了在类内部传递参数导入的数据，还能在初始化函数中，通过self.attribute的方式，规定self实例对象的属性，这个属性也是类实例化对象的属性，即做为类通过初始化函数初始化后所具有的属性。所以在实例info中，通过info.email同样能够得到该属性的数据。在这里，就可以把self形象地理解为“内外兼修”了。或者按照前面所提到的，将info和self对应起来，self主内，info主外。"
   ]
  },
  {
   "cell_type": "markdown",
   "metadata": {},
   "source": [
    "## 类属性和实例属性"
   ]
  },
  {
   "cell_type": "code",
   "execution_count": 13,
   "metadata": {},
   "outputs": [],
   "source": [
    "class A(object):\n",
    "    x = 7"
   ]
  },
  {
   "cell_type": "code",
   "execution_count": 14,
   "metadata": {},
   "outputs": [
    {
     "data": {
      "text/plain": [
       "7"
      ]
     },
     "execution_count": 14,
     "metadata": {},
     "output_type": "execute_result"
    }
   ],
   "source": [
    "A.x\n",
    "\n",
    "# 在类A中，变量x所引用的数据，能够直接通过类来调用。\n",
    "# 或者说x是类A的属性，这种属性有一个名称，曰“类属性”。\n",
    "# 类属性仅限于此——类中的变量。它也有其他的名字，如静态数据。"
   ]
  },
  {
   "cell_type": "code",
   "execution_count": 16,
   "metadata": {},
   "outputs": [
    {
     "data": {
      "text/plain": [
       "7"
      ]
     },
     "execution_count": 16,
     "metadata": {},
     "output_type": "execute_result"
    }
   ],
   "source": [
    "foo = A()\n",
    "foo.x\n",
    "\n",
    "# 实例化，通过实例也可以得到这个属性，这个属性叫做“实例属性”。\n",
    "# 对于同一属性，可以用类来访问（类属性），\n",
    "# 在一般情况下，也可以通过实例来访问同样的属性。"
   ]
  },
  {
   "cell_type": "code",
   "execution_count": 17,
   "metadata": {},
   "outputs": [
    {
     "data": {
      "text/plain": [
       "8"
      ]
     },
     "execution_count": 17,
     "metadata": {},
     "output_type": "execute_result"
    }
   ],
   "source": [
    "foo.x += 1\n",
    "foo.x"
   ]
  },
  {
   "cell_type": "markdown",
   "metadata": {},
   "source": [
    "实例属性更新了，类属性没有改变。这至少说明，类属性不会被实例属性左右，也可以进一步说“类属性与实例属性无关”。那么，foo.x += 1的本质是什么呢？其本质是该实例foo又建立了一个新的属性，但是这个属性（新的foo.x）居然与原来的属性（旧的foo.x）重名，所以，原来的foo.x就被“遮盖了”，只能访问到新的foo.x，它的值是8.\n",
    "\n",
    "类属性能够影响实例属性，这点应该好理解，因为实例就是通过实例化调用类的。"
   ]
  },
  {
   "cell_type": "code",
   "execution_count": 18,
   "metadata": {},
   "outputs": [],
   "source": [
    "class B(object):\n",
    "    y = [1,2,3]"
   ]
  },
  {
   "cell_type": "code",
   "execution_count": 19,
   "metadata": {},
   "outputs": [
    {
     "data": {
      "text/plain": [
       "[1, 2, 3]"
      ]
     },
     "execution_count": 19,
     "metadata": {},
     "output_type": "execute_result"
    }
   ],
   "source": [
    "B.y"
   ]
  },
  {
   "cell_type": "code",
   "execution_count": 23,
   "metadata": {},
   "outputs": [
    {
     "data": {
      "text/plain": [
       "[1, 2, 3, 4, 4]"
      ]
     },
     "execution_count": 23,
     "metadata": {},
     "output_type": "execute_result"
    }
   ],
   "source": [
    "bar = B()\n",
    "bar.y"
   ]
  },
  {
   "cell_type": "code",
   "execution_count": 24,
   "metadata": {},
   "outputs": [
    {
     "data": {
      "text/plain": [
       "[1, 2, 3, 4, 4, 4]"
      ]
     },
     "execution_count": 24,
     "metadata": {},
     "output_type": "execute_result"
    }
   ],
   "source": [
    "bar.y.append(4)\n",
    "bar.y"
   ]
  },
  {
   "cell_type": "code",
   "execution_count": 25,
   "metadata": {},
   "outputs": [
    {
     "data": {
      "text/plain": [
       "[1, 2, 3, 4, 4, 4]"
      ]
     },
     "execution_count": 25,
     "metadata": {},
     "output_type": "execute_result"
    }
   ],
   "source": [
    "B.y"
   ]
  },
  {
   "cell_type": "code",
   "execution_count": 26,
   "metadata": {},
   "outputs": [
    {
     "data": {
      "text/plain": [
       "[1, 2, 3, 4, 4, 4, 'aa']"
      ]
     },
     "execution_count": 26,
     "metadata": {},
     "output_type": "execute_result"
    }
   ],
   "source": [
    "B.y.append(\"aa\")\n",
    "B.y"
   ]
  },
  {
   "cell_type": "code",
   "execution_count": 27,
   "metadata": {},
   "outputs": [
    {
     "data": {
      "text/plain": [
       "[1, 2, 3, 4, 4, 4, 'aa']"
      ]
     },
     "execution_count": 27,
     "metadata": {},
     "output_type": "execute_result"
    }
   ],
   "source": [
    "bar.y"
   ]
  },
  {
   "cell_type": "markdown",
   "metadata": {},
   "source": [
    "当类中变量引用的是可变对象是，类属性和实例属性都能直接修改这个对象，从而影响另一方的值。"
   ]
  },
  {
   "cell_type": "code",
   "execution_count": 28,
   "metadata": {},
   "outputs": [
    {
     "data": {
      "text/plain": [
       "['__class__',\n",
       " '__delattr__',\n",
       " '__dict__',\n",
       " '__dir__',\n",
       " '__doc__',\n",
       " '__eq__',\n",
       " '__format__',\n",
       " '__ge__',\n",
       " '__getattribute__',\n",
       " '__gt__',\n",
       " '__hash__',\n",
       " '__init__',\n",
       " '__init_subclass__',\n",
       " '__le__',\n",
       " '__lt__',\n",
       " '__module__',\n",
       " '__ne__',\n",
       " '__new__',\n",
       " '__reduce__',\n",
       " '__reduce_ex__',\n",
       " '__repr__',\n",
       " '__setattr__',\n",
       " '__sizeof__',\n",
       " '__str__',\n",
       " '__subclasshook__',\n",
       " '__weakref__',\n",
       " 'x']"
      ]
     },
     "execution_count": 28,
     "metadata": {},
     "output_type": "execute_result"
    }
   ],
   "source": [
    "foo = A()\n",
    "dir(foo)"
   ]
  },
  {
   "cell_type": "code",
   "execution_count": 30,
   "metadata": {},
   "outputs": [
    {
     "data": {
      "text/plain": [
       "'hello'"
      ]
     },
     "execution_count": 30,
     "metadata": {},
     "output_type": "execute_result"
    }
   ],
   "source": [
    "A.y = \"hello\"\n",
    "foo.y\n",
    "\n",
    "# 增加一个类属性，同时在实例属性中也增加了一样的名称和数据的属性。"
   ]
  },
  {
   "cell_type": "code",
   "execution_count": 31,
   "metadata": {},
   "outputs": [
    {
     "data": {
      "text/plain": [
       "'python'"
      ]
     },
     "execution_count": 31,
     "metadata": {},
     "output_type": "execute_result"
    }
   ],
   "source": [
    "foo.z = \"python\"\n",
    "foo.z"
   ]
  },
  {
   "cell_type": "code",
   "execution_count": 32,
   "metadata": {},
   "outputs": [
    {
     "ename": "AttributeError",
     "evalue": "type object 'A' has no attribute 'z'",
     "output_type": "error",
     "traceback": [
      "\u001b[0;31m---------------------------------------------------------------------------\u001b[0m",
      "\u001b[0;31mAttributeError\u001b[0m                            Traceback (most recent call last)",
      "\u001b[0;32m<ipython-input-32-f58af87021b1>\u001b[0m in \u001b[0;36m<module>\u001b[0;34m\u001b[0m\n\u001b[0;32m----> 1\u001b[0;31m \u001b[0mA\u001b[0m\u001b[0;34m.\u001b[0m\u001b[0mz\u001b[0m\u001b[0;34m\u001b[0m\u001b[0;34m\u001b[0m\u001b[0m\n\u001b[0m",
      "\u001b[0;31mAttributeError\u001b[0m: type object 'A' has no attribute 'z'"
     ]
    }
   ],
   "source": [
    "A.z\n",
    "\n",
    "# 类并没有收纳这个属性。这进一步说明，类属性不受实例属性左右。\n",
    "# 另外，在类确定或者实例化之后，也可以增加和修改属性，其方法就是通过类或者实例的点号操作来实现，\n",
    "# 即object.attribute，可以实现对属性的修改和增加。"
   ]
  },
  {
   "cell_type": "markdown",
   "metadata": {},
   "source": [
    "## 数据流转\n",
    "\n",
    "在类的应用中，最广泛的是将类实例化，通过实例来执行各种方法。所以，对此过程中的数据流转一定要弄明白。"
   ]
  },
  {
   "cell_type": "code",
   "execution_count": 41,
   "metadata": {},
   "outputs": [],
   "source": [
    "#!/usr/bin/env python\n",
    "# coding=utf-8\n",
    "\n",
    "__metaclass__ = type\n",
    "\n",
    "class Person5:\n",
    "    def __init__(self, name):\n",
    "        self.name = name\n",
    "\n",
    "    def getName(self):\n",
    "        return self.name\n",
    "\n",
    "    def breast(self, n):\n",
    "        self.breast = n\n",
    "\n",
    "    def color(self, color):\n",
    "        print(\"%s is %s\" % (self.name, color))\n",
    "\n",
    "    def how(self):\n",
    "        print(\"%s breast is %s\" % (self.name, self.breast))\n"
   ]
  },
  {
   "cell_type": "code",
   "execution_count": 42,
   "metadata": {},
   "outputs": [],
   "source": [
    "p1 = Person5('canglaoshi')"
   ]
  },
  {
   "cell_type": "code",
   "execution_count": 43,
   "metadata": {},
   "outputs": [
    {
     "name": "stdout",
     "output_type": "stream",
     "text": [
      "canglaoshi is white\n"
     ]
    }
   ],
   "source": [
    "p1.color(\"white\")"
   ]
  },
  {
   "cell_type": "code",
   "execution_count": 45,
   "metadata": {},
   "outputs": [],
   "source": [
    "p1.breast(90)"
   ]
  },
  {
   "cell_type": "code",
   "execution_count": 47,
   "metadata": {},
   "outputs": [
    {
     "name": "stdout",
     "output_type": "stream",
     "text": [
      "canglaoshi breast is 90\n"
     ]
    }
   ],
   "source": [
    "p1.how()"
   ]
  },
  {
   "cell_type": "markdown",
   "metadata": {},
   "source": [
    "创建实例p1 = Person5('canglaoshi')，注意观察图上的箭头方向。p1这个实例和Person5类中的self对应，这正是应了上节所概括的“实例变量与self对应，实例变量主外，self主内”的概括。\"canglaoshi\"是一个具体的数据，通过初始化函数中的name参数，传给self.name，前面已经讲过，self也是一个实例，可以为它设置属性，self.name就是一个属性，经过初始化函数，这个属性的值由参数name传入，现在就是\"canglaoshi\"。\n",
    "\n",
    "在类Person5的其它方法中，都是以self为第一个或者唯一一个参数。注意，在python中，这个参数要显明写上，在类内部是不能省略的。这就表示所有方法都承接self实例对象，它的属性也被带到每个方法之中。例如在方法里面使用self.name即是调用前面已经确定的实例属性数据。当然，在方法中，还可以继续为实例self增加属性，比如self.breast。这样，通过self实例，就实现了数据在类内部的流转。\n",
    "\n",
    "如果要把数据从类里面传到外面，可以通过return语句实现。如上例子中所示的getName方法。"
   ]
  },
  {
   "cell_type": "markdown",
   "metadata": {},
   "source": [
    "## 命名空间\n",
    "\n",
    "命名空间，英文名字：namespaces。在研究类或者面向对象编程中，它常常被提到。我们在类的知识范畴中理解“类命名空间”——定义类时，所有位于class语句中的代码都在某个命名空间中执行，即类命名空间。\n",
    "\n",
    "命名空间是从所定义的命名到对象的映射集合。\n",
    "\n",
    "不同的命名空间，可以同时存在，当彼此相互独立互不干扰。\n",
    "\n",
    "命名空间因为对象的不同，也有所区别，可以分为如下几种：\n",
    "\n",
    "* 内置命名空间(Built-in Namespaces)：Python运行起来，它们就存在了。内置函数的命名空间都属于内置命名空间，所以，我们可以在任何程序中直接运行它们，比如前面的id(),不需要做什么操作，拿过来就直接使用了。\n",
    "* 全局命名空间(Module:Global Namespaces)：每个模块创建它自己所拥有的全局命名空间，不同模块的全局命名空间彼此独立，不同模块中相同名称的命名空间，也会因为模块的不同而不相互干扰。\n",
    "* 本地命名空间(Function&Class: Local Namespaces)：模块中有函数或者类，每个函数或者类所定义的命名空间就是本地命名空间。如果函数返回了结果或者抛出异常，则本地命名空间也结束了。\n"
   ]
  },
  {
   "cell_type": "code",
   "execution_count": null,
   "metadata": {},
   "outputs": [],
   "source": []
  }
 ],
 "metadata": {
  "kernelspec": {
   "display_name": "Python code",
   "language": "python",
   "name": "py36pt04"
  },
  "language_info": {
   "codemirror_mode": {
    "name": "ipython",
    "version": 3
   },
   "file_extension": ".py",
   "mimetype": "text/x-python",
   "name": "python",
   "nbconvert_exporter": "python",
   "pygments_lexer": "ipython3",
   "version": "3.6.9"
  }
 },
 "nbformat": 4,
 "nbformat_minor": 2
}
