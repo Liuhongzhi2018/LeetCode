{
 "cells": [
  {
   "cell_type": "markdown",
   "metadata": {},
   "source": [
    "# 类"
   ]
  },
  {
   "cell_type": "markdown",
   "metadata": {},
   "source": [
    "对象（object），台湾译作物件，是面向对象（Object Oriented）中的术语，既表示客观世界问题空间（Namespace）中的某个具体的事物，又表示软件系统解空间中的基本元素。\n",
    "\n",
    "定义：在面向对象程式设计，类（class）是一种面向对象计算机编程语言的构造，是创建对象的蓝图，描述了所创建的对象共同的属性和方法。类是对某一群具有同样属性和方法的对象的抽象。\n",
    "\n",
    "类的更严格的定义是由某种特定的元数据所组成的内聚的包。它描述了一些对象的行为规则，而这些对象就被称为该类的实例。类有接口和结构。接口描述了如何通过方法与类及其实例互操作，而结构描述了一个实例中数据如何划分为多个属性。类是与某个层的对象的最具体的类型。类还可以有运行时表示形式（元对象），它为操作与类相关的元数据提供了运行时支持。\n",
    "\n",
    "支持类的编程语言在支持与类相关的各种特性方面都多多少少有一些微妙的差异。大多数都支持不同形式的类继承。许多语言还支持提供封装性的特性，比如访问修饰符。类的出现，为面向对象编程的三个最重要的特性（封装性，继承性，多态性），提供了实现的手段。\n"
   ]
  },
  {
   "cell_type": "markdown",
   "metadata": {},
   "source": [
    "对于对象这个东西，OOP大师Grandy Booch的定义，应该是权威的，相关定义的内容包括：\n",
    "\n",
    "* 对象：一个对象有自己的状态、行为和唯一的标识；所有相同类型的对象所具有的结构和行为在他们共同的类中被定义。\n",
    "* 状态（state）：包括这个对象已有的属性（通常是类里面已经定义好的）在加上对象具有的当前属性值（这些属性往往是动态的）\n",
    "* 行为（behavior）：是指一个对象如何影响外界及被外界影响，表现为对象自身状态的改变和信息的传递。\n",
    "* 标识（identity）：是指一个对象所具有的区别于所有其它对象的属性。（本质上指内存中所创建的对象的地址）\n",
    "\n",
    "任何一个对象都要包括这两部分：属性（是什么）和方法（能做什么）。"
   ]
  },
  {
   "cell_type": "markdown",
   "metadata": {},
   "source": [
    "## 面向对象\n",
    "\n",
    "定义：面向对象程序设计（英语：Object-oriented programming，缩写：OOP）是一种程序设计范型，同时也是一种程序开发的方法。对象指的是类的实例。它将对象作为程序的基本单元，将程序和数据封装其中，以提高软件的重用性、灵活性和扩展性。"
   ]
  },
  {
   "cell_type": "markdown",
   "metadata": {},
   "source": [
    "## 编写类\n",
    "\n",
    "* 要定义类，就要抽象，找出共同的方面。\n",
    "\n",
    "class 美女:        #用class来声明，后面定义的是一个类\n",
    "\n",
    "    pass\n",
    "    \n",
    "class 美女:\n",
    "    胸围 = 90\n",
    "    腰围 = 58\n",
    "    臀围 = 83\n",
    "    皮肤 = white\n",
    "    唱歌()\n",
    "    做饭()\n",
    "\n",
    "其中约定，没有括号的是属性，带有括号的是方法\n",
    "\n",
    "* 对于一个具体的美女,是上面所定义的“美女”那个类的具体化，这在编程中称为“美女类”的实例，用这样一种表达方式，就是将“美女类”实例化了\n",
    "\n",
    "王美女 = 美女()\n",
    "\n",
    "* 对“王美女”这个实例，就可以具体化一些属性，比如胸围；还可以具体实施一些方法，比如做饭。通常可以用这样一种方式表示：\n",
    "\n",
    "a = 王美女.皮肤\n",
    "\n",
    "用点号.的方式，表示王美女的属性，得到的变量a就是white.另外，还可以通过这种方式给属性赋值\n",
    "\n",
    "* 通过实例，也可以访问某个方法\n",
    "\n",
    "王美女.做饭()"
   ]
  },
  {
   "cell_type": "code",
   "execution_count": 2,
   "metadata": {},
   "outputs": [],
   "source": [
    "class AA:\n",
    "    pass\n",
    "\n",
    "aa = AA()"
   ]
  },
  {
   "cell_type": "code",
   "execution_count": 7,
   "metadata": {},
   "outputs": [
    {
     "name": "stdout",
     "output_type": "stream",
     "text": [
      "<class 'type'>\n"
     ]
    }
   ],
   "source": [
    "print(type(AA))"
   ]
  },
  {
   "cell_type": "code",
   "execution_count": 8,
   "metadata": {},
   "outputs": [
    {
     "name": "stdout",
     "output_type": "stream",
     "text": [
      "<class '__main__.AA'>\n"
     ]
    }
   ],
   "source": [
    "print(type(aa))"
   ]
  },
  {
   "cell_type": "code",
   "execution_count": 9,
   "metadata": {},
   "outputs": [
    {
     "name": "stdout",
     "output_type": "stream",
     "text": [
      "<class '__main__.AA'>\n"
     ]
    }
   ],
   "source": [
    "print(aa.__class__)"
   ]
  },
  {
   "cell_type": "markdown",
   "metadata": {},
   "source": [
    "新式类，从python2.2开始，aa.\\_class\\__和type(aa)都可以查看对象类型，都可以查看对象类型"
   ]
  },
  {
   "cell_type": "code",
   "execution_count": 10,
   "metadata": {},
   "outputs": [
    {
     "name": "stdout",
     "output_type": "stream",
     "text": [
      "<__main__.AA object at 0x7fad800cc400>\n"
     ]
    }
   ],
   "source": [
    "print(aa)"
   ]
  },
  {
   "cell_type": "markdown",
   "metadata": {},
   "source": [
    "## 定义新式类\n",
    "\n",
    "class BB(object):\n",
    "\n",
    "    pass\n",
    "\n",
    "跟旧式类的区别就在于类的名字后面跟上(object)，这其实是一种名为“继承”的类的操作，当前的类BB是以类object为上级的（object被称为父类），即BB是继承自类object的新类。在python3中，所有的类自然地都是类object的子类，就不用彰显出继承关系了。\n",
    "\n",
    "这是在声明创建一个名为\"BB\"的类。类的名称一般用大写字母开头，这是惯例。如果名称是两个单词，那么两个单词的首字母都要大写，例如class HotPerson，这种命名方法有一个形象的名字，叫做“驼峰式命名”。\n",
    "\n",
    "类里面的函数叫做“方法”，函数的命名方法是以def发起，并且函数名称首字母不要用大写，可以使用aa_bb的样式，也可以使用aaBb的样式。类中的函数（方法）的参数跟以往的参数样式有区别，那就是每个函数必须包括self参数，并且作为默认的第一个参数。"
   ]
  },
  {
   "cell_type": "markdown",
   "metadata": {},
   "source": [
    "## 初始化\n",
    "\n",
    "def \\__init\\__，这个函数是一个比较特殊的，并且有一个名字，叫做初始化函数（注意，很多教材和资料中，把它叫做构造函数，这种说法貌似没有错误，但是一来从字面意义上看，它对应的含义是初始化，二来在python中它的作用和其它语言比如java中的构造函数还不完全一样，因为还有一个__new__的函数，是真正地构造。所以，在本教程中，我称之为初始化函数）。它是以两个下划线开始，然后是init，最后以两个下划线结束。\n",
    "\n",
    "构造函数下面的两个函数，和前面的初始化函数有共同的地方，即都是以self作为第一个参数。"
   ]
  },
  {
   "cell_type": "code",
   "execution_count": 22,
   "metadata": {},
   "outputs": [],
   "source": [
    "#!/usr/bin/env python\n",
    "# coding=utf-8\n",
    "\n",
    "__metaclass__ = type\n",
    "\n",
    "class Person:\n",
    "    def __init__(self, name):\n",
    "        self.name = name\n",
    "\n",
    "    def getName(self):\n",
    "        return self.name\n",
    "\n",
    "    def color(self, color):\n",
    "        print(\"%s is %s\" % (self.name, color))"
   ]
  },
  {
   "cell_type": "markdown",
   "metadata": {},
   "source": [
    "就是在这个类被实例化的同时，要通过name参数传一个值，这个值被一开始就写入了类和实例中，成为了类和实例的一个属性。"
   ]
  },
  {
   "cell_type": "code",
   "execution_count": 13,
   "metadata": {},
   "outputs": [],
   "source": [
    "girl = Person('canglaoshi')"
   ]
  },
  {
   "cell_type": "markdown",
   "metadata": {},
   "source": [
    "girl是一个实例对象，就如同前面所说的一样，它有属性和方法。这里仅说属性吧。当通过上面的方式实例化后，就自动执行了初始化函数，让实例girl就具有了name属性。"
   ]
  },
  {
   "cell_type": "code",
   "execution_count": 14,
   "metadata": {},
   "outputs": [
    {
     "name": "stdout",
     "output_type": "stream",
     "text": [
      "canglaoshi\n"
     ]
    }
   ],
   "source": [
    "print(girl.name)"
   ]
  },
  {
   "cell_type": "markdown",
   "metadata": {},
   "source": [
    "这就是初始化的功能。简而言之，通过初始化函数，确定了这个实例（类）的“基本属性”（实例是什么样子的）。比如上面的实例化之后，就确立了实例girl的name是\"canglaoshi\"。"
   ]
  },
  {
   "cell_type": "code",
   "execution_count": 19,
   "metadata": {},
   "outputs": [],
   "source": [
    "class Person1:\n",
    "    def __init__(self, name, lang=\"golang\", website=\"www.google.com\"):\n",
    "        self.name = name\n",
    "        self.lang = lang\n",
    "        self.website = website\n",
    "        self.email = \"qiwsir@gmail.com\""
   ]
  },
  {
   "cell_type": "code",
   "execution_count": 20,
   "metadata": {},
   "outputs": [],
   "source": [
    "laoqi = Person1(\"LaoQi\")\n",
    "info = Person1(\"qiwsir\",lang=\"python\",website=\"qiwsir.github.io\")"
   ]
  },
  {
   "cell_type": "code",
   "execution_count": 21,
   "metadata": {},
   "outputs": [
    {
     "name": "stdout",
     "output_type": "stream",
     "text": [
      "laoqi.name= LaoQi\n",
      "info.name= qiwsir\n",
      "-------\n",
      "laoqi.lang= golang\n",
      "info.lang= python\n",
      "-------\n",
      "laoqi.website= www.google.com\n",
      "info.website= qiwsir.github.io\n"
     ]
    }
   ],
   "source": [
    "print(\"laoqi.name=\",laoqi.name)\n",
    "print(\"info.name=\",info.name)\n",
    "print(\"-------\")\n",
    "print(\"laoqi.lang=\",laoqi.lang)\n",
    "print(\"info.lang=\",info.lang)\n",
    "print(\"-------\")\n",
    "print(\"laoqi.website=\",laoqi.website)\n",
    "print(\"info.website=\",info.website)"
   ]
  },
  {
   "cell_type": "code",
   "execution_count": 25,
   "metadata": {},
   "outputs": [
    {
     "name": "stdout",
     "output_type": "stream",
     "text": [
      "canglaoshi\n"
     ]
    }
   ],
   "source": [
    "girl = Person('canglaoshi')\n",
    "name = girl.getName()\n",
    "print(name)"
   ]
  },
  {
   "cell_type": "code",
   "execution_count": 26,
   "metadata": {},
   "outputs": [
    {
     "name": "stdout",
     "output_type": "stream",
     "text": [
      "canglaoshi is white\n"
     ]
    }
   ],
   "source": [
    "girl.color(\"white\")"
   ]
  },
  {
   "cell_type": "code",
   "execution_count": 28,
   "metadata": {},
   "outputs": [],
   "source": [
    "# 完整版\n",
    "#!/usr/bin/env python\n",
    "# coding=utf-8\n",
    "\n",
    "__metaclass__ = type             #新式类\n",
    "\n",
    "class Person:                    #创建类\n",
    "    def __init__(self, name):    #构造函数\n",
    "        self.name = name\n",
    "\n",
    "    def getName(self):           #类中的方法（函数）\n",
    "        return self.name\n",
    "\n",
    "    def color(self, color):\n",
    "        print(\"%s is %s\" % (self.name, color))"
   ]
  },
  {
   "cell_type": "code",
   "execution_count": 29,
   "metadata": {},
   "outputs": [
    {
     "name": "stdout",
     "output_type": "stream",
     "text": [
      "the person's name is:  caolangshi\n"
     ]
    }
   ],
   "source": [
    "girl = Person(\"caolangshi\")\n",
    "name = girl.getName()\n",
    "print(\"the person's name is: \", name)"
   ]
  },
  {
   "cell_type": "code",
   "execution_count": 30,
   "metadata": {},
   "outputs": [
    {
     "name": "stdout",
     "output_type": "stream",
     "text": [
      "caolangshi is white\n",
      "caolangshi\n"
     ]
    }
   ],
   "source": [
    "girl.color(\"white\")\n",
    "print(girl.name)"
   ]
  },
  {
   "cell_type": "markdown",
   "metadata": {},
   "source": [
    "总结一下类和实例的关系：\n",
    "\n",
    "* “类提供默认行为，是实例的工厂”（源自Learning Python），这句话非常经典，一下道破了类和实例的关系。所谓工厂，就是可以用同一个模子做出很多具体的产品。类就是那个模子，实例就是具体的产品。所以，实例是程序处理的实际对象。\n",
    "\n",
    "* 类是由一些语句组成，但是实例，是通过调用类生成，每次调用一个类，就得到这个类的新的实例。\n",
    "\n",
    "* 对于类的：class Person，class是一个可执行的语句。如果执行，就得到了一个类对象，并且将这个类对象赋值给对象名（比如Person）。\n"
   ]
  },
  {
   "cell_type": "markdown",
   "metadata": {},
   "source": [
    "## self的作用"
   ]
  },
  {
   "cell_type": "code",
   "execution_count": null,
   "metadata": {},
   "outputs": [],
   "source": []
  }
 ],
 "metadata": {
  "kernelspec": {
   "display_name": "Python code",
   "language": "python",
   "name": "py36pt04"
  },
  "language_info": {
   "codemirror_mode": {
    "name": "ipython",
    "version": 3
   },
   "file_extension": ".py",
   "mimetype": "text/x-python",
   "name": "python",
   "nbconvert_exporter": "python",
   "pygments_lexer": "ipython3",
   "version": "3.6.9"
  }
 },
 "nbformat": 4,
 "nbformat_minor": 2
}
