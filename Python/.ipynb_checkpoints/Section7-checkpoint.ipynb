{
 "cells": [
  {
   "cell_type": "markdown",
   "metadata": {},
   "source": [
    "# 模块"
   ]
  },
  {
   "cell_type": "markdown",
   "metadata": {},
   "source": [
    "## 编写模块\n",
    "\n",
    "在本章之前，Python还没有显示出太突出的优势。本章开始，读者就会越来越感觉到Python的强大了。这种强大体现在“模块自信”上，因为Python不仅有很强大的自有模块（或者包、库，比如为标准库），还有海量的第三方模块（或者包、库），任何人还都能自己开发模块（或者包、库），正是有了这么强大的“模块自信”，才体现了Python的优势所在。并且这种方式也正在不断被更多其它语言所借鉴。\n",
    "\n",
    "“模块自信”的本质是：开放。\n",
    "\n",
    "Python不是一个封闭的体系，是一个开放系统。开放系统的最大好处就是避免了“熵增”。\n",
    "\n",
    "熵的概念是由德国物理学家克劳修斯于1865年（这一年李鸿章建立了江南机械制造总局，美国废除奴隶制，林肯总统遇刺身亡，美国南北战争结束。）所提出，是一种测量在动力学方面不能做功的能量总数，也就是当总体的熵增加，其做功能力也下降，熵的量度正是能量退化的指标。\n",
    "\n",
    "熵亦被用于计算一个系统中的失序现象，也就是计算该系统混乱的程度。\n",
    "\n",
    "根据熵的统计学定义， 热力学第二定律说明一个孤立系统的倾向于增加混乱程度。换句话说就是对于封闭系统而言，会越来越趋向于无序化。反过来，开放系统则能避免无序化。\n"
   ]
  },
  {
   "cell_type": "code",
   "execution_count": 2,
   "metadata": {},
   "outputs": [
    {
     "data": {
      "text/plain": [
       "9.0"
      ]
     },
     "execution_count": 2,
     "metadata": {},
     "output_type": "execute_result"
    }
   ],
   "source": [
    "import math\n",
    "math.pow(3,2)"
   ]
  },
  {
   "cell_type": "markdown",
   "metadata": {},
   "source": [
    "这里的math就是一个库，用import引入这个库，然后可以使用库里面的函数，比如这个pow()函数。显然，这里我们是不需要自己动手写具体函数的，我们的任务就是拿过来使用。这就是库的好处：拿过来就用，不用自己重写。\n",
    "\n",
    "请读者注意，到现在为止，我们看到了模块、库、包这些名词，并且在开发实践中，也会常常遇到。它们有区别吗？有！只不过，现在我们暂时不区分，就笼统地说，阅读下面的内容，就理解它们之间的区分了。"
   ]
  },
  {
   "cell_type": "markdown",
   "metadata": {},
   "source": [
    "## 模块是程序\n",
    "\n",
    "模块的本质，它就是一个扩展名为.py的Python程序。我们能够在应该使用它的时候将它引用过来，节省精力，不需要重写雷同的代码。"
   ]
  },
  {
   "cell_type": "code",
   "execution_count": 2,
   "metadata": {},
   "outputs": [],
   "source": [
    "import sys\n",
    "\n",
    "sys.path.append(\"./pm.py\")"
   ]
  },
  {
   "cell_type": "code",
   "execution_count": 3,
   "metadata": {},
   "outputs": [
    {
     "data": {
      "text/plain": [
       "'python'"
      ]
     },
     "execution_count": 3,
     "metadata": {},
     "output_type": "execute_result"
    }
   ],
   "source": [
    "import pm\n",
    "pm.lang"
   ]
  },
  {
   "cell_type": "markdown",
   "metadata": {},
   "source": [
    "在pm.py文件中，有一个变量lang = \"python\"，这次它作为模块引入（注意作为模块引入的时候，不带扩展名），就可以通过模块名字来访问变量pm.py，当然，如果不存在的属性这么去访问，肯定是要报错的。"
   ]
  },
  {
   "cell_type": "markdown",
   "metadata": {},
   "source": [
    "解释器，英文是：interpreter，港台翻译为：直译器。在Python中，它的作用就是将.py的文件转化为.pyc文件，而.pyc文件是由字节码(bytecode)构成的，然后计算机执行.pyc文件。\n",
    "\n",
    "有了.pyc文件后，每次运行，就不需要从新让解释器来编译.py文件了，除非.py文件修改了。这样，Python运行的就是那个编译好了的.pyc文件。\n",
    "\n",
    "同样是.py文件，它是怎么知道是被当做程序执行还是被当做模块引入？"
   ]
  },
  {
   "cell_type": "code",
   "execution_count": 14,
   "metadata": {},
   "outputs": [],
   "source": [
    "import sys\n",
    "sys.path.append(\"./pm2.py\")"
   ]
  },
  {
   "cell_type": "code",
   "execution_count": 15,
   "metadata": {},
   "outputs": [
    {
     "data": {
      "text/plain": [
       "'module'"
      ]
     },
     "execution_count": 15,
     "metadata": {},
     "output_type": "execute_result"
    }
   ],
   "source": [
    "import pm2\n",
    "pm2.part()"
   ]
  },
  {
   "cell_type": "code",
   "execution_count": 16,
   "metadata": {},
   "outputs": [
    {
     "data": {
      "text/plain": [
       "['__builtins__',\n",
       " '__cached__',\n",
       " '__doc__',\n",
       " '__file__',\n",
       " '__loader__',\n",
       " '__name__',\n",
       " '__package__',\n",
       " '__spec__',\n",
       " 'lang',\n",
       " 'part']"
      ]
     },
     "execution_count": 16,
     "metadata": {},
     "output_type": "execute_result"
    }
   ],
   "source": [
    "dir(pm2)\n",
    "\n",
    "# pm.py中的函数lang()和part是两个属性"
   ]
  },
  {
   "cell_type": "code",
   "execution_count": 17,
   "metadata": {},
   "outputs": [
    {
     "data": {
      "text/plain": [
       "'python'"
      ]
     },
     "execution_count": 17,
     "metadata": {},
     "output_type": "execute_result"
    }
   ],
   "source": [
    "pm2.lang()"
   ]
  },
  {
   "cell_type": "code",
   "execution_count": 18,
   "metadata": {},
   "outputs": [
    {
     "data": {
      "text/plain": [
       "'__main__'"
      ]
     },
     "execution_count": 18,
     "metadata": {},
     "output_type": "execute_result"
    }
   ],
   "source": [
    "__name__"
   ]
  },
  {
   "cell_type": "code",
   "execution_count": 19,
   "metadata": {},
   "outputs": [
    {
     "data": {
      "text/plain": [
       "'pm'"
      ]
     },
     "execution_count": 19,
     "metadata": {},
     "output_type": "execute_result"
    }
   ],
   "source": [
    "pm.__name__"
   ]
  },
  {
   "cell_type": "markdown",
   "metadata": {},
   "source": [
    "如果要作为程序执行，则\\__name__ == \"\\__main__\"；如果作为模块引入，则pm.\\__name__ == \"pm\"，即变量\\__name__的值是模块名称。\n",
    "\n",
    "用这种方式就可以区分是执行程序还是作为模块引入了。\n",
    "\n",
    "在一般情况下，如果仅仅是用作模块引入，可以不写if \\__name__ == \"\\__main__\"。"
   ]
  },
  {
   "cell_type": "markdown",
   "metadata": {},
   "source": [
    "## 模块的位置\n",
    "\n",
    "为了让我们自己写的模块能够被Python解释器知道，需要用sys.path.append(\"~/Documents/VBS/StarterLearningPython/2code/pm.py\")。其实，在Python中，所有模块都被加入到了sys.path里面了。用下面的方法可以看到模块所在位置："
   ]
  },
  {
   "cell_type": "code",
   "execution_count": 20,
   "metadata": {},
   "outputs": [],
   "source": [
    "import sys\n",
    "import pprint"
   ]
  },
  {
   "cell_type": "code",
   "execution_count": 21,
   "metadata": {},
   "outputs": [
    {
     "name": "stdout",
     "output_type": "stream",
     "text": [
      "['/home/henry/anaconda3/envs/py36pt04/lib/python36.zip',\n",
      " '/home/henry/anaconda3/envs/py36pt04/lib/python3.6',\n",
      " '/home/henry/anaconda3/envs/py36pt04/lib/python3.6/lib-dynload',\n",
      " '',\n",
      " '/home/henry/anaconda3/envs/py36pt04/lib/python3.6/site-packages',\n",
      " '/home/henry/anaconda3/envs/py36pt04/lib/python3.6/site-packages/IPython/extensions',\n",
      " '/home/henry/.ipython',\n",
      " './pm.py',\n",
      " './pm1.py',\n",
      " './pm1.py',\n",
      " './pm1.py',\n",
      " './pm2.py']\n"
     ]
    }
   ],
   "source": [
    "pprint.pprint(sys.path)"
   ]
  },
  {
   "cell_type": "markdown",
   "metadata": {},
   "source": [
    "要将模块文件放到合适的位置——就是sys.path包括位置——就能够直接用import引入了"
   ]
  },
  {
   "cell_type": "markdown",
   "metadata": {},
   "source": [
    "## PYTHONPATH环境变量\n",
    "\n",
    "用sys.path.append()就是不管把文件放哪里，都可以把其位置告诉Python解释器。但是，这种方法不是很常用。因为它也有麻烦的地方，比如在交互模式下，如果关闭了，然后再开启，还得从新告知。\n",
    "\n",
    "比较常用的告知方法是设置PYTHONPATH环境变量。\n",
    "\n",
    "    环境变量，不同操作系统的设置方法略有差异。读者可以根据自己的操作系统，到网上搜索设置方法。\n",
    "\n",
    "要用root权限设置环境变量\n",
    "\n",
    "vim /etc/profile\n",
    "\n",
    "在打开的文件最后增加export PYTHONPATH = “$PYTHONPATH：/home/qw/python”，然后保存退出即可。\n",
    "\n",
    "环境变量更改之后，用户下次登录时生效，如果想立刻生效，则要执行下面的语句：\n",
    "\n",
    "$ source /etc/profile\n"
   ]
  },
  {
   "cell_type": "markdown",
   "metadata": {},
   "source": [
    "## 'all'在模块中的作用"
   ]
  },
  {
   "cell_type": "code",
   "execution_count": 24,
   "metadata": {},
   "outputs": [
    {
     "data": {
      "text/plain": [
       "'Hello, I am a public variable.'"
      ]
     },
     "execution_count": 24,
     "metadata": {},
     "output_type": "execute_result"
    }
   ],
   "source": [
    "import sys\n",
    "sys.path.append(\"./pp.py\")\n",
    "import pp\n",
    "from pp import *\n",
    "\n",
    "public_variable"
   ]
  },
  {
   "cell_type": "code",
   "execution_count": 25,
   "metadata": {},
   "outputs": [
    {
     "ename": "NameError",
     "evalue": "name '_private_variable' is not defined",
     "output_type": "error",
     "traceback": [
      "\u001b[0;31m---------------------------------------------------------------------------\u001b[0m",
      "\u001b[0;31mNameError\u001b[0m                                 Traceback (most recent call last)",
      "\u001b[0;32m<ipython-input-25-28da499e5a9b>\u001b[0m in \u001b[0;36m<module>\u001b[0;34m\u001b[0m\n\u001b[0;32m----> 1\u001b[0;31m \u001b[0m_private_variable\u001b[0m\u001b[0;34m\u001b[0m\u001b[0;34m\u001b[0m\u001b[0m\n\u001b[0m",
      "\u001b[0;31mNameError\u001b[0m: name '_private_variable' is not defined"
     ]
    }
   ],
   "source": [
    "_private_variable"
   ]
  },
  {
   "cell_type": "markdown",
   "metadata": {},
   "source": [
    "变量public_variable能够被使用，但是另外一个变量_private_variable不能被调用，先观察一下两者的区别，后者是以单下划线开头的，这样的是私有变量。而from pp import *的含义是“希望能访问模块（pp）中有权限访问的全部名称”，那些被视为私有的变量或者函数或者类，没有权限被访问了。"
   ]
  },
  {
   "cell_type": "markdown",
   "metadata": {},
   "source": [
    "访问具有私有性质的东西"
   ]
  },
  {
   "cell_type": "markdown",
   "metadata": {},
   "source": [
    "import pp\n",
    "pp._private_teacher()"
   ]
  },
  {
   "cell_type": "code",
   "execution_count": 27,
   "metadata": {},
   "outputs": [
    {
     "data": {
      "text/plain": [
       "'Hi, I am a private variable.'"
      ]
     },
     "execution_count": 27,
     "metadata": {},
     "output_type": "execute_result"
    }
   ],
   "source": [
    "pp._private_variable"
   ]
  },
  {
   "cell_type": "markdown",
   "metadata": {},
   "source": [
    "在修改之后的pp1.py中，增加了__all__以它的值，在列表中包含了一个私有变量的名字和一个函数的名字。这是在告诉引用本模块的解释器，这两个东西是有权限被访问的，而且只有这两个东西。"
   ]
  },
  {
   "cell_type": "code",
   "execution_count": 32,
   "metadata": {},
   "outputs": [
    {
     "data": {
      "text/plain": [
       "'Hi, I am a private variable.'"
      ]
     },
     "execution_count": 32,
     "metadata": {},
     "output_type": "execute_result"
    }
   ],
   "source": [
    "import sys\n",
    "sys.path.append(\"./pp1.py\")\n",
    "from pp1 import *\n",
    "_private_variable\n",
    "\n",
    "# 果然，曾经不能被访问的私有变量，现在能够访问了。"
   ]
  },
  {
   "cell_type": "code",
   "execution_count": 34,
   "metadata": {},
   "outputs": [
    {
     "ename": "NameError",
     "evalue": "name 'public_variable1' is not defined",
     "output_type": "error",
     "traceback": [
      "\u001b[0;31m---------------------------------------------------------------------------\u001b[0m",
      "\u001b[0;31mNameError\u001b[0m                                 Traceback (most recent call last)",
      "\u001b[0;32m<ipython-input-34-c64a9892c0ca>\u001b[0m in \u001b[0;36m<module>\u001b[0;34m\u001b[0m\n\u001b[0;32m----> 1\u001b[0;31m \u001b[0mpublic_variable1\u001b[0m\u001b[0;34m\u001b[0m\u001b[0;34m\u001b[0m\u001b[0m\n\u001b[0m",
      "\u001b[0;31mNameError\u001b[0m: name 'public_variable1' is not defined"
     ]
    }
   ],
   "source": [
    "public_variable1"
   ]
  },
  {
   "cell_type": "markdown",
   "metadata": {},
   "source": [
    "如果以import pp引入模块，再用pp._private_teacher的方式是一样有效的。"
   ]
  },
  {
   "cell_type": "markdown",
   "metadata": {},
   "source": [
    "## 包或者库\n",
    "\n",
    "包或者库，应该是比“模块”大的。也的确如此，一般来讲，一个“包”里面会有多个模块，当然，“库”是一个更大的概念了，比如Python标准库中的每个库，都可以看成有好多个包，每个包，都有若干个模块。或许这个概念不是很明确，这么理解不会耽误你使用。\n",
    "\n",
    "对于一个包，因为它是由多个模块组成，也就是说是多个.py的文件，那么这个所谓“包”也就是我们熟悉的一个目录罢了。现在就需要解决如何引用某个目录中的模块问题了。解决方法就是在该目录中放一个\\__init__.py文件。\\__init__.py是一个空文件，将它放在某个目录中，就可以将该目录中的其它.py文件作为模块被引用。\n",
    "\n",
    "例如，我建立了一个目录，名曰：package_qi，里面依次放了pm.py和pp.py两个文件，然后建立一个空文件\\__init__.py\n",
    "\n",
    "接下来，我需要导入这个包（package_qi）中的模块。"
   ]
  },
  {
   "cell_type": "markdown",
   "metadata": {},
   "source": [
    "## 标准库\n",
    "\n",
    "“python自带‘电池’”，听说过这种说法吗？\n",
    "\n",
    "在python被安装的时候，就有不少模块也随着安装到本地的计算机上了。这些东西就如同“能源”、“电力”一样，让python拥有了无限生机，能够非常轻而易举地免费使用很多模块。所以，称之为“自带电池”。\n",
    "\n",
    "它们被称为“标准库”。\n",
    "\n",
    "熟悉标准库，是进行编程的必须。"
   ]
  },
  {
   "cell_type": "markdown",
   "metadata": {},
   "source": [
    "### 引用方式"
   ]
  },
  {
   "cell_type": "code",
   "execution_count": 35,
   "metadata": {},
   "outputs": [
    {
     "name": "stdout",
     "output_type": "stream",
     "text": [
      "{'book': 'www.itdiffer.com',\n",
      " 'goal': 'from beginner to master',\n",
      " 'lang': 'python',\n",
      " 'teacher': 'qiwsir'}\n"
     ]
    }
   ],
   "source": [
    "import pprint\n",
    "a = {\"lang\":\"python\", \"book\":\"www.itdiffer.com\", \"teacher\":\"qiwsir\", \"goal\":\"from beginner to master\"}\n",
    "pprint.pprint(a)  \n",
    "\n",
    "# 这种方法能够让dict格式化输出\n",
    "# 用import pprint样式引入模块，并以.点号的形式引用其方法。"
   ]
  },
  {
   "cell_type": "code",
   "execution_count": 37,
   "metadata": {},
   "outputs": [
    {
     "name": "stdout",
     "output_type": "stream",
     "text": [
      "{'book': 'www.itdiffer.com',\n",
      " 'goal': 'from beginner to master',\n",
      " 'lang': 'python',\n",
      " 'teacher': 'qiwsir'}\n"
     ]
    }
   ],
   "source": [
    "from pprint import pprint\n",
    "pprint(a)\n",
    "\n",
    "# 从pprint模块中之将pprint()引入"
   ]
  },
  {
   "cell_type": "code",
   "execution_count": 39,
   "metadata": {},
   "outputs": [
    {
     "name": "stdout",
     "output_type": "stream",
     "text": [
      "{'book': 'www.itdiffer.com',\n",
      " 'goal': 'from beginner to master',\n",
      " 'lang': 'python',\n",
      " 'teacher': 'qiwsir'}\n"
     ]
    }
   ],
   "source": [
    "# 有时候引入的模块或者方法名称有点长，可以给它重命名\n",
    "import pprint as pr\n",
    "pr.pprint(a)"
   ]
  },
  {
   "cell_type": "code",
   "execution_count": 40,
   "metadata": {},
   "outputs": [
    {
     "name": "stdout",
     "output_type": "stream",
     "text": [
      "{'book': 'www.itdiffer.com',\n",
      " 'goal': 'from beginner to master',\n",
      " 'lang': 'python',\n",
      " 'teacher': 'qiwsir'}\n"
     ]
    }
   ],
   "source": [
    "from pprint import pprint as pt\n",
    "pt(a)"
   ]
  },
  {
   "cell_type": "markdown",
   "metadata": {},
   "source": [
    "## 深入研究"
   ]
  },
  {
   "cell_type": "code",
   "execution_count": 41,
   "metadata": {},
   "outputs": [
    {
     "data": {
      "text/plain": [
       "['PrettyPrinter',\n",
       " '_StringIO',\n",
       " '__all__',\n",
       " '__builtins__',\n",
       " '__cached__',\n",
       " '__doc__',\n",
       " '__file__',\n",
       " '__loader__',\n",
       " '__name__',\n",
       " '__package__',\n",
       " '__spec__',\n",
       " '_builtin_scalars',\n",
       " '_collections',\n",
       " '_perfcheck',\n",
       " '_recursion',\n",
       " '_safe_key',\n",
       " '_safe_repr',\n",
       " '_safe_tuple',\n",
       " '_sys',\n",
       " '_types',\n",
       " '_wrap_bytes_repr',\n",
       " 'isreadable',\n",
       " 'isrecursive',\n",
       " 'pformat',\n",
       " 'pprint',\n",
       " 're',\n",
       " 'saferepr']"
      ]
     },
     "execution_count": 41,
     "metadata": {},
     "output_type": "execute_result"
    }
   ],
   "source": [
    "import pprint\n",
    "dir(pprint)"
   ]
  },
  {
   "cell_type": "code",
   "execution_count": 42,
   "metadata": {},
   "outputs": [
    {
     "data": {
      "text/plain": [
       "['PrettyPrinter',\n",
       " 'isreadable',\n",
       " 'isrecursive',\n",
       " 'pformat',\n",
       " 'pprint',\n",
       " 're',\n",
       " 'saferepr']"
      ]
     },
     "execution_count": 42,
     "metadata": {},
     "output_type": "execute_result"
    }
   ],
   "source": [
    "[ m for m in dir(pprint) if not m.startswith('_') ]"
   ]
  },
  {
   "cell_type": "code",
   "execution_count": 44,
   "metadata": {},
   "outputs": [
    {
     "ename": "NameError",
     "evalue": "name 'isreadable' is not defined",
     "output_type": "error",
     "traceback": [
      "\u001b[0;31m---------------------------------------------------------------------------\u001b[0m",
      "\u001b[0;31mNameError\u001b[0m                                 Traceback (most recent call last)",
      "\u001b[0;32m<ipython-input-44-6112977da05f>\u001b[0m in \u001b[0;36m<module>\u001b[0;34m\u001b[0m\n\u001b[0;32m----> 1\u001b[0;31m \u001b[0mhelp\u001b[0m\u001b[0;34m(\u001b[0m\u001b[0misreadable\u001b[0m\u001b[0;34m)\u001b[0m\u001b[0;34m\u001b[0m\u001b[0;34m\u001b[0m\u001b[0m\n\u001b[0m",
      "\u001b[0;31mNameError\u001b[0m: name 'isreadable' is not defined"
     ]
    }
   ],
   "source": [
    "help(isreadable)"
   ]
  },
  {
   "cell_type": "code",
   "execution_count": 45,
   "metadata": {},
   "outputs": [
    {
     "name": "stdout",
     "output_type": "stream",
     "text": [
      "Help on function isreadable in module pprint:\n",
      "\n",
      "isreadable(object)\n",
      "    Determine if saferepr(object) is readable by eval().\n",
      "\n"
     ]
    }
   ],
   "source": [
    "help(pprint.isreadable)"
   ]
  },
  {
   "cell_type": "code",
   "execution_count": 46,
   "metadata": {},
   "outputs": [
    {
     "name": "stdout",
     "output_type": "stream",
     "text": [
      "Help on class PrettyPrinter in module pprint:\n",
      "\n",
      "class PrettyPrinter(builtins.object)\n",
      " |  Methods defined here:\n",
      " |  \n",
      " |  __init__(self, indent=1, width=80, depth=None, stream=None, *, compact=False)\n",
      " |      Handle pretty printing operations onto a stream using a set of\n",
      " |      configured parameters.\n",
      " |      \n",
      " |      indent\n",
      " |          Number of spaces to indent for each level of nesting.\n",
      " |      \n",
      " |      width\n",
      " |          Attempted maximum number of columns in the output.\n",
      " |      \n",
      " |      depth\n",
      " |          The maximum depth to print out nested structures.\n",
      " |      \n",
      " |      stream\n",
      " |          The desired output stream.  If omitted (or false), the standard\n",
      " |          output stream available at construction will be used.\n",
      " |      \n",
      " |      compact\n",
      " |          If true, several items will be combined in one line.\n",
      " |  \n",
      " |  format(self, object, context, maxlevels, level)\n",
      " |      Format object for a specific context, returning a string\n",
      " |      and flags indicating whether the representation is 'readable'\n",
      " |      and whether the object represents a recursive construct.\n",
      " |  \n",
      " |  isreadable(self, object)\n",
      " |  \n",
      " |  isrecursive(self, object)\n",
      " |  \n",
      " |  pformat(self, object)\n",
      " |  \n",
      " |  pprint(self, object)\n",
      " |  \n",
      " |  ----------------------------------------------------------------------\n",
      " |  Data descriptors defined here:\n",
      " |  \n",
      " |  __dict__\n",
      " |      dictionary for instance variables (if defined)\n",
      " |  \n",
      " |  __weakref__\n",
      " |      list of weak references to the object (if defined)\n",
      "\n"
     ]
    }
   ],
   "source": [
    "help(pprint.PrettyPrinter)"
   ]
  },
  {
   "cell_type": "code",
   "execution_count": 47,
   "metadata": {},
   "outputs": [
    {
     "data": {
      "text/plain": [
       "['PrettyPrinter',\n",
       " '_StringIO',\n",
       " '__all__',\n",
       " '__builtins__',\n",
       " '__cached__',\n",
       " '__doc__',\n",
       " '__file__',\n",
       " '__loader__',\n",
       " '__name__',\n",
       " '__package__',\n",
       " '__spec__',\n",
       " '_builtin_scalars',\n",
       " '_collections',\n",
       " '_perfcheck',\n",
       " '_recursion',\n",
       " '_safe_key',\n",
       " '_safe_repr',\n",
       " '_safe_tuple',\n",
       " '_sys',\n",
       " '_types',\n",
       " '_wrap_bytes_repr',\n",
       " 'isreadable',\n",
       " 'isrecursive',\n",
       " 'pformat',\n",
       " 'pprint',\n",
       " 're',\n",
       " 'saferepr']"
      ]
     },
     "execution_count": 47,
     "metadata": {},
     "output_type": "execute_result"
    }
   ],
   "source": [
    "dir(pprint)"
   ]
  },
  {
   "cell_type": "code",
   "execution_count": 49,
   "metadata": {},
   "outputs": [
    {
     "data": {
      "text/plain": [
       "['pprint', 'pformat', 'isreadable', 'isrecursive', 'saferepr', 'PrettyPrinter']"
      ]
     },
     "execution_count": 49,
     "metadata": {},
     "output_type": "execute_result"
    }
   ],
   "source": [
    "pprint.__all__\n",
    "\n",
    "# 其实，当我们使用from pprint import *的时候，就是将__all__里面的方法引入，\n",
    "# 如果没有这个，就会将其它所有属性、方法等引入，包括那些以双划线或者单划线开头的变量、函数，\n",
    "# 这些东西事实上很少被在引入模块时使用。"
   ]
  },
  {
   "cell_type": "markdown",
   "metadata": {},
   "source": [
    "## 帮助、文档和源码\n",
    "\n"
   ]
  },
  {
   "cell_type": "code",
   "execution_count": 51,
   "metadata": {},
   "outputs": [
    {
     "name": "stdout",
     "output_type": "stream",
     "text": [
      "Support to pretty-print lists, tuples, & dictionaries recursively.\n",
      "\n",
      "Very simple, but useful, especially in debugging data structures.\n",
      "\n",
      "Classes\n",
      "-------\n",
      "\n",
      "PrettyPrinter()\n",
      "    Handle pretty-printing operations onto a stream using a configured\n",
      "    set of formatting parameters.\n",
      "\n",
      "Functions\n",
      "---------\n",
      "\n",
      "pformat()\n",
      "    Format a Python object into a pretty-printed representation.\n",
      "\n",
      "pprint()\n",
      "    Pretty-print a Python object to a stream [default is sys.stdout].\n",
      "\n",
      "saferepr()\n",
      "    Generate a 'standard' repr()-like value, but protect against recursive\n",
      "    data structures.\n",
      "\n",
      "\n"
     ]
    }
   ],
   "source": [
    "print(pprint.__doc__)\n",
    "\n",
    "# 查看整个类的文档"
   ]
  },
  {
   "cell_type": "markdown",
   "metadata": {},
   "source": [
    "\"\"\"                                          #增加的\n",
    "\n",
    "This is a document of the python module.     #增加的\n",
    "\n",
    "\"\"\"                                          #增加的"
   ]
  },
  {
   "cell_type": "code",
   "execution_count": 62,
   "metadata": {},
   "outputs": [
    {
     "name": "stdout",
     "output_type": "stream",
     "text": [
      "                                          #增加的\n",
      "This is a document of the python module.     #增加的\n",
      "\n"
     ]
    }
   ],
   "source": [
    "import sys\n",
    "sys.path.append(\".\")\n",
    "import pm3\n",
    "print(pm3.__doc__)"
   ]
  },
  {
   "cell_type": "code",
   "execution_count": 63,
   "metadata": {},
   "outputs": [
    {
     "name": "stdout",
     "output_type": "stream",
     "text": [
      "/home/henry/anaconda3/envs/py36pt04/lib/python3.6/pprint.py\n"
     ]
    }
   ],
   "source": [
    "print(pprint.__file__)\n",
    "\n",
    "# 模块的位置"
   ]
  },
  {
   "cell_type": "code",
   "execution_count": 64,
   "metadata": {},
   "outputs": [
    {
     "name": "stdout",
     "output_type": "stream",
     "text": [
      "#  Author:      Fred L. Drake, Jr.\r\n",
      "#               fdrake@acm.org\r\n",
      "#\r\n",
      "#  This is a simple little module I wrote to make life easier.  I didn't\r\n",
      "#  see anything quite like it in the library, though I may have overlooked\r\n",
      "#  something.  I wrote this when I was trying to read some heavily nested\r\n",
      "#  tuples with fairly non-descriptive content.  This is modeled very much\r\n",
      "#  after Lisp/Scheme - style pretty-printing of lists.  If you find it\r\n",
      "#  useful, thank small children who sleep at night.\r\n",
      "\r\n",
      "\"\"\"Support to pretty-print lists, tuples, & dictionaries recursively.\r\n",
      "\r\n",
      "Very simple, but useful, especially in debugging data structures.\r\n",
      "\r\n",
      "Classes\r\n",
      "-------\r\n",
      "\r\n",
      "PrettyPrinter()\r\n",
      "    Handle pretty-printing operations onto a stream using a configured\r\n",
      "    set of formatting parameters.\r\n",
      "\r\n",
      "Functions\r\n",
      "---------\r\n",
      "\r\n",
      "pformat()\r\n",
      "    Format a Python object into a pretty-printed representation.\r\n",
      "\r\n",
      "pprint()\r\n",
      "    Pretty-print a Python object to a stream [default is sys.stdout].\r\n",
      "\r\n",
      "saferepr()\r\n",
      "    Generate a 'standard' repr()-like value, but protect against recursive\r\n",
      "    data structures.\r\n",
      "\r\n",
      "\"\"\"\r\n",
      "\r\n",
      "import collections as _collections\r\n",
      "import re\r\n",
      "import sys as _sys\r\n",
      "import types as _types\r\n",
      "from io import StringIO as _StringIO\r\n",
      "\r\n",
      "__all__ = [\"pprint\",\"pformat\",\"isreadable\",\"isrecursive\",\"saferepr\",\r\n",
      "           \"PrettyPrinter\"]\r\n",
      "\r\n",
      "\r\n",
      "def pprint(object, stream=None, indent=1, width=80, depth=None, *,\r\n",
      "           compact=False):\r\n",
      "    \"\"\"Pretty-print a Python object to a stream [default is sys.stdout].\"\"\"\r\n",
      "    printer = PrettyPrinter(\r\n",
      "        stream=stream, indent=indent, width=width, depth=depth,\r\n",
      "        compact=compact)\r\n",
      "    printer.pprint(object)\r\n",
      "\r\n",
      "def pformat(object, indent=1, width=80, depth=None, *, compact=False):\r\n",
      "    \"\"\"Format a Python object into a pretty-printed representation.\"\"\"\r\n",
      "    return PrettyPrinter(indent=indent, width=width, depth=depth,\r\n",
      "                         compact=compact).pformat(object)\r\n",
      "\r\n",
      "def saferepr(object):\r\n",
      "    \"\"\"Version of repr() which can handle recursive data structures.\"\"\"\r\n",
      "    return _safe_repr(object, {}, None, 0)[0]\r\n",
      "\r\n",
      "def isreadable(object):\r\n",
      "    \"\"\"Determine if saferepr(object) is readable by eval().\"\"\"\r\n",
      "    return _safe_repr(object, {}, None, 0)[1]\r\n",
      "\r\n",
      "def isrecursive(object):\r\n",
      "    \"\"\"Determine if object requires a recursive representation.\"\"\"\r\n",
      "    return _safe_repr(object, {}, None, 0)[2]\r\n",
      "\r\n",
      "class _safe_key:\r\n",
      "    \"\"\"Helper function for key functions when sorting unorderable objects.\r\n",
      "\r\n",
      "    The wrapped-object will fallback to a Py2.x style comparison for\r\n",
      "    unorderable types (sorting first comparing the type name and then by\r\n",
      "    the obj ids).  Does not work recursively, so dict.items() must have\r\n",
      "    _safe_key applied to both the key and the value.\r\n",
      "\r\n",
      "    \"\"\"\r\n",
      "\r\n",
      "    __slots__ = ['obj']\r\n",
      "\r\n",
      "    def __init__(self, obj):\r\n",
      "        self.obj = obj\r\n",
      "\r\n",
      "    def __lt__(self, other):\r\n",
      "        try:\r\n",
      "            return self.obj < other.obj\r\n",
      "        except TypeError:\r\n",
      "            return ((str(type(self.obj)), id(self.obj)) < \\\r\n",
      "                    (str(type(other.obj)), id(other.obj)))\r\n",
      "\r\n",
      "def _safe_tuple(t):\r\n",
      "    \"Helper function for comparing 2-tuples\"\r\n",
      "    return _safe_key(t[0]), _safe_key(t[1])\r\n",
      "\r\n",
      "class PrettyPrinter:\r\n",
      "    def __init__(self, indent=1, width=80, depth=None, stream=None, *,\r\n",
      "                 compact=False):\r\n",
      "        \"\"\"Handle pretty printing operations onto a stream using a set of\r\n",
      "        configured parameters.\r\n",
      "\r\n",
      "        indent\r\n",
      "            Number of spaces to indent for each level of nesting.\r\n",
      "\r\n",
      "        width\r\n",
      "            Attempted maximum number of columns in the output.\r\n",
      "\r\n",
      "        depth\r\n",
      "            The maximum depth to print out nested structures.\r\n",
      "\r\n",
      "        stream\r\n",
      "            The desired output stream.  If omitted (or false), the standard\r\n",
      "            output stream available at construction will be used.\r\n",
      "\r\n",
      "        compact\r\n",
      "            If true, several items will be combined in one line.\r\n",
      "\r\n",
      "        \"\"\"\r\n",
      "        indent = int(indent)\r\n",
      "        width = int(width)\r\n",
      "        if indent < 0:\r\n",
      "            raise ValueError('indent must be >= 0')\r\n",
      "        if depth is not None and depth <= 0:\r\n",
      "            raise ValueError('depth must be > 0')\r\n",
      "        if not width:\r\n",
      "            raise ValueError('width must be != 0')\r\n",
      "        self._depth = depth\r\n",
      "        self._indent_per_level = indent\r\n",
      "        self._width = width\r\n",
      "        if stream is not None:\r\n",
      "            self._stream = stream\r\n",
      "        else:\r\n",
      "            self._stream = _sys.stdout\r\n",
      "        self._compact = bool(compact)\r\n",
      "\r\n",
      "    def pprint(self, object):\r\n",
      "        self._format(object, self._stream, 0, 0, {}, 0)\r\n",
      "        self._stream.write(\"\\n\")\r\n",
      "\r\n",
      "    def pformat(self, object):\r\n",
      "        sio = _StringIO()\r\n",
      "        self._format(object, sio, 0, 0, {}, 0)\r\n",
      "        return sio.getvalue()\r\n",
      "\r\n",
      "    def isrecursive(self, object):\r\n",
      "        return self.format(object, {}, 0, 0)[2]\r\n",
      "\r\n",
      "    def isreadable(self, object):\r\n",
      "        s, readable, recursive = self.format(object, {}, 0, 0)\r\n",
      "        return readable and not recursive\r\n",
      "\r\n",
      "    def _format(self, object, stream, indent, allowance, context, level):\r\n",
      "        objid = id(object)\r\n",
      "        if objid in context:\r\n",
      "            stream.write(_recursion(object))\r\n",
      "            self._recursive = True\r\n",
      "            self._readable = False\r\n",
      "            return\r\n",
      "        rep = self._repr(object, context, level)\r\n",
      "        max_width = self._width - indent - allowance\r\n",
      "        if len(rep) > max_width:\r\n",
      "            p = self._dispatch.get(type(object).__repr__, None)\r\n",
      "            if p is not None:\r\n",
      "                context[objid] = 1\r\n",
      "                p(self, object, stream, indent, allowance, context, level + 1)\r\n",
      "                del context[objid]\r\n",
      "                return\r\n",
      "            elif isinstance(object, dict):\r\n",
      "                context[objid] = 1\r\n",
      "                self._pprint_dict(object, stream, indent, allowance,\r\n",
      "                                  context, level + 1)\r\n",
      "                del context[objid]\r\n",
      "                return\r\n",
      "        stream.write(rep)\r\n",
      "\r\n",
      "    _dispatch = {}\r\n",
      "\r\n",
      "    def _pprint_dict(self, object, stream, indent, allowance, context, level):\r\n",
      "        write = stream.write\r\n",
      "        write('{')\r\n",
      "        if self._indent_per_level > 1:\r\n",
      "            write((self._indent_per_level - 1) * ' ')\r\n",
      "        length = len(object)\r\n",
      "        if length:\r\n",
      "            items = sorted(object.items(), key=_safe_tuple)\r\n",
      "            self._format_dict_items(items, stream, indent, allowance + 1,\r\n",
      "                                    context, level)\r\n",
      "        write('}')\r\n",
      "\r\n",
      "    _dispatch[dict.__repr__] = _pprint_dict\r\n",
      "\r\n",
      "    def _pprint_ordered_dict(self, object, stream, indent, allowance, context, level):\r\n",
      "        if not len(object):\r\n",
      "            stream.write(repr(object))\r\n",
      "            return\r\n",
      "        cls = object.__class__\r\n",
      "        stream.write(cls.__name__ + '(')\r\n",
      "        self._format(list(object.items()), stream,\r\n",
      "                     indent + len(cls.__name__) + 1, allowance + 1,\r\n",
      "                     context, level)\r\n",
      "        stream.write(')')\r\n",
      "\r\n",
      "    _dispatch[_collections.OrderedDict.__repr__] = _pprint_ordered_dict\r\n",
      "\r\n",
      "    def _pprint_list(self, object, stream, indent, allowance, context, level):\r\n",
      "        stream.write('[')\r\n",
      "        self._format_items(object, stream, indent, allowance + 1,\r\n",
      "                           context, level)\r\n",
      "        stream.write(']')\r\n",
      "\r\n",
      "    _dispatch[list.__repr__] = _pprint_list\r\n",
      "\r\n",
      "    def _pprint_tuple(self, object, stream, indent, allowance, context, level):\r\n",
      "        stream.write('(')\r\n",
      "        endchar = ',)' if len(object) == 1 else ')'\r\n",
      "        self._format_items(object, stream, indent, allowance + len(endchar),\r\n",
      "                           context, level)\r\n",
      "        stream.write(endchar)\r\n",
      "\r\n",
      "    _dispatch[tuple.__repr__] = _pprint_tuple\r\n",
      "\r\n",
      "    def _pprint_set(self, object, stream, indent, allowance, context, level):\r\n",
      "        if not len(object):\r\n",
      "            stream.write(repr(object))\r\n",
      "            return\r\n",
      "        typ = object.__class__\r\n",
      "        if typ is set:\r\n",
      "            stream.write('{')\r\n",
      "            endchar = '}'\r\n",
      "        else:\r\n",
      "            stream.write(typ.__name__ + '({')\r\n",
      "            endchar = '})'\r\n",
      "            indent += len(typ.__name__) + 1\r\n",
      "        object = sorted(object, key=_safe_key)\r\n",
      "        self._format_items(object, stream, indent, allowance + len(endchar),\r\n",
      "                           context, level)\r\n",
      "        stream.write(endchar)\r\n",
      "\r\n",
      "    _dispatch[set.__repr__] = _pprint_set\r\n",
      "    _dispatch[frozenset.__repr__] = _pprint_set\r\n",
      "\r\n",
      "    def _pprint_str(self, object, stream, indent, allowance, context, level):\r\n",
      "        write = stream.write\r\n",
      "        if not len(object):\r\n",
      "            write(repr(object))\r\n",
      "            return\r\n",
      "        chunks = []\r\n",
      "        lines = object.splitlines(True)\r\n",
      "        if level == 1:\r\n",
      "            indent += 1\r\n",
      "            allowance += 1\r\n",
      "        max_width1 = max_width = self._width - indent\r\n",
      "        for i, line in enumerate(lines):\r\n",
      "            rep = repr(line)\r\n",
      "            if i == len(lines) - 1:\r\n",
      "                max_width1 -= allowance\r\n",
      "            if len(rep) <= max_width1:\r\n",
      "                chunks.append(rep)\r\n",
      "            else:\r\n",
      "                # A list of alternating (non-space, space) strings\r\n",
      "                parts = re.findall(r'\\S*\\s*', line)\r\n",
      "                assert parts\r\n",
      "                assert not parts[-1]\r\n",
      "                parts.pop()  # drop empty last part\r\n",
      "                max_width2 = max_width\r\n",
      "                current = ''\r\n",
      "                for j, part in enumerate(parts):\r\n",
      "                    candidate = current + part\r\n",
      "                    if j == len(parts) - 1 and i == len(lines) - 1:\r\n",
      "                        max_width2 -= allowance\r\n",
      "                    if len(repr(candidate)) > max_width2:\r\n",
      "                        if current:\r\n",
      "                            chunks.append(repr(current))\r\n",
      "                        current = part\r\n",
      "                    else:\r\n",
      "                        current = candidate\r\n",
      "                if current:\r\n",
      "                    chunks.append(repr(current))\r\n",
      "        if len(chunks) == 1:\r\n",
      "            write(rep)\r\n",
      "            return\r\n",
      "        if level == 1:\r\n",
      "            write('(')\r\n",
      "        for i, rep in enumerate(chunks):\r\n",
      "            if i > 0:\r\n",
      "                write('\\n' + ' '*indent)\r\n",
      "            write(rep)\r\n",
      "        if level == 1:\r\n",
      "            write(')')\r\n",
      "\r\n",
      "    _dispatch[str.__repr__] = _pprint_str\r\n",
      "\r\n",
      "    def _pprint_bytes(self, object, stream, indent, allowance, context, level):\r\n",
      "        write = stream.write\r\n",
      "        if len(object) <= 4:\r\n",
      "            write(repr(object))\r\n",
      "            return\r\n",
      "        parens = level == 1\r\n",
      "        if parens:\r\n",
      "            indent += 1\r\n",
      "            allowance += 1\r\n",
      "            write('(')\r\n",
      "        delim = ''\r\n",
      "        for rep in _wrap_bytes_repr(object, self._width - indent, allowance):\r\n",
      "            write(delim)\r\n",
      "            write(rep)\r\n",
      "            if not delim:\r\n",
      "                delim = '\\n' + ' '*indent\r\n",
      "        if parens:\r\n",
      "            write(')')\r\n",
      "\r\n",
      "    _dispatch[bytes.__repr__] = _pprint_bytes\r\n",
      "\r\n",
      "    def _pprint_bytearray(self, object, stream, indent, allowance, context, level):\r\n",
      "        write = stream.write\r\n",
      "        write('bytearray(')\r\n",
      "        self._pprint_bytes(bytes(object), stream, indent + 10,\r\n",
      "                           allowance + 1, context, level + 1)\r\n",
      "        write(')')\r\n",
      "\r\n",
      "    _dispatch[bytearray.__repr__] = _pprint_bytearray\r\n",
      "\r\n",
      "    def _pprint_mappingproxy(self, object, stream, indent, allowance, context, level):\r\n",
      "        stream.write('mappingproxy(')\r\n",
      "        self._format(object.copy(), stream, indent + 13, allowance + 1,\r\n",
      "                     context, level)\r\n",
      "        stream.write(')')\r\n",
      "\r\n",
      "    _dispatch[_types.MappingProxyType.__repr__] = _pprint_mappingproxy\r\n",
      "\r\n",
      "    def _format_dict_items(self, items, stream, indent, allowance, context,\r\n",
      "                           level):\r\n",
      "        write = stream.write\r\n",
      "        indent += self._indent_per_level\r\n",
      "        delimnl = ',\\n' + ' ' * indent\r\n",
      "        last_index = len(items) - 1\r\n",
      "        for i, (key, ent) in enumerate(items):\r\n",
      "            last = i == last_index\r\n",
      "            rep = self._repr(key, context, level)\r\n",
      "            write(rep)\r\n",
      "            write(': ')\r\n",
      "            self._format(ent, stream, indent + len(rep) + 2,\r\n",
      "                         allowance if last else 1,\r\n",
      "                         context, level)\r\n",
      "            if not last:\r\n",
      "                write(delimnl)\r\n",
      "\r\n",
      "    def _format_items(self, items, stream, indent, allowance, context, level):\r\n",
      "        write = stream.write\r\n",
      "        indent += self._indent_per_level\r\n",
      "        if self._indent_per_level > 1:\r\n",
      "            write((self._indent_per_level - 1) * ' ')\r\n",
      "        delimnl = ',\\n' + ' ' * indent\r\n",
      "        delim = ''\r\n",
      "        width = max_width = self._width - indent + 1\r\n",
      "        it = iter(items)\r\n",
      "        try:\r\n",
      "            next_ent = next(it)\r\n",
      "        except StopIteration:\r\n",
      "            return\r\n",
      "        last = False\r\n",
      "        while not last:\r\n",
      "            ent = next_ent\r\n",
      "            try:\r\n",
      "                next_ent = next(it)\r\n",
      "            except StopIteration:\r\n",
      "                last = True\r\n",
      "                max_width -= allowance\r\n",
      "                width -= allowance\r\n",
      "            if self._compact:\r\n",
      "                rep = self._repr(ent, context, level)\r\n",
      "                w = len(rep) + 2\r\n",
      "                if width < w:\r\n",
      "                    width = max_width\r\n",
      "                    if delim:\r\n",
      "                        delim = delimnl\r\n",
      "                if width >= w:\r\n",
      "                    width -= w\r\n",
      "                    write(delim)\r\n",
      "                    delim = ', '\r\n",
      "                    write(rep)\r\n",
      "                    continue\r\n",
      "            write(delim)\r\n",
      "            delim = delimnl\r\n",
      "            self._format(ent, stream, indent,\r\n",
      "                         allowance if last else 1,\r\n",
      "                         context, level)\r\n",
      "\r\n",
      "    def _repr(self, object, context, level):\r\n",
      "        repr, readable, recursive = self.format(object, context.copy(),\r\n",
      "                                                self._depth, level)\r\n",
      "        if not readable:\r\n",
      "            self._readable = False\r\n",
      "        if recursive:\r\n",
      "            self._recursive = True\r\n",
      "        return repr\r\n",
      "\r\n",
      "    def format(self, object, context, maxlevels, level):\r\n",
      "        \"\"\"Format object for a specific context, returning a string\r\n",
      "        and flags indicating whether the representation is 'readable'\r\n",
      "        and whether the object represents a recursive construct.\r\n",
      "        \"\"\"\r\n",
      "        return _safe_repr(object, context, maxlevels, level)\r\n",
      "\r\n",
      "    def _pprint_default_dict(self, object, stream, indent, allowance, context, level):\r\n",
      "        if not len(object):\r\n",
      "            stream.write(repr(object))\r\n",
      "            return\r\n",
      "        rdf = self._repr(object.default_factory, context, level)\r\n",
      "        cls = object.__class__\r\n",
      "        indent += len(cls.__name__) + 1\r\n",
      "        stream.write('%s(%s,\\n%s' % (cls.__name__, rdf, ' ' * indent))\r\n",
      "        self._pprint_dict(object, stream, indent, allowance + 1, context, level)\r\n",
      "        stream.write(')')\r\n",
      "\r\n",
      "    _dispatch[_collections.defaultdict.__repr__] = _pprint_default_dict\r\n",
      "\r\n",
      "    def _pprint_counter(self, object, stream, indent, allowance, context, level):\r\n",
      "        if not len(object):\r\n",
      "            stream.write(repr(object))\r\n",
      "            return\r\n",
      "        cls = object.__class__\r\n",
      "        stream.write(cls.__name__ + '({')\r\n",
      "        if self._indent_per_level > 1:\r\n",
      "            stream.write((self._indent_per_level - 1) * ' ')\r\n",
      "        items = object.most_common()\r\n",
      "        self._format_dict_items(items, stream,\r\n",
      "                                indent + len(cls.__name__) + 1, allowance + 2,\r\n",
      "                                context, level)\r\n",
      "        stream.write('})')\r\n",
      "\r\n",
      "    _dispatch[_collections.Counter.__repr__] = _pprint_counter\r\n",
      "\r\n",
      "    def _pprint_chain_map(self, object, stream, indent, allowance, context, level):\r\n",
      "        if not len(object.maps):\r\n",
      "            stream.write(repr(object))\r\n",
      "            return\r\n",
      "        cls = object.__class__\r\n",
      "        stream.write(cls.__name__ + '(')\r\n",
      "        indent += len(cls.__name__) + 1\r\n",
      "        for i, m in enumerate(object.maps):\r\n",
      "            if i == len(object.maps) - 1:\r\n",
      "                self._format(m, stream, indent, allowance + 1, context, level)\r\n",
      "                stream.write(')')\r\n",
      "            else:\r\n",
      "                self._format(m, stream, indent, 1, context, level)\r\n",
      "                stream.write(',\\n' + ' ' * indent)\r\n",
      "\r\n",
      "    _dispatch[_collections.ChainMap.__repr__] = _pprint_chain_map\r\n",
      "\r\n",
      "    def _pprint_deque(self, object, stream, indent, allowance, context, level):\r\n",
      "        if not len(object):\r\n",
      "            stream.write(repr(object))\r\n",
      "            return\r\n",
      "        cls = object.__class__\r\n",
      "        stream.write(cls.__name__ + '(')\r\n",
      "        indent += len(cls.__name__) + 1\r\n",
      "        stream.write('[')\r\n",
      "        if object.maxlen is None:\r\n",
      "            self._format_items(object, stream, indent, allowance + 2,\r\n",
      "                               context, level)\r\n",
      "            stream.write('])')\r\n",
      "        else:\r\n",
      "            self._format_items(object, stream, indent, 2,\r\n",
      "                               context, level)\r\n",
      "            rml = self._repr(object.maxlen, context, level)\r\n",
      "            stream.write('],\\n%smaxlen=%s)' % (' ' * indent, rml))\r\n",
      "\r\n",
      "    _dispatch[_collections.deque.__repr__] = _pprint_deque\r\n",
      "\r\n",
      "    def _pprint_user_dict(self, object, stream, indent, allowance, context, level):\r\n",
      "        self._format(object.data, stream, indent, allowance, context, level - 1)\r\n",
      "\r\n",
      "    _dispatch[_collections.UserDict.__repr__] = _pprint_user_dict\r\n",
      "\r\n",
      "    def _pprint_user_list(self, object, stream, indent, allowance, context, level):\r\n",
      "        self._format(object.data, stream, indent, allowance, context, level - 1)\r\n",
      "\r\n",
      "    _dispatch[_collections.UserList.__repr__] = _pprint_user_list\r\n",
      "\r\n",
      "    def _pprint_user_string(self, object, stream, indent, allowance, context, level):\r\n",
      "        self._format(object.data, stream, indent, allowance, context, level - 1)\r\n",
      "\r\n",
      "    _dispatch[_collections.UserString.__repr__] = _pprint_user_string\r\n",
      "\r\n",
      "# Return triple (repr_string, isreadable, isrecursive).\r\n",
      "\r\n",
      "def _safe_repr(object, context, maxlevels, level):\r\n",
      "    typ = type(object)\r\n",
      "    if typ in _builtin_scalars:\r\n",
      "        return repr(object), True, False\r\n",
      "\r\n",
      "    r = getattr(typ, \"__repr__\", None)\r\n",
      "    if issubclass(typ, dict) and r is dict.__repr__:\r\n",
      "        if not object:\r\n",
      "            return \"{}\", True, False\r\n",
      "        objid = id(object)\r\n",
      "        if maxlevels and level >= maxlevels:\r\n",
      "            return \"{...}\", False, objid in context\r\n",
      "        if objid in context:\r\n",
      "            return _recursion(object), False, True\r\n",
      "        context[objid] = 1\r\n",
      "        readable = True\r\n",
      "        recursive = False\r\n",
      "        components = []\r\n",
      "        append = components.append\r\n",
      "        level += 1\r\n",
      "        saferepr = _safe_repr\r\n",
      "        items = sorted(object.items(), key=_safe_tuple)\r\n",
      "        for k, v in items:\r\n",
      "            krepr, kreadable, krecur = saferepr(k, context, maxlevels, level)\r\n",
      "            vrepr, vreadable, vrecur = saferepr(v, context, maxlevels, level)\r\n",
      "            append(\"%s: %s\" % (krepr, vrepr))\r\n",
      "            readable = readable and kreadable and vreadable\r\n",
      "            if krecur or vrecur:\r\n",
      "                recursive = True\r\n",
      "        del context[objid]\r\n",
      "        return \"{%s}\" % \", \".join(components), readable, recursive\r\n",
      "\r\n",
      "    if (issubclass(typ, list) and r is list.__repr__) or \\\r\n",
      "       (issubclass(typ, tuple) and r is tuple.__repr__):\r\n",
      "        if issubclass(typ, list):\r\n",
      "            if not object:\r\n",
      "                return \"[]\", True, False\r\n",
      "            format = \"[%s]\"\r\n",
      "        elif len(object) == 1:\r\n",
      "            format = \"(%s,)\"\r\n",
      "        else:\r\n",
      "            if not object:\r\n",
      "                return \"()\", True, False\r\n",
      "            format = \"(%s)\"\r\n",
      "        objid = id(object)\r\n",
      "        if maxlevels and level >= maxlevels:\r\n",
      "            return format % \"...\", False, objid in context\r\n",
      "        if objid in context:\r\n",
      "            return _recursion(object), False, True\r\n",
      "        context[objid] = 1\r\n",
      "        readable = True\r\n",
      "        recursive = False\r\n",
      "        components = []\r\n",
      "        append = components.append\r\n",
      "        level += 1\r\n",
      "        for o in object:\r\n",
      "            orepr, oreadable, orecur = _safe_repr(o, context, maxlevels, level)\r\n",
      "            append(orepr)\r\n",
      "            if not oreadable:\r\n",
      "                readable = False\r\n",
      "            if orecur:\r\n",
      "                recursive = True\r\n",
      "        del context[objid]\r\n",
      "        return format % \", \".join(components), readable, recursive\r\n",
      "\r\n",
      "    rep = repr(object)\r\n",
      "    return rep, (rep and not rep.startswith('<')), False\r\n",
      "\r\n",
      "_builtin_scalars = frozenset({str, bytes, bytearray, int, float, complex,\r\n",
      "                              bool, type(None)})\r\n",
      "\r\n",
      "def _recursion(object):\r\n",
      "    return (\"<Recursion on %s with id=%s>\"\r\n",
      "            % (type(object).__name__, id(object)))\r\n",
      "\r\n",
      "\r\n",
      "def _perfcheck(object=None):\r\n",
      "    import time\r\n",
      "    if object is None:\r\n",
      "        object = [(\"string\", (1, 2), [3, 4], {5: 6, 7: 8})] * 100000\r\n",
      "    p = PrettyPrinter()\r\n",
      "    t1 = time.time()\r\n",
      "    _safe_repr(object, {}, None, 0)\r\n",
      "    t2 = time.time()\r\n",
      "    p.pformat(object)\r\n",
      "    t3 = time.time()\r\n",
      "    print(\"_safe_repr:\", t2 - t1)\r\n",
      "    print(\"pformat:\", t3 - t2)\r\n",
      "\r\n",
      "def _wrap_bytes_repr(object, width, allowance):\r\n",
      "    current = b''\r\n",
      "    last = len(object) // 4 * 4\r\n",
      "    for i in range(0, len(object), 4):\r\n",
      "        part = object[i: i+4]\r\n",
      "        candidate = current + part\r\n",
      "        if i == last:\r\n",
      "            width -= allowance\r\n",
      "        if len(repr(candidate)) > width:\r\n",
      "            if current:\r\n",
      "                yield repr(current)\r\n",
      "            current = part\r\n",
      "        else:\r\n",
      "            current = candidate\r\n",
      "    if current:\r\n",
      "        yield repr(current)\r\n",
      "\r\n",
      "if __name__ == \"__main__\":\r\n",
      "    _perfcheck()\r\n"
     ]
    }
   ],
   "source": [
    "# 查看源码\n",
    "\n",
    "cat /home/henry/anaconda3/envs/py36pt04/lib/python3.6/pprint.py"
   ]
  },
  {
   "cell_type": "markdown",
   "metadata": {},
   "source": [
    "## sys\n",
    "\n",
    "一个跟python解释器关系密切的标准库"
   ]
  },
  {
   "cell_type": "code",
   "execution_count": 65,
   "metadata": {},
   "outputs": [
    {
     "name": "stdout",
     "output_type": "stream",
     "text": [
      "This module provides access to some objects used or maintained by the\n",
      "interpreter and to functions that interact strongly with the interpreter.\n",
      "\n",
      "Dynamic objects:\n",
      "\n",
      "argv -- command line arguments; argv[0] is the script pathname if known\n",
      "path -- module search path; path[0] is the script directory, else ''\n",
      "modules -- dictionary of loaded modules\n",
      "\n",
      "displayhook -- called to show results in an interactive session\n",
      "excepthook -- called to handle any uncaught exception other than SystemExit\n",
      "  To customize printing in an interactive session or to install a custom\n",
      "  top-level exception handler, assign other functions to replace these.\n",
      "\n",
      "stdin -- standard input file object; used by input()\n",
      "stdout -- standard output file object; used by print()\n",
      "stderr -- standard error object; used for error messages\n",
      "  By assigning other file objects (or objects that behave like files)\n",
      "  to these, it is possible to redirect all of the interpreter's I/O.\n",
      "\n",
      "last_type -- type of last uncaught exception\n",
      "last_value -- value of last uncaught exception\n",
      "last_traceback -- traceback of last uncaught exception\n",
      "  These three are only available in an interactive session after a\n",
      "  traceback has been printed.\n",
      "\n",
      "Static objects:\n",
      "\n",
      "builtin_module_names -- tuple of module names built into this interpreter\n",
      "copyright -- copyright notice pertaining to this interpreter\n",
      "exec_prefix -- prefix used to find the machine-specific Python library\n",
      "executable -- absolute path of the executable binary of the Python interpreter\n",
      "float_info -- a struct sequence with information about the float implementation.\n",
      "float_repr_style -- string indicating the style of repr() output for floats\n",
      "hash_info -- a struct sequence with information about the hash algorithm.\n",
      "hexversion -- version information encoded as a single integer\n",
      "implementation -- Python implementation information.\n",
      "int_info -- a struct sequence with information about the int implementation.\n",
      "maxsize -- the largest supported length of containers.\n",
      "maxunicode -- the value of the largest Unicode code point\n",
      "platform -- platform identifier\n",
      "prefix -- prefix used to find the Python library\n",
      "thread_info -- a struct sequence with information about the thread implementation.\n",
      "version -- the version of this interpreter as a string\n",
      "version_info -- version information as a named tuple\n",
      "__stdin__ -- the original stdin; don't touch!\n",
      "__stdout__ -- the original stdout; don't touch!\n",
      "__stderr__ -- the original stderr; don't touch!\n",
      "__displayhook__ -- the original displayhook; don't touch!\n",
      "__excepthook__ -- the original excepthook; don't touch!\n",
      "\n",
      "Functions:\n",
      "\n",
      "displayhook() -- print an object to the screen, and save it in builtins._\n",
      "excepthook() -- print an exception and its traceback to sys.stderr\n",
      "exc_info() -- return thread-safe information about the current exception\n",
      "exit() -- exit the interpreter by raising SystemExit\n",
      "getdlopenflags() -- returns flags to be used for dlopen() calls\n",
      "getprofile() -- get the global profiling function\n",
      "getrefcount() -- return the reference count for an object (plus one :-)\n",
      "getrecursionlimit() -- return the max recursion depth for the interpreter\n",
      "getsizeof() -- return the size of an object in bytes\n",
      "gettrace() -- get the global debug tracing function\n",
      "setcheckinterval() -- control how often the interpreter checks for events\n",
      "setdlopenflags() -- set the flags to be used for dlopen() calls\n",
      "setprofile() -- set the global profiling function\n",
      "setrecursionlimit() -- set the max recursion depth for the interpreter\n",
      "settrace() -- set the global debug tracing function\n",
      "\n"
     ]
    }
   ],
   "source": [
    "import sys\n",
    "print(sys.__doc__)"
   ]
  },
  {
   "cell_type": "code",
   "execution_count": 67,
   "metadata": {},
   "outputs": [
    {
     "name": "stdout",
     "output_type": "stream",
     "text": [
      "The file name:  /home/henry/anaconda3/envs/py36pt04/lib/python3.6/site-packages/ipykernel_launcher.py\n",
      "The number of argument 3\n",
      "The argument is:  ['/home/henry/anaconda3/envs/py36pt04/lib/python3.6/site-packages/ipykernel_launcher.py', '-f', '/home/henry/.local/share/jupyter/runtime/kernel-2f7c19d6-2bbd-4e46-b38c-95ea397c0e0a.json']\n"
     ]
    }
   ],
   "source": [
    "# sys.argv是变量，专门用来向python解释器传递参数，所以名曰“命令行参数”。\n",
    "\n",
    "#!/usr/bin/env python\n",
    "# coding=utf-8\n",
    "\n",
    "import sys\n",
    "\n",
    "print(\"The file name: \", sys.argv[0])\n",
    "print(\"The number of argument\", len(sys.argv))\n",
    "print(\"The argument is: \", str(sys.argv))\n"
   ]
  },
  {
   "cell_type": "code",
   "execution_count": 68,
   "metadata": {},
   "outputs": [
    {
     "name": "stdout",
     "output_type": "stream",
     "text": [
      "0\n",
      "1\n",
      "2\n",
      "3\n",
      "4\n"
     ]
    },
    {
     "ename": "SystemExit",
     "evalue": "",
     "output_type": "error",
     "traceback": [
      "An exception has occurred, use %tb to see the full traceback.\n",
      "\u001b[0;31mSystemExit\u001b[0m\n"
     ]
    },
    {
     "name": "stderr",
     "output_type": "stream",
     "text": [
      "/home/henry/anaconda3/envs/py36pt04/lib/python3.6/site-packages/IPython/core/interactiveshell.py:3334: UserWarning: To exit: use 'exit', 'quit', or Ctrl-D.\n",
      "  warn(\"To exit: use 'exit', 'quit', or Ctrl-D.\", stacklevel=1)\n"
     ]
    }
   ],
   "source": [
    "#!/usr/bin/env python\n",
    "# coding=utf-8\n",
    "\n",
    "import sys\n",
    "\n",
    "for i in range(10):\n",
    "    if i == 5:\n",
    "        sys.exit()\n",
    "    else:\n",
    "        print(i)"
   ]
  },
  {
   "cell_type": "code",
   "execution_count": 69,
   "metadata": {},
   "outputs": [
    {
     "name": "stdout",
     "output_type": "stream",
     "text": [
      "0\n",
      "1\n",
      "2\n",
      "3\n",
      "4\n"
     ]
    },
    {
     "ename": "SystemExit",
     "evalue": "I wet out at here.",
     "output_type": "error",
     "traceback": [
      "An exception has occurred, use %tb to see the full traceback.\n",
      "\u001b[0;31mSystemExit\u001b[0m\u001b[0;31m:\u001b[0m I wet out at here.\n"
     ]
    }
   ],
   "source": [
    "#!/usr/bin/env python\n",
    "# coding=utf-8\n",
    "\n",
    "import sys\n",
    "\n",
    "for i in range(10):\n",
    "    if i == 5:\n",
    "        sys.exit(\"I wet out at here.\")\n",
    "    else:\n",
    "        print(i)"
   ]
  },
  {
   "cell_type": "code",
   "execution_count": 70,
   "metadata": {},
   "outputs": [
    {
     "name": "stdout",
     "output_type": "stream",
     "text": [
      "0\n",
      "1\n",
      "2\n"
     ]
    }
   ],
   "source": [
    "# sys.stdin, sys.stdout, sys.stderr  \n",
    "# 类文件流对象，分别表示标准UNIX概念中的标准输入、标准输出和标准错误\n",
    "\n",
    "for i in range(3):\n",
    "    print(i)\n",
    "    \n",
    "# print本质就是sys.stdout.write(object + '\\n')"
   ]
  },
  {
   "cell_type": "code",
   "execution_count": 71,
   "metadata": {},
   "outputs": [
    {
     "name": "stdout",
     "output_type": "stream",
     "text": [
      "012"
     ]
    }
   ],
   "source": [
    "for i in range(3):\n",
    "     sys.stdout.write(str(i))"
   ]
  },
  {
   "cell_type": "markdown",
   "metadata": {},
   "source": [
    "关键是通过sys.stdout能够做到将输出内容从“控制台”转到“文件”，称之为重定向。这样也许控制台看不到（很多时候这个不重要），但是文件中已经有了输出内容。"
   ]
  },
  {
   "cell_type": "code",
   "execution_count": null,
   "metadata": {},
   "outputs": [],
   "source": [
    "f = open(\"stdout.md\",\"w\")\n",
    "sys.stdout = f\n",
    "print(\"Learn python: From Beginner to Master\")\n",
    "f.close()"
   ]
  },
  {
   "cell_type": "code",
   "execution_count": null,
   "metadata": {},
   "outputs": [],
   "source": [
    "cat stdout.md"
   ]
  },
  {
   "cell_type": "markdown",
   "metadata": {},
   "source": [
    "## copy\n",
    "\n",
    "块中常用的就是copy和deepcopy"
   ]
  },
  {
   "cell_type": "code",
   "execution_count": 1,
   "metadata": {},
   "outputs": [
    {
     "data": {
      "text/plain": [
       "['Error', 'copy', 'deepcopy']"
      ]
     },
     "execution_count": 1,
     "metadata": {},
     "output_type": "execute_result"
    }
   ],
   "source": [
    "import copy\n",
    "copy.__all__"
   ]
  },
  {
   "cell_type": "code",
   "execution_count": 2,
   "metadata": {},
   "outputs": [
    {
     "name": "stdout",
     "output_type": "stream",
     "text": [
      "original: ['foo', 17, 'abc']\n",
      " slice: ['foo', 17]\n",
      " list(): ['foo', 17]\n",
      " copy(): ['foo', 17]\n",
      " deepcopy(): ['foo', 7]\n",
      "\n"
     ]
    }
   ],
   "source": [
    "#!/usr/bin/env python\n",
    "# coding=utf-8\n",
    "\n",
    "import copy\n",
    "\n",
    "class MyCopy(object):\n",
    "    def __init__(self, value):\n",
    "        self.value = value\n",
    "\n",
    "    def __repr__(self):\n",
    "        return str(self.value)\n",
    "\n",
    "foo = MyCopy(7)\n",
    "\n",
    "a = [\"foo\", foo]\n",
    "b = a[:]\n",
    "c = list(a)\n",
    "d = copy.copy(a)\n",
    "e = copy.deepcopy(a)\n",
    "\n",
    "a.append(\"abc\")\n",
    "foo.value = 17\n",
    "\n",
    "print(\"original: %r\\n slice: %r\\n list(): %r\\n copy(): %r\\n deepcopy(): %r\\n\" % (a,b,c,d,e))\n"
   ]
  },
  {
   "cell_type": "markdown",
   "metadata": {},
   "source": [
    "## OS\n",
    "os模块提供了访问操作系统服务的功能，它所包含的内容比较多。"
   ]
  },
  {
   "cell_type": "code",
   "execution_count": 3,
   "metadata": {},
   "outputs": [],
   "source": [
    "import os\n",
    "os.rename(\"22201.py\", \"newtemp.py\")"
   ]
  },
  {
   "cell_type": "code",
   "execution_count": 4,
   "metadata": {},
   "outputs": [
    {
     "name": "stdout",
     "output_type": "stream",
     "text": [
      "\u001b[0m\u001b[01;32m130.txt\u001b[0m*    \u001b[01;32m23503.txt\u001b[0m*         \u001b[01;32mpm3.py\u001b[0m*       \u001b[01;32ms3_2.py\u001b[0m*         \u001b[01;32mSection4.ipynb\u001b[0m*\r\n",
      "\u001b[01;32m131.txt\u001b[0m*    \u001b[01;32ma.txt\u001b[0m*             \u001b[01;32mpm.py\u001b[0m*        \u001b[01;32mSection1.ipynb\u001b[0m*  \u001b[01;32mSection5.ipynb\u001b[0m*\r\n",
      "\u001b[01;32m208.txt\u001b[0m*    \u001b[01;32menvironment.yaml\u001b[0m*  \u001b[01;32mpp1.py\u001b[0m*       \u001b[01;32mSection2.ipynb\u001b[0m*  \u001b[01;32mSection6.ipynb\u001b[0m*\r\n",
      "\u001b[01;32m23501.txt\u001b[0m*  \u001b[01;32mnewtemp.py\u001b[0m*        \u001b[01;32mpp.py\u001b[0m*        \u001b[01;32msection2.md\u001b[0m*     \u001b[01;32mSection7.ipynb\u001b[0m*\r\n",
      "\u001b[01;32m23502.txt\u001b[0m*  \u001b[01;32mpm2.py\u001b[0m*            \u001b[34;42m__pycache__\u001b[0m/  \u001b[01;32mSection3.ipynb\u001b[0m*  \u001b[01;32mstdout.md\u001b[0m*\r\n"
     ]
    }
   ],
   "source": [
    "ls"
   ]
  },
  {
   "cell_type": "code",
   "execution_count": 5,
   "metadata": {},
   "outputs": [
    {
     "name": "stdout",
     "output_type": "stream",
     "text": [
      "\u001b[0m\u001b[01;32mnewtemp.py\u001b[0m*\r\n"
     ]
    }
   ],
   "source": [
    "ls new*"
   ]
  },
  {
   "cell_type": "code",
   "execution_count": 6,
   "metadata": {},
   "outputs": [
    {
     "name": "stdout",
     "output_type": "stream",
     "text": [
      "#!/usr/bin/env python\r\n",
      "# coding=utf-8\r\n",
      "\r\n",
      "print(\"This is a tmp file.\")\r\n"
     ]
    }
   ],
   "source": [
    "cat newtemp.py"
   ]
  },
  {
   "cell_type": "code",
   "execution_count": 8,
   "metadata": {},
   "outputs": [],
   "source": [
    "os.remove(\"./tmp/a.py\")"
   ]
  },
  {
   "cell_type": "code",
   "execution_count": 9,
   "metadata": {},
   "outputs": [
    {
     "name": "stdout",
     "output_type": "stream",
     "text": [
      ".ipynb_checkpoints\n",
      "b.py\n",
      "c.py\n"
     ]
    }
   ],
   "source": [
    "files = os.listdir(\"./tmp\")\n",
    "for f in files:\n",
    "    print(f)"
   ]
  },
  {
   "cell_type": "code",
   "execution_count": 10,
   "metadata": {},
   "outputs": [
    {
     "name": "stdout",
     "output_type": "stream",
     "text": [
      "/media/henry/000471D8000C54DE/Files/Github/LeetCode/Python\n"
     ]
    }
   ],
   "source": [
    "cwd = os.getcwd()\n",
    "print(cwd)"
   ]
  },
  {
   "cell_type": "code",
   "execution_count": 11,
   "metadata": {},
   "outputs": [
    {
     "name": "stdout",
     "output_type": "stream",
     "text": [
      "/media/henry/000471D8000C54DE/Files/Github/LeetCode\n"
     ]
    }
   ],
   "source": [
    "os.chdir(os.pardir)\n",
    "cwd = os.getcwd()\n",
    "print(cwd)"
   ]
  },
  {
   "cell_type": "code",
   "execution_count": 12,
   "metadata": {},
   "outputs": [
    {
     "name": "stdout",
     "output_type": "stream",
     "text": [
      "/media/henry/000471D8000C54DE/Files/Github/LeetCode/Python\n"
     ]
    }
   ],
   "source": [
    "os.chdir(\"Python\")\n",
    "cwd = os.getcwd()\n",
    "print(cwd)"
   ]
  },
  {
   "cell_type": "code",
   "execution_count": 13,
   "metadata": {},
   "outputs": [
    {
     "data": {
      "text/plain": [
       "'..'"
      ]
     },
     "execution_count": 13,
     "metadata": {},
     "output_type": "execute_result"
    }
   ],
   "source": [
    "os.pardir"
   ]
  },
  {
   "cell_type": "code",
   "execution_count": 14,
   "metadata": {},
   "outputs": [
    {
     "ename": "OSError",
     "evalue": "[Errno 39] Directory not empty: '/media/henry/000471D8000C54DE/Files/Github/LeetCode/Python/tmp'",
     "output_type": "error",
     "traceback": [
      "\u001b[0;31m---------------------------------------------------------------------------\u001b[0m",
      "\u001b[0;31mOSError\u001b[0m                                   Traceback (most recent call last)",
      "\u001b[0;32m<ipython-input-14-3a963c07a949>\u001b[0m in \u001b[0;36m<module>\u001b[0;34m\u001b[0m\n\u001b[0;32m----> 1\u001b[0;31m \u001b[0mos\u001b[0m\u001b[0;34m.\u001b[0m\u001b[0mremovedirs\u001b[0m\u001b[0;34m(\u001b[0m\u001b[0mcwd\u001b[0m \u001b[0;34m+\u001b[0m \u001b[0;34m'/tmp'\u001b[0m\u001b[0;34m)\u001b[0m\u001b[0;34m\u001b[0m\u001b[0;34m\u001b[0m\u001b[0m\n\u001b[0m",
      "\u001b[0;32m~/anaconda3/envs/py36pt04/lib/python3.6/os.py\u001b[0m in \u001b[0;36mremovedirs\u001b[0;34m(name)\u001b[0m\n\u001b[1;32m    236\u001b[0m \u001b[0;34m\u001b[0m\u001b[0m\n\u001b[1;32m    237\u001b[0m     \"\"\"\n\u001b[0;32m--> 238\u001b[0;31m     \u001b[0mrmdir\u001b[0m\u001b[0;34m(\u001b[0m\u001b[0mname\u001b[0m\u001b[0;34m)\u001b[0m\u001b[0;34m\u001b[0m\u001b[0;34m\u001b[0m\u001b[0m\n\u001b[0m\u001b[1;32m    239\u001b[0m     \u001b[0mhead\u001b[0m\u001b[0;34m,\u001b[0m \u001b[0mtail\u001b[0m \u001b[0;34m=\u001b[0m \u001b[0mpath\u001b[0m\u001b[0;34m.\u001b[0m\u001b[0msplit\u001b[0m\u001b[0;34m(\u001b[0m\u001b[0mname\u001b[0m\u001b[0;34m)\u001b[0m\u001b[0;34m\u001b[0m\u001b[0;34m\u001b[0m\u001b[0m\n\u001b[1;32m    240\u001b[0m     \u001b[0;32mif\u001b[0m \u001b[0;32mnot\u001b[0m \u001b[0mtail\u001b[0m\u001b[0;34m:\u001b[0m\u001b[0;34m\u001b[0m\u001b[0;34m\u001b[0m\u001b[0m\n",
      "\u001b[0;31mOSError\u001b[0m: [Errno 39] Directory not empty: '/media/henry/000471D8000C54DE/Files/Github/LeetCode/Python/tmp'"
     ]
    }
   ],
   "source": [
    "os.removedirs(cwd + '/tmp')\n",
    "\n",
    "# 要删除某个目录，那个目录必须是空的。"
   ]
  },
  {
   "cell_type": "code",
   "execution_count": 16,
   "metadata": {},
   "outputs": [],
   "source": [
    "os.makedirs(\"newrd\")"
   ]
  },
  {
   "cell_type": "code",
   "execution_count": 17,
   "metadata": {},
   "outputs": [],
   "source": [
    "os.removedirs(cwd + '/newrd')"
   ]
  },
  {
   "cell_type": "code",
   "execution_count": null,
   "metadata": {},
   "outputs": [],
   "source": []
  }
 ],
 "metadata": {
  "kernelspec": {
   "display_name": "Python code",
   "language": "python",
   "name": "py36pt04"
  },
  "language_info": {
   "codemirror_mode": {
    "name": "ipython",
    "version": 3
   },
   "file_extension": ".py",
   "mimetype": "text/x-python",
   "name": "python",
   "nbconvert_exporter": "python",
   "pygments_lexer": "ipython3",
   "version": "3.6.9"
  }
 },
 "nbformat": 4,
 "nbformat_minor": 2
}
