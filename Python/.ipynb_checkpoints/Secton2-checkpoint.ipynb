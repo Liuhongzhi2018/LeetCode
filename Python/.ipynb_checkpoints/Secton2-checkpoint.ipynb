{
 "cells": [
  {
   "cell_type": "markdown",
   "metadata": {},
   "source": [
    "函数这个数学名词是莱布尼兹在1694年开始使用的，以描述曲线的一个相关量，如曲线的斜率或者曲线上的某一点。莱布尼兹所指的函数现在被称作可导函数，数学家之外的普通人一般接触到的函数即属此类。对于可导函数可以讨论它的极限和导数。此两者描述了函数输出值的变化同输入值变化的关系，是微积分学的基础。\n",
    "\n",
    "一个函数就是一个对应关系"
   ]
  },
  {
   "cell_type": "code",
   "execution_count": 1,
   "metadata": {},
   "outputs": [
    {
     "data": {
      "text/plain": [
       "8"
      ]
     },
     "execution_count": 1,
     "metadata": {},
     "output_type": "execute_result"
    }
   ],
   "source": [
    "a = 2\n",
    "y = 3 * a + 2\n",
    "y"
   ]
  },
  {
   "cell_type": "code",
   "execution_count": 2,
   "metadata": {},
   "outputs": [
    {
     "data": {
      "text/plain": [
       "8"
      ]
     },
     "execution_count": 2,
     "metadata": {},
     "output_type": "execute_result"
    }
   ],
   "source": [
    "a = 3\n",
    "y    # 当变量a引用的对象修改为3的时候，但是y引用的对象还没有变"
   ]
  },
  {
   "cell_type": "code",
   "execution_count": 3,
   "metadata": {},
   "outputs": [
    {
     "data": {
      "text/plain": [
       "11"
      ]
     },
     "execution_count": 3,
     "metadata": {},
     "output_type": "execute_result"
    }
   ],
   "source": [
    "y = 3 * a + 2\n",
    "y "
   ]
  },
  {
   "cell_type": "code",
   "execution_count": 5,
   "metadata": {},
   "outputs": [
    {
     "name": "stdout",
     "output_type": "stream",
     "text": [
      "5\n"
     ]
    }
   ],
   "source": [
    "#!/usr/bin/env python\n",
    "#coding:utf-8\n",
    "\n",
    "\n",
    "def add_function(a, b):\n",
    "    c = a + b\n",
    "    print(c)\n",
    "\n",
    "if __name__ == \"__main__\":\n",
    "    add_function(2, 3)\n",
    "\n",
    "# save as code.py file"
   ]
  },
  {
   "cell_type": "markdown",
   "metadata": {},
   "source": [
    "* def add_function(a, b): 这里是函数的开始。在声明要建立一个函数的时候，一定要使用def（def 就是英文define的前三个字母），意思就是告知计算机，这里要声明一个函数；add_function是这个函数名称，取名字是有讲究的，就好比你的名字一样。在python中取名字的讲究就是要有一定意义，能够从名字中看出这个函数是用来干什么的。从add_function这个名字中，是不是看出她是用来计算加法的呢（严格地说，是把两个对象“相加”，这里相加的含义是比较宽泛的，包括对字符串等相加）？(a,b)这个括号里面的是这个函数的参数，也就是函数变量。冒号，这个冒号非常非常重要，如果少了，就报错了。冒号的意思就是下面好开始真正的函数内容了。\n",
    "\n",
    "*  c = a + b 特别注意，这一行比上一行要缩进四个空格。这是python的规定，要牢记，不可丢掉，丢了就报错。然后这句话就是将两个参数(变量)相加，结果赋值与另外一个变量c。\n",
    "\n",
    "*  print c 还是提醒看官注意，缩进四个空格。将得到的结果c的值打印出来。\n",
    "\n",
    "*  if __name__ == \"__main__\": 这句话先照抄，不解释，因为在《自省》有说明，不知道你是不是认真阅读了。注意就是不缩进了。\n",
    "\n",
    "* add_function(2,3) 这才是真正调用前面建立的函数，并且传入两个参数：a=2,b=3。仔细观察传入参数的方法，就是把2放在a那个位置，3放在b那个位置（所以说，变量就是占位符).\n"
   ]
  },
  {
   "cell_type": "code",
   "execution_count": null,
   "metadata": {},
   "outputs": [],
   "source": []
  }
 ],
 "metadata": {
  "kernelspec": {
   "display_name": "Python code",
   "language": "python",
   "name": "py36pt04"
  },
  "language_info": {
   "codemirror_mode": {
    "name": "ipython",
    "version": 3
   },
   "file_extension": ".py",
   "mimetype": "text/x-python",
   "name": "python",
   "nbconvert_exporter": "python",
   "pygments_lexer": "ipython3",
   "version": "3.6.9"
  }
 },
 "nbformat": 4,
 "nbformat_minor": 2
}
