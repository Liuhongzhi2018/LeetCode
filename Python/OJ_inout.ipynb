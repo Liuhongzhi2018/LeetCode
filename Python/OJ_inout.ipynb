{
 "cells": [
  {
   "cell_type": "markdown",
   "metadata": {},
   "source": [
    "# OJ在线编程常见输入输出"
   ]
  },
  {
   "cell_type": "markdown",
   "metadata": {},
   "source": [
    "[OJ在线编程常见输入输出练习场](https://ac.nowcoder.com/acm/contest/5649#question)\n",
    "\n",
    "[OJ在线编程常见输入输出](https://blog.csdn.net/xu380393916/article/details/105016607#1ab_155)\n",
    "\n",
    "[输入输出练习](https://blog.nowcoder.net/n/6df3867237e2460ca7e9f239983c47a4)"
   ]
  },
  {
   "cell_type": "markdown",
   "metadata": {},
   "source": [
    "1.\n",
    "\n",
    "输入描述:  \n",
    "输入包括两个正整数a,b(1 <= a, b <= 10^9),输入数据包括多组。\n",
    "\n",
    "输出描述:\n",
    "输出a+b的结果"
   ]
  },
  {
   "cell_type": "code",
   "execution_count": 2,
   "metadata": {},
   "outputs": [],
   "source": [
    "import sys\n",
    "for line in sys.stdin:\n",
    "    # split() 函数返回列表\n",
    "    a = line.split()\n",
    "    print(int(a[0])+int(a[1]))"
   ]
  },
  {
   "cell_type": "markdown",
   "metadata": {},
   "source": [
    "2.  \n",
    "\n",
    "输入描述:  \n",
    "输入第一行包括一个数据组数t(1 <= t <= 100)  \n",
    "接下来每行包括两个正整数a,b(1 <= a, b <= 10^9)  \n",
    "\n",
    "输出描述:  \n",
    "输出a+b的结果"
   ]
  },
  {
   "cell_type": "code",
   "execution_count": 7,
   "metadata": {},
   "outputs": [
    {
     "name": "stdout",
     "output_type": "stream",
     "text": [
      "1\n"
     ]
    },
    {
     "ename": "IndexError",
     "evalue": "list index out of range",
     "output_type": "error",
     "traceback": [
      "\u001b[0;31m---------------------------------------------------------------------------\u001b[0m",
      "\u001b[0;31mIndexError\u001b[0m                                Traceback (most recent call last)",
      "\u001b[0;32m<ipython-input-7-12c3ee50c64e>\u001b[0m in \u001b[0;36m<module>\u001b[0;34m\u001b[0m\n\u001b[1;32m      3\u001b[0m \u001b[0;32mfor\u001b[0m \u001b[0mx\u001b[0m \u001b[0;32min\u001b[0m \u001b[0mrange\u001b[0m\u001b[0;34m(\u001b[0m\u001b[0mN\u001b[0m\u001b[0;34m)\u001b[0m\u001b[0;34m:\u001b[0m\u001b[0;34m\u001b[0m\u001b[0;34m\u001b[0m\u001b[0m\n\u001b[1;32m      4\u001b[0m     \u001b[0ma\u001b[0m \u001b[0;34m=\u001b[0m \u001b[0msys\u001b[0m\u001b[0;34m.\u001b[0m\u001b[0mstdin\u001b[0m\u001b[0;34m.\u001b[0m\u001b[0mreadline\u001b[0m\u001b[0;34m(\u001b[0m\u001b[0;34m)\u001b[0m\u001b[0;34m.\u001b[0m\u001b[0msplit\u001b[0m\u001b[0;34m(\u001b[0m\u001b[0;34m)\u001b[0m\u001b[0;34m\u001b[0m\u001b[0;34m\u001b[0m\u001b[0m\n\u001b[0;32m----> 5\u001b[0;31m     \u001b[0mprint\u001b[0m\u001b[0;34m(\u001b[0m\u001b[0mint\u001b[0m\u001b[0;34m(\u001b[0m\u001b[0ma\u001b[0m\u001b[0;34m[\u001b[0m\u001b[0;36m0\u001b[0m\u001b[0;34m]\u001b[0m\u001b[0;34m)\u001b[0m\u001b[0;34m+\u001b[0m\u001b[0mint\u001b[0m\u001b[0;34m(\u001b[0m\u001b[0ma\u001b[0m\u001b[0;34m[\u001b[0m\u001b[0;36m1\u001b[0m\u001b[0;34m]\u001b[0m\u001b[0;34m)\u001b[0m\u001b[0;34m)\u001b[0m\u001b[0;34m\u001b[0m\u001b[0;34m\u001b[0m\u001b[0m\n\u001b[0m",
      "\u001b[0;31mIndexError\u001b[0m: list index out of range"
     ]
    }
   ],
   "source": [
    "import sys\n",
    "N = int(input())\n",
    "for x in range(N):\n",
    "    a = sys.stdin.readline().split()\n",
    "    print(int(a[0])+int(a[1]))"
   ]
  },
  {
   "cell_type": "code",
   "execution_count": 9,
   "metadata": {},
   "outputs": [
    {
     "name": "stdout",
     "output_type": "stream",
     "text": [
      "2\n",
      "1 2\n",
      "3\n",
      "5 6\n",
      "11\n"
     ]
    }
   ],
   "source": [
    "try:\n",
    "    t = list(map(int, input().strip().split()))\n",
    "\n",
    "    for i in range(t[0]):\n",
    "        # a, b = list(map(int, input().split(\" \")))\n",
    "        a, b = list(map(int, input().split()))\n",
    "        print(a + b)\n",
    "\n",
    "except:\n",
    "\tprint(\"exit\")\n",
    "\tpass"
   ]
  },
  {
   "cell_type": "markdown",
   "metadata": {},
   "source": [
    "3.\n",
    "\n",
    "输入描述:  \n",
    "输入包括两个正整数a,b(1 <= a, b <= 10^9),输入数据有多组,   \n",
    "如果输入为0 0则结束输入\n",
    "\n",
    "输出描述:\n",
    "输出a+b的结果"
   ]
  },
  {
   "cell_type": "code",
   "execution_count": 10,
   "metadata": {},
   "outputs": [],
   "source": [
    "import sys\n",
    "for line in sys.stdin:\n",
    "    parsing = line.split(\" \")\n",
    "    if int(parsing[0]) == 0 and int(parsing[1]) == 0:\n",
    "        break\n",
    "    else:\n",
    "        print(int(parsing[0])+int(parsing[1]))"
   ]
  },
  {
   "cell_type": "code",
   "execution_count": 11,
   "metadata": {},
   "outputs": [
    {
     "name": "stdout",
     "output_type": "stream",
     "text": [
      "0 0\n"
     ]
    }
   ],
   "source": [
    "import sys\n",
    "while True:\n",
    "    a, b = list(map(int, input().split(\" \")))\n",
    "    if a == 0 and b == 0:\n",
    "        break\n",
    "    else:\n",
    "        print(a+b)"
   ]
  },
  {
   "cell_type": "markdown",
   "metadata": {},
   "source": [
    "4.\n",
    "\n",
    "输入描述:  \n",
    "输入包括两个正整数a,b(1 <= a, b <= 10^9),输入数据有多组,   \n",
    "如果输入为0 0则结束输入\n",
    "\n",
    "输出描述:\n",
    "输出a+b的结果"
   ]
  },
  {
   "cell_type": "code",
   "execution_count": 14,
   "metadata": {},
   "outputs": [
    {
     "name": "stdout",
     "output_type": "stream",
     "text": [
      "1\n",
      "0\n",
      "1\n",
      "0\n",
      "1 2\n",
      "2\n",
      "2\n",
      "0\n",
      "1 2\n",
      "2\n",
      "2 3\n",
      "3\n",
      "0 \n"
     ]
    }
   ],
   "source": [
    "while True:\n",
    "    sum1 = []\n",
    "    a = list(map(int,input().split()))\n",
    "    if a[0] == 0:\n",
    "        break\n",
    "    else:\n",
    "        sum1 = sum(a) - a[0]\n",
    "    print(sum1)"
   ]
  },
  {
   "cell_type": "code",
   "execution_count": 15,
   "metadata": {},
   "outputs": [],
   "source": [
    "import sys\n",
    "for line in sys.stdin:\n",
    "    # split() 函数返回列表\n",
    "    a = line.split()\n",
    "    sumall = 0\n",
    "    if int(a[0]) == 0:\n",
    "        break\n",
    "    else:\n",
    "        for i in range(1, int(a[0])+1):\n",
    "            sumall += int(a[i])\n",
    "        print(sumall)"
   ]
  },
  {
   "cell_type": "code",
   "execution_count": 16,
   "metadata": {},
   "outputs": [],
   "source": [
    "import sys\n",
    "for line in sys.stdin:\n",
    "    # split() 函数返回列表\n",
    "    a = line.split()\n",
    "    # sumall = 0\n",
    "    if int(a[0]) == 0:\n",
    "        break\n",
    "    else:\n",
    "        sumall = 0\n",
    "        for i in range(1, int(a[0])+1):\n",
    "            sumall += int(a[i])\n",
    "        print(sumall)"
   ]
  },
  {
   "cell_type": "markdown",
   "metadata": {},
   "source": [
    "5.\n",
    "\n",
    "输入描述:  \n",
    "输入的第一行包括一个正整数t(1 <= t <= 100), 表示数据组数。  \n",
    "接下来t行, 每行一组数据。  \n",
    "每行的第一个整数为整数的个数n(1 <= n <= 100)。  \n",
    "接下来n个正整数, 即需要求和的每个正整数。\n",
    "\n",
    "输出描述:\n",
    "输出a+b的结果"
   ]
  },
  {
   "cell_type": "code",
   "execution_count": 17,
   "metadata": {},
   "outputs": [
    {
     "name": "stdout",
     "output_type": "stream",
     "text": [
      "1\n",
      "1 2 3\n",
      "2\n"
     ]
    }
   ],
   "source": [
    "import sys\n",
    "t = int(input())\n",
    "for n in range(t):\n",
    "    a = list(map(int, input().split(\" \")))\n",
    "    if a[0] == 0:\n",
    "        break\n",
    "    else:\n",
    "        sumall = 0\n",
    "        for i in range(1, a[0]+1):\n",
    "            sumall += a[i]\n",
    "        print(sumall)"
   ]
  },
  {
   "cell_type": "code",
   "execution_count": 19,
   "metadata": {},
   "outputs": [
    {
     "name": "stdout",
     "output_type": "stream",
     "text": [
      "2\n"
     ]
    },
    {
     "ename": "IndexError",
     "evalue": "list index out of range",
     "output_type": "error",
     "traceback": [
      "\u001b[0;31m---------------------------------------------------------------------------\u001b[0m",
      "\u001b[0;31mIndexError\u001b[0m                                Traceback (most recent call last)",
      "\u001b[0;32m<ipython-input-19-a33d4ff8a1f5>\u001b[0m in \u001b[0;36m<module>\u001b[0;34m\u001b[0m\n\u001b[1;32m      4\u001b[0m     \u001b[0;31m# a = list(map(int, input().split(\" \")))\u001b[0m\u001b[0;34m\u001b[0m\u001b[0;34m\u001b[0m\u001b[0;34m\u001b[0m\u001b[0m\n\u001b[1;32m      5\u001b[0m     \u001b[0ma\u001b[0m \u001b[0;34m=\u001b[0m \u001b[0msys\u001b[0m\u001b[0;34m.\u001b[0m\u001b[0mstdin\u001b[0m\u001b[0;34m.\u001b[0m\u001b[0mreadline\u001b[0m\u001b[0;34m(\u001b[0m\u001b[0;34m)\u001b[0m\u001b[0;34m.\u001b[0m\u001b[0msplit\u001b[0m\u001b[0;34m(\u001b[0m\u001b[0;34m)\u001b[0m\u001b[0;34m\u001b[0m\u001b[0;34m\u001b[0m\u001b[0m\n\u001b[0;32m----> 6\u001b[0;31m     \u001b[0;32mif\u001b[0m \u001b[0mint\u001b[0m\u001b[0;34m(\u001b[0m\u001b[0ma\u001b[0m\u001b[0;34m[\u001b[0m\u001b[0;36m0\u001b[0m\u001b[0;34m]\u001b[0m\u001b[0;34m)\u001b[0m \u001b[0;34m==\u001b[0m \u001b[0;36m0\u001b[0m\u001b[0;34m:\u001b[0m\u001b[0;34m\u001b[0m\u001b[0;34m\u001b[0m\u001b[0m\n\u001b[0m\u001b[1;32m      7\u001b[0m         \u001b[0;32mbreak\u001b[0m\u001b[0;34m\u001b[0m\u001b[0;34m\u001b[0m\u001b[0m\n\u001b[1;32m      8\u001b[0m     \u001b[0;32melse\u001b[0m\u001b[0;34m:\u001b[0m\u001b[0;34m\u001b[0m\u001b[0;34m\u001b[0m\u001b[0m\n",
      "\u001b[0;31mIndexError\u001b[0m: list index out of range"
     ]
    }
   ],
   "source": [
    "import sys\n",
    "t = int(input())\n",
    "for n in range(t):\n",
    "    # a = list(map(int, input().split(\" \")))\n",
    "    a = sys.stdin.readline().split()\n",
    "    if int(a[0]) == 0:\n",
    "        break\n",
    "    else:\n",
    "        sumall = 0\n",
    "        for i in range(1, int(a[0])+1):\n",
    "            sumall += int(a[i])\n",
    "        print(sumall)"
   ]
  },
  {
   "cell_type": "markdown",
   "metadata": {},
   "source": [
    "6.\n",
    "\n",
    "输入描述:\n",
    "输入数据有多组, 每行表示一组输入数据。  \n",
    "每行的第一个整数为整数的个数n(1 <= n <= 100)。  \n",
    "接下来n个正整数, 即需要求和的每个正整数。\n",
    "\n",
    "输出描述: 输出a+b的结果\n"
   ]
  },
  {
   "cell_type": "code",
   "execution_count": 20,
   "metadata": {},
   "outputs": [],
   "source": [
    "import sys\n",
    "for line in sys.stdin:\n",
    "    a = line.split(\" \")\n",
    "    sumline = 0\n",
    "    for i in range(1, int(a[0])+1):\n",
    "        sumline += int(a[i])\n",
    "    print(sumline)"
   ]
  },
  {
   "cell_type": "code",
   "execution_count": 21,
   "metadata": {},
   "outputs": [
    {
     "name": "stdout",
     "output_type": "stream",
     "text": [
      "1\n",
      "0\n",
      "1 23\n",
      "23\n"
     ]
    }
   ],
   "source": [
    "try:\n",
    "    while 1:\n",
    "        a = list(map(int, input().strip().split()))\n",
    "        print(sum(a[1:]))\n",
    "except:\n",
    "    pass"
   ]
  },
  {
   "cell_type": "markdown",
   "metadata": {},
   "source": [
    "7.\n",
    "\n",
    "输入描述: \n",
    "输入数据有多组, 每行表示一组输入数据。  \n",
    "每行不定有n个整数，空格隔开。(1 <= n <= 100)。\n",
    "\n",
    "输出描述: 输出a+b的结果\n"
   ]
  },
  {
   "cell_type": "code",
   "execution_count": 22,
   "metadata": {},
   "outputs": [],
   "source": [
    "import sys\n",
    "for line in sys.stdin:\n",
    "    a = line.split(\" \")\n",
    "    sumline = 0\n",
    "    for i in a:\n",
    "        sumline += int(i)\n",
    "    print(sumline)"
   ]
  },
  {
   "cell_type": "code",
   "execution_count": 23,
   "metadata": {},
   "outputs": [
    {
     "name": "stdout",
     "output_type": "stream",
     "text": [
      "1 2\n",
      "3\n"
     ]
    }
   ],
   "source": [
    "try:\n",
    "    while True:\n",
    "        a = list( map(int, input().strip().split()))\n",
    "        print(sum(a))\n",
    "except:\n",
    "    pass"
   ]
  },
  {
   "cell_type": "code",
   "execution_count": 24,
   "metadata": {},
   "outputs": [
    {
     "name": "stdout",
     "output_type": "stream",
     "text": [
      "1 2\n",
      "3\n"
     ]
    }
   ],
   "source": [
    "def getInput(choice='intType',sep=None):\n",
    "\t'''\n",
    "\n",
    "\t:param choice: ['intType', 'strType']\n",
    "\t\tintType, to get int data\n",
    "\t\tstrType, to get str data\n",
    "\t:param sep:  split str.\n",
    "\t:return: a inpput list\n",
    "\t'''\n",
    "\n",
    "\tif choice =='intType':\n",
    "\t\tif sep:\n",
    "\t\t\treturn list(map(int, input().strip().split(sep)))\n",
    "\t\telse:\n",
    "\t\t\treturn list(map(int, input().strip().split()))\n",
    "\telif choice =='strType':\n",
    "\t\tif sep:\n",
    "\t\t\treturn list((input().strip().split(sep)))\n",
    "\t\telse:\n",
    "\t\t\treturn list((input().strip().split()))\n",
    "try:\n",
    "    while True:\n",
    "        # a = list( map(int, input().strip().split()))\n",
    "        a = getInput()\n",
    "        print(sum(a))\n",
    "except:\n",
    "    pass"
   ]
  },
  {
   "cell_type": "markdown",
   "metadata": {},
   "source": [
    "8.\n",
    "\n",
    "输入描述:   \n",
    "输入有两行，第一行n  \n",
    "第二行是n个空格隔开的字符串\n",
    "\n",
    "输出描述:   \n",
    "输出一行排序后的字符串，空格隔开，无结尾空格"
   ]
  },
  {
   "cell_type": "code",
   "execution_count": 26,
   "metadata": {},
   "outputs": [
    {
     "name": "stdout",
     "output_type": "stream",
     "text": [
      "1\n",
      "a b\n",
      "a b\n"
     ]
    }
   ],
   "source": [
    "try:    \n",
    "    while True:\n",
    "        n = list(map(int, input().strip().split()))\n",
    "        s = list((input().strip().split()))\n",
    "        s.sort()\n",
    "        print(' '.join(s))\n",
    "except:\n",
    "    pass"
   ]
  },
  {
   "cell_type": "code",
   "execution_count": 28,
   "metadata": {},
   "outputs": [
    {
     "name": "stdout",
     "output_type": "stream",
     "text": [
      "2\n",
      "a dc b\n",
      "a b dc\n"
     ]
    }
   ],
   "source": [
    "n = int(input())\n",
    "strlist = input().strip().split(' ')\n",
    "strlist.sort()\n",
    "strlist = \" \".join(strlist)\n",
    "print(strlist)"
   ]
  },
  {
   "cell_type": "code",
   "execution_count": 29,
   "metadata": {},
   "outputs": [
    {
     "name": "stdout",
     "output_type": "stream",
     "text": [
      "2\n",
      "d rg a\n",
      "a d rg\n"
     ]
    }
   ],
   "source": [
    "import sys\n",
    "n = int(input())\n",
    "strlist = list(input().strip().split(\" \"))\n",
    "strlist.sort()\n",
    "print(\" \".join(strlist))"
   ]
  },
  {
   "cell_type": "markdown",
   "metadata": {},
   "source": [
    "9.\n",
    "\n",
    "输入描述:  \n",
    "多个测试用例，每个测试用例一行。  \n",
    "每行通过空格隔开，有n个字符，n＜100\n",
    "\n",
    "输出描述:  \n",
    "对于每组测试用例，输出一行排序过的字符串，每个字符串通过空格隔开\n"
   ]
  },
  {
   "cell_type": "code",
   "execution_count": 30,
   "metadata": {},
   "outputs": [],
   "source": [
    "import sys\n",
    "for line in sys.stdin:\n",
    "    strlist = line.strip().split(\" \")\n",
    "    newlist = sorted(strlist)\n",
    "    print(\" \".join(newlist))"
   ]
  },
  {
   "cell_type": "code",
   "execution_count": 31,
   "metadata": {},
   "outputs": [
    {
     "name": "stdout",
     "output_type": "stream",
     "text": [
      "2\n",
      "2\n"
     ]
    }
   ],
   "source": [
    "try:\n",
    "\twhile True:\n",
    "\t\t# n = getInput()\n",
    "\t\ts = list((input().strip().split()))\n",
    "\t\ts.sort()\n",
    "\t\tprint(' '.join(i for i in s))  # 方式一\n",
    "\t\t# print(' '.join(s))           # 方式二\n",
    "except:\n",
    "\tpass"
   ]
  },
  {
   "cell_type": "markdown",
   "metadata": {},
   "source": [
    "10.\n",
    "\n",
    "输入描述:\n",
    "多个测试用例，每个测试用例一行。  \n",
    "每行通过,隔开，有n个字符，n＜100\n",
    "\n",
    "输出描述:  \n",
    "对于每组用例输出一行排序后的字符串，用','隔开，无结尾空格\n"
   ]
  },
  {
   "cell_type": "code",
   "execution_count": 32,
   "metadata": {},
   "outputs": [],
   "source": [
    "import sys\n",
    "for line in sys.stdin:\n",
    "    strlist = line.strip().split(\",\")\n",
    "    strlist.sort()\n",
    "    print(\",\".join(strlist))"
   ]
  },
  {
   "cell_type": "code",
   "execution_count": 33,
   "metadata": {},
   "outputs": [
    {
     "name": "stdout",
     "output_type": "stream",
     "text": [
      "a,rf,ed\n",
      "a,ed,rf\n"
     ]
    }
   ],
   "source": [
    "try:\n",
    "    \n",
    "    while True:\n",
    "        s = input().strip().split(',')\n",
    "        s.sort()\n",
    "        print(','.join(s))\n",
    "except:\n",
    "    pass"
   ]
  },
  {
   "cell_type": "markdown",
   "metadata": {},
   "source": [
    "11.\n",
    "\n",
    "输入描述:  \n",
    "输入有多组测试用例，每组空格隔开两个整数\n",
    "\n",
    "输出描述:  \n",
    "对于每组数据输出一行两个整数的和\n"
   ]
  },
  {
   "cell_type": "code",
   "execution_count": 34,
   "metadata": {},
   "outputs": [],
   "source": [
    "import sys\n",
    "for line in sys.stdin:\n",
    "    a = line.split(\" \")\n",
    "    print(int(a[0])+int(a[1]))"
   ]
  },
  {
   "cell_type": "code",
   "execution_count": 35,
   "metadata": {},
   "outputs": [],
   "source": [
    "import sys\n",
    "for line in sys.stdin:\n",
    "    a, b = map(int, line.strip().split(\" \"))\n",
    "    print(a+b)"
   ]
  },
  {
   "cell_type": "code",
   "execution_count": null,
   "metadata": {},
   "outputs": [],
   "source": []
  }
 ],
 "metadata": {
  "kernelspec": {
   "display_name": "Python code",
   "language": "python",
   "name": "py36pt04"
  },
  "language_info": {
   "codemirror_mode": {
    "name": "ipython",
    "version": 3
   },
   "file_extension": ".py",
   "mimetype": "text/x-python",
   "name": "python",
   "nbconvert_exporter": "python",
   "pygments_lexer": "ipython3",
   "version": "3.6.9"
  }
 },
 "nbformat": 4,
 "nbformat_minor": 2
}
