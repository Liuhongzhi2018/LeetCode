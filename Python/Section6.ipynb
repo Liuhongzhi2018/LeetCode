{
 "cells": [
  {
   "cell_type": "markdown",
   "metadata": {},
   "source": [
    "# 错误和异常"
   ]
  },
  {
   "cell_type": "markdown",
   "metadata": {},
   "source": [
    "## 错误\n",
    "\n",
    "python中的错误之一是语法错误(syntax errors)\n",
    "\n",
    "错误之二是在没有语法错误之后，会出现逻辑错误。逻辑错误可能会由于不完整或者不合法的输入导致，也可能是无法生成、计算等，或者是其它逻辑问题。\n",
    "\n",
    "当python检测到一个错误时，解释器就无法继续执行下去，于是抛出异常。"
   ]
  },
  {
   "cell_type": "markdown",
   "metadata": {},
   "source": [
    "## 异常"
   ]
  },
  {
   "cell_type": "markdown",
   "metadata": {},
   "source": [
    "| 异常| 描述| \n",
    "| :------: | :------: |\n",
    "| NameError | 尝试访问一个没有申明的变量 | \n",
    "| ZeroDivisionError | 除数为0 |\n",
    "| SyntaxError | 语法错误 | \n",
    "| IndexError | 索引超出序列范围 | \n",
    "| KeyError | 请求一个不存在的字典关键字 | \n",
    "| IOError | 输入输出错误（比如你要读的文件不存在） | \n",
    "| AttributeError | 尝试访问未知的对象属性 | "
   ]
  },
  {
   "cell_type": "code",
   "execution_count": 2,
   "metadata": {},
   "outputs": [
    {
     "ename": "NameError",
     "evalue": "name 'bar' is not defined",
     "output_type": "error",
     "traceback": [
      "\u001b[0;31m---------------------------------------------------------------------------\u001b[0m",
      "\u001b[0;31mNameError\u001b[0m                                 Traceback (most recent call last)",
      "\u001b[0;32m<ipython-input-2-e242ed3bffcc>\u001b[0m in \u001b[0;36m<module>\u001b[0;34m\u001b[0m\n\u001b[0;32m----> 1\u001b[0;31m \u001b[0mbar\u001b[0m\u001b[0;34m\u001b[0m\u001b[0;34m\u001b[0m\u001b[0m\n\u001b[0m",
      "\u001b[0;31mNameError\u001b[0m: name 'bar' is not defined"
     ]
    }
   ],
   "source": [
    "bar"
   ]
  },
  {
   "cell_type": "code",
   "execution_count": 3,
   "metadata": {},
   "outputs": [
    {
     "ename": "ZeroDivisionError",
     "evalue": "division by zero",
     "output_type": "error",
     "traceback": [
      "\u001b[0;31m---------------------------------------------------------------------------\u001b[0m",
      "\u001b[0;31mZeroDivisionError\u001b[0m                         Traceback (most recent call last)",
      "\u001b[0;32m<ipython-input-3-9e1622b385b6>\u001b[0m in \u001b[0;36m<module>\u001b[0;34m\u001b[0m\n\u001b[0;32m----> 1\u001b[0;31m \u001b[0;36m1\u001b[0m\u001b[0;34m/\u001b[0m\u001b[0;36m0\u001b[0m\u001b[0;34m\u001b[0m\u001b[0;34m\u001b[0m\u001b[0m\n\u001b[0m",
      "\u001b[0;31mZeroDivisionError\u001b[0m: division by zero"
     ]
    }
   ],
   "source": [
    "1/0"
   ]
  },
  {
   "cell_type": "code",
   "execution_count": 4,
   "metadata": {},
   "outputs": [
    {
     "ename": "SyntaxError",
     "evalue": "invalid syntax (<ipython-input-4-9bf3d452bb2a>, line 1)",
     "output_type": "error",
     "traceback": [
      "\u001b[0;36m  File \u001b[0;32m\"<ipython-input-4-9bf3d452bb2a>\"\u001b[0;36m, line \u001b[0;32m1\u001b[0m\n\u001b[0;31m    for i in range(10)\u001b[0m\n\u001b[0m                      ^\u001b[0m\n\u001b[0;31mSyntaxError\u001b[0m\u001b[0;31m:\u001b[0m invalid syntax\n"
     ]
    }
   ],
   "source": [
    "for i in range(10)"
   ]
  },
  {
   "cell_type": "code",
   "execution_count": 5,
   "metadata": {},
   "outputs": [
    {
     "ename": "IndexError",
     "evalue": "list index out of range",
     "output_type": "error",
     "traceback": [
      "\u001b[0;31m---------------------------------------------------------------------------\u001b[0m",
      "\u001b[0;31mIndexError\u001b[0m                                Traceback (most recent call last)",
      "\u001b[0;32m<ipython-input-5-59fd82b1af02>\u001b[0m in \u001b[0;36m<module>\u001b[0;34m\u001b[0m\n\u001b[1;32m      1\u001b[0m \u001b[0ma\u001b[0m \u001b[0;34m=\u001b[0m \u001b[0;34m[\u001b[0m\u001b[0;36m1\u001b[0m\u001b[0;34m,\u001b[0m\u001b[0;36m2\u001b[0m\u001b[0;34m,\u001b[0m\u001b[0;36m3\u001b[0m\u001b[0;34m]\u001b[0m\u001b[0;34m\u001b[0m\u001b[0;34m\u001b[0m\u001b[0m\n\u001b[0;32m----> 2\u001b[0;31m \u001b[0ma\u001b[0m\u001b[0;34m[\u001b[0m\u001b[0;36m4\u001b[0m\u001b[0;34m]\u001b[0m\u001b[0;34m\u001b[0m\u001b[0;34m\u001b[0m\u001b[0m\n\u001b[0m",
      "\u001b[0;31mIndexError\u001b[0m: list index out of range"
     ]
    }
   ],
   "source": [
    "a = [1,2,3]\n",
    "a[4]"
   ]
  },
  {
   "cell_type": "code",
   "execution_count": 6,
   "metadata": {},
   "outputs": [
    {
     "ename": "FileNotFoundError",
     "evalue": "[Errno 2] No such file or directory: 'foo'",
     "output_type": "error",
     "traceback": [
      "\u001b[0;31m---------------------------------------------------------------------------\u001b[0m",
      "\u001b[0;31mFileNotFoundError\u001b[0m                         Traceback (most recent call last)",
      "\u001b[0;32m<ipython-input-6-7f1f6daced4c>\u001b[0m in \u001b[0;36m<module>\u001b[0;34m\u001b[0m\n\u001b[0;32m----> 1\u001b[0;31m \u001b[0mf\u001b[0m \u001b[0;34m=\u001b[0m \u001b[0mopen\u001b[0m\u001b[0;34m(\u001b[0m\u001b[0;34m\"foo\"\u001b[0m\u001b[0;34m)\u001b[0m\u001b[0;34m\u001b[0m\u001b[0;34m\u001b[0m\u001b[0m\n\u001b[0m",
      "\u001b[0;31mFileNotFoundError\u001b[0m: [Errno 2] No such file or directory: 'foo'"
     ]
    }
   ],
   "source": [
    "f = open(\"foo\")"
   ]
  },
  {
   "cell_type": "code",
   "execution_count": 7,
   "metadata": {},
   "outputs": [
    {
     "ename": "AttributeError",
     "evalue": "'A' object has no attribute 'foo'",
     "output_type": "error",
     "traceback": [
      "\u001b[0;31m---------------------------------------------------------------------------\u001b[0m",
      "\u001b[0;31mAttributeError\u001b[0m                            Traceback (most recent call last)",
      "\u001b[0;32m<ipython-input-7-282cea2b4488>\u001b[0m in \u001b[0;36m<module>\u001b[0;34m\u001b[0m\n\u001b[1;32m      3\u001b[0m \u001b[0;34m\u001b[0m\u001b[0m\n\u001b[1;32m      4\u001b[0m \u001b[0ma\u001b[0m \u001b[0;34m=\u001b[0m \u001b[0mA\u001b[0m\u001b[0;34m(\u001b[0m\u001b[0;34m)\u001b[0m\u001b[0;34m\u001b[0m\u001b[0;34m\u001b[0m\u001b[0m\n\u001b[0;32m----> 5\u001b[0;31m \u001b[0ma\u001b[0m\u001b[0;34m.\u001b[0m\u001b[0mfoo\u001b[0m\u001b[0;34m\u001b[0m\u001b[0;34m\u001b[0m\u001b[0m\n\u001b[0m",
      "\u001b[0;31mAttributeError\u001b[0m: 'A' object has no attribute 'foo'"
     ]
    }
   ],
   "source": [
    "class A(object): \n",
    "    pass\n",
    "\n",
    "a = A()\n",
    "a.foo"
   ]
  },
  {
   "cell_type": "code",
   "execution_count": 8,
   "metadata": {},
   "outputs": [
    {
     "ename": "TypeError",
     "evalue": "'str' object cannot be interpreted as an integer",
     "output_type": "error",
     "traceback": [
      "\u001b[0;31m---------------------------------------------------------------------------\u001b[0m",
      "\u001b[0;31mTypeError\u001b[0m                                 Traceback (most recent call last)",
      "\u001b[0;32m<ipython-input-8-0603bda2a436>\u001b[0m in \u001b[0;36m<module>\u001b[0;34m\u001b[0m\n\u001b[0;32m----> 1\u001b[0;31m \u001b[0mrange\u001b[0m\u001b[0;34m(\u001b[0m\u001b[0;34m\"aaa\"\u001b[0m\u001b[0;34m)\u001b[0m\u001b[0;34m\u001b[0m\u001b[0;34m\u001b[0m\u001b[0m\n\u001b[0m",
      "\u001b[0;31mTypeError\u001b[0m: 'str' object cannot be interpreted as an integer"
     ]
    }
   ],
   "source": [
    "range(\"aaa\")"
   ]
  },
  {
   "cell_type": "markdown",
   "metadata": {},
   "source": [
    "## 处理异常"
   ]
  },
  {
   "cell_type": "code",
   "execution_count": 13,
   "metadata": {},
   "outputs": [
    {
     "name": "stdout",
     "output_type": "stream",
     "text": [
      "this is a division program.\n",
      "input 'c' continue, otherwise logout:c\n",
      "first number:5\n",
      "second number:2\n",
      "2.5\n",
      "*************************\n",
      "this is a division program.\n",
      "input 'c' continue, otherwise logout:c\n",
      "first number:5\n",
      "second number:0\n",
      "The second number can't be zero!\n",
      "*************************\n",
      "this is a division program.\n",
      "input 'c' continue, otherwise logout:d\n"
     ]
    }
   ],
   "source": [
    "#!/usr/bin/env python\n",
    "# coding=utf-8\n",
    "\n",
    "while 1:\n",
    "    print(\"this is a division program.\")\n",
    "    c = input(\"input 'c' continue, otherwise logout:\")\n",
    "    if c == 'c':\n",
    "        a = input(\"first number:\")\n",
    "        b = input(\"second number:\")\n",
    "        try:\n",
    "            print(float(a)/float(b))\n",
    "            print(\"*************************\")\n",
    "        except ZeroDivisionError:\n",
    "            print(\"The second number can't be zero!\")\n",
    "            print(\"*************************\")\n",
    "    else:\n",
    "        break"
   ]
  },
  {
   "cell_type": "markdown",
   "metadata": {},
   "source": [
    "从运行情况看，当在第二个数，即除数为0时，程序并没有因为这个错误而停止，而是给用户一个友好的提示，让用户有机会改正错误。这完全得益于程序中“处理异常”的设置，如果没有“处理异常”，异常出现，就会导致程序终止。\n",
    "\n",
    "处理异常的方式之一，使用try...except..."
   ]
  },
  {
   "cell_type": "code",
   "execution_count": 17,
   "metadata": {},
   "outputs": [
    {
     "name": "stdout",
     "output_type": "stream",
     "text": [
      "this is a division program.\n",
      "input 'c' continue, otherwise logout:c\n",
      "first number:3\n",
      "second number:hello\n",
      "please input number.\n",
      "************************\n",
      "this is a division program.\n",
      "input 'c' continue, otherwise logout:c\n",
      "first number:2\n",
      "second number:0\n",
      "The second number can't be zero!\n",
      "*************************\n",
      "this is a division program.\n",
      "input 'c' continue, otherwise logout:d\n"
     ]
    }
   ],
   "source": [
    "#!/usr/bin/env python\n",
    "# coding=utf-8\n",
    "\n",
    "while 1:\n",
    "    print(\"this is a division program.\")\n",
    "    c = input(\"input 'c' continue, otherwise logout:\")\n",
    "    if c == 'c':\n",
    "        a = input(\"first number:\")\n",
    "        b = input(\"second number:\")\n",
    "        try:\n",
    "            print(float(a)/float(b))\n",
    "            print(\"*************************\")\n",
    "        except ZeroDivisionError:  # #捕获异常\n",
    "            print(\"The second number can't be zero!\")\n",
    "            print(\"*************************\")\n",
    "        except ValueError:  # #捕获异常\n",
    "            print(\"please input number.\")\n",
    "            print(\"************************\")\n",
    "    else:\n",
    "        break"
   ]
  },
  {
   "cell_type": "markdown",
   "metadata": {},
   "source": [
    "需要注意的是，except后面如果是多个参数，一定要用圆括号包裹起来。"
   ]
  },
  {
   "cell_type": "code",
   "execution_count": 20,
   "metadata": {},
   "outputs": [
    {
     "name": "stdout",
     "output_type": "stream",
     "text": [
      "this is a division program.\n",
      "input 'c' continue, otherwise logout:c\n",
      "first number:2\n",
      "second number:a\n",
      "could not convert string to float: 'a'\n",
      "*************************\n",
      "this is a division program.\n",
      "input 'c' continue, otherwise logout:c\n",
      "first number:2\n",
      "second number:0\n",
      "float division by zero\n",
      "*************************\n",
      "this is a division program.\n",
      "input 'c' continue, otherwise logout:d\n"
     ]
    }
   ],
   "source": [
    "#!/usr/bin/env python\n",
    "# coding=utf-8\n",
    "\n",
    "while 1:\n",
    "    print(\"this is a division program.\")\n",
    "    c = input(\"input 'c' continue, otherwise logout:\")\n",
    "    if c == 'c':\n",
    "        a = input(\"first number:\")\n",
    "        b = input(\"second number:\")\n",
    "        try:\n",
    "            print(float(a)/float(b))\n",
    "            print(\"*************************\")\n",
    "          \n",
    "          # python2\n",
    "#         except (ZeroDivisionError,ValueError), e:  # #捕获异常\n",
    "#             print(e)\n",
    "#             print(\"*************************\")\n",
    "        except (ZeroDivisionError,ValueError) as err:  # #捕获异常\n",
    "            print(err)\n",
    "            print(\"*************************\")\n",
    "\n",
    "    else:\n",
    "        break"
   ]
  },
  {
   "cell_type": "code",
   "execution_count": 21,
   "metadata": {},
   "outputs": [
    {
     "name": "stdout",
     "output_type": "stream",
     "text": [
      "I am try\n",
      "I am else\n"
     ]
    }
   ],
   "source": [
    "try:\n",
    "    print(\"I am try\")\n",
    "except:\n",
    "    print(\"I am except\")\n",
    "else:\n",
    "    print(\"I am else\")"
   ]
  },
  {
   "cell_type": "markdown",
   "metadata": {},
   "source": [
    "这段演示，能够帮助读者理解else的执行特点。如果执行了try，则except被忽略，但是else被执行。"
   ]
  },
  {
   "cell_type": "code",
   "execution_count": 22,
   "metadata": {},
   "outputs": [
    {
     "name": "stdout",
     "output_type": "stream",
     "text": [
      "the first number:2\n",
      "the second number:0\n",
      "float division by zero\n",
      "try again.\n",
      "the first number:2\n",
      "the second number:a\n",
      "could not convert string to float: 'a'\n",
      "try again.\n",
      "the first number:4\n",
      "the second number:2\n",
      "2.0\n"
     ]
    }
   ],
   "source": [
    "#!/usr/bin/env python\n",
    "# coding=utf-8\n",
    "while 1:\n",
    "    try:\n",
    "        x = input(\"the first number:\")\n",
    "        y = input(\"the second number:\")\n",
    "\n",
    "        r = float(x)/float(y)\n",
    "        print(r)\n",
    "    except Exception as e:\n",
    "        print(e)\n",
    "        print(\"try again.\")\n",
    "    else:\n",
    "        break"
   ]
  },
  {
   "cell_type": "markdown",
   "metadata": {},
   "source": [
    "## finally\n",
    "\n",
    "finally子句，一听这个名字，就感觉它是做善后工作的。的确如此，如果有了finally，不管前面执行的是try，还是except，它都要执行。因此一种说法是用finally用来在可能的异常后进行清理。"
   ]
  },
  {
   "cell_type": "code",
   "execution_count": 26,
   "metadata": {},
   "outputs": [
    {
     "name": "stdout",
     "output_type": "stream",
     "text": [
      "division by zero\n",
      "del x\n"
     ]
    }
   ],
   "source": [
    "x = 10\n",
    "\n",
    "try:\n",
    "    x = 1/0\n",
    "except Exception as e:\n",
    "    print(e)\n",
    "finally:\n",
    "    print(\"del x\")\n",
    "    del x"
   ]
  },
  {
   "cell_type": "code",
   "execution_count": null,
   "metadata": {},
   "outputs": [],
   "source": []
  }
 ],
 "metadata": {
  "kernelspec": {
   "display_name": "Python code",
   "language": "python",
   "name": "py36pt04"
  },
  "language_info": {
   "codemirror_mode": {
    "name": "ipython",
    "version": 3
   },
   "file_extension": ".py",
   "mimetype": "text/x-python",
   "name": "python",
   "nbconvert_exporter": "python",
   "pygments_lexer": "ipython3",
   "version": "3.6.9"
  }
 },
 "nbformat": 4,
 "nbformat_minor": 2
}
