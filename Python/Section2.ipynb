{
 "cells": [
  {
   "cell_type": "markdown",
   "metadata": {},
   "source": [
    "# 运算符\n",
    "\n",
    "* 算术运算符  加，减，乘，除，取余，幂，取整除，对应的符号分别是：+ - * / %  ** //\n",
    "* 比较运算符  等于 == 不等于 != 大于 > 小于 < 大于等于 >= 小于等于 <=\n",
    "* 逻辑运算符  布尔变量   布尔运算"
   ]
  },
  {
   "cell_type": "code",
   "execution_count": 1,
   "metadata": {},
   "outputs": [],
   "source": [
    "a=10\n",
    "b=20"
   ]
  },
  {
   "cell_type": "code",
   "execution_count": 2,
   "metadata": {},
   "outputs": [
    {
     "data": {
      "text/plain": [
       "False"
      ]
     },
     "execution_count": 2,
     "metadata": {},
     "output_type": "execute_result"
    }
   ],
   "source": [
    "a > b"
   ]
  },
  {
   "cell_type": "code",
   "execution_count": 3,
   "metadata": {},
   "outputs": [
    {
     "data": {
      "text/plain": [
       "False"
      ]
     },
     "execution_count": 3,
     "metadata": {},
     "output_type": "execute_result"
    }
   ],
   "source": [
    "a == b"
   ]
  },
  {
   "cell_type": "code",
   "execution_count": 4,
   "metadata": {},
   "outputs": [
    {
     "data": {
      "text/plain": [
       "True"
      ]
     },
     "execution_count": 4,
     "metadata": {},
     "output_type": "execute_result"
    }
   ],
   "source": [
    "a < b"
   ]
  },
  {
   "cell_type": "code",
   "execution_count": 5,
   "metadata": {},
   "outputs": [
    {
     "data": {
      "text/plain": [
       "True"
      ]
     },
     "execution_count": 5,
     "metadata": {},
     "output_type": "execute_result"
    }
   ],
   "source": [
    "a != b"
   ]
  },
  {
   "cell_type": "code",
   "execution_count": 6,
   "metadata": {},
   "outputs": [
    {
     "data": {
      "text/plain": [
       "False"
      ]
     },
     "execution_count": 6,
     "metadata": {},
     "output_type": "execute_result"
    }
   ],
   "source": [
    "a >= b"
   ]
  },
  {
   "cell_type": "code",
   "execution_count": 7,
   "metadata": {},
   "outputs": [
    {
     "data": {
      "text/plain": [
       "True"
      ]
     },
     "execution_count": 7,
     "metadata": {},
     "output_type": "execute_result"
    }
   ],
   "source": [
    "a <=b"
   ]
  },
  {
   "cell_type": "code",
   "execution_count": 8,
   "metadata": {},
   "outputs": [
    {
     "data": {
      "text/plain": [
       "True"
      ]
     },
     "execution_count": 8,
     "metadata": {},
     "output_type": "execute_result"
    }
   ],
   "source": [
    "4>3 and 4<9"
   ]
  },
  {
   "cell_type": "markdown",
   "metadata": {},
   "source": [
    "or\n",
    "\n",
    "if A==True:\n",
    "\n",
    "    return True\n",
    "    \n",
    "else:\n",
    "\n",
    "    return bool(B)\n",
    "    \n",
    "    \n",
    "伪代码，就是不是真正的代码，无法运行。但是，伪代码也有用途，就是能够以类似代码的方式表达一种计算过程"
   ]
  },
  {
   "cell_type": "markdown",
   "metadata": {},
   "source": [
    "用import引入模块的方法，是python编程经常用到的。不是python的内建函数，要用import引用这个模块。"
   ]
  },
  {
   "cell_type": "code",
   "execution_count": 11,
   "metadata": {},
   "outputs": [
    {
     "data": {
      "text/plain": [
       "9.0"
      ]
     },
     "execution_count": 11,
     "metadata": {},
     "output_type": "execute_result"
    }
   ],
   "source": [
    "import math\n",
    "\n",
    "math.pow(3,2)"
   ]
  },
  {
   "cell_type": "code",
   "execution_count": 12,
   "metadata": {},
   "outputs": [
    {
     "data": {
      "text/plain": [
       "9.0"
      ]
     },
     "execution_count": 12,
     "metadata": {},
     "output_type": "execute_result"
    }
   ],
   "source": [
    "from math import pow\n",
    "pow(3,2)"
   ]
  },
  {
   "cell_type": "code",
   "execution_count": 15,
   "metadata": {},
   "outputs": [
    {
     "data": {
      "text/plain": [
       "9.0"
      ]
     },
     "execution_count": 15,
     "metadata": {},
     "output_type": "execute_result"
    }
   ],
   "source": [
    "from math import pow as pingfang   # 将从某个模块引入的函数重命名\n",
    "\n",
    "pingfang(3,2)"
   ]
  },
  {
   "cell_type": "code",
   "execution_count": 16,
   "metadata": {},
   "outputs": [
    {
     "data": {
      "text/plain": [
       "23.140692632779263"
      ]
     },
     "execution_count": 16,
     "metadata": {},
     "output_type": "execute_result"
    }
   ],
   "source": [
    "from math import pow, e, pi  # e，作为數學常數，是自然對數函數的底數。e = 2.71828182845904523536\n",
    "\n",
    "pow(e,pi)"
   ]
  },
  {
   "cell_type": "code",
   "execution_count": 17,
   "metadata": {},
   "outputs": [
    {
     "data": {
      "text/plain": [
       "'python'"
      ]
     },
     "execution_count": 17,
     "metadata": {},
     "output_type": "execute_result"
    }
   ],
   "source": [
    "x, y, z = 1, \"python\", [\"hello\", \"world\"]  # 一一对应赋值\n",
    "y"
   ]
  },
  {
   "cell_type": "code",
   "execution_count": 18,
   "metadata": {},
   "outputs": [
    {
     "data": {
      "text/plain": [
       "('itdiffer.com', 'python')"
      ]
     },
     "execution_count": 18,
     "metadata": {},
     "output_type": "execute_result"
    }
   ],
   "source": [
    "a = \"itdiffer.com\", \"python\"  # 将右边的两个值装入了一个元组，然后将元组赋给了变量a\n",
    "a"
   ]
  },
  {
   "cell_type": "markdown",
   "metadata": {},
   "source": [
    "变量值对调"
   ]
  },
  {
   "cell_type": "code",
   "execution_count": 22,
   "metadata": {},
   "outputs": [
    {
     "name": "stdout",
     "output_type": "stream",
     "text": [
      "a 2 b 9\n"
     ]
    }
   ],
   "source": [
    "a = 2\n",
    "b = 9\n",
    "print(\"a {} b {}\".format(a, b))"
   ]
  },
  {
   "cell_type": "code",
   "execution_count": 23,
   "metadata": {},
   "outputs": [
    {
     "name": "stdout",
     "output_type": "stream",
     "text": [
      "a 9 b 2\n"
     ]
    }
   ],
   "source": [
    "a, b = b, a\n",
    "print(\"a {} b {}\".format(a, b))\n",
    "# 变量相当于贴在对象上的标签。这个操作只不过是将标签换个位置，就分别指向了不同的数据对象。"
   ]
  },
  {
   "cell_type": "markdown",
   "metadata": {},
   "source": [
    "链式赋值"
   ]
  },
  {
   "cell_type": "code",
   "execution_count": 29,
   "metadata": {},
   "outputs": [
    {
     "ename": "SyntaxError",
     "evalue": "invalid syntax (<ipython-input-29-7f1f63301d20>, line 2)",
     "output_type": "error",
     "traceback": [
      "\u001b[0;36m  File \u001b[0;32m\"<ipython-input-29-7f1f63301d20>\"\u001b[0;36m, line \u001b[0;32m2\u001b[0m\n\u001b[0;31m    print \"m {} n {}\".format(m, n)\u001b[0m\n\u001b[0m                    ^\u001b[0m\n\u001b[0;31mSyntaxError\u001b[0m\u001b[0;31m:\u001b[0m invalid syntax\n"
     ]
    }
   ],
   "source": [
    "m = n = \"I use python\"   # 实现了一次性对两个变量赋值\n",
    "print(\"m {} n {}\".format(m, n))"
   ]
  },
  {
   "cell_type": "code",
   "execution_count": 30,
   "metadata": {},
   "outputs": [
    {
     "name": "stdout",
     "output_type": "stream",
     "text": [
      "m 139839305722864 n 139839305722864\n"
     ]
    }
   ],
   "source": [
    "print(\"m {} n {}\".format(id(m), id(n)))"
   ]
  },
  {
   "cell_type": "code",
   "execution_count": 31,
   "metadata": {},
   "outputs": [
    {
     "data": {
      "text/plain": [
       "True"
      ]
     },
     "execution_count": 31,
     "metadata": {},
     "output_type": "execute_result"
    }
   ],
   "source": [
    "m is n"
   ]
  },
  {
   "cell_type": "markdown",
   "metadata": {},
   "source": [
    "Python開發者有意讓違反了縮排規則的程序不能通過編譯，以此來強迫程序員養成良好的編程習慣。並且Python語言利用縮排表示語句塊的開始和結束（Off-side規則），而非使用花括號或者某種關鍵字。增加縮排表示語句塊的開始，而減少縮排則表示語句塊的結束。縮排成為了語法的一部分。例如if語句.\n",
    "\n",
    "根據PEP的規定，必須使用4個空格來表示每級縮排。使用Tab字符和其它數目的空格雖然都可以編譯通過，但不符合編碼規範。支持Tab字符和其它数目的空格僅僅是為兼容很舊的Python程式和某些有問題的編輯程式。\n",
    "\n",
    "从上面的这段话中，提炼出几个关键点：\n",
    "\n",
    "* 必须要通过缩进方式来表示语句块的开始和结束\n",
    "* 缩进用四个空格（也是必须的，别的方式或许可以，但不提倡）\n"
   ]
  },
  {
   "cell_type": "code",
   "execution_count": 34,
   "metadata": {},
   "outputs": [
    {
     "name": "stdout",
     "output_type": "stream",
     "text": [
      "请输入任意一个整数数字：\n",
      "16\n",
      "您输入的数字是：16\n",
      "This number is more than 10.\n"
     ]
    }
   ],
   "source": [
    "#! /usr/bin/env python\n",
    "#coding:utf-8\n",
    "\n",
    "print(\"请输入任意一个整数数字：\")\n",
    "\n",
    "number = int(input())   #通过raw_input()输入的数字是字符串\n",
    "                            #用int()将该字符串转化为整数\n",
    "\n",
    "if number == 10:\n",
    "    print(\"您输入的数字是：%d\"%number)\n",
    "    print(\"You are SMART.\")\n",
    "elif number > 10:\n",
    "    print(\"您输入的数字是：%d\"%number)\n",
    "    print(\"This number is more than 10.\")\n",
    "elif number < 10:\n",
    "    print(\"您输入的数字是：%d\"%number)\n",
    "    print(\"This number is less than 10.\")\n",
    "else:\n",
    "    print(\"Are you a human?\")"
   ]
  },
  {
   "cell_type": "markdown",
   "metadata": {},
   "source": [
    "这句话以#开头，表示本来不在程序中运行。对Unix系列操作系统而言，这句话的用途是告诉机器寻找到该设备上的python解释器，操作系统使用它找到的解释器来运行文件中的程序代码。有的程序里写的是/usr/bin python，表示python解释器在/usr/bin里面。但是，如果写成/usr/bin/env，则表示要通过系统搜索路径寻找python解释器。不同系统，可能解释器的位置不同，所以这种方式能够让代码更将拥有可移植性。对windows系统，这句话就当不存在。"
   ]
  },
  {
   "cell_type": "code",
   "execution_count": 37,
   "metadata": {},
   "outputs": [
    {
     "data": {
      "text/plain": [
       "'qiwsir'"
      ]
     },
     "execution_count": 37,
     "metadata": {},
     "output_type": "execute_result"
    }
   ],
   "source": [
    "name = \"qiwsir\" if \"laoqi\" else \"github\"\n",
    "name\n",
    "# A = Y if X else Z"
   ]
  },
  {
   "cell_type": "code",
   "execution_count": 41,
   "metadata": {},
   "outputs": [
    {
     "data": {
      "text/plain": [
       "'python'"
      ]
     },
     "execution_count": 41,
     "metadata": {},
     "output_type": "execute_result"
    }
   ],
   "source": [
    "x = 2\n",
    "y = 8\n",
    "a = \"python\" if x<y else \"qiwsir\"\n",
    "a"
   ]
  },
  {
   "cell_type": "code",
   "execution_count": 42,
   "metadata": {},
   "outputs": [
    {
     "name": "stdout",
     "output_type": "stream",
     "text": [
      "i:  w\n",
      "i:  o\n",
      "i:  r\n",
      "i:  l\n",
      "i:  d\n"
     ]
    }
   ],
   "source": [
    "hello = \"world\"\n",
    "for i in hello:\n",
    "    print(\"i: \",i)"
   ]
  },
  {
   "cell_type": "markdown",
   "metadata": {},
   "source": [
    "hello这个变量引用的是\"world\"这个str类型的数据\n",
    "\n",
    "变量 i 通过hello找到它所引用的对象\"world\",因为str类型的数据属于序列类型，能够进行索引，于是就按照索引顺序，从第一字符开始，依次获得该字符的引用。\n",
    "\n",
    "当 i=\"w\"的时候，执行print i，打印出了字母w，结束之后循环第二次，让 i=\"e\"，然后执行print i,打印出字母e，如此循环下去，一直到最后一个字符被打印出来，循环自动结束。注意，每次打印之后，要换行。"
   ]
  },
  {
   "cell_type": "code",
   "execution_count": 45,
   "metadata": {},
   "outputs": [
    {
     "name": "stdout",
     "output_type": "stream",
     "text": [
      "hello:  w\n",
      "hello:  o\n",
      "hello:  r\n",
      "hello:  l\n",
      "hello:  d\n"
     ]
    }
   ],
   "source": [
    "for i in range(len(hello)):\n",
    "    print(\"hello: \", hello[i])"
   ]
  },
  {
   "cell_type": "markdown",
   "metadata": {},
   "source": [
    "len(hello)得到hello引用的字符串的长度，为5\n",
    "\n",
    "range(len(hello),就是range(5),也就是[0, 1, 2, 3, 4],对应这\"world\"每个字母索引，也可以称之为偏移量。这里应用了一个新的函数range()，关于它的用法，继续阅读，就能看到了。\n",
    "\n",
    "for i in range(len(hello)),就相当于for i in [0,1,2,3,4],让i依次等于list中的各个值。当i=0时，打印hello[0]，也就是第一个字符。然后顺序循环下去，直到最后一个i=4为止。"
   ]
  },
  {
   "cell_type": "code",
   "execution_count": 48,
   "metadata": {},
   "outputs": [
    {
     "name": "stdout",
     "output_type": "stream",
     "text": [
      "Hello\n",
      "I am Henry\n",
      "Welcome you\n",
      "\n"
     ]
    }
   ],
   "source": [
    "ls_line = ['Hello', 'I am Henry', 'Welcome you', '']\n",
    "for word in ls_line:\n",
    "    print(word)"
   ]
  },
  {
   "cell_type": "code",
   "execution_count": 50,
   "metadata": {},
   "outputs": [
    {
     "name": "stdout",
     "output_type": "stream",
     "text": [
      "Hello\n",
      "I am Henry\n",
      "Welcome you\n",
      "\n"
     ]
    }
   ],
   "source": [
    "for i in range(len(ls_line)):\n",
    "    print(ls_line[i])"
   ]
  },
  {
   "cell_type": "markdown",
   "metadata": {},
   "source": [
    "内建函数 range\n",
    "\n",
    "range(start,stop[, step])"
   ]
  },
  {
   "cell_type": "code",
   "execution_count": 56,
   "metadata": {},
   "outputs": [
    {
     "data": {
      "text/plain": [
       "[0, 1, 2, 3, 4, 5, 6, 7, 8]"
      ]
     },
     "execution_count": 56,
     "metadata": {},
     "output_type": "execute_result"
    }
   ],
   "source": [
    "list(range(0,9))\n"
   ]
  },
  {
   "cell_type": "code",
   "execution_count": 59,
   "metadata": {},
   "outputs": [
    {
     "data": {
      "text/plain": [
       "[0, 1, 2, 3, 4, 5, 6, 7, 8]"
      ]
     },
     "execution_count": 59,
     "metadata": {},
     "output_type": "execute_result"
    }
   ],
   "source": [
    "list(range(0,9,1))\n"
   ]
  },
  {
   "cell_type": "code",
   "execution_count": 60,
   "metadata": {},
   "outputs": [
    {
     "data": {
      "text/plain": [
       "[0, 2, 4, 6, 8]"
      ]
     },
     "execution_count": 60,
     "metadata": {},
     "output_type": "execute_result"
    }
   ],
   "source": [
    "list(range(0,9,2))"
   ]
  },
  {
   "cell_type": "code",
   "execution_count": 61,
   "metadata": {},
   "outputs": [
    {
     "data": {
      "text/plain": [
       "[0, -1, -2, -3, -4, -5, -6, -7, -8]"
      ]
     },
     "execution_count": 61,
     "metadata": {},
     "output_type": "execute_result"
    }
   ],
   "source": [
    "list(range(0,-9,-1))"
   ]
  },
  {
   "cell_type": "code",
   "execution_count": 62,
   "metadata": {},
   "outputs": [
    {
     "data": {
      "text/plain": [
       "[0, 1, 2, 3, 4, 5, 6, 7, 8, 9]"
      ]
     },
     "execution_count": 62,
     "metadata": {},
     "output_type": "execute_result"
    }
   ],
   "source": [
    "pythoner = ['I', 'am', 'a', 'pythoner', 'I', 'am', 'learning', 'it', 'with', 'qiwsir']\n",
    "py_index = list(range(len(pythoner)))\n",
    "py_index"
   ]
  },
  {
   "cell_type": "code",
   "execution_count": 63,
   "metadata": {},
   "outputs": [
    {
     "name": "stdout",
     "output_type": "stream",
     "text": [
      "[3, 6, 9, 12, 15, 18, 21, 24, 27, 30, 33, 36, 39, 42, 45, 48, 51, 54, 57, 60, 63, 66, 69, 72, 75, 78, 81, 84, 87, 90, 93, 96, 99]\n"
     ]
    }
   ],
   "source": [
    "#! /usr/bin/env python\n",
    "#coding:utf-8\n",
    "\n",
    "aliquot = []\n",
    "\n",
    "for n in range(1,100):\n",
    "    if n%3 == 0:\n",
    "        aliquot.append(n)\n",
    "print(aliquot)"
   ]
  },
  {
   "cell_type": "code",
   "execution_count": 64,
   "metadata": {},
   "outputs": [
    {
     "data": {
      "text/plain": [
       "[3,\n",
       " 6,\n",
       " 9,\n",
       " 12,\n",
       " 15,\n",
       " 18,\n",
       " 21,\n",
       " 24,\n",
       " 27,\n",
       " 30,\n",
       " 33,\n",
       " 36,\n",
       " 39,\n",
       " 42,\n",
       " 45,\n",
       " 48,\n",
       " 51,\n",
       " 54,\n",
       " 57,\n",
       " 60,\n",
       " 63,\n",
       " 66,\n",
       " 69,\n",
       " 72,\n",
       " 75,\n",
       " 78,\n",
       " 81,\n",
       " 84,\n",
       " 87,\n",
       " 90,\n",
       " 93,\n",
       " 96,\n",
       " 99]"
      ]
     },
     "execution_count": 64,
     "metadata": {},
     "output_type": "execute_result"
    }
   ],
   "source": [
    "list(range(3,100,3))"
   ]
  },
  {
   "cell_type": "markdown",
   "metadata": {},
   "source": [
    "所有的序列类型对象，都能够用for来循环"
   ]
  },
  {
   "cell_type": "code",
   "execution_count": 65,
   "metadata": {},
   "outputs": [
    {
     "name": "stdout",
     "output_type": "stream",
     "text": [
      "q\n",
      "i\n",
      "w\n",
      "s\n",
      "i\n",
      "r\n"
     ]
    }
   ],
   "source": [
    "name_str = \"qiwsir\"\n",
    "for i in name_str:\n",
    "    print(i)"
   ]
  },
  {
   "cell_type": "code",
   "execution_count": 68,
   "metadata": {},
   "outputs": [
    {
     "name": "stdout",
     "output_type": "stream",
     "text": [
      "q\n",
      "i\n",
      "w\n",
      "s\n",
      "i\n",
      "r\n"
     ]
    }
   ],
   "source": [
    "name_list = list(name_str)\n",
    "for i in name_list:\n",
    "    print(i)"
   ]
  },
  {
   "cell_type": "code",
   "execution_count": 69,
   "metadata": {},
   "outputs": [
    {
     "name": "stdout",
     "output_type": "stream",
     "text": [
      "r\n",
      "s\n",
      "q\n",
      "w\n",
      "i\n"
     ]
    }
   ],
   "source": [
    "name_set = set(name_str)\n",
    "for i in name_set:\n",
    "    print(i)"
   ]
  },
  {
   "cell_type": "code",
   "execution_count": 70,
   "metadata": {},
   "outputs": [
    {
     "name": "stdout",
     "output_type": "stream",
     "text": [
      "q\n",
      "i\n",
      "w\n",
      "s\n",
      "i\n",
      "r\n"
     ]
    }
   ],
   "source": [
    "name_tuple = tuple(name_str)\n",
    "for i in name_tuple:\n",
    "    print(i)"
   ]
  },
  {
   "cell_type": "code",
   "execution_count": 71,
   "metadata": {},
   "outputs": [
    {
     "name": "stdout",
     "output_type": "stream",
     "text": [
      "name --> qiwsir\n",
      "lang --> python\n",
      "website --> qiwsir.github.io\n"
     ]
    }
   ],
   "source": [
    "name_dict={\"name\":\"qiwsir\",\"lang\":\"python\",\"website\":\"qiwsir.github.io\"}\n",
    "for i in name_dict:\n",
    "    print(i,\"-->\",name_dict[i])"
   ]
  },
  {
   "cell_type": "code",
   "execution_count": 73,
   "metadata": {},
   "outputs": [
    {
     "name": "stdout",
     "output_type": "stream",
     "text": [
      "name qiwsir\n",
      "lang python\n",
      "website qiwsir.github.io\n"
     ]
    }
   ],
   "source": [
    "for k,v in name_dict.items():\n",
    "    print(k,v)"
   ]
  },
  {
   "cell_type": "code",
   "execution_count": 74,
   "metadata": {},
   "outputs": [
    {
     "name": "stdout",
     "output_type": "stream",
     "text": [
      "name qiwsir\n",
      "lang python\n",
      "website qiwsir.github.io\n"
     ]
    }
   ],
   "source": [
    "for k in name_dict.keys():   # 效率较低不提倡\n",
    "    print(k,name_dict[k])"
   ]
  },
  {
   "cell_type": "code",
   "execution_count": 77,
   "metadata": {},
   "outputs": [
    {
     "name": "stdout",
     "output_type": "stream",
     "text": [
      "qiwsir\n",
      "python\n",
      "qiwsir.github.io\n"
     ]
    }
   ],
   "source": [
    "for v in name_dict.values():  # 单独取values\n",
    "    print(v)"
   ]
  },
  {
   "cell_type": "markdown",
   "metadata": {},
   "source": [
    "并行迭代\n",
    "\n",
    "用内建函数zip()"
   ]
  },
  {
   "cell_type": "code",
   "execution_count": 80,
   "metadata": {},
   "outputs": [
    {
     "data": {
      "text/plain": [
       "<zip at 0x7f2ee01e0148>"
      ]
     },
     "execution_count": 80,
     "metadata": {},
     "output_type": "execute_result"
    }
   ],
   "source": [
    "a = \"qiwsir\"\n",
    "\n",
    "b = \"github\"\n",
    "\n",
    "zipped = zip(a,b)\n",
    "zipped"
   ]
  },
  {
   "cell_type": "code",
   "execution_count": 81,
   "metadata": {},
   "outputs": [
    {
     "data": {
      "text/plain": [
       "[('q', 'g'), ('i', 'i'), ('w', 't'), ('s', 'h'), ('i', 'u'), ('r', 'b')]"
      ]
     },
     "execution_count": 81,
     "metadata": {},
     "output_type": "execute_result"
    }
   ],
   "source": [
    "list(zipped)"
   ]
  },
  {
   "cell_type": "markdown",
   "metadata": {},
   "source": [
    "如果序列长度不同，那么就以\"the length of the shortest argument sequence\"为准"
   ]
  },
  {
   "cell_type": "code",
   "execution_count": 90,
   "metadata": {},
   "outputs": [
    {
     "data": {
      "text/plain": [
       "[(1, 9), (2, 8), (3, 7)]"
      ]
     },
     "execution_count": 90,
     "metadata": {},
     "output_type": "execute_result"
    }
   ],
   "source": [
    "c = [1,2,3]\n",
    "d = [9,8,7,6]\n",
    "list(zip(c,d))"
   ]
  },
  {
   "cell_type": "code",
   "execution_count": 91,
   "metadata": {},
   "outputs": [
    {
     "data": {
      "text/plain": [
       "[('name', 'lang')]"
      ]
     },
     "execution_count": 91,
     "metadata": {},
     "output_type": "execute_result"
    }
   ],
   "source": [
    "s = {\"name\":\"qiwsir\"}\n",
    "t = {\"lang\":\"python\"}\n",
    "list(zip(s,t))"
   ]
  },
  {
   "cell_type": "markdown",
   "metadata": {},
   "source": [
    "zip是一个内置函数，它的参数必须是某种序列数据类型，如果是字典，那么键视为序列。然后将序列对应的元素依次组成元组，做为一个list的元素。"
   ]
  },
  {
   "cell_type": "code",
   "execution_count": 92,
   "metadata": {},
   "outputs": [
    {
     "data": {
      "text/plain": [
       "[10, 10, 10]"
      ]
     },
     "execution_count": 92,
     "metadata": {},
     "output_type": "execute_result"
    }
   ],
   "source": [
    "sum_zip = []\n",
    "for x,y in zip(c,d):\n",
    "    sum_zip.append(x+y)\n",
    "sum_zip"
   ]
  },
  {
   "cell_type": "code",
   "execution_count": 95,
   "metadata": {},
   "outputs": [
    {
     "data": {
      "text/plain": [
       "['q:g', 'i:i', 'w:t', 's:h', 'i:u', 'r:b']"
      ]
     },
     "execution_count": 95,
     "metadata": {},
     "output_type": "execute_result"
    }
   ],
   "source": [
    "str_add = []\n",
    "for x,y in zip(a,b):\n",
    "    str_add.append(str(x)+':'+ y)\n",
    "str_add"
   ]
  },
  {
   "cell_type": "code",
   "execution_count": 98,
   "metadata": {},
   "outputs": [
    {
     "data": {
      "text/plain": [
       "[(2, 4, 6, 8), (11, 13, 15, 17)]"
      ]
     },
     "execution_count": 98,
     "metadata": {},
     "output_type": "execute_result"
    }
   ],
   "source": [
    "result = [(2, 11), (4, 13), (6, 15), (8, 17)]\n",
    "zipped = list(zip(*result))\n",
    "zipped"
   ]
  },
  {
   "cell_type": "code",
   "execution_count": 100,
   "metadata": {},
   "outputs": [
    {
     "data": {
      "text/plain": [
       "{'qiwsir': 'name', 'qiwsir.github.io': 'site', 'python': 'lang'}"
      ]
     },
     "execution_count": 100,
     "metadata": {},
     "output_type": "execute_result"
    }
   ],
   "source": [
    "myinfor = {\"name\":\"qiwsir\",\"site\":\"qiwsir.github.io\",\"lang\":\"python\"}\n",
    "infor = {}\n",
    "for k,v in myinfor.items():\n",
    "    infor[v]=k\n",
    "infor"
   ]
  },
  {
   "cell_type": "code",
   "execution_count": 101,
   "metadata": {},
   "outputs": [
    {
     "data": {
      "text/plain": [
       "{'qiwsir': 'name', 'qiwsir.github.io': 'site', 'python': 'lang'}"
      ]
     },
     "execution_count": 101,
     "metadata": {},
     "output_type": "execute_result"
    }
   ],
   "source": [
    "infor = dict(zip(myinfor.values(),myinfor.keys()))\n",
    "infor"
   ]
  },
  {
   "cell_type": "code",
   "execution_count": 104,
   "metadata": {},
   "outputs": [
    {
     "data": {
      "text/plain": [
       "dict_values(['qiwsir', 'qiwsir.github.io', 'python'])"
      ]
     },
     "execution_count": 104,
     "metadata": {},
     "output_type": "execute_result"
    }
   ],
   "source": [
    "# 拆解分析\n",
    "myinfor.values()"
   ]
  },
  {
   "cell_type": "code",
   "execution_count": 105,
   "metadata": {},
   "outputs": [
    {
     "data": {
      "text/plain": [
       "dict_keys(['name', 'site', 'lang'])"
      ]
     },
     "execution_count": 105,
     "metadata": {},
     "output_type": "execute_result"
    }
   ],
   "source": [
    "myinfor.keys()"
   ]
  },
  {
   "cell_type": "code",
   "execution_count": 106,
   "metadata": {},
   "outputs": [
    {
     "data": {
      "text/plain": [
       "[('qiwsir', 'name'), ('qiwsir.github.io', 'site'), ('python', 'lang')]"
      ]
     },
     "execution_count": 106,
     "metadata": {},
     "output_type": "execute_result"
    }
   ],
   "source": [
    "temp = list(zip(myinfor.values(),myinfor.keys()))\n",
    "temp"
   ]
  },
  {
   "cell_type": "code",
   "execution_count": 107,
   "metadata": {},
   "outputs": [
    {
     "data": {
      "text/plain": [
       "{'qiwsir': 'name', 'qiwsir.github.io': 'site', 'python': 'lang'}"
      ]
     },
     "execution_count": 107,
     "metadata": {},
     "output_type": "execute_result"
    }
   ],
   "source": [
    "dict(temp)"
   ]
  },
  {
   "cell_type": "markdown",
   "metadata": {},
   "source": [
    "内置函数enumerate ，同时得到元素索引和元素"
   ]
  },
  {
   "cell_type": "code",
   "execution_count": 108,
   "metadata": {},
   "outputs": [
    {
     "data": {
      "text/plain": [
       "[(0, 'Spring'), (1, 'Summer'), (2, 'Fall'), (3, 'Winter')]"
      ]
     },
     "execution_count": 108,
     "metadata": {},
     "output_type": "execute_result"
    }
   ],
   "source": [
    "seasons = ['Spring', 'Summer', 'Fall', 'Winter']\n",
    "list(enumerate(seasons))"
   ]
  },
  {
   "cell_type": "code",
   "execution_count": 109,
   "metadata": {},
   "outputs": [
    {
     "data": {
      "text/plain": [
       "[(1, 'Spring'), (2, 'Summer'), (3, 'Fall'), (4, 'Winter')]"
      ]
     },
     "execution_count": 109,
     "metadata": {},
     "output_type": "execute_result"
    }
   ],
   "source": [
    "list(enumerate(seasons, start=1))"
   ]
  },
  {
   "cell_type": "code",
   "execution_count": 110,
   "metadata": {},
   "outputs": [
    {
     "data": {
      "text/plain": [
       "[(0, 'D'),\n",
       " (1, 'o'),\n",
       " (2, ' '),\n",
       " (3, 'y'),\n",
       " (4, 'o'),\n",
       " (5, 'u'),\n",
       " (6, ' '),\n",
       " (7, 'l'),\n",
       " (8, 'o'),\n",
       " (9, 'v'),\n",
       " (10, 'e'),\n",
       " (11, ' '),\n",
       " (12, 'C'),\n",
       " (13, 'a'),\n",
       " (14, 'n'),\n",
       " (15, 'g'),\n",
       " (16, 'l'),\n",
       " (17, 'a'),\n",
       " (18, 'o'),\n",
       " (19, 's'),\n",
       " (20, 'h'),\n",
       " (21, 'i'),\n",
       " (22, '?'),\n",
       " (23, ' '),\n",
       " (24, 'C'),\n",
       " (25, 'a'),\n",
       " (26, 'n'),\n",
       " (27, 'g'),\n",
       " (28, 'l'),\n",
       " (29, 'a'),\n",
       " (30, 'o'),\n",
       " (31, 's'),\n",
       " (32, 'h'),\n",
       " (33, 'i'),\n",
       " (34, ' '),\n",
       " (35, 'i'),\n",
       " (36, 's'),\n",
       " (37, ' '),\n",
       " (38, 'a'),\n",
       " (39, ' '),\n",
       " (40, 'g'),\n",
       " (41, 'o'),\n",
       " (42, 'o'),\n",
       " (43, 'd'),\n",
       " (44, ' '),\n",
       " (45, 't'),\n",
       " (46, 'e'),\n",
       " (47, 'a'),\n",
       " (48, 'c'),\n",
       " (49, 'h'),\n",
       " (50, 'e'),\n",
       " (51, 'r'),\n",
       " (52, '.')]"
      ]
     },
     "execution_count": 110,
     "metadata": {},
     "output_type": "execute_result"
    }
   ],
   "source": [
    "raw = \"Do you love Canglaoshi? Canglaoshi is a good teacher.\"\n",
    "list(enumerate(raw))"
   ]
  },
  {
   "cell_type": "code",
   "execution_count": 112,
   "metadata": {},
   "outputs": [
    {
     "data": {
      "text/plain": [
       "['Do',\n",
       " 'you',\n",
       " 'love',\n",
       " 'Canglaoshi?',\n",
       " 'Canglaoshi',\n",
       " 'is',\n",
       " 'a',\n",
       " 'good',\n",
       " 'teacher.']"
      ]
     },
     "execution_count": 112,
     "metadata": {},
     "output_type": "execute_result"
    }
   ],
   "source": [
    "raw_lst = raw.split(\" \")\n",
    "raw_lst"
   ]
  },
  {
   "cell_type": "code",
   "execution_count": 114,
   "metadata": {},
   "outputs": [
    {
     "data": {
      "text/plain": [
       "['Do', 'you', 'love', 'PHP', 'PHP', 'is', 'a', 'good', 'teacher.']"
      ]
     },
     "execution_count": 114,
     "metadata": {},
     "output_type": "execute_result"
    }
   ],
   "source": [
    "for i, string in enumerate(raw_lst):\n",
    "    if string == \"Canglaoshi\":\n",
    "        raw_lst[i] = \"PHP\"\n",
    "raw_lst"
   ]
  },
  {
   "cell_type": "code",
   "execution_count": 115,
   "metadata": {},
   "outputs": [
    {
     "data": {
      "text/plain": [
       "['Do', 'you', 'love', 'PHP', 'PHP', 'is', 'a', 'good', 'teacher.']"
      ]
     },
     "execution_count": 115,
     "metadata": {},
     "output_type": "execute_result"
    }
   ],
   "source": [
    "for i, string in enumerate(raw_lst):\n",
    "    if \"Canglaoshi\" in string:\n",
    "        raw_lst[i] = \"PHP\"\n",
    "raw_lst"
   ]
  },
  {
   "cell_type": "markdown",
   "metadata": {},
   "source": [
    "list 解析"
   ]
  },
  {
   "cell_type": "code",
   "execution_count": 116,
   "metadata": {},
   "outputs": [
    {
     "data": {
      "text/plain": [
       "[1, 4, 9, 16, 25, 36, 49, 64, 81]"
      ]
     },
     "execution_count": 116,
     "metadata": {},
     "output_type": "execute_result"
    }
   ],
   "source": [
    "power2 = []\n",
    "for i in range(1,10):\n",
    "    power2.append(i*i)\n",
    "power2"
   ]
  },
  {
   "cell_type": "code",
   "execution_count": 117,
   "metadata": {},
   "outputs": [
    {
     "data": {
      "text/plain": [
       "[1, 4, 9, 16, 25, 36, 49, 64, 81]"
      ]
     },
     "execution_count": 117,
     "metadata": {},
     "output_type": "execute_result"
    }
   ],
   "source": [
    "squares = [x**2 for x in range(1,10)]\n",
    "squares"
   ]
  },
  {
   "cell_type": "code",
   "execution_count": 119,
   "metadata": {},
   "outputs": [
    {
     "data": {
      "text/plain": [
       "['glass', 'apple', 'green leaf']"
      ]
     },
     "execution_count": 119,
     "metadata": {},
     "output_type": "execute_result"
    }
   ],
   "source": [
    "mybag = [' glass',' apple','green leaf ']\n",
    "[one.strip() for one in mybag]\n",
    "# #去掉元素前后的空格"
   ]
  },
  {
   "cell_type": "markdown",
   "metadata": {},
   "source": [
    "while 当...时候”这个条件成立在一段范围或者时间间隔内，从而在这段时间间隔内让python做好多事情。"
   ]
  },
  {
   "cell_type": "code",
   "execution_count": 123,
   "metadata": {},
   "outputs": [
    {
     "name": "stdout",
     "output_type": "stream",
     "text": [
      "********************************\n",
      "请您输入0到9任一个数：2\n",
      "type num <class 'int'>\n",
      "您猜小了!\n",
      "哈哈,正确答案是:3\n",
      "您还有3次机会！\n",
      "********************************\n",
      "********************************\n",
      "请您输入0到9任一个数：3\n",
      "type num <class 'int'>\n",
      "您猜小了!\n",
      "哈哈,正确答案是:8\n",
      "您还有2次机会！\n",
      "********************************\n",
      "********************************\n",
      "请您输入0到9任一个数：2\n",
      "type num <class 'int'>\n",
      "您猜小了!\n",
      "哈哈,正确答案是:6\n",
      "您还有1次机会！\n",
      "********************************\n",
      "********************************\n",
      "请您输入0到9任一个数：2\n",
      "type num <class 'int'>\n",
      "您猜小了!\n",
      "哈哈,正确答案是:3\n",
      "您还有0次机会！\n",
      "********************************\n"
     ]
    }
   ],
   "source": [
    "#! /usr/bin/env python\n",
    "#coding:UTF-8\n",
    "\n",
    "import random\n",
    "\n",
    "i=0\n",
    "while i < 4:\n",
    "    print('********************************')\n",
    "    num = int(input('请您输入0到9任一个数：'))       #李同学用的是python3\n",
    "\n",
    "    xnum = random.randint(0,9)\n",
    "\n",
    "    x = 3 - i\n",
    "\n",
    "    # print(\"type num\",type(num))\n",
    "    if num == xnum:\n",
    "        print('运气真好，您猜对了！')\n",
    "        break\n",
    "    elif num > xnum:\n",
    "        print('''您猜大了!\\n哈哈,正确答案是:%s\\n您还有%s次机会！''' %(xnum,x))\n",
    "    elif num < xnum:\n",
    "        print('''您猜小了!\\n哈哈,正确答案是:%s\\n您还有%s次机会！''' %(xnum,x))\n",
    "    print('********************************')\n",
    "\n",
    "    i += 1"
   ]
  },
  {
   "cell_type": "code",
   "execution_count": 125,
   "metadata": {},
   "outputs": [
    {
     "name": "stdout",
     "output_type": "stream",
     "text": [
      "27\n",
      "please input one integer that is in 1 to 100:27\n",
      "OK, you are good.It is only 1, then you successed.\n"
     ]
    }
   ],
   "source": [
    "#!/usr/bin/env python\n",
    "#coding:utf-8\n",
    "\n",
    "import random\n",
    "\n",
    "number = random.randint(1,101)\n",
    "# print(number)\n",
    "\n",
    "guess = 0\n",
    "\n",
    "while True:\n",
    "\n",
    "    num_input = input(\"please input one integer that is in 1 to 100:\")\n",
    "    guess += 1\n",
    "\n",
    "    if not num_input.isdigit():\n",
    "        print(\"Please input interger.\")\n",
    "    elif int(num_input) < 0 or int(num_input) >= 100:\n",
    "        print(\"The number should be in 1 to 100.\")\n",
    "    else:\n",
    "        if number == int(num_input):\n",
    "            print(\"OK, you are good.It is only %d, then you successed.\" % guess)\n",
    "            break\n",
    "        elif number > int(num_input):\n",
    "            print(\"your number is more less.\")\n",
    "        elif number < int(num_input):\n",
    "            print(\"your number is bigger.\")\n",
    "        else:\n",
    "            print(\"There is something bad, I will not work\")\n"
   ]
  },
  {
   "cell_type": "markdown",
   "metadata": {},
   "source": [
    "break 其含义就是要在这个地方中断循环，跳出循环体。"
   ]
  },
  {
   "cell_type": "code",
   "execution_count": 126,
   "metadata": {},
   "outputs": [
    {
     "name": "stdout",
     "output_type": "stream",
     "text": [
      "8 is even number\n"
     ]
    }
   ],
   "source": [
    "#!/usr/bin/env python\n",
    "#coding:utf-8\n",
    "\n",
    "a = 8\n",
    "while a:\n",
    "    if a%2 == 0:\n",
    "        break\n",
    "    else:\n",
    "        print(\"%d is odd number\"%a)\n",
    "        a = 0 \n",
    "print(\"%d is even number\"%a)\n"
   ]
  },
  {
   "cell_type": "markdown",
   "metadata": {},
   "source": [
    "continue则是要从当前位置（即continue所在的位置）跳到循环体的最后一行的后面（不执行最后一行），对一个循环体来讲，就如同首尾衔接一样，最后一行的后面是哪里呢？当然是开始了"
   ]
  },
  {
   "cell_type": "code",
   "execution_count": 127,
   "metadata": {},
   "outputs": [
    {
     "name": "stdout",
     "output_type": "stream",
     "text": [
      "9 is odd number\n",
      "7 is odd number\n",
      "5 is odd number\n",
      "3 is odd number\n",
      "1 is odd number\n"
     ]
    }
   ],
   "source": [
    "#!/usr/bin/env python\n",
    "#coding:utf-8\n",
    "\n",
    "a = 9\n",
    "while a:\n",
    "    if a%2==0:\n",
    "        a -=1\n",
    "        continue    #如果是偶数，就返回循环的开始\n",
    "    else:\n",
    "        print(\"%d is odd number\"%a) #如果是奇数，就打印出来\n",
    "        a -=1"
   ]
  },
  {
   "cell_type": "code",
   "execution_count": 128,
   "metadata": {},
   "outputs": [
    {
     "name": "stdout",
     "output_type": "stream",
     "text": [
      "0  is  less than 5\n",
      "1  is  less than 5\n",
      "2  is  less than 5\n",
      "3  is  less than 5\n",
      "4  is  less than 5\n",
      "5  is not less than 5\n"
     ]
    }
   ],
   "source": [
    "#!/usr/bin/env python\n",
    "\n",
    "count = 0\n",
    "while count < 5:\n",
    "    print(count, \" is  less than 5\")\n",
    "    count = count + 1\n",
    "else:\n",
    "    print(count, \" is not less than 5\")"
   ]
  },
  {
   "cell_type": "code",
   "execution_count": 129,
   "metadata": {},
   "outputs": [
    {
     "name": "stdout",
     "output_type": "stream",
     "text": [
      "81\n"
     ]
    }
   ],
   "source": [
    "#!/usr/bin/env python\n",
    "# coding=utf-8\n",
    "\n",
    "from math import sqrt\n",
    "\n",
    "for n in range(99, 1, -1):\n",
    "    root = sqrt(n)\n",
    "    if root == int(root):\n",
    "        print(n)\n",
    "        break\n",
    "\n",
    "else:\n",
    "    print(\"Nothing.\")\n"
   ]
  },
  {
   "cell_type": "code",
   "execution_count": 130,
   "metadata": {},
   "outputs": [
    {
     "name": "stdout",
     "output_type": "stream",
     "text": [
      "Nothing.\n"
     ]
    }
   ],
   "source": [
    "#!/usr/bin/env python\n",
    "# coding=utf-8\n",
    "\n",
    "from math import sqrt\n",
    "\n",
    "for n in range(99, 81, -1):\n",
    "    root = sqrt(n)\n",
    "    if root == int(root):\n",
    "        print(n)\n",
    "        break\n",
    "\n",
    "else:\n",
    "    print(\"Nothing.\")\n"
   ]
  },
  {
   "cell_type": "markdown",
   "metadata": {},
   "source": [
    "# 文件 Files\n",
    "\n",
    "文件无非也是一种类型的数据。"
   ]
  },
  {
   "cell_type": "code",
   "execution_count": 132,
   "metadata": {},
   "outputs": [
    {
     "data": {
      "text/plain": [
       "['__call__',\n",
       " '__class__',\n",
       " '__delattr__',\n",
       " '__dir__',\n",
       " '__doc__',\n",
       " '__eq__',\n",
       " '__format__',\n",
       " '__ge__',\n",
       " '__getattribute__',\n",
       " '__gt__',\n",
       " '__hash__',\n",
       " '__init__',\n",
       " '__init_subclass__',\n",
       " '__le__',\n",
       " '__lt__',\n",
       " '__module__',\n",
       " '__name__',\n",
       " '__ne__',\n",
       " '__new__',\n",
       " '__qualname__',\n",
       " '__reduce__',\n",
       " '__reduce_ex__',\n",
       " '__repr__',\n",
       " '__self__',\n",
       " '__setattr__',\n",
       " '__sizeof__',\n",
       " '__str__',\n",
       " '__subclasshook__',\n",
       " '__text_signature__']"
      ]
     },
     "execution_count": 132,
     "metadata": {},
     "output_type": "execute_result"
    }
   ],
   "source": [
    "dir(open)"
   ]
  },
  {
   "cell_type": "code",
   "execution_count": 133,
   "metadata": {},
   "outputs": [
    {
     "name": "stdout",
     "output_type": "stream",
     "text": [
      "learn python\n",
      "\n",
      "http://qiwsir.github.io\n",
      "\n",
      "qiwsir@gmail.com\n",
      "\n"
     ]
    }
   ],
   "source": [
    "f = open(\"130.txt\")\n",
    "for line in f:\n",
    "    print(line)"
   ]
  },
  {
   "cell_type": "markdown",
   "metadata": {},
   "source": [
    "这个文件130.txt是在当前文件夹内的。如果要打开其它文件夹内的文件，请用相对路径或者绝对路径来表示，从而让python能够找到那个文件。\n",
    "\n",
    "将打开的文件，赋值给变量f，这样也就是变量f跟对象文件130.txt用线连起来了（对象引用），本质上跟前面所讲述的其它类型数据进行赋值是一样的。\n",
    "\n",
    "接下来，用for来读取文件中的内容，就如同读取一个前面已经学过的序列对象一样，如list、str、tuple，把读到的文件中的每行，赋值给变量line。也可以理解为，for循环是一行一行地读取文件内容。每次扫描一行，遇到行结束符号\\n表示本行结束，然后是下一行。\n",
    "\n",
    "从打印的结果看出，每一行跟前面看到的文件内容中的每一行是一样的。只是行与行之间多了一空行，前面显示文章内容的时候，没有这个空行。或许这无关紧要，但是，还要深究一下，才能豁然。\n",
    "\n",
    "在原文中，每行结束有本行结束符号\\n，表示换行。在for语句汇总，print line表示每次打印完line的对象之后，就换行，也就是打印完line的对象之后会增加一个\\n。这样看来，在每行末尾就有两个\\n，即：\\n\\n，于是在打印中就出现了一个空行。"
   ]
  },
  {
   "cell_type": "code",
   "execution_count": 138,
   "metadata": {},
   "outputs": [],
   "source": [
    "for line2 in f:\n",
    "    print(line2)"
   ]
  },
  {
   "cell_type": "markdown",
   "metadata": {},
   "source": [
    "因为前一次已经读取了文件内容，并且到了文件的末尾了。再重复操作，就是从末尾开始继续读了。当然显示不了什么东西"
   ]
  },
  {
   "cell_type": "code",
   "execution_count": 139,
   "metadata": {},
   "outputs": [
    {
     "name": "stdout",
     "output_type": "stream",
     "text": [
      "learn python\n",
      "\n",
      "http://qiwsir.github.io\n",
      "\n",
      "qiwsir@gmail.com\n",
      "\n"
     ]
    }
   ],
   "source": [
    "path = './130.txt'\n",
    "f = open(path)\n",
    "for line in f:\n",
    "    print(line)"
   ]
  },
  {
   "cell_type": "code",
   "execution_count": 142,
   "metadata": {},
   "outputs": [
    {
     "data": {
      "text/plain": [
       "14"
      ]
     },
     "execution_count": 142,
     "metadata": {},
     "output_type": "execute_result"
    }
   ],
   "source": [
    "nf = open(\"131.txt\",\"w\")\n",
    "nf.write(\"This is a file\")"
   ]
  },
  {
   "cell_type": "code",
   "execution_count": 143,
   "metadata": {},
   "outputs": [
    {
     "data": {
      "text/plain": [
       "<_io.TextIOWrapper name='131.txt' mode='r' encoding='UTF-8'>"
      ]
     },
     "execution_count": 143,
     "metadata": {},
     "output_type": "execute_result"
    }
   ],
   "source": [
    "f = open(\"131.txt\",\"r\")\n",
    "f"
   ]
  },
  {
   "cell_type": "markdown",
   "metadata": {},
   "source": [
    "可以用这种方式查看当前打开的文件是采用什么模式的\n",
    "\n",
    "\"w\":以写方式打开文件，可向文件写入信息。如文件存在，则清空该文件，再写入新内容"
   ]
  },
  {
   "cell_type": "code",
   "execution_count": 144,
   "metadata": {},
   "outputs": [
    {
     "name": "stdout",
     "output_type": "stream",
     "text": [
      "This is a file\n"
     ]
    }
   ],
   "source": [
    "fp = open(\"131.txt\")\n",
    "for line in fp:\n",
    "    print(line)"
   ]
  },
  {
   "cell_type": "code",
   "execution_count": 145,
   "metadata": {},
   "outputs": [],
   "source": [
    "fp = open(\"131.txt\",\"w\")\n",
    "fp.write(\"My name is qiwsir.\\nMy website is qiwsir.github.io\")\n",
    "fp.close()"
   ]
  },
  {
   "cell_type": "code",
   "execution_count": 146,
   "metadata": {},
   "outputs": [
    {
     "name": "stdout",
     "output_type": "stream",
     "text": [
      "My name is qiwsir.\r\n",
      "My website is qiwsir.github.io"
     ]
    }
   ],
   "source": [
    "cat 131.txt"
   ]
  },
  {
   "cell_type": "markdown",
   "metadata": {},
   "source": [
    "\"a\":以追加模式打开文件（即一打开文件，文件指针自动移到文件末尾），如果文件不存在则创建"
   ]
  },
  {
   "cell_type": "code",
   "execution_count": 147,
   "metadata": {},
   "outputs": [],
   "source": [
    "fp = open(\"131.txt\",\"a\")\n",
    "fp.write(\"\\n Aha, I like program\\n\")\n",
    "fp.close()"
   ]
  },
  {
   "cell_type": "code",
   "execution_count": 148,
   "metadata": {},
   "outputs": [
    {
     "name": "stdout",
     "output_type": "stream",
     "text": [
      "My name is qiwsir.\r\n",
      "My website is qiwsir.github.io\r\n",
      " Aha, I like program\r\n"
     ]
    }
   ],
   "source": [
    "cat 131.txt"
   ]
  },
  {
   "cell_type": "markdown",
   "metadata": {},
   "source": [
    "在对文件进行写入操作之后，一定要牢记一个事情：file.close()\n",
    "\n",
    "有另外一种使用with方法，能够不用这么让人揪心，实现安全地关闭文件。"
   ]
  },
  {
   "cell_type": "code",
   "execution_count": 150,
   "metadata": {},
   "outputs": [],
   "source": [
    "with open(\"130.txt\",\"a\") as f:\n",
    "    f.write(\"\\nThis is about 'with...as...'\")\n"
   ]
  },
  {
   "cell_type": "code",
   "execution_count": 152,
   "metadata": {},
   "outputs": [
    {
     "name": "stdout",
     "output_type": "stream",
     "text": [
      "learn python\n",
      "http://qiwsir.github.io\n",
      "qiwsir@gmail.com\n",
      "\n",
      "This is about 'with...as...'\n"
     ]
    }
   ],
   "source": [
    "with open(\"130.txt\",\"r\") as f:\n",
    "    print(f.read())"
   ]
  },
  {
   "cell_type": "markdown",
   "metadata": {},
   "source": [
    "查看文件状态"
   ]
  },
  {
   "cell_type": "code",
   "execution_count": 153,
   "metadata": {},
   "outputs": [
    {
     "data": {
      "text/plain": [
       "os.stat_result(st_mode=33279, st_ino=40304, st_dev=2067, st_nlink=1, st_uid=1000, st_gid=1000, st_size=71, st_atime=1579687268, st_mtime=1579687334, st_ctime=1579687334)"
      ]
     },
     "execution_count": 153,
     "metadata": {},
     "output_type": "execute_result"
    }
   ],
   "source": [
    "import os\n",
    "file_stat = os.stat(\"131.txt\")\n",
    "file_stat"
   ]
  },
  {
   "cell_type": "code",
   "execution_count": 154,
   "metadata": {},
   "outputs": [
    {
     "data": {
      "text/plain": [
       "1579687334.970632"
      ]
     },
     "execution_count": 154,
     "metadata": {},
     "output_type": "execute_result"
    }
   ],
   "source": [
    "file_stat.st_ctime   # 文件创建时间"
   ]
  },
  {
   "cell_type": "code",
   "execution_count": 155,
   "metadata": {},
   "outputs": [
    {
     "data": {
      "text/plain": [
       "time.struct_time(tm_year=2020, tm_mon=1, tm_mday=22, tm_hour=18, tm_min=2, tm_sec=14, tm_wday=2, tm_yday=22, tm_isdst=0)"
      ]
     },
     "execution_count": 155,
     "metadata": {},
     "output_type": "execute_result"
    }
   ],
   "source": [
    "import time        \n",
    "time.localtime(file_stat.st_ctime)  # 查看时间"
   ]
  },
  {
   "cell_type": "markdown",
   "metadata": {},
   "source": [
    "* read：如果指定了参数size，就按照该指定长度从文件中读取内容，否则，就读取全文。被读出来的内容，全部塞到一个字符串里面。这样有好处，就是东西都到内存里面了，随时取用，比较快捷；“成也萧何败萧何”，也是因为这点，如果文件内容太多了，内存会吃不消的。文档中已经提醒注意在“non-blocking”模式下的问题，关于这个问题，不是本节的重点，暂时不讨论。\n",
    "\n",
    "* readline：那个可选参数size的含义同上。它则是以行为单位返回字符串，也就是每次读一行，依次循环，如果不限定size，直到最后一个返回的是空字符串，意味着到文件末尾了(EOF)。\n",
    "\n",
    "* readlines：size同上。它返回的是以行为单位的列表，即相当于先执行readline()，得到每一行，然后把这一行的字符串作为列表中的元素塞到一个列表中，最后将此列表返回。\n"
   ]
  },
  {
   "cell_type": "code",
   "execution_count": 160,
   "metadata": {},
   "outputs": [
    {
     "data": {
      "text/plain": [
       "'My name is qiwsir.\\nMy website is qiwsir.github.io\\n Aha, I like program\\n'"
      ]
     },
     "execution_count": 160,
     "metadata": {},
     "output_type": "execute_result"
    }
   ],
   "source": [
    "f = open(\"131.txt\")\n",
    "content = f.read()\n",
    "content\n"
   ]
  },
  {
   "cell_type": "code",
   "execution_count": 162,
   "metadata": {},
   "outputs": [],
   "source": [
    "f.close()\n",
    "\n",
    "# 提示：养成一个好习惯，只要打开文件，不用该文件了，就一定要随手关闭它。如果不关闭它，它还驻留在内存中，后面又没有对它的操作，是不是浪费内存空间了呢？同时也增加了文件安全的风险。"
   ]
  },
  {
   "cell_type": "code",
   "execution_count": 163,
   "metadata": {},
   "outputs": [
    {
     "name": "stdout",
     "output_type": "stream",
     "text": [
      "My name is qiwsir.\n",
      "My website is qiwsir.github.io\n",
      " Aha, I like program\n",
      "\n"
     ]
    }
   ],
   "source": [
    "print(content)"
   ]
  },
  {
   "cell_type": "code",
   "execution_count": 164,
   "metadata": {},
   "outputs": [
    {
     "data": {
      "text/plain": [
       "'My name is qiwsir.\\n'"
      ]
     },
     "execution_count": 164,
     "metadata": {},
     "output_type": "execute_result"
    }
   ],
   "source": [
    "f = open(\"131.txt\")\n",
    "content_line = f.readline()\n",
    "content_line"
   ]
  },
  {
   "cell_type": "code",
   "execution_count": 165,
   "metadata": {},
   "outputs": [
    {
     "data": {
      "text/plain": [
       "'My website is qiwsir.github.io\\n'"
      ]
     },
     "execution_count": 165,
     "metadata": {},
     "output_type": "execute_result"
    }
   ],
   "source": [
    "content_line = f.readline()\n",
    "content_line"
   ]
  },
  {
   "cell_type": "markdown",
   "metadata": {},
   "source": [
    "显示出一行一行读取了，每操作一次f.readline()，就读取一行，并且将指针向下移动一行，如此循环。显然，这种是一种循环，或者说可迭代的。因此，就可以用循环语句来完成对全文的读取。"
   ]
  },
  {
   "cell_type": "code",
   "execution_count": 166,
   "metadata": {},
   "outputs": [],
   "source": [
    "f.close()"
   ]
  },
  {
   "cell_type": "code",
   "execution_count": 167,
   "metadata": {},
   "outputs": [
    {
     "name": "stdout",
     "output_type": "stream",
     "text": [
      "My name is qiwsir.\n",
      "\n",
      "My website is qiwsir.github.io\n",
      "\n",
      " Aha, I like program\n",
      "\n"
     ]
    }
   ],
   "source": [
    "#!/usr/bin/env python\n",
    "# coding=utf-8\n",
    "\n",
    "f = open(\"131.txt\")\n",
    "\n",
    "while True:\n",
    "    line = f.readline()\n",
    "    if not line:         #到EOF，返回空字符串，则终止循环\n",
    "        break\n",
    "    print(line)        #注意后面的逗号，去掉print语句后面的'\\n'，保留原文件中的换行\n",
    "\n",
    "f.close()                #别忘记关闭文件\n"
   ]
  },
  {
   "cell_type": "code",
   "execution_count": 168,
   "metadata": {},
   "outputs": [
    {
     "data": {
      "text/plain": [
       "['My name is qiwsir.\\n',\n",
       " 'My website is qiwsir.github.io\\n',\n",
       " ' Aha, I like program\\n']"
      ]
     },
     "execution_count": 168,
     "metadata": {},
     "output_type": "execute_result"
    }
   ],
   "source": [
    "f = open(\"131.txt\")\n",
    "content_lines = f.readlines()\n",
    "content_lines"
   ]
  },
  {
   "cell_type": "code",
   "execution_count": 169,
   "metadata": {},
   "outputs": [],
   "source": [
    "f.close()"
   ]
  },
  {
   "cell_type": "markdown",
   "metadata": {},
   "source": [
    "返回的是一个列表，列表中每个元素都是一个字符串，每个字符串中的内容就是文件的一行文字，含行末的符号。显而易见，它是可以用for来循环的。"
   ]
  },
  {
   "cell_type": "code",
   "execution_count": 171,
   "metadata": {},
   "outputs": [
    {
     "name": "stdout",
     "output_type": "stream",
     "text": [
      "You Raise Me Up\n",
      "\n",
      "When I am down and, oh my soul, so weary;\n",
      "\n",
      "When troubles come and my heart burdened be;\n",
      "\n",
      "Then, I am still and wait here in the silence,\n",
      "\n",
      "Until you come and sit awhile with me.\n",
      "\n",
      "You raise me up, so I can stand on mountains;\n",
      "\n",
      "You raise me up, to walk on stormy seas;\n",
      "\n",
      "I am strong, when I am on your shoulders;\n",
      "\n",
      "You raise me up: To more than I can be.\n",
      "\n"
     ]
    }
   ],
   "source": [
    "import fileinput\n",
    "for line in fileinput.input(\"section2.md\"):\n",
    "    print(line)"
   ]
  },
  {
   "cell_type": "code",
   "execution_count": 173,
   "metadata": {},
   "outputs": [
    {
     "name": "stdout",
     "output_type": "stream",
     "text": [
      "My name is qiwsir.\n",
      "\n",
      "My website is qiwsir.github.io\n",
      "\n",
      " Aha, I like program\n",
      "\n"
     ]
    }
   ],
   "source": [
    "f = open(\"131.txt\")\n",
    "for line in f:\n",
    "    print(line)\n",
    "f.close()"
   ]
  },
  {
   "cell_type": "code",
   "execution_count": 177,
   "metadata": {},
   "outputs": [
    {
     "data": {
      "text/plain": [
       "0"
      ]
     },
     "execution_count": 177,
     "metadata": {},
     "output_type": "execute_result"
    }
   ],
   "source": [
    "f = open(\"section2.md\")\n",
    "f.seek(0)    # 意图是要回到文件的最开头"
   ]
  },
  {
   "cell_type": "code",
   "execution_count": 178,
   "metadata": {},
   "outputs": [
    {
     "data": {
      "text/plain": [
       "'You Raise Me Up\\n'"
      ]
     },
     "execution_count": 178,
     "metadata": {},
     "output_type": "execute_result"
    }
   ],
   "source": [
    " f.readline()"
   ]
  },
  {
   "cell_type": "code",
   "execution_count": 181,
   "metadata": {},
   "outputs": [
    {
     "data": {
      "text/plain": [
       "'aise Me Up\\n'"
      ]
     },
     "execution_count": 181,
     "metadata": {},
     "output_type": "execute_result"
    }
   ],
   "source": [
    "f.seek(5)   # 位置定位到从开头算起的第5个字符后面\n",
    "f.readline()"
   ]
  },
  {
   "cell_type": "code",
   "execution_count": 182,
   "metadata": {},
   "outputs": [
    {
     "data": {
      "text/plain": [
       "16"
      ]
     },
     "execution_count": 182,
     "metadata": {},
     "output_type": "execute_result"
    }
   ],
   "source": [
    "f.tell()"
   ]
  },
  {
   "cell_type": "code",
   "execution_count": 183,
   "metadata": {},
   "outputs": [],
   "source": [
    "f.close()"
   ]
  },
  {
   "cell_type": "markdown",
   "metadata": {},
   "source": [
    "# 迭代\n",
    "\n",
    "loop、iterate、traversal和recursion如果不在其内，总觉得他还不够牛X。当让，真正牛X的绝对不会这么说的，他们只是说“循环、迭代、遍历、递归”"
   ]
  },
  {
   "cell_type": "markdown",
   "metadata": {},
   "source": [
    "* 循环（loop），指的是在满足条件的情况下，重复执行同一段代码。比如，while语句。\n",
    "* 迭代（iterate），指的是按照某种顺序逐个访问列表中的每一项。比如，for语句。\n",
    "* 递归（recursion），指的是一个函数不断调用自身的行为。比如，以编程方式输出著名的斐波纳契数列。\n",
    "* 遍历（traversal），指的是按照一定的规则访问树形结构中的每个节点，而且每个节点都只访问一次。"
   ]
  },
  {
   "cell_type": "code",
   "execution_count": 187,
   "metadata": {},
   "outputs": [
    {
     "name": "stdout",
     "output_type": "stream",
     "text": [
      "q\n",
      "i\n",
      "w\n",
      "s\n",
      "i\n",
      "r\n"
     ]
    }
   ],
   "source": [
    "lst = ['q', 'i', 'w', 's', 'i', 'r']\n",
    "for i in lst:\n",
    "    print(i)"
   ]
  },
  {
   "cell_type": "code",
   "execution_count": 191,
   "metadata": {},
   "outputs": [
    {
     "data": {
      "text/plain": [
       "'q'"
      ]
     },
     "execution_count": 191,
     "metadata": {},
     "output_type": "execute_result"
    }
   ],
   "source": [
    "lst_iter = iter(lst)    #对原来的list实施了一个iter()\n",
    "next(lst_iter)"
   ]
  },
  {
   "cell_type": "markdown",
   "metadata": {},
   "source": [
    "iter()是一个内建函数，其含义是：\n",
    "上面的next()就是要获得下一个元素，但是做为一名优秀的程序员，最佳品质就是“懒惰”，当然不能这样一个一个地敲啦"
   ]
  },
  {
   "cell_type": "code",
   "execution_count": 197,
   "metadata": {},
   "outputs": [
    {
     "name": "stdout",
     "output_type": "stream",
     "text": [
      "q\n",
      "i\n",
      "w\n",
      "s\n",
      "i\n",
      "r\n"
     ]
    },
    {
     "ename": "StopIteration",
     "evalue": "",
     "output_type": "error",
     "traceback": [
      "\u001b[0;31m---------------------------------------------------------------------------\u001b[0m",
      "\u001b[0;31mStopIteration\u001b[0m                             Traceback (most recent call last)",
      "\u001b[0;32m<ipython-input-197-98a702681711>\u001b[0m in \u001b[0;36m<module>\u001b[0;34m\u001b[0m\n\u001b[1;32m      2\u001b[0m \u001b[0mit\u001b[0m \u001b[0;34m=\u001b[0m \u001b[0miter\u001b[0m\u001b[0;34m(\u001b[0m\u001b[0mlst\u001b[0m\u001b[0;34m)\u001b[0m\u001b[0;34m\u001b[0m\u001b[0;34m\u001b[0m\u001b[0m\n\u001b[1;32m      3\u001b[0m \u001b[0;32mwhile\u001b[0m \u001b[0;32mTrue\u001b[0m\u001b[0;34m:\u001b[0m\u001b[0;34m\u001b[0m\u001b[0;34m\u001b[0m\u001b[0m\n\u001b[0;32m----> 4\u001b[0;31m     \u001b[0mline\u001b[0m \u001b[0;34m=\u001b[0m \u001b[0mnext\u001b[0m\u001b[0;34m(\u001b[0m\u001b[0mit\u001b[0m\u001b[0;34m)\u001b[0m\u001b[0;34m\u001b[0m\u001b[0;34m\u001b[0m\u001b[0m\n\u001b[0m\u001b[1;32m      5\u001b[0m     \u001b[0mprint\u001b[0m\u001b[0;34m(\u001b[0m\u001b[0mline\u001b[0m\u001b[0;34m)\u001b[0m\u001b[0;34m\u001b[0m\u001b[0;34m\u001b[0m\u001b[0m\n",
      "\u001b[0;31mStopIteration\u001b[0m: "
     ]
    }
   ],
   "source": [
    "lst = ['q', 'i', 'w', 's', 'i', 'r']\n",
    "it = iter(lst)\n",
    "while True:\n",
    "    line = next(it)\n",
    "    print(line)"
   ]
  },
  {
   "cell_type": "markdown",
   "metadata": {},
   "source": [
    "一般，我们常常将哪些能够用诸如循环语句之类的方法来一个一个读取元素的对象，就称之为可迭代的对象。那么用来循环的如for就被称之为迭代器。\n",
    "\n",
    "用严格点的语言说：所谓迭代工具，就是能够按照一定顺序扫描迭代对象的每个元素（按照从左到右的顺序）。\n",
    "\n",
    "看官看上面的所有例子会发现，如果用for来迭代，当到末尾的时候，就自动结束了，不会报错。如果用iter()...next()迭代，当最后一个完成之后，它不会自动结束，还要向下继续，但是后面没有元素了，于是就报一个称之为StopIteration的错误（这个错误的名字叫做：停止迭代，这哪里是报错，分明是警告）。"
   ]
  },
  {
   "cell_type": "code",
   "execution_count": 198,
   "metadata": {},
   "outputs": [
    {
     "name": "stdout",
     "output_type": "stream",
     "text": [
      "Learn python with qiwsir.\n",
      "\n",
      "There is free python course.\n",
      "\n",
      "The website is:\n",
      "\n",
      "http://qiwsir.github.io\n",
      "\n",
      "Its language is Chinese.\n",
      "\n"
     ]
    }
   ],
   "source": [
    "f = open(\"208.txt\")\n",
    "for line in f:\n",
    "     print(line)"
   ]
  },
  {
   "cell_type": "code",
   "execution_count": 199,
   "metadata": {},
   "outputs": [],
   "source": [
    "f.close()"
   ]
  },
  {
   "cell_type": "code",
   "execution_count": 200,
   "metadata": {},
   "outputs": [
    {
     "data": {
      "text/plain": [
       "['Learn python with qiwsir.\\n',\n",
       " 'There is free python course.\\n',\n",
       " 'The website is:\\n',\n",
       " 'http://qiwsir.github.io\\n',\n",
       " 'Its language is Chinese.\\n']"
      ]
     },
     "execution_count": 200,
     "metadata": {},
     "output_type": "execute_result"
    }
   ],
   "source": [
    "[ line for line in open('208.txt') ]"
   ]
  },
  {
   "cell_type": "code",
   "execution_count": 201,
   "metadata": {},
   "outputs": [
    {
     "data": {
      "text/plain": [
       "['Learn python with qiwsir.\\n',\n",
       " 'There is free python course.\\n',\n",
       " 'The website is:\\n',\n",
       " 'http://qiwsir.github.io\\n',\n",
       " 'Its language is Chinese.\\n']"
      ]
     },
     "execution_count": 201,
     "metadata": {},
     "output_type": "execute_result"
    }
   ],
   "source": [
    " list(open('208.txt'))"
   ]
  },
  {
   "cell_type": "code",
   "execution_count": 202,
   "metadata": {},
   "outputs": [
    {
     "data": {
      "text/plain": [
       "('Learn python with qiwsir.\\n',\n",
       " 'There is free python course.\\n',\n",
       " 'The website is:\\n',\n",
       " 'http://qiwsir.github.io\\n',\n",
       " 'Its language is Chinese.\\n')"
      ]
     },
     "execution_count": 202,
     "metadata": {},
     "output_type": "execute_result"
    }
   ],
   "source": [
    "tuple(open('208.txt'))"
   ]
  },
  {
   "cell_type": "code",
   "execution_count": 203,
   "metadata": {},
   "outputs": [
    {
     "data": {
      "text/plain": [
       "'Learn python with qiwsir.\\n$$$There is free python course.\\n$$$The website is:\\n$$$http://qiwsir.github.io\\n$$$Its language is Chinese.\\n'"
      ]
     },
     "execution_count": 203,
     "metadata": {},
     "output_type": "execute_result"
    }
   ],
   "source": [
    "\"$$$\".join(open('208.txt'))"
   ]
  },
  {
   "cell_type": "code",
   "execution_count": 204,
   "metadata": {},
   "outputs": [
    {
     "data": {
      "text/plain": [
       "'Learn python with qiwsir.\\n'"
      ]
     },
     "execution_count": 204,
     "metadata": {},
     "output_type": "execute_result"
    }
   ],
   "source": [
    "a,b,c,d,e = open(\"208.txt\")\n",
    "a"
   ]
  },
  {
   "cell_type": "code",
   "execution_count": null,
   "metadata": {},
   "outputs": [],
   "source": []
  }
 ],
 "metadata": {
  "kernelspec": {
   "display_name": "Python code",
   "language": "python",
   "name": "py36pt04"
  },
  "language_info": {
   "codemirror_mode": {
    "name": "ipython",
    "version": 3
   },
   "file_extension": ".py",
   "mimetype": "text/x-python",
   "name": "python",
   "nbconvert_exporter": "python",
   "pygments_lexer": "ipython3",
   "version": "3.6.9"
  }
 },
 "nbformat": 4,
 "nbformat_minor": 2
}
