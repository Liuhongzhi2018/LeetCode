{
 "cells": [
  {
   "cell_type": "markdown",
   "metadata": {},
   "source": [
    "# 剑指Offer\n",
    "\n",
    "## 学习文档\n",
    "\n",
    "[数据结构](https://www.bilibili.com/video/av86803650?from=search&seid=1397237482083708915)\n",
    "\n",
    "[剑指offer-数据结构与算法](https://www.bilibili.com/video/av64288683/?spm_id_from=333.788.videocard.2)\n",
    "\n",
    "\n",
    "## 题目清单\n",
    "\n",
    "\n",
    "### 数组 (Array) (11道)：\n",
    "\n",
    "\n",
    "* [剑指Offer（一）：二维数组中的查找](http://cuijiahua.com/blog/2017/11/basis_1.html)\n",
    "* [剑指Offer（六）：旋转数组的最小数字](http://cuijiahua.com/blog/2017/11/basis_6.html)\n",
    "* [剑指Offer（十三）：调整数组顺序使奇数位于偶数前面](http://cuijiahua.com/blog/2017/11/basis_13.html)\n",
    "* [剑指Offer（二十八）：数组中出现次数超过一半的数字](http://cuijiahua.com/blog/2017/12/basis_28.html)\n",
    "* [剑指Offer（三十）：连续子数组的最大和](http://cuijiahua.com/blog/2017/12/basis_30.html)\n",
    "* [剑指Offer（三十二）：把数组排成最小的数](http://cuijiahua.com/blog/2018/01/basis_32.html)\n",
    "* [剑指Offer（三十五）：数组中的逆序对](http://cuijiahua.com/blog/2018/01/basis_35.html)\n",
    "* [剑指Offer（三十七）：数字在排序数组中出现的次数](http://cuijiahua.com/blog/2018/01/basis_37.html)\n",
    "* [剑指Offer（四十）：数组中只出现一次的数字](http://cuijiahua.com/blog/2018/01/basis_40.html)\n",
    "* [剑指Offer（五十）：数组中重复的数字](http://cuijiahua.com/blog/2018/01/basis_50.html)\n",
    "* [剑指Offer（五十一）：构建乘积数组](http://cuijiahua.com/blog/2018/01/basis_51.html)\n",
    "\n",
    "\n",
    "|                  Title                   |                  Python                  |                   C++                    |                   Blog                   |\n",
    "| :--------------------------------------: | :--------------------------------------: | :--------------------------------------: | :--------------------------------------: |\n",
    "|     二维数组中的查找                   | [Python](https://github.com/Jack-Cherish/LeetCode/blob/master/Array/Easy/1.Two%20Sum.md) | |"
   ]
  },
  {
   "cell_type": "code",
   "execution_count": 8,
   "metadata": {},
   "outputs": [],
   "source": [
    "def Find(target, array):\n",
    "    # write code here\n",
    "    len1 = len(array)\n",
    "    len2 = len(array[0])\n",
    "    for i in range(len1):\n",
    "        for j in range(len2):\n",
    "            print(array[i][j])\n",
    "            if array[i][j] == target:\n",
    "                return True\n",
    "    else:\n",
    "        return False"
   ]
  },
  {
   "cell_type": "code",
   "execution_count": 9,
   "metadata": {},
   "outputs": [
    {
     "name": "stdout",
     "output_type": "stream",
     "text": [
      "1\n",
      "2\n",
      "8\n",
      "9\n",
      "2\n",
      "4\n",
      "9\n",
      "12\n",
      "4\n",
      "7\n",
      "True\n"
     ]
    }
   ],
   "source": [
    "target = 7\n",
    "array = [[1,2,8,9],[2,4,9,12],[4,7,10,13],[6,8,11,15]]\n",
    "print(Find(target, array))"
   ]
  },
  {
   "cell_type": "code",
   "execution_count": 13,
   "metadata": {},
   "outputs": [],
   "source": [
    "# -*- coding:utf-8 -*-\n",
    "def Find(target, array):\n",
    "    # write code here\n",
    "    print(len(array))\n",
    "    for row in array:\n",
    "        print(\"row\",row)\n",
    "        if not row:\n",
    "            print(\"empty\")\n",
    "            break\n",
    "        if row[-1] == target:\n",
    "            return True\n",
    "        elif row[-1] < target:\n",
    "            continue\n",
    "        else:\n",
    "            for col in row[:-1]:\n",
    "                if col == target:\n",
    "                    return True\n",
    "    return False"
   ]
  },
  {
   "cell_type": "code",
   "execution_count": 14,
   "metadata": {},
   "outputs": [
    {
     "name": "stdout",
     "output_type": "stream",
     "text": [
      "4\n",
      "row [1, 2, 8, 9]\n",
      "row [2, 4, 9, 12]\n",
      "row [4, 7, 10, 13]\n",
      "True\n"
     ]
    }
   ],
   "source": [
    "target = 7\n",
    "array = [[1,2,8,9],[2,4,9,12],[4,7,10,13],[6,8,11,15]]\n",
    "print(Find(target, array))"
   ]
  },
  {
   "cell_type": "code",
   "execution_count": 42,
   "metadata": {},
   "outputs": [],
   "source": [
    "def Find1(target, array):\n",
    "    # write code here\n",
    "    if array == 0 or len(array[-1]) == 0:\n",
    "        return False\n",
    "    for row in array:\n",
    "        if row[-1] == target:\n",
    "            return True\n",
    "        elif row[-1] < target:\n",
    "            continue\n",
    "        else:\n",
    "            for col in row[:-1]:\n",
    "                if col == target:\n",
    "                    return True\n",
    "    return False"
   ]
  },
  {
   "cell_type": "code",
   "execution_count": 43,
   "metadata": {},
   "outputs": [
    {
     "name": "stdout",
     "output_type": "stream",
     "text": [
      "False\n"
     ]
    }
   ],
   "source": [
    "target = 7\n",
    "# array = [[1,2,8,9],[2,4,9,12],[4,7,10,13],[6,8,11,15]]\n",
    "array = [[]]\n",
    "print(Find1(target, array))"
   ]
  },
  {
   "cell_type": "code",
   "execution_count": 2,
   "metadata": {},
   "outputs": [
    {
     "ename": "SyntaxError",
     "evalue": "invalid syntax (<ipython-input-2-f04ad1a41de1>, line 7)",
     "output_type": "error",
     "traceback": [
      "\u001b[0;36m  File \u001b[0;32m\"<ipython-input-2-f04ad1a41de1>\"\u001b[0;36m, line \u001b[0;32m7\u001b[0m\n\u001b[0;31m    给定一个数组 A[0,1,...,n-1]，请构建一个数组 B[0,1,...,n-1]，其中B中的元素 B[i]=A[0]*A[1]*...*A[i-1]*A[i+1]*...*A[n-1]。不能使用除法。（注意：规定 B[0] = A[1] * A[2] * ... * A[n-1]，B[n-1] = A[0] * A[1] * ... * A[n-2];）\u001b[0m\n\u001b[0m           ^\u001b[0m\n\u001b[0;31mSyntaxError\u001b[0m\u001b[0;31m:\u001b[0m invalid syntax\n"
     ]
    }
   ],
   "source": []
  },
  {
   "cell_type": "code",
   "execution_count": 19,
   "metadata": {},
   "outputs": [],
   "source": [
    "def replaceSpace(s):\n",
    "    # write code here\n",
    "    new = \"\"\n",
    "    for i in s:\n",
    "        if i == ' ':\n",
    "            new += \"%\" + str(20)\n",
    "        else:\n",
    "            new += i\n",
    "            # print(i)\n",
    "    print(new)"
   ]
  },
  {
   "cell_type": "code",
   "execution_count": 20,
   "metadata": {},
   "outputs": [
    {
     "name": "stdout",
     "output_type": "stream",
     "text": [
      "hello%20world\n"
     ]
    }
   ],
   "source": [
    "s = \"hello world\"\n",
    "replaceSpace(s)"
   ]
  },
  {
   "cell_type": "code",
   "execution_count": 78,
   "metadata": {},
   "outputs": [],
   "source": [
    "def match(s, pattern):\n",
    "    len1 = len(s)\n",
    "    len2 = len(pattern)\n",
    "    print(\"len1: {} len2: {}\".format(len1,len2))\n",
    "    sign = 0\n",
    "    i, j = 0, 0\n",
    "    while i < len1:\n",
    "        print(i, s[i],pattern[j])\n",
    "        if j == len2 -1:\n",
    "            break\n",
    "        elif s[i] == pattern[j] or pattern[j] == '.':\n",
    "            j += 1\n",
    "            i += 1\n",
    "        elif s[i] == pattern[j] and pattern[j+1] == '*':\n",
    "            j += 2\n",
    "            i += 1\n",
    "        elif s[i] != pattern[j] and pattern[j+1] == '*':\n",
    "            j += 2\n",
    "        else:\n",
    "            return False\n",
    "    print(\"len1: {} len2: {}\".format(i,j))\n",
    "    if i == len1 -1 and j == len2 -1:\n",
    "        return True\n",
    "    else:\n",
    "        return False"
   ]
  },
  {
   "cell_type": "code",
   "execution_count": 79,
   "metadata": {},
   "outputs": [
    {
     "name": "stdout",
     "output_type": "stream",
     "text": [
      "len1: 0 len2: 2\n",
      "len1: 0 len2: 0\n",
      "False\n"
     ]
    }
   ],
   "source": [
    "s = \"\"\n",
    "pattern = \".*\"\n",
    "print(match(s, pattern))"
   ]
  },
  {
   "cell_type": "code",
   "execution_count": 71,
   "metadata": {},
   "outputs": [],
   "source": [
    "def isNumeric(s):\n",
    "    sign, signe, signdot = 0, 0, 0\n",
    "    numlist = [str(i) for i in range(10)]\n",
    "    alphalist = [chr(i) for i in range(97,123)]+[chr(i) for i in range(65,91)]\n",
    "    alphalist.remove('e')\n",
    "    alphalist.remove('E')\n",
    "    # print(alphalist)\n",
    "    for w in s:\n",
    "        print(w)\n",
    "        if w == '+' or w == '-' and sign == 0:\n",
    "            sign == 1\n",
    "            continue\n",
    "        if w == '+' or w == '-' and sign == 1:\n",
    "            # print(\"error1\")\n",
    "            return False\n",
    "        if w in alphalist:\n",
    "            # print(\"error2\")\n",
    "            return False\n",
    "        if w == '.' and signdot == 1:\n",
    "            # print(\"error3\")\n",
    "            return False\n",
    "        if w == '.' and signdot == 0:\n",
    "            signdot == 1\n",
    "            continue\n",
    "        if w == 'e' or w == 'E' and signe == 0:\n",
    "            # print(\"error4\")\n",
    "            signe == 1\n",
    "            sign == 0\n",
    "            if w == 'e':\n",
    "                prel = s.split('e')\n",
    "                if len(prel[1]) == 0:\n",
    "                    return False\n",
    "            else:\n",
    "                potl = s.split('E')\n",
    "                if len(pstl[1]) == 0:\n",
    "                    return False\n",
    "            continue\n",
    "        if w == 'e' or w == 'E' and signe == 1:\n",
    "            # print(\"error5\")\n",
    "            return False\n",
    "    return True\n",
    "            "
   ]
  },
  {
   "cell_type": "code",
   "execution_count": 72,
   "metadata": {},
   "outputs": [
    {
     "name": "stdout",
     "output_type": "stream",
     "text": [
      "1\n",
      "2\n",
      "3\n",
      ".\n",
      "4\n",
      "5\n",
      "e\n",
      "+\n",
      "6\n"
     ]
    },
    {
     "data": {
      "text/plain": [
       "True"
      ]
     },
     "execution_count": 72,
     "metadata": {},
     "output_type": "execute_result"
    }
   ],
   "source": [
    "s = \"123.45e+6\"\n",
    "isNumeric(s)"
   ]
  },
  {
   "cell_type": "code",
   "execution_count": 89,
   "metadata": {},
   "outputs": [],
   "source": [
    "    def isNumeric(s):\n",
    "        # write code here\n",
    "        sign, signe, signdot = 0, 0, 0\n",
    "        numlist = [str(i) for i in range(10)]\n",
    "        alphalist = [chr(i) for i in range(97,123)]+[chr(i) for i in range(65,91)]\n",
    "        alphalist.remove('e')\n",
    "        alphalist.remove('E')\n",
    "        loc = 0\n",
    "        # print(alphalist)\n",
    "        for w in s:\n",
    "            print(w)\n",
    "            if w == '+' or w == '-' and sign == 0:\n",
    "                if loc == 0:\n",
    "                    sign == 1\n",
    "                    continue\n",
    "                else:\n",
    "                    return False\n",
    "            if w == '+' or w == '-' and sign == 1:\n",
    "                # print(\"error1\")\n",
    "                return False\n",
    "            if w in alphalist:\n",
    "                # print(\"error2\")\n",
    "                return False\n",
    "            print(\"dot\",w,signdot)\n",
    "            if w == '.' and signdot == 0:\n",
    "                signdot = 1\n",
    "            if w == '.' and signdot == 1:\n",
    "                print(\"error3\")\n",
    "                return False\n",
    "            if w == 'e' or w == 'E' and signe == 0:\n",
    "                # print(\"error4\")\n",
    "                signe == 1\n",
    "                loc = 0\n",
    "                sign == 0\n",
    "                if w == 'e':\n",
    "                    prel = s.split('e')\n",
    "                    if len(prel[1]) == 0:\n",
    "                        return False\n",
    "                else:\n",
    "                    potl = s.split('E')\n",
    "                    if len(potl[1]) == 0:\n",
    "                        return False\n",
    "                continue\n",
    "            if w == 'e' or w == 'E' and signe == 1:\n",
    "                # print(\"error5\")\n",
    "                return False\n",
    "            loc += 1\n",
    "        return True"
   ]
  },
  {
   "cell_type": "code",
   "execution_count": 90,
   "metadata": {},
   "outputs": [
    {
     "name": "stdout",
     "output_type": "stream",
     "text": [
      "1\n",
      "dot 1 0\n",
      ".\n",
      "dot . 0\n",
      "error3\n"
     ]
    },
    {
     "data": {
      "text/plain": [
       "False"
      ]
     },
     "execution_count": 90,
     "metadata": {},
     "output_type": "execute_result"
    }
   ],
   "source": [
    "s = \"1.2.3\"\n",
    "isNumeric(s)"
   ]
  },
  {
   "cell_type": "code",
   "execution_count": 91,
   "metadata": {},
   "outputs": [],
   "source": [
    "# -*- coding:utf-8 -*-\n",
    "class Solution:\n",
    "    # 返回对应char\n",
    "    def __init__(self):\n",
    "        self.flow = []\n",
    "        self.alldict = {}\n",
    "    def FirstAppearingOnce(self):\n",
    "        # write code here\n",
    "        count = len(self.flow)\n",
    "        for ch in self.flow:\n",
    "            if ch not in self.alldict:\n",
    "                self.alldict[ch] = 1\n",
    "            else:\n",
    "                num = self.alldict[ch]\n",
    "                num += 1\n",
    "                self.alldict[ch] = num\n",
    "        for key, value in self.alldict.items():\n",
    "            if value == 1:\n",
    "                return key\n",
    "        return '#'\n",
    "        \n",
    "    def Insert(self, char):\n",
    "        # write code here\n",
    "        self.flow.append(char)"
   ]
  },
  {
   "cell_type": "code",
   "execution_count": 93,
   "metadata": {},
   "outputs": [
    {
     "data": {
      "text/plain": [
       "83.33333333333333"
      ]
     },
     "execution_count": 93,
     "metadata": {},
     "output_type": "execute_result"
    }
   ],
   "source": [
    "(87*1+81*4+98*1+72*3+83*3+96*3+73*3+88*3+82*3+98*3+76*3+79*3)/(1+4+1+3+3+3+3+3+3+3+3+3)"
   ]
  },
  {
   "cell_type": "code",
   "execution_count": 23,
   "metadata": {},
   "outputs": [],
   "source": [
    "# -*- coding:utf-8 -*-\n",
    "class Solution:\n",
    "    def jumpFloor(self, number):\n",
    "        # write code here\n",
    "        if number <= 0:\n",
    "            return 0\n",
    "        all = number\n",
    "        count = 0\n",
    "        print(\"all: \",all)\n",
    "        for i in range(number+1):\n",
    "            print(\"i: \",i)\n",
    "            num_2 = all - i\n",
    "            print(\"num_2\",num_2)\n",
    "            if num_2 % 2 == 0:\n",
    "                count += 1\n",
    "        return count"
   ]
  },
  {
   "cell_type": "code",
   "execution_count": 24,
   "metadata": {},
   "outputs": [
    {
     "name": "stdout",
     "output_type": "stream",
     "text": [
      "all:  1\n",
      "i:  0\n",
      "num_2 1\n",
      "i:  1\n",
      "num_2 0\n"
     ]
    },
    {
     "data": {
      "text/plain": [
       "1"
      ]
     },
     "execution_count": 24,
     "metadata": {},
     "output_type": "execute_result"
    }
   ],
   "source": [
    "c = Solution()\n",
    "c.jumpFloor(1)"
   ]
  },
  {
   "cell_type": "code",
   "execution_count": null,
   "metadata": {},
   "outputs": [],
   "source": []
  },
  {
   "cell_type": "code",
   "execution_count": null,
   "metadata": {},
   "outputs": [],
   "source": []
  }
 ],
 "metadata": {
  "kernelspec": {
   "display_name": "Python code",
   "language": "python",
   "name": "py36pt04"
  },
  "language_info": {
   "codemirror_mode": {
    "name": "ipython",
    "version": 3
   },
   "file_extension": ".py",
   "mimetype": "text/x-python",
   "name": "python",
   "nbconvert_exporter": "python",
   "pygments_lexer": "ipython3",
   "version": "3.6.9"
  }
 },
 "nbformat": 4,
 "nbformat_minor": 2
}
