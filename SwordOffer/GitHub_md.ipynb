{
 "cells": [
  {
   "cell_type": "markdown",
   "metadata": {},
   "source": [
    "# 剑指Offer\n",
    "\n",
    "## 学习文档\n",
    "\n",
    "[数据结构](https://www.bilibili.com/video/av86803650?from=search&seid=1397237482083708915)\n",
    "\n",
    "[剑指offer-数据结构与算法](https://www.bilibili.com/video/av64288683/?spm_id_from=333.788.videocard.2)\n",
    "\n",
    "\n",
    "## 题目清单\n",
    "\n",
    "\n",
    "### 数组 (Array) (11道)：\n",
    "\n",
    "\n",
    "* [剑指Offer（一）：二维数组中的查找](http://cuijiahua.com/blog/2017/11/basis_1.html)\n",
    "* [剑指Offer（六）：旋转数组的最小数字](http://cuijiahua.com/blog/2017/11/basis_6.html)\n",
    "* [剑指Offer（十三）：调整数组顺序使奇数位于偶数前面](http://cuijiahua.com/blog/2017/11/basis_13.html)\n",
    "* [剑指Offer（二十八）：数组中出现次数超过一半的数字](http://cuijiahua.com/blog/2017/12/basis_28.html)\n",
    "* [剑指Offer（三十）：连续子数组的最大和](http://cuijiahua.com/blog/2017/12/basis_30.html)\n",
    "* [剑指Offer（三十二）：把数组排成最小的数](http://cuijiahua.com/blog/2018/01/basis_32.html)\n",
    "* [剑指Offer（三十五）：数组中的逆序对](http://cuijiahua.com/blog/2018/01/basis_35.html)\n",
    "* [剑指Offer（三十七）：数字在排序数组中出现的次数](http://cuijiahua.com/blog/2018/01/basis_37.html)\n",
    "* [剑指Offer（四十）：数组中只出现一次的数字](http://cuijiahua.com/blog/2018/01/basis_40.html)\n",
    "* [剑指Offer（五十）：数组中重复的数字](http://cuijiahua.com/blog/2018/01/basis_50.html)\n",
    "* [剑指Offer（五十一）：构建乘积数组](http://cuijiahua.com/blog/2018/01/basis_51.html)\n",
    "\n",
    "\n",
    "|                  Title                   |                  Python                  |                   C++                    |                   Blog                   |\n",
    "| :--------------------------------------: | :--------------------------------------: | :--------------------------------------: | :--------------------------------------: |\n",
    "|     二维数组中的查找                   | [Python](https://github.com/Jack-Cherish/LeetCode/blob/master/Array/Easy/1.Two%20Sum.md) | |"
   ]
  },
  {
   "cell_type": "code",
   "execution_count": null,
   "metadata": {},
   "outputs": [],
   "source": []
  }
 ],
 "metadata": {
  "kernelspec": {
   "display_name": "Python code",
   "language": "python",
   "name": "py36pt04"
  },
  "language_info": {
   "codemirror_mode": {
    "name": "ipython",
    "version": 3
   },
   "file_extension": ".py",
   "mimetype": "text/x-python",
   "name": "python",
   "nbconvert_exporter": "python",
   "pygments_lexer": "ipython3",
   "version": "3.6.9"
  }
 },
 "nbformat": 4,
 "nbformat_minor": 2
}
