{
 "cells": [
  {
   "cell_type": "markdown",
   "metadata": {},
   "source": [
    "# 剑指Offer\n",
    "\n",
    "## 学习文档\n",
    "\n",
    "[数据结构](https://www.bilibili.com/video/av86803650?from=search&seid=1397237482083708915)\n",
    "\n",
    "[剑指offer-数据结构与算法](https://www.bilibili.com/video/av64288683/?spm_id_from=333.788.videocard.2)\n",
    "\n",
    "\n",
    "## 题目清单\n",
    "\n",
    "\n",
    "### 数组 (Array) (11道)：\n",
    "\n",
    "\n",
    "* [剑指Offer（一）：二维数组中的查找](http://cuijiahua.com/blog/2017/11/basis_1.html)\n",
    "* [剑指Offer（六）：旋转数组的最小数字](http://cuijiahua.com/blog/2017/11/basis_6.html)\n",
    "* [剑指Offer（十三）：调整数组顺序使奇数位于偶数前面](http://cuijiahua.com/blog/2017/11/basis_13.html)\n",
    "* [剑指Offer（二十八）：数组中出现次数超过一半的数字](http://cuijiahua.com/blog/2017/12/basis_28.html)\n",
    "* [剑指Offer（三十）：连续子数组的最大和](http://cuijiahua.com/blog/2017/12/basis_30.html)\n",
    "* [剑指Offer（三十二）：把数组排成最小的数](http://cuijiahua.com/blog/2018/01/basis_32.html)\n",
    "* [剑指Offer（三十五）：数组中的逆序对](http://cuijiahua.com/blog/2018/01/basis_35.html)\n",
    "* [剑指Offer（三十七）：数字在排序数组中出现的次数](http://cuijiahua.com/blog/2018/01/basis_37.html)\n",
    "* [剑指Offer（四十）：数组中只出现一次的数字](http://cuijiahua.com/blog/2018/01/basis_40.html)\n",
    "* [剑指Offer（五十）：数组中重复的数字](http://cuijiahua.com/blog/2018/01/basis_50.html)\n",
    "* [剑指Offer（五十一）：构建乘积数组](http://cuijiahua.com/blog/2018/01/basis_51.html)\n",
    "\n",
    "\n",
    "|                  Title                   |                  Python                  |                   C++                    |                   Blog                   |\n",
    "| :--------------------------------------: | :--------------------------------------: | :--------------------------------------: | :--------------------------------------: |\n",
    "|     二维数组中的查找                   | [Python](https://github.com/Jack-Cherish/LeetCode/blob/master/Array/Easy/1.Two%20Sum.md) | |"
   ]
  },
  {
   "cell_type": "code",
   "execution_count": 8,
   "metadata": {},
   "outputs": [],
   "source": [
    "def Find(target, array):\n",
    "    # write code here\n",
    "    len1 = len(array)\n",
    "    len2 = len(array[0])\n",
    "    for i in range(len1):\n",
    "        for j in range(len2):\n",
    "            print(array[i][j])\n",
    "            if array[i][j] == target:\n",
    "                return True\n",
    "    else:\n",
    "        return False"
   ]
  },
  {
   "cell_type": "code",
   "execution_count": 9,
   "metadata": {},
   "outputs": [
    {
     "name": "stdout",
     "output_type": "stream",
     "text": [
      "1\n",
      "2\n",
      "8\n",
      "9\n",
      "2\n",
      "4\n",
      "9\n",
      "12\n",
      "4\n",
      "7\n",
      "True\n"
     ]
    }
   ],
   "source": [
    "target = 7\n",
    "array = [[1,2,8,9],[2,4,9,12],[4,7,10,13],[6,8,11,15]]\n",
    "print(Find(target, array))"
   ]
  },
  {
   "cell_type": "code",
   "execution_count": 5,
   "metadata": {},
   "outputs": [],
   "source": [
    "# -*- coding:utf-8 -*-\n",
    "def Find(target, array):\n",
    "    # write code here\n",
    "    for row in array:\n",
    "        print(\"row\",row)\n",
    "        if not row:\n",
    "            break\n",
    "        if row[-1] == target:\n",
    "            return True\n",
    "        elif row[-1] < target:\n",
    "            continue\n",
    "        else:\n",
    "            for col in row[:-1]:\n",
    "                if col == target:\n",
    "                    return True\n",
    "    return False"
   ]
  },
  {
   "cell_type": "code",
   "execution_count": 6,
   "metadata": {},
   "outputs": [
    {
     "name": "stdout",
     "output_type": "stream",
     "text": [
      "True\n"
     ]
    }
   ],
   "source": [
    "target = 7\n",
    "array = [[1,2,8,9],[2,4,9,12],[4,7,10,13],[6,8,11,15]]\n",
    "print(Find(target, array))"
   ]
  },
  {
   "cell_type": "code",
   "execution_count": null,
   "metadata": {},
   "outputs": [],
   "source": []
  }
 ],
 "metadata": {
  "kernelspec": {
   "display_name": "Python code",
   "language": "python",
   "name": "py36pt04"
  },
  "language_info": {
   "codemirror_mode": {
    "name": "ipython",
    "version": 3
   },
   "file_extension": ".py",
   "mimetype": "text/x-python",
   "name": "python",
   "nbconvert_exporter": "python",
   "pygments_lexer": "ipython3",
   "version": "3.6.9"
  }
 },
 "nbformat": 4,
 "nbformat_minor": 2
}
