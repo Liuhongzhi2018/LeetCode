{
 "cells": [
  {
   "cell_type": "markdown",
   "metadata": {},
   "source": [
    "# 算法引入"
   ]
  },
  {
   "cell_type": "code",
   "execution_count": 1,
   "metadata": {},
   "outputs": [
    {
     "name": "stdout",
     "output_type": "stream",
     "text": [
      "a, b, c: 0, 500, 500\n",
      "a, b, c: 200, 375, 425\n",
      "a, b, c: 375, 200, 425\n",
      "a, b, c: 500, 0, 500\n",
      "elapsed: 693.312288\n",
      "complete!\n"
     ]
    }
   ],
   "source": [
    "# 如果 a+b+c=1000，且 a2+b2=c^2（a,b,c 为自然数），如何求出所有a、b、c可能的组合?\n",
    "\n",
    "import time\n",
    "start_time = time.time()\n",
    " \n",
    "# 注意是三重循环\n",
    "for a in range(0, 1001):\n",
    "    for b in range(0, 1001):\n",
    "        for c in range(0, 1001):\n",
    "            if a**2 + b**2 == c**2 and a+b+c == 1000:\n",
    "                print(\"a, b, c: %d, %d, %d\" % (a, b, c))\n",
    " \n",
    "end_time = time.time()\n",
    "print(\"elapsed: %f\" % (end_time - start_time))\n",
    "print(\"complete!\")\n"
   ]
  },
  {
   "cell_type": "code",
   "execution_count": null,
   "metadata": {},
   "outputs": [],
   "source": []
  }
 ],
 "metadata": {
  "kernelspec": {
   "display_name": "Python code",
   "language": "python",
   "name": "py36pt04"
  },
  "language_info": {
   "codemirror_mode": {
    "name": "ipython",
    "version": 3
   },
   "file_extension": ".py",
   "mimetype": "text/x-python",
   "name": "python",
   "nbconvert_exporter": "python",
   "pygments_lexer": "ipython3",
   "version": "3.6.9"
  }
 },
 "nbformat": 4,
 "nbformat_minor": 2
}
