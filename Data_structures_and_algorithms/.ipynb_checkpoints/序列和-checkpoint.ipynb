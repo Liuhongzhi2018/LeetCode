{
 "cells": [
  {
   "cell_type": "markdown",
   "metadata": {},
   "source": [
    "题目描述  \n",
    "给出一个正整数N和长度L，找出一段长度大于等于L的连续非负整数，他们的和恰好为N。答案可能有多个，我我们需要找出长度最小的那个。\n",
    "例如 N = 18 L = 2：\n",
    "5 + 6 + 7 = 18\n",
    "3 + 4 + 5 + 6 = 18\n",
    "都是满足要求的，但是我们输出更短的 5 6 7\n",
    "输入描述:\n",
    "\n",
    "输入数据包括一行： 两个正整数N(1 ≤ N ≤ 1000000000),L(2 ≤ L ≤ 100)\n",
    "\n",
    "输出描述:\n",
    "\n",
    "从小到大输出这段连续非负整数，以空格分隔，行末无空格。如果没有这样的序列或者找出的序列长度大于100，则输出No\n",
    "\n",
    "示例1  \n",
    "输入  \n",
    "18 2\n",
    "\n",
    "输出  \n",
    "5 6 7\n",
    "\n"
   ]
  },
  {
   "cell_type": "code",
   "execution_count": 1,
   "metadata": {},
   "outputs": [
    {
     "name": "stdout",
     "output_type": "stream",
     "text": [
      "18 2\n",
      "5 6 7\n"
     ]
    }
   ],
   "source": [
    "def judge(x1,len): #符合条件返回1，否则为0 \n",
    "    if len % 2: #len为奇数，则平均数（中位数）为整数 \n",
    "        if x1 % len == 0 : #能整除 \n",
    "            return 1 \n",
    "        else: return 0 \n",
    "    else: #len为偶数  ，平均数为x.5 \n",
    "        if x1 % len == len / 2: #商为 x.5 才能符合条件 \n",
    "            return 1 \n",
    "        else: return 0 \n",
    "        \n",
    "N,L = list(map(int,input().split())) \n",
    "while(judge(N,L)==0): #计算所需要的长度L \n",
    "    L +=1 \n",
    "if L >100: \n",
    "    print('No') \n",
    "else: \n",
    "    bengin_num = int((2*N/L-L+1)/2) # 计算等差数列的首项 \n",
    "    list1 = range(bengin_num,bengin_num+L) # 等差数列组成的列表 \n",
    "    str1 = ' '.join(str(item) for item in list1) # 转换为字符串输出 \n",
    "    print(str1)"
   ]
  },
  {
   "cell_type": "markdown",
   "metadata": {},
   "source": [
    "第一题 暴力解  \n",
    "求最有价值的数的个数  \n",
    "eg.  \n",
    "in: 4 3 2  \n",
    "out: 1  \n",
    "explain:  \n",
    "左边最小大于当前位置的数是右边最大小于当前位置数的整数倍"
   ]
  },
  {
   "cell_type": "code",
   "execution_count": 6,
   "metadata": {},
   "outputs": [
    {
     "name": "stdout",
     "output_type": "stream",
     "text": [
      "3\n",
      "4 3 2\n",
      "1\n"
     ]
    }
   ],
   "source": [
    "def count(arr):\n",
    "    def isValid(index):\n",
    "        pivot = arr[index]\n",
    "        left, right = float(\"inf\"), float(\"-inf\")\n",
    "        # find left\n",
    "        for i in range(index):\n",
    "            if arr[i] - pivot > 0 and arr[i] < left:\n",
    "                left = arr[i]\n",
    "        # find right\n",
    "        for j in range(index + 1, len(arr)):\n",
    "            if arr[j] - pivot < 0 and arr[j] > right:\n",
    "                right = arr[j]\n",
    "        return left % right == 0\n",
    " \n",
    "    res = 0\n",
    "    if len(arr) < 2:\n",
    "        return 0\n",
    "    for i in range(1, len(arr) - 1):\n",
    "        if isValid(i):\n",
    "            res += 1\n",
    "    return res\n",
    " \n",
    " \n",
    " \n",
    "if __name__ == '__main__':\n",
    "    n = int(input())\n",
    "    arr = [int(i) for i in input().split(' ')]\n",
    "    print(count(arr))"
   ]
  },
  {
   "cell_type": "markdown",
   "metadata": {},
   "source": [
    "求最小路径  \n",
    "3 1 3  \n",
    "3 1 3  \n",
    "3 1 3  \n",
    "结果是3  \n",
    "从top到bottom的最短路径 BFS+heap做的 "
   ]
  },
  {
   "cell_type": "code",
   "execution_count": 9,
   "metadata": {},
   "outputs": [],
   "source": [
    "import heapq\n",
    "\n",
    "class Node:\n",
    "    def __init__(self, i, j, cost):\n",
    "        self.i = i\n",
    "        self.j = j\n",
    "        self.cost = cost\n",
    " \n",
    "    def __lt__(self, other):\n",
    "        return self.cost < other.cost\n",
    " \n",
    "    def __eq__(self, other):\n",
    "        return self.cost == other.cost\n",
    " \n",
    " \n",
    "def minPath(grid):\n",
    "    m, n = len(grid), len(grid[0])\n",
    "    visited = [[False for _ in range(n)] for _ in range(m)]\n",
    "    heap = []\n",
    "    for j in range(n):\n",
    "        heapq.heappush(heap, Node(0, j, grid[0][j]))\n",
    " \n",
    "    while heap:\n",
    "        cur = heapq.heappop(heap)\n",
    "        i, j, cost = cur.i, cur.j, cur.cost\n",
    " \n",
    "        if i == m - 1:\n",
    "            return cost\n",
    "        elif visited[i][j]:\n",
    "            continue\n",
    "        else:\n",
    "            visited[i][j] = True\n",
    "            for a, b in [[1, 0], [-1, 0], [0, -1], [0, 1]]:\n",
    "                x = i + a\n",
    "                y = j + b\n",
    "                if m > x >= 0 and n > y >= 0:\n",
    "                    heapq.heappush(heap, Node(x, y, cost + grid[x][y]))\n",
    "    return\n",
    " \n",
    "if __name__ == '__main__':\n",
    "    # a = input().split(\" \")\n",
    "    # n, m = int(a[0]), int(a[1])\n",
    "    #\n",
    "    # matrix = []\n",
    "    # for i in range(n):\n",
    "    #     row = [int(i) for i in input().split(\" \")]\n",
    "    #     matrix.append(row)\n",
    " \n",
    "    matrix1 = [[8, 9, 9, 9, 9, 1],\n",
    "               [1, 1, 1, 9, 1, 1],\n",
    "               [1, 9, 1, 1, 1, 9],\n",
    "               [1, 9, 9, 9, 9, 9]]\n",
    " \n",
    "    matrix2 = [[3, 1, 3],\n",
    "               [3, 1, 3],\n",
    "               [3, 1, 3]]\n",
    "    assert minPath(matrix1) == 11\n",
    "    assert minPath(matrix2) == 3\n"
   ]
  },
  {
   "cell_type": "code",
   "execution_count": 10,
   "metadata": {},
   "outputs": [
    {
     "name": "stdout",
     "output_type": "stream",
     "text": [
      "请输入：123\n",
      "你输入的内容是:  123\n"
     ]
    }
   ],
   "source": [
    "#!/usr/bin/python3\n",
    "\n",
    "str = input(\"请输入：\");\n",
    "print (\"你输入的内容是: \", str)"
   ]
  },
  {
   "cell_type": "code",
   "execution_count": 11,
   "metadata": {},
   "outputs": [
    {
     "name": "stdout",
     "output_type": "stream",
     "text": [
      "12\n"
     ]
    },
    {
     "data": {
      "text/plain": [
       "str"
      ]
     },
     "execution_count": 11,
     "metadata": {},
     "output_type": "execute_result"
    }
   ],
   "source": [
    "a = input()\n",
    "type(a)"
   ]
  },
  {
   "cell_type": "code",
   "execution_count": 13,
   "metadata": {},
   "outputs": [
    {
     "name": "stdout",
     "output_type": "stream",
     "text": [
      "123\n"
     ]
    },
    {
     "data": {
      "text/plain": [
       "int"
      ]
     },
     "execution_count": 13,
     "metadata": {},
     "output_type": "execute_result"
    }
   ],
   "source": [
    "a = int(input())\n",
    "type(a)"
   ]
  },
  {
   "cell_type": "code",
   "execution_count": 14,
   "metadata": {},
   "outputs": [
    {
     "name": "stdout",
     "output_type": "stream",
     "text": [
      "输入整数：\n",
      "1\n",
      "输入整数：\n",
      "2\n",
      "输入整数：\n",
      "3\n",
      "输入整数：\n",
      "4\n",
      "[[1, 2], [3, 4]]\n"
     ]
    }
   ],
   "source": [
    "a=[]\n",
    "for i in range(2):\n",
    "    a.append([])\n",
    "    for j in range(2):\n",
    "        a[i].append(int(input('输入整数：\\n')))\n",
    "print(a)"
   ]
  },
  {
   "cell_type": "code",
   "execution_count": 17,
   "metadata": {},
   "outputs": [
    {
     "name": "stdout",
     "output_type": "stream",
     "text": [
      "Num rows: 2\n",
      "Num columns: 2\n",
      "M1-> R: 1 C: 1\n",
      ">>>1234\n",
      "M1-> R: 1 C: 2\n",
      ">>>1234\n",
      "M1-> R: 2 C: 1\n",
      ">>>1234\n",
      "M1-> R: 2 C: 2\n",
      ">>>1234\n",
      "[[1234, 1234], [1234, 1234], [1234, 1234], [1234, 1234]]\n"
     ]
    }
   ],
   "source": [
    "matrix = []\n",
    "rows = int(input(\"Num rows: \"))\n",
    "cols = int(input(\"Num columns: \"))\n",
    "for r in range(rows):\n",
    "    row = []\n",
    "    for c in range(cols):\n",
    "        row.append(int(input(\"M1-> R: {} C: {}\\n>>>\".format(r+1, c+1))))\n",
    "        matrix.append(row)\n",
    "print(matrix)"
   ]
  },
  {
   "cell_type": "code",
   "execution_count": 18,
   "metadata": {},
   "outputs": [
    {
     "name": "stdout",
     "output_type": "stream",
     "text": [
      "Enter the number of rows in a matrix: 2\n",
      "1\n",
      "2\n",
      "3\n",
      "4\n",
      "[[1 2]\n",
      " [3 4]]\n"
     ]
    }
   ],
   "source": [
    "import numpy as np\n",
    "n = int(input(\"Enter the number of rows in a matrix: \"))\n",
    "a = [[0] * n for i in range(n)]\n",
    "\n",
    "for i in range(n):\n",
    "     for j in range(n):\n",
    "        a[i][j] = int(input())\n",
    "\n",
    "print(np.matrix(a))"
   ]
  },
  {
   "cell_type": "code",
   "execution_count": null,
   "metadata": {},
   "outputs": [],
   "source": []
  }
 ],
 "metadata": {
  "kernelspec": {
   "display_name": "Python code",
   "language": "python",
   "name": "py36pt04"
  },
  "language_info": {
   "codemirror_mode": {
    "name": "ipython",
    "version": 3
   },
   "file_extension": ".py",
   "mimetype": "text/x-python",
   "name": "python",
   "nbconvert_exporter": "python",
   "pygments_lexer": "ipython3",
   "version": "3.6.9"
  }
 },
 "nbformat": 4,
 "nbformat_minor": 2
}
