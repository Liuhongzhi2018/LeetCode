{
 "cells": [
  {
   "cell_type": "markdown",
   "metadata": {},
   "source": [
    "# 数据结构与算法(Python 语言描述)"
   ]
  },
  {
   "cell_type": "markdown",
   "metadata": {},
   "source": [
    "## 1. 算法引入"
   ]
  },
  {
   "cell_type": "markdown",
   "metadata": {},
   "source": [
    "算法是计算机处理信息的本质\n",
    "\n",
    "五大特性：输入，输出，有穷性，确定性，可行性"
   ]
  },
  {
   "cell_type": "markdown",
   "metadata": {},
   "source": [
    "如果 a+b+c=1000，且 a^2+b^=c^2（a,b,c 为自然数），如何求出所有a、b、c可能的组合?"
   ]
  },
  {
   "cell_type": "code",
   "execution_count": 1,
   "metadata": {},
   "outputs": [
    {
     "name": "stdout",
     "output_type": "stream",
     "text": [
      "a, b, c: 0, 500, 500\n",
      "a, b, c: 200, 375, 425\n",
      "a, b, c: 375, 200, 425\n",
      "a, b, c: 500, 0, 500\n",
      "time: 120.369356 s\n",
      "complete!\n"
     ]
    }
   ],
   "source": [
    "# 枚举法\n",
    "# 思路  a = 0 b = 0 c = 0~1000\n",
    "\n",
    "import time\n",
    "start_time = time.time()\n",
    " \n",
    "# 注意是三重循环\n",
    "for a in range(0, 1001):\n",
    "    for b in range(0, 1001):\n",
    "        for c in range(0, 1001):\n",
    "            if a+b+c == 1000 and a**2 + b**2 == c**2: \n",
    "                print(\"a, b, c: %d, %d, %d\" % (a, b, c))\n",
    " \n",
    "end_time = time.time()\n",
    "print(\"time: %f s\" % (end_time - start_time))\n",
    "print(\"complete!\")\n",
    "\n",
    "# T = 1000 * 1000 * 1000 * 2"
   ]
  },
  {
   "cell_type": "code",
   "execution_count": 3,
   "metadata": {},
   "outputs": [
    {
     "name": "stdout",
     "output_type": "stream",
     "text": [
      "a, b, c: 0, 500, 500\n",
      "a, b, c: 200, 375, 425\n",
      "a, b, c: 375, 200, 425\n",
      "a, b, c: 500, 0, 500\n",
      "time: 0.912694 s\n",
      "complete!\n"
     ]
    }
   ],
   "source": [
    "import time\n",
    "start_time = time.time()\n",
    " \n",
    "# 注意是三重循环\n",
    "for a in range(0, 1001):\n",
    "    for b in range(0, 1001):\n",
    "        c = 1000 - a -b\n",
    "        if a**2 + b**2 == c**2: \n",
    "                print(\"a, b, c: %d, %d, %d\" % (a, b, c))\n",
    " \n",
    "end_time = time.time()\n",
    "print(\"time: %f s\" % (end_time - start_time))\n",
    "print(\"complete!\")\n"
   ]
  },
  {
   "cell_type": "markdown",
   "metadata": {},
   "source": [
    "算法效率衡量\n",
    "\n",
    "实现算法程序的执行时间反映出算法的效率，即算法的优劣\n",
    "\n",
    "假定计算机执行每一个基本操作的时间是固定的，那么有多少个基本操作就代表会花费多少时间单位。\n",
    "不同的机器环境确切的时间单位不同，但是对于算法进行多少个基本操作在规模数量级上是相同的。\n",
    "时间复杂度，执行的基本运算数量。\n",
    "\n",
    "对于算法的时间效率，可以用大O计法表示。\n",
    "\n",
    "T(n) = n^3 * 2\n",
    "T(n) = n^3 * 10\n",
    "二者在同一数量级上，均是n^3 量级"
   ]
  }
 ],
 "metadata": {
  "kernelspec": {
   "display_name": "Python code",
   "language": "python",
   "name": "py36pt04"
  },
  "language_info": {
   "codemirror_mode": {
    "name": "ipython",
    "version": 3
   },
   "file_extension": ".py",
   "mimetype": "text/x-python",
   "name": "python",
   "nbconvert_exporter": "python",
   "pygments_lexer": "ipython3",
   "version": "3.6.9"
  }
 },
 "nbformat": 4,
 "nbformat_minor": 2
}
